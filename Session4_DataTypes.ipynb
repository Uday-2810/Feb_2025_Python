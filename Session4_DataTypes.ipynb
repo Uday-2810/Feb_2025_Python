{
 "cells": [
  {
   "cell_type": "markdown",
   "id": "0b474f30-621c-4d86-b463-0ce20e2144ed",
   "metadata": {},
   "source": [
    "# **Data Types**"
   ]
  },
  {
   "cell_type": "markdown",
   "id": "2571a285-063d-498e-b41b-95280ca3e846",
   "metadata": {},
   "source": [
    "- Integer: int\n",
    "- float\n",
    "- string\n",
    "- list\n",
    "- tuple\n",
    "- set\n",
    "   - frozen set\n",
    "- dictionary\n",
    "- bool\n",
    "- complex\n",
    "- range\n",
    "- byte\n",
    "- byte array\n",
    "- memory view\n",
    "- None type"
   ]
  },
  {
   "cell_type": "markdown",
   "id": "28ef5a61-d693-4bea-9d41-6e333b4284a5",
   "metadata": {},
   "source": [
    "$Integer$"
   ]
  },
  {
   "cell_type": "code",
   "execution_count": 11,
   "id": "5d8b1fa5-7d99-4f8c-8706-9f923de749c3",
   "metadata": {},
   "outputs": [
    {
     "data": {
      "text/plain": [
       "100"
      ]
     },
     "execution_count": 11,
     "metadata": {},
     "output_type": "execute_result"
    }
   ],
   "source": [
    "number=100\n",
    "number"
   ]
  },
  {
   "cell_type": "code",
   "execution_count": 13,
   "id": "8d094f4a-873e-46fc-b9ca-65800a5bbac0",
   "metadata": {},
   "outputs": [
    {
     "data": {
      "text/plain": [
       "int"
      ]
     },
     "execution_count": 13,
     "metadata": {},
     "output_type": "execute_result"
    }
   ],
   "source": [
    "type(number)"
   ]
  },
  {
   "cell_type": "markdown",
   "id": "3da7a7ca-5ba9-4512-8726-4ffdf6536b90",
   "metadata": {},
   "source": [
    "**Number System**\n",
    "- Binary Number System\n",
    "- Decimal Number System\n",
    "- Octa Number System\n",
    "- Hexa Number System"
   ]
  },
  {
   "cell_type": "markdown",
   "id": "0107d491-b026-4756-9b83-92cc00892177",
   "metadata": {},
   "source": [
    "**Binary Number System**\n",
    "- It is denoted with **0b** or **0B**\n",
    "- Binary means two\n",
    "- We have generally 0 to 9 digits available\n",
    "- Binary means only two digits allowed: 0 and 1\n",
    "- Ex: 0b101  0b111  0b000  0B001\n",
    "- Not valid: 0b123  0B1000012"
   ]
  },
  {
   "cell_type": "code",
   "execution_count": 19,
   "id": "2c39aa14-20a7-4e91-b59a-28e87f5981b2",
   "metadata": {},
   "outputs": [
    {
     "data": {
      "text/plain": [
       "7"
      ]
     },
     "execution_count": 19,
     "metadata": {},
     "output_type": "execute_result"
    }
   ],
   "source": [
    "0b111"
   ]
  },
  {
   "cell_type": "code",
   "execution_count": 21,
   "id": "7bb7a3e6-a2ef-404a-9488-ad7b8733ca05",
   "metadata": {},
   "outputs": [
    {
     "data": {
      "text/plain": [
       "29"
      ]
     },
     "execution_count": 21,
     "metadata": {},
     "output_type": "execute_result"
    }
   ],
   "source": [
    "0b11101"
   ]
  },
  {
   "cell_type": "code",
   "execution_count": 24,
   "id": "11ec0ae9-62e4-4e7c-ae2f-7a4e99a53881",
   "metadata": {},
   "outputs": [
    {
     "ename": "SyntaxError",
     "evalue": "invalid syntax (160197549.py, line 1)",
     "output_type": "error",
     "traceback": [
      "\u001b[1;36m  Cell \u001b[1;32mIn[24], line 1\u001b[1;36m\u001b[0m\n\u001b[1;33m    2^3    2^2    2^1    2^0\u001b[0m\n\u001b[1;37m           ^\u001b[0m\n\u001b[1;31mSyntaxError\u001b[0m\u001b[1;31m:\u001b[0m invalid syntax\n"
     ]
    }
   ],
   "source": [
    "2^3    2^2    2^1    2^0\n",
    " 8       4      2      1\n",
    "\n",
    " 0       0      0      0      0\n",
    " 0       0      0      1      1\n",
    " 0       0      1      0      2\n",
    " 0       0      1      1      3\n",
    " 0       1      0      0      4\n",
    " 0       1      0      1      5\n",
    " 0       1      1      0      6\n",
    " 0       1      1      1      7\n",
    " 1       0      0      0      8\n",
    " 1       0      0      1      9\n",
    " 1       0      1      0      10\n",
    " 1       0      1      1      11\n",
    " 1       1      0      0      12\n",
    " 1       1      0      1      13\n",
    " 1       1      1      0      14\n",
    " 1       1      1      1      15"
   ]
  },
  {
   "cell_type": "markdown",
   "id": "9f660103-ee67-433a-a396-f56c93f3974a",
   "metadata": {},
   "source": [
    "**Octa Number System**\n",
    "- It is denoted with **0o** or **0O**\n",
    "- Octa means eight\n",
    "- We have generally 0 to 9 digits available\n",
    "- Octa means only eight digits allowed: 0 to 7\n",
    "- Ex: 0o123  0o567  0O111\n",
    "- Not valid: 0o768  0O1123"
   ]
  },
  {
   "cell_type": "markdown",
   "id": "0c961a77-c0ee-4b17-9962-05751ff9aad7",
   "metadata": {},
   "source": [
    "**Hexa Number System**\n",
    "- It is denoted with **0x** or **0X**\n",
    "- Hexa means sixteen\n",
    "- We have generally 0 to 9 digits available\n",
    "- Hexa means only sixteen digits allowed: 0 to 9 and A to F\n",
    "- A:11  B:12  C:13  D:14  E:15  F:16\n",
    "- Ex: 0xABC  0x9F  0X81A\n",
    "- Not valid: 0x9GH  0XABCI"
   ]
  },
  {
   "cell_type": "markdown",
   "id": "498bb2bd-84cf-4e8e-b724-cbec169fa8b5",
   "metadata": {},
   "source": [
    "$Float$"
   ]
  },
  {
   "cell_type": "code",
   "execution_count": 30,
   "id": "48725b8b-d077-4780-b849-19a82f062ab7",
   "metadata": {},
   "outputs": [
    {
     "data": {
      "text/plain": [
       "float"
      ]
     },
     "execution_count": 30,
     "metadata": {},
     "output_type": "execute_result"
    }
   ],
   "source": [
    "number=10.5\n",
    "type(number)"
   ]
  },
  {
   "cell_type": "markdown",
   "id": "04e62a73-805e-42c2-8741-2f84906ba51b",
   "metadata": {},
   "source": [
    "**e representation**"
   ]
  },
  {
   "cell_type": "code",
   "execution_count": 35,
   "id": "aa19405d-c499-4f20-be08-735f6d2b5b7e",
   "metadata": {},
   "outputs": [
    {
     "name": "stdout",
     "output_type": "stream",
     "text": [
      "10.0\n",
      "100.0\n",
      "2000.0\n",
      "40000.0\n"
     ]
    }
   ],
   "source": [
    "print(1e1)  # 1*10=10\n",
    "print(1e2)  # 1*100=100\n",
    "print(2e3)  # 2*1000=2000\n",
    "print(4e4)  # 4*10000=40000"
   ]
  },
  {
   "cell_type": "code",
   "execution_count": 43,
   "id": "60762e90-d9e6-462d-b88d-51ee2a1957f3",
   "metadata": {},
   "outputs": [
    {
     "name": "stdout",
     "output_type": "stream",
     "text": [
      "10.0\n",
      "100.0\n",
      "2000.0\n",
      "40000.0\n"
     ]
    }
   ],
   "source": [
    "print(1e+1)  # 1*10=10\n",
    "print(1e+2)  # 1*100=100\n",
    "print(2e+3)  # 2*1000=2000\n",
    "print(4e+4)  # 4*10000=40000"
   ]
  },
  {
   "cell_type": "code",
   "execution_count": 1,
   "id": "074514f4-14f2-454b-9ea5-4aa7c34fb689",
   "metadata": {},
   "outputs": [
    {
     "name": "stdout",
     "output_type": "stream",
     "text": [
      "0.1\n",
      "0.01\n",
      "0.002\n",
      "0.0004\n"
     ]
    }
   ],
   "source": [
    "print(1e-1)  # 1/10=0.1\n",
    "print(1e-2)  # 1/100=0.01\n",
    "print(2e-3)  # 2/1000=0.002\n",
    "print(4e-4)  # 4/10000=0.0004"
   ]
  },
  {
   "cell_type": "markdown",
   "id": "1f63573c-687c-4e94-b934-eca5ce452124",
   "metadata": {},
   "source": [
    "$boolean$"
   ]
  },
  {
   "cell_type": "code",
   "execution_count": 4,
   "id": "41adee52-3fa8-4d8d-a589-42760e22145e",
   "metadata": {},
   "outputs": [
    {
     "data": {
      "text/plain": [
       "True"
      ]
     },
     "execution_count": 4,
     "metadata": {},
     "output_type": "execute_result"
    }
   ],
   "source": [
    "val=True\n",
    "val"
   ]
  },
  {
   "cell_type": "code",
   "execution_count": 6,
   "id": "f0da12e1-a56c-4808-8dc7-014c5348d28b",
   "metadata": {},
   "outputs": [
    {
     "data": {
      "text/plain": [
       "bool"
      ]
     },
     "execution_count": 6,
     "metadata": {},
     "output_type": "execute_result"
    }
   ],
   "source": [
    "type(val)"
   ]
  },
  {
   "cell_type": "code",
   "execution_count": 8,
   "id": "5f9a137d-f3e2-47f0-a500-997148769f6d",
   "metadata": {},
   "outputs": [
    {
     "data": {
      "text/plain": [
       "False"
      ]
     },
     "execution_count": 8,
     "metadata": {},
     "output_type": "execute_result"
    }
   ],
   "source": [
    "val1=False\n",
    "val1"
   ]
  },
  {
   "cell_type": "code",
   "execution_count": 10,
   "id": "149e5bb9-a5ae-4ba3-8778-d44cfd725bb8",
   "metadata": {},
   "outputs": [
    {
     "data": {
      "text/plain": [
       "bool"
      ]
     },
     "execution_count": 10,
     "metadata": {},
     "output_type": "execute_result"
    }
   ],
   "source": [
    "type(val1)"
   ]
  },
  {
   "cell_type": "markdown",
   "id": "ec3b87ef-d5df-457e-8d16-c0557b1e7174",
   "metadata": {},
   "source": [
    "$Strings$"
   ]
  },
  {
   "cell_type": "markdown",
   "id": "a4be05ec-93c9-41fd-9eec-8261cfc4442e",
   "metadata": {},
   "source": [
    "- English format representation\n",
    "- Strings represent with quotes\n",
    "- We can use single quotes, double quotes and triple quotes"
   ]
  },
  {
   "cell_type": "code",
   "execution_count": 15,
   "id": "d6aa4898-6c6e-40ec-a8e0-af41eaf49972",
   "metadata": {},
   "outputs": [
    {
     "data": {
      "text/plain": [
       "'python'"
      ]
     },
     "execution_count": 15,
     "metadata": {},
     "output_type": "execute_result"
    }
   ],
   "source": [
    "name='python'\n",
    "name"
   ]
  },
  {
   "cell_type": "code",
   "execution_count": 17,
   "id": "35e63086-80f4-4aae-b6d0-0f16bf571f78",
   "metadata": {},
   "outputs": [
    {
     "data": {
      "text/plain": [
       "str"
      ]
     },
     "execution_count": 17,
     "metadata": {},
     "output_type": "execute_result"
    }
   ],
   "source": [
    "type(name)"
   ]
  },
  {
   "cell_type": "code",
   "execution_count": 19,
   "id": "bbe854c0-95e2-4cd6-ab3b-179640288f20",
   "metadata": {},
   "outputs": [
    {
     "name": "stdout",
     "output_type": "stream",
     "text": [
      "python\n"
     ]
    }
   ],
   "source": [
    "print(name)\n",
    "# when we print we will not able to see the quotes"
   ]
  },
  {
   "cell_type": "code",
   "execution_count": 21,
   "id": "4195c1ad-dafd-4cf4-a9aa-d1de27671279",
   "metadata": {},
   "outputs": [
    {
     "data": {
      "text/plain": [
       "str"
      ]
     },
     "execution_count": 21,
     "metadata": {},
     "output_type": "execute_result"
    }
   ],
   "source": [
    "val='10'\n",
    "type(val)"
   ]
  },
  {
   "cell_type": "code",
   "execution_count": 23,
   "id": "fa415950-e840-4cb3-a4b9-7d8d19aa829a",
   "metadata": {},
   "outputs": [
    {
     "data": {
      "text/plain": [
       "int"
      ]
     },
     "execution_count": 23,
     "metadata": {},
     "output_type": "execute_result"
    }
   ],
   "source": [
    "val1=10\n",
    "type(val1)"
   ]
  },
  {
   "cell_type": "code",
   "execution_count": 25,
   "id": "8354bf0d-54f8-4182-a3bc-efc241fabf4e",
   "metadata": {},
   "outputs": [
    {
     "data": {
      "text/plain": [
       "'Naresh iT'"
      ]
     },
     "execution_count": 25,
     "metadata": {},
     "output_type": "execute_result"
    }
   ],
   "source": [
    "name=\"Naresh iT\"\n",
    "name\n",
    "# but the output displayed as single quotes"
   ]
  },
  {
   "cell_type": "code",
   "execution_count": 27,
   "id": "061d123d-e4b0-4f64-a7d5-7ae483fa5e5e",
   "metadata": {},
   "outputs": [
    {
     "data": {
      "text/plain": [
       "str"
      ]
     },
     "execution_count": 27,
     "metadata": {},
     "output_type": "execute_result"
    }
   ],
   "source": [
    "type(name)"
   ]
  },
  {
   "cell_type": "code",
   "execution_count": 29,
   "id": "014f5e33-6c04-4f92-922c-9bd86c03e0a6",
   "metadata": {},
   "outputs": [
    {
     "name": "stdout",
     "output_type": "stream",
     "text": [
      "Naresh iT\n"
     ]
    }
   ],
   "source": [
    "print(name)"
   ]
  },
  {
   "cell_type": "code",
   "execution_count": 31,
   "id": "5906bd21-1738-4ed6-ae56-5922868789a2",
   "metadata": {},
   "outputs": [
    {
     "name": "stdout",
     "output_type": "stream",
     "text": [
      "I love 'python'\n"
     ]
    }
   ],
   "source": [
    "name1=\"I love 'python'\"\n",
    "print(name1)"
   ]
  },
  {
   "cell_type": "code",
   "execution_count": 33,
   "id": "4d813bee-a411-47fc-bb11-063aba5cfbdc",
   "metadata": {},
   "outputs": [
    {
     "name": "stdout",
     "output_type": "stream",
     "text": [
      "I love \"AI\"\n"
     ]
    }
   ],
   "source": [
    "name2='I love \"AI\"'\n",
    "print(name2)"
   ]
  },
  {
   "cell_type": "markdown",
   "id": "1d5a28eb-4653-4211-ac88-185ccb4a9fff",
   "metadata": {},
   "source": [
    "- Keep entire string in double quotes then highlight the word in single quotes and vice versa"
   ]
  },
  {
   "cell_type": "markdown",
   "id": "aabc75b1-5dd7-4d30-bbf1-d297a8703c3b",
   "metadata": {},
   "source": [
    "- Triple quotes can not use in coding part\n",
    "- Triple quotes means conveying the information\n",
    "- This process is called as **Doc String**\n",
    "- In jupyter notebook we have markdown option\n",
    "- But in vscode or pycharm there is no markdown option\n",
    "- So we use triple quotes to convey information"
   ]
  },
  {
   "cell_type": "code",
   "execution_count": 38,
   "id": "e7a2a713-5393-484b-98c6-74971f9743a7",
   "metadata": {},
   "outputs": [
    {
     "name": "stdout",
     "output_type": "stream",
     "text": [
      "Hi\n",
      "  Today I am learning python\n",
      "  Its easy\n"
     ]
    }
   ],
   "source": [
    "text='''Hi\n",
    "  Today I am learning python\n",
    "  Its easy'''\n",
    "print(text)"
   ]
  },
  {
   "cell_type": "code",
   "execution_count": 42,
   "id": "98b30560-afe4-48f9-9f3a-ed7cf6d38313",
   "metadata": {},
   "outputs": [],
   "source": [
    "true=True\n",
    "true='True'\n",
    "true=10.5"
   ]
  },
  {
   "cell_type": "code",
   "execution_count": 44,
   "id": "e9d0b09f-dc44-4773-a9ad-565feed95344",
   "metadata": {},
   "outputs": [
    {
     "ename": "SyntaxError",
     "evalue": "cannot assign to True (269226675.py, line 1)",
     "output_type": "error",
     "traceback": [
      "\u001b[1;36m  Cell \u001b[1;32mIn[44], line 1\u001b[1;36m\u001b[0m\n\u001b[1;33m    True=10\u001b[0m\n\u001b[1;37m    ^\u001b[0m\n\u001b[1;31mSyntaxError\u001b[0m\u001b[1;31m:\u001b[0m cannot assign to True\n"
     ]
    }
   ],
   "source": [
    "True=10\n",
    "True=True"
   ]
  }
 ],
 "metadata": {
  "kernelspec": {
   "display_name": "Python [conda env:base] *",
   "language": "python",
   "name": "conda-base-py"
  },
  "language_info": {
   "codemirror_mode": {
    "name": "ipython",
    "version": 3
   },
   "file_extension": ".py",
   "mimetype": "text/x-python",
   "name": "python",
   "nbconvert_exporter": "python",
   "pygments_lexer": "ipython3",
   "version": "3.12.7"
  }
 },
 "nbformat": 4,
 "nbformat_minor": 5
}
