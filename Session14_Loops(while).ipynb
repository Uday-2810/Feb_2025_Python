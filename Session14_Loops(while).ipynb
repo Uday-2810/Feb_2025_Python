{
 "cells": [
  {
   "cell_type": "markdown",
   "id": "0fceb3f1-c407-43de-98aa-867626c7032d",
   "metadata": {},
   "source": [
    "### while loop\n",
    "- initialization to start\n",
    "- increment or decrement\n",
    "- condition to stop"
   ]
  },
  {
   "cell_type": "code",
   "execution_count": null,
   "id": "629ffac8-5bf2-415a-ac8e-aa34a6b0fcf0",
   "metadata": {},
   "outputs": [],
   "source": [
    "<initialization>\n",
    "while <condition>:\n",
    "    # Python code\n",
    "    <increment/decrement>"
   ]
  },
  {
   "cell_type": "code",
   "execution_count": 4,
   "id": "f6db4fca-102c-414e-a4a2-ea7ee18951d5",
   "metadata": {},
   "outputs": [
    {
     "name": "stdout",
     "output_type": "stream",
     "text": [
      "1 2 3 4 5 6 7 8 9 "
     ]
    }
   ],
   "source": [
    "for i in range(1,10):\n",
    "    print(i,end=' ')"
   ]
  },
  {
   "cell_type": "code",
   "execution_count": 6,
   "id": "819d5f14-bb47-4385-9b6b-97fae0e9e27a",
   "metadata": {},
   "outputs": [
    {
     "name": "stdout",
     "output_type": "stream",
     "text": [
      "1 2 3 4 5 6 7 8 9 "
     ]
    }
   ],
   "source": [
    "i=1\n",
    "while i<10:\n",
    "    print(i,end=' ')\n",
    "    i=i+1"
   ]
  },
  {
   "cell_type": "code",
   "execution_count": 8,
   "id": "de754f37-0b86-4045-9436-2d481ef4f7c8",
   "metadata": {},
   "outputs": [
    {
     "name": "stdout",
     "output_type": "stream",
     "text": [
      "1 2 3 4 5 6 7 8 9 10 "
     ]
    }
   ],
   "source": [
    "# 1) print 1 to 10\n",
    "\n",
    "i=1\n",
    "while i<11:\n",
    "    print(i,end=' ')\n",
    "    i=i+1"
   ]
  },
  {
   "cell_type": "code",
   "execution_count": 11,
   "id": "7b6cb2c9-3209-48ff-8b66-5d98bd53937b",
   "metadata": {},
   "outputs": [
    {
     "name": "stdout",
     "output_type": "stream",
     "text": [
      "10 9 8 7 6 5 4 3 2 1 "
     ]
    }
   ],
   "source": [
    "# 2) print 10 to 1\n",
    "\n",
    "i=10\n",
    "while i>0:\n",
    "    print(i,end=' ')\n",
    "    i=i-1"
   ]
  },
  {
   "cell_type": "code",
   "execution_count": 13,
   "id": "7f49c718-20e1-4bb5-98e8-4d4a37ed7b70",
   "metadata": {},
   "outputs": [
    {
     "name": "stdout",
     "output_type": "stream",
     "text": [
      "-1 -2 -3 -4 -5 -6 -7 -8 -9 -10 "
     ]
    }
   ],
   "source": [
    "# 3) print -1 to -10\n",
    "\n",
    "i=-1\n",
    "while i>-11:\n",
    "    print(i,end=' ')\n",
    "    i=i-1"
   ]
  },
  {
   "cell_type": "code",
   "execution_count": 9,
   "id": "a8b6eaea-47b3-4699-9fb9-3cb9de08026d",
   "metadata": {},
   "outputs": [
    {
     "name": "stdout",
     "output_type": "stream",
     "text": [
      "-10 -9 -8 -7 -6 -5 -4 -3 -2 -1 "
     ]
    }
   ],
   "source": [
    "# 4) print -10 to -1\n",
    "\n",
    "i=-10\n",
    "while i<0:\n",
    "    print(i,end=' ')\n",
    "    i=i+1"
   ]
  },
  {
   "cell_type": "code",
   "execution_count": 15,
   "id": "d9bed7d7-fe7b-45fc-a89e-aea5c000c38e",
   "metadata": {},
   "outputs": [
    {
     "name": "stdout",
     "output_type": "stream",
     "text": [
      "10 9 8 7 6 5 4 3 2 1 "
     ]
    }
   ],
   "source": [
    "i=10\n",
    "while True:\n",
    "    print(i,end=' ')\n",
    "    i=i-1\n",
    "    if i==0:\n",
    "        break"
   ]
  },
  {
   "cell_type": "code",
   "execution_count": 27,
   "id": "548ddab4-201e-4f40-aa84-afa2c93a0097",
   "metadata": {},
   "outputs": [
    {
     "name": "stdin",
     "output_type": "stream",
     "text": [
      "Enter the number 3\n"
     ]
    },
    {
     "name": "stdout",
     "output_type": "stream",
     "text": [
      "You Lost\n"
     ]
    },
    {
     "name": "stdin",
     "output_type": "stream",
     "text": [
      "Enter the number 5\n"
     ]
    },
    {
     "name": "stdout",
     "output_type": "stream",
     "text": [
      "You Won\n"
     ]
    }
   ],
   "source": [
    "import random\n",
    "\n",
    "i=1\n",
    "while i<=3:\n",
    "    numb1=eval(input(\"Enter the number\"))\n",
    "    numb2=random.randint(1,10)\n",
    "    if numb1==numb2:\n",
    "        print(\"You Won\")\n",
    "        break\n",
    "    else:\n",
    "        print(\"You Lost\")\n",
    "    i=i+1"
   ]
  },
  {
   "cell_type": "code",
   "execution_count": 29,
   "id": "51ae9b90-8a9f-4952-8af8-2ace60b3ece6",
   "metadata": {},
   "outputs": [
    {
     "name": "stdout",
     "output_type": "stream",
     "text": [
      "45\n",
      "76\n",
      "55\n",
      "63\n",
      "88\n",
      "There are 2 even numbers\n",
      "The sum of even numbers is 164\n",
      "There are 3 even numbers\n",
      "The sum of odd numbers is 163\n"
     ]
    }
   ],
   "source": [
    "# Ask the user get 5 random numbers\n",
    "# means you need to get a random number inside for loop\n",
    "# the loop should run 5 times\n",
    "# now perform the even and odd operation\n",
    "# even count, sum of even, odd count, sum of odd\n",
    "\n",
    "count_even=0\n",
    "count_odd=0\n",
    "sum_even=0\n",
    "sum_odd=0\n",
    "i=1\n",
    "while i<6:\n",
    "    number=random.randint(1,100)\n",
    "    if number%2==0:\n",
    "        print(number)\n",
    "        count_even=count_even+1\n",
    "        sum_even=sum_even+number\n",
    "    else:\n",
    "        print(number)\n",
    "        count_odd=count_odd+1\n",
    "        sum_odd=sum_odd+number\n",
    "    i=i+1\n",
    "print(f\"There are {count_even} even numbers\")\n",
    "print(f\"The sum of even numbers is {sum_even}\")\n",
    "print(f\"There are {count_odd} even numbers\")\n",
    "print(f\"The sum of odd numbers is {sum_odd}\")"
   ]
  },
  {
   "cell_type": "code",
   "execution_count": 31,
   "id": "422cb552-ddbd-45be-95fc-1d07f4cbe3fe",
   "metadata": {},
   "outputs": [
    {
     "name": "stdin",
     "output_type": "stream",
     "text": [
      "Enter the number for divisors needed: 75\n"
     ]
    },
    {
     "name": "stdout",
     "output_type": "stream",
     "text": [
      "The divisors of 75 are 6\n"
     ]
    }
   ],
   "source": [
    "# Find the number of divisors of 75\n",
    "# if you divide 75 with any number the remainder should be 0\n",
    "\n",
    "n3=eval(input(\"Enter the number for divisors needed:\"))\n",
    "count=0\n",
    "i=1\n",
    "while i<n3+1:\n",
    "    if n3%i==0:\n",
    "        count=count+1\n",
    "    i=i+1\n",
    "print(f\"The divisors of {n3} are {count}\")"
   ]
  },
  {
   "cell_type": "code",
   "execution_count": 33,
   "id": "7a449442-6253-4700-b3d2-bc8e8cbd5db4",
   "metadata": {},
   "outputs": [
    {
     "name": "stdin",
     "output_type": "stream",
     "text": [
      "Enter the number for divisors needed: 75\n"
     ]
    },
    {
     "name": "stdout",
     "output_type": "stream",
     "text": [
      "The sum of divisors of 75 is 124\n"
     ]
    }
   ],
   "source": [
    "# Find the sum of divisors of 75\n",
    "\n",
    "n2=eval(input(\"Enter the number for divisors needed:\"))\n",
    "summ1=0\n",
    "i=1\n",
    "while i<n2+1:\n",
    "    if n2%i==0:\n",
    "        summ1=summ1+i\n",
    "    i=i+1\n",
    "print(f\"The sum of divisors of {n2} is {summ1}\")"
   ]
  },
  {
   "cell_type": "code",
   "execution_count": 35,
   "id": "1be0a1cc-c9da-43f6-abba-27b7b6af4f5f",
   "metadata": {},
   "outputs": [
    {
     "name": "stdin",
     "output_type": "stream",
     "text": [
      "Enter the number: 10\n"
     ]
    },
    {
     "name": "stdout",
     "output_type": "stream",
     "text": [
      "The sum of first 10 natural numbers is 55\n"
     ]
    }
   ],
   "source": [
    "# sum of first 10 natural numbers\n",
    "\n",
    "n1=eval(input(\"Enter the number:\"))\n",
    "summ=0\n",
    "i=1\n",
    "while i<n1+1:\n",
    "    summ=summ+i\n",
    "    i=i+1\n",
    "print(f\"The sum of first {n1} natural numbers is {summ}\")"
   ]
  },
  {
   "cell_type": "code",
   "execution_count": 39,
   "id": "558d91e2-4dc1-4bb8-8f42-141db5f8bf7c",
   "metadata": {},
   "outputs": [
    {
     "name": "stdin",
     "output_type": "stream",
     "text": [
      "Enter the number for divisors needed: 75\n"
     ]
    },
    {
     "name": "stdout",
     "output_type": "stream",
     "text": [
      "The divisors of 75 are 1\n",
      "The divisors of 75 are 3\n",
      "The divisors of 75 are 5\n",
      "The divisors of 75 are 15\n",
      "The divisors of 75 are 25\n",
      "The divisors of 75 are 75\n"
     ]
    }
   ],
   "source": [
    "# Find the number of divisors of 75\n",
    "# if you divide 75 with any number the remainder should be 0\n",
    "\n",
    "n=eval(input(\"Enter the number for divisors needed:\"))\n",
    "i=1\n",
    "while i<n+1:\n",
    "    if n%i==0:\n",
    "        print(f\"The divisors of {n} are {i}\")\n",
    "    i=i+1"
   ]
  },
  {
   "cell_type": "code",
   "execution_count": 41,
   "id": "c0a5b1f7-26be-4644-a23f-4223c6c6bc0f",
   "metadata": {},
   "outputs": [
    {
     "name": "stdin",
     "output_type": "stream",
     "text": [
      "Enter the number for table: 7\n"
     ]
    },
    {
     "name": "stdout",
     "output_type": "stream",
     "text": [
      "7x1=7\n",
      "7x2=14\n",
      "7x3=21\n",
      "7x4=28\n",
      "7x5=35\n",
      "7x6=42\n",
      "7x7=49\n",
      "7x8=56\n",
      "7x9=63\n",
      "7x10=70\n"
     ]
    }
   ],
   "source": [
    "num=eval(input(\"Enter the number for table:\"))\n",
    "i=1\n",
    "while i<11:\n",
    "    print(f\"{num}x{i}={num*i}\")\n",
    "    i=i+1"
   ]
  },
  {
   "cell_type": "code",
   "execution_count": null,
   "id": "642abb61-a4cc-4fa5-b36c-ad5837462726",
   "metadata": {},
   "outputs": [],
   "source": []
  }
 ],
 "metadata": {
  "kernelspec": {
   "display_name": "Python [conda env:base] *",
   "language": "python",
   "name": "conda-base-py"
  },
  "language_info": {
   "codemirror_mode": {
    "name": "ipython",
    "version": 3
   },
   "file_extension": ".py",
   "mimetype": "text/x-python",
   "name": "python",
   "nbconvert_exporter": "python",
   "pygments_lexer": "ipython3",
   "version": "3.12.7"
  }
 },
 "nbformat": 4,
 "nbformat_minor": 5
}
