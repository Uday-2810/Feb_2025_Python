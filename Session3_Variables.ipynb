{
 "cells": [
  {
   "cell_type": "markdown",
   "id": "06cdcde9-cdfc-46a3-9a82-1e363deee2fb",
   "metadata": {},
   "source": [
    "# **Variables**"
   ]
  },
  {
   "cell_type": "markdown",
   "id": "ec948e4d-9415-4145-bbac-284e4162bb6f",
   "metadata": {},
   "source": [
    "- Variables are used to store the data.\n",
    "- The data can change.\n",
    "- These variables can be used to manipulate python code"
   ]
  },
  {
   "cell_type": "code",
   "execution_count": 3,
   "id": "133cf0de-8abb-4674-b888-eac1220027de",
   "metadata": {},
   "outputs": [],
   "source": [
    "number=100"
   ]
  },
  {
   "cell_type": "code",
   "execution_count": 5,
   "id": "33a6db32-2df7-4b07-bca3-35febcf151f7",
   "metadata": {},
   "outputs": [],
   "source": [
    "NUMBER=200"
   ]
  },
  {
   "cell_type": "code",
   "execution_count": 7,
   "id": "8d0cfc8a-8bc8-46d9-b37c-22ade55b2251",
   "metadata": {},
   "outputs": [
    {
     "data": {
      "text/plain": [
       "(100, 200)"
      ]
     },
     "execution_count": 7,
     "metadata": {},
     "output_type": "execute_result"
    }
   ],
   "source": [
    "number,NUMBER"
   ]
  },
  {
   "cell_type": "code",
   "execution_count": 9,
   "id": "6c8ecf70-f405-4af5-8f49-c2ef7c5a341a",
   "metadata": {},
   "outputs": [],
   "source": [
    "NUMber=300"
   ]
  },
  {
   "cell_type": "code",
   "execution_count": 13,
   "id": "21fd183e-5ee4-4dc7-9242-8e073f101aec",
   "metadata": {},
   "outputs": [
    {
     "data": {
      "text/plain": [
       "(100, 200, 300)"
      ]
     },
     "execution_count": 13,
     "metadata": {},
     "output_type": "execute_result"
    }
   ],
   "source": [
    "number,NUMBER,NUMber"
   ]
  },
  {
   "cell_type": "code",
   "execution_count": 15,
   "id": "b62df109-9dd4-4301-a14b-3762e352599b",
   "metadata": {},
   "outputs": [],
   "source": [
    "number123=400"
   ]
  },
  {
   "cell_type": "markdown",
   "id": "3384c90c-c8ab-465a-81ca-402e878c1015",
   "metadata": {},
   "source": [
    "**Note:**\n",
    "- Variables generally in black colour\n",
    "- Green colour should not be a variable\n",
    "- numbers as suffix will work but as prefic will fail"
   ]
  },
  {
   "cell_type": "code",
   "execution_count": 18,
   "id": "2ae0387c-df1f-4ba2-9566-a8309363f19c",
   "metadata": {},
   "outputs": [
    {
     "ename": "SyntaxError",
     "evalue": "invalid syntax (2233866510.py, line 1)",
     "output_type": "error",
     "traceback": [
      "\u001b[1;36m  Cell \u001b[1;32mIn[18], line 1\u001b[1;36m\u001b[0m\n\u001b[1;33m    number$=600\u001b[0m\n\u001b[1;37m          ^\u001b[0m\n\u001b[1;31mSyntaxError\u001b[0m\u001b[1;31m:\u001b[0m invalid syntax\n"
     ]
    }
   ],
   "source": [
    "number$=600"
   ]
  },
  {
   "cell_type": "markdown",
   "id": "30e0ad79-616d-435f-9309-be2645189baf",
   "metadata": {},
   "source": [
    "- Special characters are not allowed"
   ]
  },
  {
   "cell_type": "code",
   "execution_count": 21,
   "id": "bd013629-b235-4f4e-9a7e-7c09e480e4b4",
   "metadata": {},
   "outputs": [
    {
     "data": {
      "text/plain": [
       "500"
      ]
     },
     "execution_count": 21,
     "metadata": {},
     "output_type": "execute_result"
    }
   ],
   "source": [
    "number_one=500\n",
    "number_one"
   ]
  },
  {
   "cell_type": "markdown",
   "id": "b4ebf756-a506-4d21-84d1-72b5bdfff79e",
   "metadata": {},
   "source": [
    "- Underscore can use as variable"
   ]
  },
  {
   "cell_type": "code",
   "execution_count": 24,
   "id": "03c42791-38ef-4b8d-b01c-fe250c284831",
   "metadata": {},
   "outputs": [
    {
     "data": {
      "text/plain": [
       "700"
      ]
     },
     "execution_count": 24,
     "metadata": {},
     "output_type": "execute_result"
    }
   ],
   "source": [
    "_=700\n",
    "_"
   ]
  }
 ],
 "metadata": {
  "kernelspec": {
   "display_name": "Python [conda env:base] *",
   "language": "python",
   "name": "conda-base-py"
  },
  "language_info": {
   "codemirror_mode": {
    "name": "ipython",
    "version": 3
   },
   "file_extension": ".py",
   "mimetype": "text/x-python",
   "name": "python",
   "nbconvert_exporter": "python",
   "pygments_lexer": "ipython3",
   "version": "3.12.7"
  }
 },
 "nbformat": 4,
 "nbformat_minor": 5
}
