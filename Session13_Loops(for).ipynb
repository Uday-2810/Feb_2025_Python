{
 "cells": [
  {
   "cell_type": "code",
   "execution_count": 3,
   "id": "610661e8-ae8d-458f-8538-f1c349b30e4c",
   "metadata": {},
   "outputs": [
    {
     "name": "stdin",
     "output_type": "stream",
     "text": [
      "Enter the salary: 1800000\n",
      "Tax percentage: 10\n"
     ]
    },
    {
     "name": "stdout",
     "output_type": "stream",
     "text": [
      "180000.0\n"
     ]
    }
   ],
   "source": [
    "salary=eval(input(\"Enter the salary:\"))\n",
    "tax_perc=eval(input(\"Tax percentage:\"))\n",
    "tax_pay=salary*tax_perc/100\n",
    "print(tax_pay)"
   ]
  },
  {
   "cell_type": "markdown",
   "id": "aac89d82-d5d7-48d6-be94-cc5e6770925e",
   "metadata": {},
   "source": [
    "**Loops**\n",
    "- Loops are used to iterate the code multiple times\n",
    "- Functions are used to reuse the code block\n",
    "- That code block can be repeated multiple times\n",
    "- Whenever you are doing the same task multiple times then think about loop\n",
    "- We have two loops\n",
    "  - for loop\n",
    "  - while loop\n",
    "- Any loop we need three things\n",
    "  - Initialization (start point)\n",
    "  - increment or decrement\n",
    "  - condition to stop\n",
    "\n",
    "### For loop"
   ]
  },
  {
   "cell_type": "code",
   "execution_count": null,
   "id": "675348eb-a813-4043-9f55-594d570da923",
   "metadata": {},
   "outputs": [],
   "source": [
    "for <variable> in range(<number>):\n",
    "    <write your code here>"
   ]
  },
  {
   "cell_type": "code",
   "execution_count": 6,
   "id": "ce4e206d-7ce0-445f-9be6-5cbf117b6366",
   "metadata": {},
   "outputs": [
    {
     "name": "stdout",
     "output_type": "stream",
     "text": [
      "0\n",
      "1\n",
      "2\n",
      "3\n",
      "4\n"
     ]
    }
   ],
   "source": [
    "for i in range(5):\n",
    "    print(i)"
   ]
  },
  {
   "cell_type": "code",
   "execution_count": 8,
   "id": "9d86b1bb-cb01-48fd-aeaa-00ccd0627f0b",
   "metadata": {},
   "outputs": [
    {
     "name": "stdout",
     "output_type": "stream",
     "text": [
      "0 1 2 "
     ]
    }
   ],
   "source": [
    "for i in range(3):\n",
    "    print(i, end=' ')"
   ]
  },
  {
   "cell_type": "markdown",
   "id": "5b6611a9-d1c9-4a21-b961-b29a952fd254",
   "metadata": {},
   "source": [
    "**Case-1: range(stop)**\n",
    "- start=0; python index always starts with zero\n",
    "- increment by 1\n",
    "- last=stop-1"
   ]
  },
  {
   "cell_type": "code",
   "execution_count": 11,
   "id": "7ad13eb6-c44f-4cde-81b7-288ee60cc4fa",
   "metadata": {},
   "outputs": [
    {
     "name": "stdout",
     "output_type": "stream",
     "text": [
      "0 1 2 3 4 5 6 7 8 9 "
     ]
    }
   ],
   "source": [
    "for i in range(10):\n",
    "    print(i, end=' ')"
   ]
  },
  {
   "cell_type": "code",
   "execution_count": 13,
   "id": "e635fc49-3a83-4974-8624-bdbfd477d290",
   "metadata": {},
   "outputs": [
    {
     "name": "stdout",
     "output_type": "stream",
     "text": [
      "Good Night\n",
      "Good Night\n",
      "Good Night\n"
     ]
    }
   ],
   "source": [
    "for i in range(3):\n",
    "    print('Good Night')"
   ]
  },
  {
   "cell_type": "markdown",
   "id": "370f3d28-7185-4334-b470-351b960fe94b",
   "metadata": {},
   "source": [
    "**Case-2: range(start,stop)**\n",
    "- Suppose I want to start my loop with a particular number\n",
    "- then add start also inside range\n",
    "- start=start\n",
    "- increment by 1\n",
    "- last=stop-1\n",
    "- Ex: range(10,20)\n",
    "  - start=10, increment by 1, lasr=20-1=19"
   ]
  },
  {
   "cell_type": "code",
   "execution_count": 16,
   "id": "f112d426-28d7-4423-bd92-aec6e1f1cd47",
   "metadata": {},
   "outputs": [
    {
     "name": "stdout",
     "output_type": "stream",
     "text": [
      "10 11 12 13 14 15 16 17 18 19 "
     ]
    }
   ],
   "source": [
    "for i in range(10,20):\n",
    "    print(i, end=' ')"
   ]
  },
  {
   "cell_type": "code",
   "execution_count": 18,
   "id": "a1255e13-37a8-4972-a097-b68e397f4bf0",
   "metadata": {},
   "outputs": [
    {
     "name": "stdout",
     "output_type": "stream",
     "text": [
      "1 4 9 16 25 "
     ]
    }
   ],
   "source": [
    "# WAP ask the user print the square of first 5 number\n",
    "\n",
    "for i in range(1,6):\n",
    "    print(i*i, end=' ')"
   ]
  },
  {
   "cell_type": "code",
   "execution_count": 22,
   "id": "769749c8-ff3a-407c-9973-dc10b1aa9999",
   "metadata": {},
   "outputs": [
    {
     "name": "stdin",
     "output_type": "stream",
     "text": [
      "Enter the number: 9\n"
     ]
    },
    {
     "name": "stdout",
     "output_type": "stream",
     "text": [
      "81 "
     ]
    },
    {
     "name": "stdin",
     "output_type": "stream",
     "text": [
      "Enter the number: 5\n"
     ]
    },
    {
     "name": "stdout",
     "output_type": "stream",
     "text": [
      "25 "
     ]
    },
    {
     "name": "stdin",
     "output_type": "stream",
     "text": [
      "Enter the number: 2\n"
     ]
    },
    {
     "name": "stdout",
     "output_type": "stream",
     "text": [
      "4 "
     ]
    },
    {
     "name": "stdin",
     "output_type": "stream",
     "text": [
      "Enter the number: 8\n"
     ]
    },
    {
     "name": "stdout",
     "output_type": "stream",
     "text": [
      "64 "
     ]
    },
    {
     "name": "stdin",
     "output_type": "stream",
     "text": [
      "Enter the number: 7\n"
     ]
    },
    {
     "name": "stdout",
     "output_type": "stream",
     "text": [
      "49 "
     ]
    }
   ],
   "source": [
    "# WAP ask the user enter a number the prompt should happen 5 times and print the sqquare of the number\n",
    "\n",
    "for i in range(5):\n",
    "    num=eval(input(\"Enter the number:\"))\n",
    "    print(num*num, end=' ')"
   ]
  },
  {
   "cell_type": "markdown",
   "id": "3c9dc4d6-b8ce-47d4-bb71-f545a7ed5557",
   "metadata": {},
   "source": [
    "**Case-3: range(start,stop,step)**\n",
    "- start=start only\n",
    "- step:\n",
    "  - Look about step sign is it positive or negative sign\n",
    "  - Positive means increment\n",
    "    - last:stop-1\n",
    "  - negative means decrement\n",
    "    - last:stop+1"
   ]
  },
  {
   "cell_type": "code",
   "execution_count": 27,
   "id": "cdebde30-7304-42cd-8c59-05df00e7f4f8",
   "metadata": {},
   "outputs": [
    {
     "name": "stdout",
     "output_type": "stream",
     "text": [
      "3 5 7 9 11 13 15 17 "
     ]
    }
   ],
   "source": [
    "# Example1: range(3,19,2)\n",
    "# start=3\n",
    "# step=+2 positive direction\n",
    "# last=19-1=18\n",
    "# 3,5,7,9,11,13,15,17\n",
    "for i in range(3,19,2):\n",
    "    print(i, end=' ')"
   ]
  },
  {
   "cell_type": "code",
   "execution_count": 29,
   "id": "c7006c11-b697-4b64-b385-a72c31c7d277",
   "metadata": {},
   "outputs": [],
   "source": [
    "# Example1: range(3,19,2)\n",
    "# start=3\n",
    "# step=+2 negative direction\n",
    "# last=19+1=20\n",
    "for i in range(3,19,-2):\n",
    "    print(i, end=' ')"
   ]
  },
  {
   "cell_type": "code",
   "execution_count": 31,
   "id": "11960752-4c9d-4079-a04f-afb0099ed445",
   "metadata": {},
   "outputs": [
    {
     "name": "stdout",
     "output_type": "stream",
     "text": [
      "3 1 -1 -3 -5 -7 -9 -11 -13 -15 -17 "
     ]
    }
   ],
   "source": [
    "for i in range(3,-19,-2):\n",
    "    print(i, end=' ')"
   ]
  },
  {
   "cell_type": "code",
   "execution_count": 1,
   "id": "d7f54342-3639-4a62-bc0d-d06e2432f6a2",
   "metadata": {},
   "outputs": [
    {
     "name": "stdout",
     "output_type": "stream",
     "text": [
      "20\n",
      "10\n",
      "0\n",
      "-10\n"
     ]
    }
   ],
   "source": [
    "for i in range(20,-20,-10):\n",
    "    print(i)"
   ]
  },
  {
   "cell_type": "code",
   "execution_count": 7,
   "id": "e65205a7-1c9d-4246-9722-e5698b83becc",
   "metadata": {},
   "outputs": [
    {
     "name": "stdin",
     "output_type": "stream",
     "text": [
      "Enter the number for table: 7\n"
     ]
    },
    {
     "name": "stdout",
     "output_type": "stream",
     "text": [
      "7x1=7\n",
      "7x2=14\n",
      "7x3=21\n",
      "7x4=28\n",
      "7x5=35\n",
      "7x6=42\n",
      "7x7=49\n",
      "7x8=56\n",
      "7x9=63\n",
      "7x10=70\n"
     ]
    }
   ],
   "source": [
    "num=eval(input(\"Enter the number for table:\"))\n",
    "for i in range(1,11):\n",
    "    print(f\"{num}x{i}={num*i}\")"
   ]
  },
  {
   "cell_type": "code",
   "execution_count": 25,
   "id": "4e03ddb9-8de5-4d81-a77a-dd2944b6f0c9",
   "metadata": {},
   "outputs": [
    {
     "name": "stdin",
     "output_type": "stream",
     "text": [
      "Enter the number for divisors needed: 75\n"
     ]
    },
    {
     "name": "stdout",
     "output_type": "stream",
     "text": [
      "The divisors of 75 are 1\n",
      "The divisors of 75 are 3\n",
      "The divisors of 75 are 5\n",
      "The divisors of 75 are 15\n",
      "The divisors of 75 are 25\n",
      "The divisors of 75 are 75\n"
     ]
    }
   ],
   "source": [
    "# Find the number of divisors of 75\n",
    "# if you divide 75 with any number the remainder should be 0\n",
    "\n",
    "n=eval(input(\"Enter the number for divisors needed:\"))\n",
    "for i in range(1,n+1):\n",
    "    if n%i==0:\n",
    "        print(f\"The divisors of {n} are {i}\")"
   ]
  },
  {
   "cell_type": "markdown",
   "id": "2e624c50-e9b9-49b9-acce-347f9948d99d",
   "metadata": {},
   "source": [
    "**Summation Wrapper**\n",
    "- Starting we initiative the sum value: summ=0\n",
    "- Inside loop we will add a simple line: summ=summ+i"
   ]
  },
  {
   "cell_type": "code",
   "execution_count": 27,
   "id": "6c365258-53f5-4168-9492-6336ab083881",
   "metadata": {},
   "outputs": [
    {
     "name": "stdin",
     "output_type": "stream",
     "text": [
      "Enter the number: 10\n"
     ]
    },
    {
     "name": "stdout",
     "output_type": "stream",
     "text": [
      "The sum of first 10 natural numbers is 55\n"
     ]
    }
   ],
   "source": [
    "# sum of first 10 natural numbers\n",
    "\n",
    "n1=eval(input(\"Enter the number:\"))\n",
    "summ=0\n",
    "for i in range(1,n1+1):\n",
    "    summ=summ+i\n",
    "print(f\"The sum of first {n1} natural numbers is {summ}\")"
   ]
  },
  {
   "cell_type": "code",
   "execution_count": 30,
   "id": "e9d14ee8-8e7a-4dca-958d-72f5ad37ea22",
   "metadata": {},
   "outputs": [
    {
     "name": "stdin",
     "output_type": "stream",
     "text": [
      "Enter the number for divisors needed: 75\n"
     ]
    },
    {
     "name": "stdout",
     "output_type": "stream",
     "text": [
      "The sum of divisors of 75 is 124\n"
     ]
    }
   ],
   "source": [
    "# Find the sum of divisors of 75\n",
    "\n",
    "n2=eval(input(\"Enter the number for divisors needed:\"))\n",
    "summ1=0\n",
    "for i in range(1,n2+1):\n",
    "    if n2%i==0:\n",
    "        summ1=summ1+i\n",
    "print(f\"The sum of divisors of {n2} is {summ1}\")"
   ]
  },
  {
   "cell_type": "markdown",
   "id": "bc0c0427-bf44-4f09-b443-68a5aad5be2e",
   "metadata": {},
   "source": [
    "**Count Wrapper**\n",
    "- Counter means counting the success ones\n",
    "- count=0\n",
    "- for loop\n",
    "  - count=count+1"
   ]
  },
  {
   "cell_type": "code",
   "execution_count": 33,
   "id": "a7644483-26a2-42a9-a2c9-5cf82d8bea8d",
   "metadata": {},
   "outputs": [
    {
     "name": "stdin",
     "output_type": "stream",
     "text": [
      "Enter the number for divisors needed: 75\n"
     ]
    },
    {
     "name": "stdout",
     "output_type": "stream",
     "text": [
      "The divisors of 75 are 6\n"
     ]
    }
   ],
   "source": [
    "# Find the number of divisors of 75\n",
    "# if you divide 75 with any number the remainder should be 0\n",
    "\n",
    "n3=eval(input(\"Enter the number for divisors needed:\"))\n",
    "count=0\n",
    "for i in range(1,n3+1):\n",
    "    if n3%i==0:\n",
    "        count=count+1\n",
    "print(f\"The divisors of {n3} are {count}\")"
   ]
  },
  {
   "cell_type": "code",
   "execution_count": 37,
   "id": "0f1a7b2e-3838-4127-8093-e716b3fa238e",
   "metadata": {},
   "outputs": [
    {
     "name": "stdout",
     "output_type": "stream",
     "text": [
      "81\n",
      "4\n",
      "55\n",
      "18\n",
      "16\n",
      "There are 3 even numbers\n",
      "The sum of even numbers is 38\n",
      "There are 2 even numbers\n",
      "The sum of odd numbers is 136\n"
     ]
    }
   ],
   "source": [
    "# Ask the user get 5 random numbers\n",
    "# means you need to get a random number inside for loop\n",
    "# the loop should run 5 times\n",
    "# now perform the even and odd operation\n",
    "# even count, sum of even, odd count, sum of odd\n",
    "\n",
    "import random\n",
    "count_even=0\n",
    "count_odd=0\n",
    "sum_even=0\n",
    "sum_odd=0\n",
    "for i in range(5):\n",
    "    number=random.randint(1,100)\n",
    "    if number%2==0:\n",
    "        print(number)\n",
    "        count_even=count_even+1\n",
    "        sum_even=sum_even+number\n",
    "    else:\n",
    "        print(number)\n",
    "        count_odd=count_odd+1\n",
    "        sum_odd=sum_odd+number\n",
    "print(f\"There are {count_even} even numbers\")\n",
    "print(f\"The sum of even numbers is {sum_even}\")\n",
    "print(f\"There are {count_odd} even numbers\")\n",
    "print(f\"The sum of odd numbers is {sum_odd}\")"
   ]
  },
  {
   "cell_type": "code",
   "execution_count": 57,
   "id": "c83d7613-c873-469c-b294-8b338cce16e3",
   "metadata": {},
   "outputs": [
    {
     "name": "stdin",
     "output_type": "stream",
     "text": [
      "Enter the number 5\n"
     ]
    },
    {
     "name": "stdout",
     "output_type": "stream",
     "text": [
      "You Lost\n"
     ]
    },
    {
     "name": "stdin",
     "output_type": "stream",
     "text": [
      "Enter the number 9\n"
     ]
    },
    {
     "name": "stdout",
     "output_type": "stream",
     "text": [
      "You Lost\n"
     ]
    },
    {
     "name": "stdin",
     "output_type": "stream",
     "text": [
      "Enter the number 4\n"
     ]
    },
    {
     "name": "stdout",
     "output_type": "stream",
     "text": [
      "You Lost\n"
     ]
    }
   ],
   "source": [
    "for i in range(3):\n",
    "    numb1=eval(input(\"Enter the number\"))\n",
    "    numb2=random.randint(1,10)\n",
    "    if numb1==numb2:\n",
    "        print(\"You Won\")\n",
    "        break\n",
    "    else:\n",
    "        print(\"You Lost\")"
   ]
  },
  {
   "cell_type": "markdown",
   "id": "4b2ce2e0-3993-44da-b3f4-c64381df8d7a",
   "metadata": {},
   "source": [
    "**in**\n",
    "- In for loop we have range and in operators\n",
    "- range is math related word, whenever we use range it expects a number inside range\n",
    "- in operator expects a string"
   ]
  },
  {
   "cell_type": "code",
   "execution_count": 2,
   "id": "d811afeb-230d-4500-b57c-fb5475421e7a",
   "metadata": {},
   "outputs": [
    {
     "name": "stdout",
     "output_type": "stream",
     "text": [
      "0 1 2 3 4 5 6 7 8 9 "
     ]
    }
   ],
   "source": [
    "for i in range(10):\n",
    "    print(i,end=' ')"
   ]
  },
  {
   "cell_type": "code",
   "execution_count": 4,
   "id": "d6a8bc0e-50cf-4f8e-bfbe-6367ffdbbc2a",
   "metadata": {},
   "outputs": [
    {
     "ename": "TypeError",
     "evalue": "'str' object cannot be interpreted as an integer",
     "output_type": "error",
     "traceback": [
      "\u001b[1;31m---------------------------------------------------------------------------\u001b[0m",
      "\u001b[1;31mTypeError\u001b[0m                                 Traceback (most recent call last)",
      "Cell \u001b[1;32mIn[4], line 1\u001b[0m\n\u001b[1;32m----> 1\u001b[0m \u001b[38;5;28;01mfor\u001b[39;00m i \u001b[38;5;129;01min\u001b[39;00m \u001b[38;5;28mrange\u001b[39m(\u001b[38;5;124m'\u001b[39m\u001b[38;5;124mpython\u001b[39m\u001b[38;5;124m'\u001b[39m):\n\u001b[0;32m      2\u001b[0m     \u001b[38;5;28mprint\u001b[39m(i,end\u001b[38;5;241m=\u001b[39m\u001b[38;5;124m'\u001b[39m\u001b[38;5;124m \u001b[39m\u001b[38;5;124m'\u001b[39m)\n",
      "\u001b[1;31mTypeError\u001b[0m: 'str' object cannot be interpreted as an integer"
     ]
    }
   ],
   "source": [
    "for i in range('python'):\n",
    "    print(i,end=' ')"
   ]
  },
  {
   "cell_type": "code",
   "execution_count": 6,
   "id": "efd9add8-5542-441f-8ad2-a87ab0e90b55",
   "metadata": {},
   "outputs": [
    {
     "name": "stdout",
     "output_type": "stream",
     "text": [
      "p y t h o n "
     ]
    }
   ],
   "source": [
    "for i in 'python':\n",
    "    print(i,end=' ')"
   ]
  },
  {
   "cell_type": "code",
   "execution_count": 8,
   "id": "22d19f74-cfdf-4479-ab01-5c94f85959f0",
   "metadata": {},
   "outputs": [
    {
     "data": {
      "text/plain": [
       "True"
      ]
     },
     "execution_count": 8,
     "metadata": {},
     "output_type": "execute_result"
    }
   ],
   "source": [
    "'p' in 'python'\n",
    "'y' in 'python'\n",
    "'t' in 'python'\n",
    "'h' in 'python'\n",
    "'o' in 'python'\n",
    "'n' in 'python'"
   ]
  },
  {
   "cell_type": "markdown",
   "id": "b392aa6e-4d68-402a-a1b8-e1b6aaf199f5",
   "metadata": {},
   "source": [
    "**ASCII**: $American$ $Standard$ $Code$ $for$ $Information$ $Interchange$"
   ]
  },
  {
   "cell_type": "code",
   "execution_count": 12,
   "id": "f58f94d0-31c6-4cc0-8477-f8e3dd010da1",
   "metadata": {},
   "outputs": [
    {
     "data": {
      "text/plain": [
       "False"
      ]
     },
     "execution_count": 12,
     "metadata": {},
     "output_type": "execute_result"
    }
   ],
   "source": [
    "'A'>'a'"
   ]
  },
  {
   "cell_type": "markdown",
   "id": "acb96b24-5bef-44ee-80ff-1af6d4752094",
   "metadata": {},
   "source": [
    "- How to convert character to number\n",
    "- How to convert number to character\n",
    "\n",
    "**chr-ord**"
   ]
  },
  {
   "cell_type": "code",
   "execution_count": 20,
   "id": "2cd11f5b-562d-4ffd-8343-d353d0551b7b",
   "metadata": {},
   "outputs": [
    {
     "data": {
      "text/plain": [
       "'a'"
      ]
     },
     "execution_count": 20,
     "metadata": {},
     "output_type": "execute_result"
    }
   ],
   "source": [
    "chr(97)"
   ]
  },
  {
   "cell_type": "code",
   "execution_count": 22,
   "id": "056abd50-6f7e-4e3e-b9bf-42b71e742a10",
   "metadata": {},
   "outputs": [
    {
     "data": {
      "text/plain": [
       "65"
      ]
     },
     "execution_count": 22,
     "metadata": {},
     "output_type": "execute_result"
    }
   ],
   "source": [
    "ord('A')"
   ]
  },
  {
   "cell_type": "code",
   "execution_count": 30,
   "id": "18c506eb-6c3f-4301-b7c6-17b6fbc58579",
   "metadata": {},
   "outputs": [
    {
     "data": {
      "text/plain": [
       "32"
      ]
     },
     "execution_count": 30,
     "metadata": {},
     "output_type": "execute_result"
    }
   ],
   "source": [
    "ord(' ')"
   ]
  },
  {
   "cell_type": "code",
   "execution_count": 32,
   "id": "e629c429-e649-4bf2-a3b1-75f4b6f234ce",
   "metadata": {},
   "outputs": [
    {
     "data": {
      "text/plain": [
       "' '"
      ]
     },
     "execution_count": 32,
     "metadata": {},
     "output_type": "execute_result"
    }
   ],
   "source": [
    "chr(32)"
   ]
  },
  {
   "cell_type": "markdown",
   "id": "ecafa855-a67d-423b-957d-9a7222751965",
   "metadata": {},
   "source": [
    "- So **ord** converting charater to number\n",
    "- **chr** converting number to character"
   ]
  },
  {
   "cell_type": "code",
   "execution_count": 57,
   "id": "46f25d50-6d13-4cc1-b342-3bcba268de75",
   "metadata": {},
   "outputs": [
    {
     "name": "stdout",
     "output_type": "stream",
     "text": [
      "A:65\n",
      "B:66\n",
      "C:67\n",
      "D:68\n",
      "E:69\n",
      "F:70\n",
      "G:71\n",
      "H:72\n",
      "I:73\n",
      "J:74\n",
      "K:75\n",
      "L:76\n",
      "M:77\n",
      "N:78\n",
      "O:79\n",
      "P:80\n",
      "Q:81\n",
      "R:82\n",
      "S:83\n",
      "T:84\n",
      "U:85\n",
      "V:86\n",
      "W:87\n",
      "X:88\n",
      "Y:89\n",
      "Z:90\n"
     ]
    }
   ],
   "source": [
    "# WAP ask the user get ASCII from A to Z\n",
    "# print: A:65\n",
    "\n",
    "for i in 'ABCDEFGHIJKLMNOPQRSTUVWXYZ':\n",
    "    print(f\"{i}:{ord(i)}\")"
   ]
  },
  {
   "cell_type": "markdown",
   "id": "2a14f627-f55b-4122-90d7-d6d1c2eede1f",
   "metadata": {},
   "source": [
    "**package: string**"
   ]
  },
  {
   "cell_type": "code",
   "execution_count": 60,
   "id": "89139f94-2fe9-4a10-a727-9aac02c8b0b2",
   "metadata": {},
   "outputs": [
    {
     "data": {
      "text/plain": [
       "['Formatter',\n",
       " 'Template',\n",
       " '_ChainMap',\n",
       " '__all__',\n",
       " '__builtins__',\n",
       " '__cached__',\n",
       " '__doc__',\n",
       " '__file__',\n",
       " '__loader__',\n",
       " '__name__',\n",
       " '__package__',\n",
       " '__spec__',\n",
       " '_re',\n",
       " '_sentinel_dict',\n",
       " '_string',\n",
       " 'ascii_letters',\n",
       " 'ascii_lowercase',\n",
       " 'ascii_uppercase',\n",
       " 'capwords',\n",
       " 'digits',\n",
       " 'hexdigits',\n",
       " 'octdigits',\n",
       " 'printable',\n",
       " 'punctuation',\n",
       " 'whitespace']"
      ]
     },
     "execution_count": 60,
     "metadata": {},
     "output_type": "execute_result"
    }
   ],
   "source": [
    "import string\n",
    "dir(string)"
   ]
  },
  {
   "cell_type": "code",
   "execution_count": 64,
   "id": "7aeac9f4-a63e-42fe-9b93-a1ab212c5fdd",
   "metadata": {},
   "outputs": [
    {
     "name": "stdout",
     "output_type": "stream",
     "text": [
      "A:65\n",
      "B:66\n",
      "C:67\n",
      "D:68\n",
      "E:69\n",
      "F:70\n",
      "G:71\n",
      "H:72\n",
      "I:73\n",
      "J:74\n",
      "K:75\n",
      "L:76\n",
      "M:77\n",
      "N:78\n",
      "O:79\n",
      "P:80\n",
      "Q:81\n",
      "R:82\n",
      "S:83\n",
      "T:84\n",
      "U:85\n",
      "V:86\n",
      "W:87\n",
      "X:88\n",
      "Y:89\n",
      "Z:90\n"
     ]
    }
   ],
   "source": [
    "for i in string.ascii_uppercase:\n",
    "    print(f\"{i}:{ord(i)}\")"
   ]
  },
  {
   "cell_type": "code",
   "execution_count": 66,
   "id": "180f6ee4-0d6a-44d0-806d-553600f08261",
   "metadata": {},
   "outputs": [
    {
     "name": "stdout",
     "output_type": "stream",
     "text": [
      "a:97\n",
      "b:98\n",
      "c:99\n",
      "d:100\n",
      "e:101\n",
      "f:102\n",
      "g:103\n",
      "h:104\n",
      "i:105\n",
      "j:106\n",
      "k:107\n",
      "l:108\n",
      "m:109\n",
      "n:110\n",
      "o:111\n",
      "p:112\n",
      "q:113\n",
      "r:114\n",
      "s:115\n",
      "t:116\n",
      "u:117\n",
      "v:118\n",
      "w:119\n",
      "x:120\n",
      "y:121\n",
      "z:122\n"
     ]
    }
   ],
   "source": [
    "for i in string.ascii_lowercase:\n",
    "    print(f\"{i}:{ord(i)}\")"
   ]
  },
  {
   "cell_type": "code",
   "execution_count": 68,
   "id": "b9bdb8fa-f7ce-42bf-b0b6-c8f6e76d8771",
   "metadata": {},
   "outputs": [
    {
     "name": "stdout",
     "output_type": "stream",
     "text": [
      "!:33\n",
      "\":34\n",
      "#:35\n",
      "$:36\n",
      "%:37\n",
      "&:38\n",
      "':39\n",
      "(:40\n",
      "):41\n",
      "*:42\n",
      "+:43\n",
      ",:44\n",
      "-:45\n",
      ".:46\n",
      "/:47\n",
      "::58\n",
      ";:59\n",
      "<:60\n",
      "=:61\n",
      ">:62\n",
      "?:63\n",
      "@:64\n",
      "[:91\n",
      "\\:92\n",
      "]:93\n",
      "^:94\n",
      "_:95\n",
      "`:96\n",
      "{:123\n",
      "|:124\n",
      "}:125\n",
      "~:126\n"
     ]
    }
   ],
   "source": [
    "for i in string.punctuation:\n",
    "    print(f\"{i}:{ord(i)}\")"
   ]
  },
  {
   "cell_type": "code",
   "execution_count": 70,
   "id": "fb9b2d1a-e673-4fd4-803c-6a34a3826241",
   "metadata": {},
   "outputs": [
    {
     "name": "stdout",
     "output_type": "stream",
     "text": [
      " :32\n",
      "\t:9\n",
      "\n",
      ":10\n",
      ":13\n",
      "\u000b",
      ":11\n",
      "\f",
      ":12\n"
     ]
    }
   ],
   "source": [
    "for i in string.whitespace:\n",
    "    print(f\"{i}:{ord(i)}\")"
   ]
  },
  {
   "cell_type": "code",
   "execution_count": 72,
   "id": "bed4e233-8206-446b-8cab-3dd591b0e218",
   "metadata": {},
   "outputs": [
    {
     "name": "stdout",
     "output_type": "stream",
     "text": [
      "0:48\n",
      "1:49\n",
      "2:50\n",
      "3:51\n",
      "4:52\n",
      "5:53\n",
      "6:54\n",
      "7:55\n",
      "8:56\n",
      "9:57\n"
     ]
    }
   ],
   "source": [
    "for i in string.digits:\n",
    "    print(f\"{i}:{ord(i)}\")"
   ]
  },
  {
   "cell_type": "code",
   "execution_count": 76,
   "id": "d10d76ca-beaa-4592-a7a5-e8d447c221fb",
   "metadata": {},
   "outputs": [
    {
     "name": "stdout",
     "output_type": "stream",
     "text": [
      "33:!\n",
      "34:\"\n",
      "35:#\n",
      "36:$\n",
      "37:%\n",
      "38:&\n",
      "39:'\n",
      "40:(\n",
      "41:)\n",
      "42:*\n",
      "43:+\n",
      "44:,\n",
      "45:-\n",
      "46:.\n",
      "47:/\n",
      "48:0\n",
      "49:1\n",
      "50:2\n",
      "51:3\n",
      "52:4\n",
      "53:5\n",
      "54:6\n",
      "55:7\n",
      "56:8\n",
      "57:9\n",
      "58::\n",
      "59:;\n",
      "60:<\n",
      "61:=\n",
      "62:>\n",
      "63:?\n",
      "64:@\n",
      "65:A\n",
      "66:B\n",
      "67:C\n",
      "68:D\n",
      "69:E\n",
      "70:F\n",
      "71:G\n",
      "72:H\n",
      "73:I\n",
      "74:J\n",
      "75:K\n",
      "76:L\n",
      "77:M\n",
      "78:N\n",
      "79:O\n",
      "80:P\n",
      "81:Q\n",
      "82:R\n",
      "83:S\n",
      "84:T\n",
      "85:U\n",
      "86:V\n",
      "87:W\n",
      "88:X\n",
      "89:Y\n",
      "90:Z\n",
      "91:[\n",
      "92:\\\n",
      "93:]\n",
      "94:^\n",
      "95:_\n",
      "96:`\n",
      "97:a\n",
      "98:b\n",
      "99:c\n",
      "100:d\n",
      "101:e\n",
      "102:f\n",
      "103:g\n",
      "104:h\n",
      "105:i\n",
      "106:j\n",
      "107:k\n",
      "108:l\n",
      "109:m\n",
      "110:n\n",
      "111:o\n",
      "112:p\n",
      "113:q\n",
      "114:r\n",
      "115:s\n",
      "116:t\n",
      "117:u\n",
      "118:v\n",
      "119:w\n",
      "120:x\n",
      "121:y\n",
      "122:z\n",
      "123:{\n",
      "124:|\n",
      "125:}\n",
      "126:~\n"
     ]
    }
   ],
   "source": [
    "for i in range(33,127):\n",
    "    print(f\"{i}:{chr(i)}\")"
   ]
  },
  {
   "cell_type": "code",
   "execution_count": 78,
   "id": "9f98726f-54c6-49e1-bb56-ddbddfffae5f",
   "metadata": {},
   "outputs": [
    {
     "name": "stdout",
     "output_type": "stream",
     "text": [
      "0:\u0000\n",
      "1:\u0001\n",
      "2:\u0002\n",
      "3:\u0003\n",
      "4:\u0004\n",
      "5:\u0005\n",
      "6:\u0006\n",
      "7:\u0007\n",
      "8\n",
      "9:\t\n",
      "10:\n",
      "\n",
      "11:\u000b",
      "\n",
      "12:\f",
      "\n",
      "13:\n",
      "14:\u000e\n",
      "15:\u000f\n",
      "16:\u0010\n",
      "17:\u0011\n",
      "18:\u0012\n",
      "19:\u0013\n",
      "20:\u0014\n",
      "21:\u0015\n",
      "22:\u0016\n",
      "23:\u0017\n",
      "24:\u0018\n",
      "25:\u0019\n",
      "26:\u001a\n",
      "27:\u001b\n",
      "28:\u001c",
      "\n",
      "29:\u001d",
      "\n",
      "30:\u001e",
      "\n",
      "31:\u001f\n",
      "32: \n"
     ]
    }
   ],
   "source": [
    "for i in range(0,33):\n",
    "    print(f\"{i}:{chr(i)}\")"
   ]
  },
  {
   "cell_type": "code",
   "execution_count": 86,
   "id": "4c9f93ca-d33c-4928-b4e9-8ee8a2c0339c",
   "metadata": {},
   "outputs": [
    {
     "name": "stdout",
     "output_type": "stream",
     "text": [
      "3072:ఀ\n",
      "3073:ఁ\n",
      "3074:ం\n",
      "3075:ః\n",
      "3076:ఄ\n",
      "3077:అ\n",
      "3078:ఆ\n",
      "3079:ఇ\n",
      "3080:ఈ\n",
      "3081:ఉ\n",
      "3082:ఊ\n",
      "3083:ఋ\n",
      "3084:ఌ\n",
      "3085:఍\n",
      "3086:ఎ\n",
      "3087:ఏ\n",
      "3088:ఐ\n",
      "3089:఑\n",
      "3090:ఒ\n",
      "3091:ఓ\n",
      "3092:ఔ\n",
      "3093:క\n",
      "3094:ఖ\n",
      "3095:గ\n",
      "3096:ఘ\n",
      "3097:ఙ\n",
      "3098:చ\n",
      "3099:ఛ\n",
      "3100:జ\n",
      "3101:ఝ\n",
      "3102:ఞ\n",
      "3103:ట\n",
      "3104:ఠ\n",
      "3105:డ\n",
      "3106:ఢ\n",
      "3107:ణ\n",
      "3108:త\n",
      "3109:థ\n",
      "3110:ద\n",
      "3111:ధ\n",
      "3112:న\n",
      "3113:఩\n",
      "3114:ప\n",
      "3115:ఫ\n",
      "3116:బ\n",
      "3117:భ\n",
      "3118:మ\n",
      "3119:య\n",
      "3120:ర\n",
      "3121:ఱ\n",
      "3122:ల\n",
      "3123:ళ\n",
      "3124:ఴ\n",
      "3125:వ\n",
      "3126:శ\n",
      "3127:ష\n",
      "3128:స\n",
      "3129:హ\n",
      "3130:఺\n",
      "3131:఻\n",
      "3132:఼\n",
      "3133:ఽ\n",
      "3134:ా\n",
      "3135:ి\n",
      "3136:ీ\n",
      "3137:ు\n",
      "3138:ూ\n",
      "3139:ృ\n",
      "3140:ౄ\n",
      "3141:౅\n",
      "3142:ె\n",
      "3143:ే\n",
      "3144:ై\n",
      "3145:౉\n",
      "3146:ొ\n",
      "3147:ో\n",
      "3148:ౌ\n",
      "3149:్\n",
      "3150:౎\n",
      "3151:౏\n",
      "3152:౐\n",
      "3153:౑\n",
      "3154:౒\n",
      "3155:౓\n",
      "3156:౔\n",
      "3157:ౕ\n",
      "3158:ౖ\n",
      "3159:౗\n",
      "3160:ౘ\n",
      "3161:ౙ\n",
      "3162:ౚ\n",
      "3163:౛\n",
      "3164:౜\n",
      "3165:ౝ\n",
      "3166:౞\n",
      "3167:౟\n",
      "3168:ౠ\n",
      "3169:ౡ\n",
      "3170:ౢ\n",
      "3171:ౣ\n",
      "3172:౤\n",
      "3173:౥\n",
      "3174:౦\n",
      "3175:౧\n",
      "3176:౨\n",
      "3177:౩\n",
      "3178:౪\n",
      "3179:౫\n",
      "3180:౬\n",
      "3181:౭\n",
      "3182:౮\n",
      "3183:౯\n",
      "3184:౰\n",
      "3185:౱\n",
      "3186:౲\n",
      "3187:౳\n",
      "3188:౴\n",
      "3189:౵\n",
      "3190:౶\n",
      "3191:౷\n",
      "3192:౸\n",
      "3193:౹\n",
      "3194:౺\n",
      "3195:౻\n",
      "3196:౼\n",
      "3197:౽\n",
      "3198:౾\n"
     ]
    }
   ],
   "source": [
    "for i in range(3072,3199):\n",
    "    print(f\"{i}:{chr(i)}\")"
   ]
  },
  {
   "cell_type": "code",
   "execution_count": null,
   "id": "05a606de-870b-4f1b-8a9a-e6be50ab7a7a",
   "metadata": {},
   "outputs": [],
   "source": []
  }
 ],
 "metadata": {
  "kernelspec": {
   "display_name": "Python [conda env:base] *",
   "language": "python",
   "name": "conda-base-py"
  },
  "language_info": {
   "codemirror_mode": {
    "name": "ipython",
    "version": 3
   },
   "file_extension": ".py",
   "mimetype": "text/x-python",
   "name": "python",
   "nbconvert_exporter": "python",
   "pygments_lexer": "ipython3",
   "version": "3.12.7"
  }
 },
 "nbformat": 4,
 "nbformat_minor": 5
}
