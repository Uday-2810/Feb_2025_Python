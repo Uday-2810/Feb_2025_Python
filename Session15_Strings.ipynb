{
 "cells": [
  {
   "cell_type": "markdown",
   "id": "d597c66f-51b5-4585-a9b7-623e275d206a",
   "metadata": {},
   "source": [
    "- Basic Representations\n",
    "- Inbuilt Functions\n",
    "  - print\n",
    "  - type\n",
    "  - len\n",
    "  - sum\n",
    "  - max\n",
    "  - min\n",
    "  - sorted\n",
    "  - reversed\n",
    "- concatenation\n",
    "- indexing\n",
    "- mutable or immutable concept\n",
    "- slice\n",
    "- methods"
   ]
  },
  {
   "cell_type": "markdown",
   "id": "e5d0dcf1-03aa-4b7d-9038-e25c6843a481",
   "metadata": {},
   "source": [
    "**Basic Representations**"
   ]
  },
  {
   "cell_type": "code",
   "execution_count": 5,
   "id": "f6ce848c-7a6d-4578-8561-bb8f708dd4bb",
   "metadata": {},
   "outputs": [
    {
     "data": {
      "text/plain": [
       "'python'"
      ]
     },
     "execution_count": 5,
     "metadata": {},
     "output_type": "execute_result"
    }
   ],
   "source": [
    "name='python'\n",
    "name"
   ]
  },
  {
   "cell_type": "code",
   "execution_count": 7,
   "id": "c8421778-39eb-482e-a271-f5e5c8cc1120",
   "metadata": {},
   "outputs": [
    {
     "name": "stdout",
     "output_type": "stream",
     "text": [
      "python\n"
     ]
    }
   ],
   "source": [
    "print(name)"
   ]
  },
  {
   "cell_type": "code",
   "execution_count": 9,
   "id": "1b76f3cb-087c-4aeb-a24f-023a6f31104a",
   "metadata": {},
   "outputs": [
    {
     "data": {
      "text/plain": [
       "'python'"
      ]
     },
     "execution_count": 9,
     "metadata": {},
     "output_type": "execute_result"
    }
   ],
   "source": [
    "name=\"python\"\n",
    "name"
   ]
  },
  {
   "cell_type": "markdown",
   "id": "8682f7fa-8c43-4547-aa33-94dba1c50f99",
   "metadata": {},
   "source": [
    "- python by default gives output in **single quotes**\n",
    "- when we print the string the output display **without quotes**"
   ]
  },
  {
   "cell_type": "code",
   "execution_count": 12,
   "id": "0e23cfdd-7c7a-4fcb-bea6-25cc7506e5c3",
   "metadata": {},
   "outputs": [
    {
     "name": "stdout",
     "output_type": "stream",
     "text": [
      "I love 'python'\n"
     ]
    }
   ],
   "source": [
    "str1=\"I love 'python'\"\n",
    "print(str1)"
   ]
  },
  {
   "cell_type": "code",
   "execution_count": 14,
   "id": "27d7b271-ff4d-439d-93b3-f15259cb7104",
   "metadata": {},
   "outputs": [
    {
     "name": "stdout",
     "output_type": "stream",
     "text": [
      "I love \"python\"\n"
     ]
    }
   ],
   "source": [
    "str2='I love \"python\"'\n",
    "print(str2)"
   ]
  },
  {
   "cell_type": "markdown",
   "id": "f80baa64-f734-487c-a8a4-1376121c6d4c",
   "metadata": {},
   "source": [
    "**Doc String**\n",
    "- Triple quotes also called as doc string\n",
    "- Triple quotes means the user try to convey some information"
   ]
  },
  {
   "cell_type": "code",
   "execution_count": 17,
   "id": "90001b5a-6d17-4cc6-a8eb-11fda8c0d5e9",
   "metadata": {},
   "outputs": [
    {
     "data": {
      "text/plain": [
       "str"
      ]
     },
     "execution_count": 17,
     "metadata": {},
     "output_type": "execute_result"
    }
   ],
   "source": [
    "name='python'\n",
    "type(name)"
   ]
  },
  {
   "cell_type": "code",
   "execution_count": 19,
   "id": "188dd25d-d00e-4736-84ac-ae9661844fbe",
   "metadata": {},
   "outputs": [
    {
     "data": {
      "text/plain": [
       "10"
      ]
     },
     "execution_count": 19,
     "metadata": {},
     "output_type": "execute_result"
    }
   ],
   "source": [
    "name1=\"Uday Kiran\"\n",
    "len(name1)"
   ]
  },
  {
   "cell_type": "code",
   "execution_count": 37,
   "id": "ef5140f2-b4e8-498b-8e19-88d1b3667a83",
   "metadata": {},
   "outputs": [
    {
     "data": {
      "text/plain": [
       "'y'"
      ]
     },
     "execution_count": 37,
     "metadata": {},
     "output_type": "execute_result"
    }
   ],
   "source": [
    "max(name1)"
   ]
  },
  {
   "cell_type": "code",
   "execution_count": 39,
   "id": "7f4b48f7-6397-4200-8f24-606f7de7588c",
   "metadata": {},
   "outputs": [
    {
     "data": {
      "text/plain": [
       "' '"
      ]
     },
     "execution_count": 39,
     "metadata": {},
     "output_type": "execute_result"
    }
   ],
   "source": [
    "min(name1)"
   ]
  },
  {
   "cell_type": "markdown",
   "id": "77cc6e78-c73b-4c05-b94e-5672883699ff",
   "metadata": {},
   "source": [
    "**sorted**\n",
    "- sorted means either ascending or descending order\n",
    "- ascending order: small to big\n",
    "- descending order: big to small"
   ]
  },
  {
   "cell_type": "code",
   "execution_count": 43,
   "id": "711a732e-6a92-4e14-aece-7abbfd1e0698",
   "metadata": {},
   "outputs": [
    {
     "data": {
      "text/plain": [
       "[' ', 'K', 'U', 'a', 'a', 'd', 'i', 'n', 'r', 'y']"
      ]
     },
     "execution_count": 43,
     "metadata": {},
     "output_type": "execute_result"
    }
   ],
   "source": [
    "sorted(name1)"
   ]
  },
  {
   "cell_type": "code",
   "execution_count": null,
   "id": "597f027e-264c-4554-8426-65b7c4e43b0d",
   "metadata": {},
   "outputs": [],
   "source": [
    "**iterable**: Anything that can be print"
   ]
  },
  {
   "cell_type": "code",
   "execution_count": 51,
   "id": "93f6dc08-3d89-4a6c-8d7a-ab8f81d4aa22",
   "metadata": {},
   "outputs": [
    {
     "name": "stdout",
     "output_type": "stream",
     "text": [
      "30\n"
     ]
    }
   ],
   "source": [
    "def add(a,b):\n",
    "    print(a+b)\n",
    "add(10,20)"
   ]
  },
  {
   "cell_type": "code",
   "execution_count": 59,
   "id": "758adef6-3cad-4042-8e99-0808a65c269a",
   "metadata": {},
   "outputs": [
    {
     "name": "stdout",
     "output_type": "stream",
     "text": [
      "30\n"
     ]
    }
   ],
   "source": [
    "def add(a,b):\n",
    "    print(a+b)\n",
    "add(a=10,b=20)"
   ]
  },
  {
   "cell_type": "code",
   "execution_count": 53,
   "id": "589ef984-9490-4da3-8c4e-49f93d2fc402",
   "metadata": {},
   "outputs": [
    {
     "ename": "TypeError",
     "evalue": "add() got some positional-only arguments passed as keyword arguments: 'a'",
     "output_type": "error",
     "traceback": [
      "\u001b[1;31m---------------------------------------------------------------------------\u001b[0m",
      "\u001b[1;31mTypeError\u001b[0m                                 Traceback (most recent call last)",
      "Cell \u001b[1;32mIn[53], line 3\u001b[0m\n\u001b[0;32m      1\u001b[0m \u001b[38;5;28;01mdef\u001b[39;00m \u001b[38;5;21madd\u001b[39m(a,\u001b[38;5;241m/\u001b[39m,b):\n\u001b[0;32m      2\u001b[0m     \u001b[38;5;28mprint\u001b[39m(a\u001b[38;5;241m+\u001b[39mb)\n\u001b[1;32m----> 3\u001b[0m add(a\u001b[38;5;241m=\u001b[39m\u001b[38;5;241m10\u001b[39m,b\u001b[38;5;241m=\u001b[39m\u001b[38;5;241m20\u001b[39m)\n",
      "\u001b[1;31mTypeError\u001b[0m: add() got some positional-only arguments passed as keyword arguments: 'a'"
     ]
    }
   ],
   "source": [
    "def add(a,/,b):\n",
    "    print(a+b)\n",
    "add(a=10,b=20)"
   ]
  },
  {
   "cell_type": "code",
   "execution_count": 55,
   "id": "76a80e00-2ec7-417e-8cac-988562573aa8",
   "metadata": {},
   "outputs": [
    {
     "name": "stdout",
     "output_type": "stream",
     "text": [
      "30\n"
     ]
    }
   ],
   "source": [
    "def add(a,/,b):\n",
    "    print(a+b)\n",
    "add(10,b=20)"
   ]
  },
  {
   "cell_type": "code",
   "execution_count": 57,
   "id": "8863345e-023a-4e87-8e50-3b4063131386",
   "metadata": {},
   "outputs": [
    {
     "ename": "SyntaxError",
     "evalue": "positional argument follows keyword argument (3787002837.py, line 3)",
     "output_type": "error",
     "traceback": [
      "\u001b[1;36m  Cell \u001b[1;32mIn[57], line 3\u001b[1;36m\u001b[0m\n\u001b[1;33m    add(a=10,20)\u001b[0m\n\u001b[1;37m               ^\u001b[0m\n\u001b[1;31mSyntaxError\u001b[0m\u001b[1;31m:\u001b[0m positional argument follows keyword argument\n"
     ]
    }
   ],
   "source": [
    "def add(a,/,b):\n",
    "    print(a+b)\n",
    "add(a=10,20)"
   ]
  },
  {
   "cell_type": "code",
   "execution_count": 61,
   "id": "4c770013-f1c8-4016-8f37-436c64d927fd",
   "metadata": {},
   "outputs": [
    {
     "ename": "TypeError",
     "evalue": "sorted expected 1 argument, got 0",
     "output_type": "error",
     "traceback": [
      "\u001b[1;31m---------------------------------------------------------------------------\u001b[0m",
      "\u001b[1;31mTypeError\u001b[0m                                 Traceback (most recent call last)",
      "Cell \u001b[1;32mIn[61], line 1\u001b[0m\n\u001b[1;32m----> 1\u001b[0m \u001b[38;5;28msorted\u001b[39m(iterable\u001b[38;5;241m=\u001b[39m\u001b[38;5;124m'\u001b[39m\u001b[38;5;124mpython\u001b[39m\u001b[38;5;124m'\u001b[39m)\n",
      "\u001b[1;31mTypeError\u001b[0m: sorted expected 1 argument, got 0"
     ]
    }
   ],
   "source": [
    "sorted(iterable='python')"
   ]
  },
  {
   "cell_type": "markdown",
   "id": "dd4296e6-f566-448c-99b6-29553acbbd23",
   "metadata": {},
   "source": [
    "**Note:**\n",
    "- / before don't use arguement name\n",
    "- / after you can use arguement name, that is our wish\n",
    "- (*) indicates no need to maintain the order of the arguements"
   ]
  },
  {
   "cell_type": "code",
   "execution_count": 67,
   "id": "10471699-5621-4469-8c34-4cafb7742699",
   "metadata": {},
   "outputs": [
    {
     "ename": "TypeError",
     "evalue": "add() takes 1 positional argument but 3 were given",
     "output_type": "error",
     "traceback": [
      "\u001b[1;31m---------------------------------------------------------------------------\u001b[0m",
      "\u001b[1;31mTypeError\u001b[0m                                 Traceback (most recent call last)",
      "Cell \u001b[1;32mIn[67], line 3\u001b[0m\n\u001b[0;32m      1\u001b[0m \u001b[38;5;28;01mdef\u001b[39;00m \u001b[38;5;21madd\u001b[39m(a,\u001b[38;5;241m/\u001b[39m,\u001b[38;5;241m*\u001b[39m,b,c):\n\u001b[0;32m      2\u001b[0m     \u001b[38;5;28mprint\u001b[39m(a\u001b[38;5;241m+\u001b[39mb\u001b[38;5;241m+\u001b[39mc)\n\u001b[1;32m----> 3\u001b[0m add(\u001b[38;5;241m10\u001b[39m,\u001b[38;5;241m20\u001b[39m,\u001b[38;5;241m30\u001b[39m)\n",
      "\u001b[1;31mTypeError\u001b[0m: add() takes 1 positional argument but 3 were given"
     ]
    }
   ],
   "source": [
    "def add(a,/,*,b,c):\n",
    "    print(a+b+c)\n",
    "add(10,20,30)"
   ]
  },
  {
   "cell_type": "code",
   "execution_count": 71,
   "id": "3e94d26f-0568-4022-9360-fcdde05a1c0b",
   "metadata": {},
   "outputs": [
    {
     "data": {
      "text/plain": [
       "['y', 't', 'p', 'o', 'n', 'h']"
      ]
     },
     "execution_count": 71,
     "metadata": {},
     "output_type": "execute_result"
    }
   ],
   "source": [
    "sorted('python',reverse=True)"
   ]
  },
  {
   "cell_type": "code",
   "execution_count": 73,
   "id": "4794ce2b-c7ce-4490-901d-062919542562",
   "metadata": {},
   "outputs": [
    {
     "ename": "TypeError",
     "evalue": "sorted expected 1 argument, got 0",
     "output_type": "error",
     "traceback": [
      "\u001b[1;31m---------------------------------------------------------------------------\u001b[0m",
      "\u001b[1;31mTypeError\u001b[0m                                 Traceback (most recent call last)",
      "Cell \u001b[1;32mIn[73], line 2\u001b[0m\n\u001b[0;32m      1\u001b[0m \u001b[38;5;28msorted\u001b[39m(\u001b[38;5;124m'\u001b[39m\u001b[38;5;124mpython\u001b[39m\u001b[38;5;124m'\u001b[39m)\n\u001b[1;32m----> 2\u001b[0m \u001b[38;5;28msorted\u001b[39m(iterable\u001b[38;5;241m=\u001b[39m\u001b[38;5;124m'\u001b[39m\u001b[38;5;124mpython\u001b[39m\u001b[38;5;124m'\u001b[39m)\n\u001b[0;32m      3\u001b[0m \u001b[38;5;28msorted\u001b[39m(\u001b[38;5;124m'\u001b[39m\u001b[38;5;124mpython\u001b[39m\u001b[38;5;124m'\u001b[39m,reverse\u001b[38;5;241m=\u001b[39m\u001b[38;5;28;01mTrue\u001b[39;00m)\n\u001b[0;32m      4\u001b[0m \u001b[38;5;28msorted\u001b[39m(iterable\u001b[38;5;241m=\u001b[39m\u001b[38;5;124m'\u001b[39m\u001b[38;5;124mpython\u001b[39m\u001b[38;5;124m'\u001b[39m,reverse\u001b[38;5;241m=\u001b[39m\u001b[38;5;28;01mTrue\u001b[39;00m)\n",
      "\u001b[1;31mTypeError\u001b[0m: sorted expected 1 argument, got 0"
     ]
    }
   ],
   "source": [
    "sorted('python')\n",
    "sorted(iterable='python')\n",
    "sorted('python',reverse=True)\n",
    "sorted(iterable='python',reverse=True)\n",
    "sorted('python',True)"
   ]
  },
  {
   "cell_type": "code",
   "execution_count": 77,
   "id": "3bf6f8bb-e387-4f7d-98ea-b3ebe1d23f91",
   "metadata": {},
   "outputs": [],
   "source": [
    "ans=reversed('Uday Kiran')"
   ]
  },
  {
   "cell_type": "markdown",
   "id": "8fd946ac-3e67-4319-9bee-50d4c2d407d4",
   "metadata": {},
   "source": [
    "- Answer saved at address memory location\n",
    "- We can see the answer by using for loop or list\n",
    "- Whenever we see less than greater than symbol answer\n",
    "- Try to apply for loop or list"
   ]
  },
  {
   "cell_type": "code",
   "execution_count": 83,
   "id": "6e35b7ec-cf16-47e8-b837-6a3568b832e4",
   "metadata": {},
   "outputs": [
    {
     "name": "stdout",
     "output_type": "stream",
     "text": [
      "n\n",
      "a\n",
      "r\n",
      "i\n",
      "K\n",
      " \n",
      "y\n",
      "a\n",
      "d\n",
      "U\n"
     ]
    }
   ],
   "source": [
    "for i in ans:\n",
    "    print(i)"
   ]
  },
  {
   "cell_type": "code",
   "execution_count": 92,
   "id": "ecb02b9c-e62a-4116-88a0-a929ded136a1",
   "metadata": {},
   "outputs": [
    {
     "ename": "TypeError",
     "evalue": "list indices must be integers or slices, not reversed",
     "output_type": "error",
     "traceback": [
      "\u001b[1;31m---------------------------------------------------------------------------\u001b[0m",
      "\u001b[1;31mTypeError\u001b[0m                                 Traceback (most recent call last)",
      "Cell \u001b[1;32mIn[92], line 2\u001b[0m\n\u001b[0;32m      1\u001b[0m ans\u001b[38;5;241m=\u001b[39m\u001b[38;5;28mreversed\u001b[39m(\u001b[38;5;124m'\u001b[39m\u001b[38;5;124mUday Kiran\u001b[39m\u001b[38;5;124m'\u001b[39m)\n\u001b[1;32m----> 2\u001b[0m \u001b[38;5;28mlist\u001b[39m[ans]\n",
      "\u001b[1;31mTypeError\u001b[0m: list indices must be integers or slices, not reversed"
     ]
    }
   ],
   "source": [
    "ans=reversed('Uday Kiran')\n",
    "list[ans]"
   ]
  },
  {
   "cell_type": "markdown",
   "id": "b27772a5-2d6b-4ed2-a55b-4747b8762aeb",
   "metadata": {},
   "source": [
    "**Concatenation**"
   ]
  },
  {
   "cell_type": "code",
   "execution_count": 107,
   "id": "7dec03b5-1d57-4518-8db9-0f2c6c226a7a",
   "metadata": {},
   "outputs": [
    {
     "data": {
      "text/plain": [
       "'Hello Python'"
      ]
     },
     "execution_count": 107,
     "metadata": {},
     "output_type": "execute_result"
    }
   ],
   "source": [
    "str1='Hello '\n",
    "str2='Python'\n",
    "str1+str2"
   ]
  },
  {
   "cell_type": "code",
   "execution_count": 97,
   "id": "0da1e081-807e-472a-8888-7a95a1095c8c",
   "metadata": {},
   "outputs": [
    {
     "ename": "TypeError",
     "evalue": "unsupported operand type(s) for -: 'str' and 'str'",
     "output_type": "error",
     "traceback": [
      "\u001b[1;31m---------------------------------------------------------------------------\u001b[0m",
      "\u001b[1;31mTypeError\u001b[0m                                 Traceback (most recent call last)",
      "Cell \u001b[1;32mIn[97], line 1\u001b[0m\n\u001b[1;32m----> 1\u001b[0m str1\u001b[38;5;241m-\u001b[39mstr2\n",
      "\u001b[1;31mTypeError\u001b[0m: unsupported operand type(s) for -: 'str' and 'str'"
     ]
    }
   ],
   "source": [
    "str1-str2"
   ]
  },
  {
   "cell_type": "code",
   "execution_count": 99,
   "id": "53f6fc61-6435-4cd5-b8b5-d58a40f23d45",
   "metadata": {},
   "outputs": [
    {
     "ename": "TypeError",
     "evalue": "can't multiply sequence by non-int of type 'str'",
     "output_type": "error",
     "traceback": [
      "\u001b[1;31m---------------------------------------------------------------------------\u001b[0m",
      "\u001b[1;31mTypeError\u001b[0m                                 Traceback (most recent call last)",
      "Cell \u001b[1;32mIn[99], line 1\u001b[0m\n\u001b[1;32m----> 1\u001b[0m str1\u001b[38;5;241m*\u001b[39mstr2\n",
      "\u001b[1;31mTypeError\u001b[0m: can't multiply sequence by non-int of type 'str'"
     ]
    }
   ],
   "source": [
    "str1*str2"
   ]
  },
  {
   "cell_type": "code",
   "execution_count": 101,
   "id": "12a0d383-c3c8-4537-a760-e0f8fd3b8848",
   "metadata": {},
   "outputs": [
    {
     "ename": "TypeError",
     "evalue": "unsupported operand type(s) for /: 'str' and 'str'",
     "output_type": "error",
     "traceback": [
      "\u001b[1;31m---------------------------------------------------------------------------\u001b[0m",
      "\u001b[1;31mTypeError\u001b[0m                                 Traceback (most recent call last)",
      "Cell \u001b[1;32mIn[101], line 1\u001b[0m\n\u001b[1;32m----> 1\u001b[0m str1\u001b[38;5;241m/\u001b[39mstr2\n",
      "\u001b[1;31mTypeError\u001b[0m: unsupported operand type(s) for /: 'str' and 'str'"
     ]
    }
   ],
   "source": [
    "str1/str2"
   ]
  },
  {
   "cell_type": "code",
   "execution_count": 105,
   "id": "83e9d199-107f-4d87-b8d4-3cf410d17d73",
   "metadata": {},
   "outputs": [
    {
     "data": {
      "text/plain": [
       "'Uday Uday Uday '"
      ]
     },
     "execution_count": 105,
     "metadata": {},
     "output_type": "execute_result"
    }
   ],
   "source": [
    "str3='Uday '\n",
    "str3*3"
   ]
  },
  {
   "cell_type": "code",
   "execution_count": 3,
   "id": "430db19b-d43e-4ceb-b721-e7cceaf10cff",
   "metadata": {},
   "outputs": [
    {
     "name": "stdout",
     "output_type": "stream",
     "text": [
      "H\n",
      "e\n",
      "l\n",
      "l\n",
      "o\n",
      " \n",
      "P\n",
      "y\n",
      "t\n",
      "h\n",
      "o\n",
      "n\n"
     ]
    }
   ],
   "source": [
    "str1='Hello Python'\n",
    "n=len(str1)\n",
    "for i in range(0,n):\n",
    "    print(str1[i])"
   ]
  },
  {
   "cell_type": "code",
   "execution_count": 41,
   "id": "91b37ef3-d130-4f19-8fc5-835ea74e321e",
   "metadata": {},
   "outputs": [
    {
     "ename": "TypeError",
     "evalue": "unsupported operand type(s) for -: 'str' and 'int'",
     "output_type": "error",
     "traceback": [
      "\u001b[1;31m---------------------------------------------------------------------------\u001b[0m",
      "\u001b[1;31mTypeError\u001b[0m                                 Traceback (most recent call last)",
      "Cell \u001b[1;32mIn[41], line 2\u001b[0m\n\u001b[0;32m      1\u001b[0m st1\u001b[38;5;241m=\u001b[39m\u001b[38;5;124m'\u001b[39m\u001b[38;5;124mpython\u001b[39m\u001b[38;5;124m'\u001b[39m\n\u001b[1;32m----> 2\u001b[0m \u001b[38;5;28;01mfor\u001b[39;00m i \u001b[38;5;129;01min\u001b[39;00m \u001b[38;5;28mrange\u001b[39m(i,i\u001b[38;5;241m-\u001b[39m\u001b[38;5;241m6\u001b[39m):\n\u001b[0;32m      3\u001b[0m     \u001b[38;5;28mprint\u001b[39m(\u001b[38;5;124mf\u001b[39m\u001b[38;5;124m\"\u001b[39m\u001b[38;5;124mThe positive index of \u001b[39m\u001b[38;5;132;01m{\u001b[39;00mst1[i]\u001b[38;5;132;01m}\u001b[39;00m\u001b[38;5;124m is \u001b[39m\u001b[38;5;132;01m{\u001b[39;00mi\u001b[38;5;132;01m}\u001b[39;00m\u001b[38;5;124m\"\u001b[39m)\n\u001b[0;32m      4\u001b[0m     \u001b[38;5;28mprint\u001b[39m(\u001b[38;5;124mf\u001b[39m\u001b[38;5;124m\"\u001b[39m\u001b[38;5;124mThe negative index of \u001b[39m\u001b[38;5;132;01m{\u001b[39;00mst1[i]\u001b[38;5;132;01m}\u001b[39;00m\u001b[38;5;124m is \u001b[39m\u001b[38;5;132;01m{\u001b[39;00mi\u001b[38;5;241m-\u001b[39m\u001b[38;5;241m6\u001b[39m\u001b[38;5;132;01m}\u001b[39;00m\u001b[38;5;124m\"\u001b[39m)\n",
      "\u001b[1;31mTypeError\u001b[0m: unsupported operand type(s) for -: 'str' and 'int'"
     ]
    }
   ],
   "source": [
    "st1='python'\n",
    "for i in range(i,i-6):\n",
    "    print(f\"The positive index of {st1[i]} is {i}\")\n",
    "    print(f\"The negative index of {st1[i]} is {i-6}\")\n",
    "    print(f\"The positive index of {st1[i]} is {i} and negative index of {st1[i]} is {i-6}\")"
   ]
  },
  {
   "cell_type": "markdown",
   "id": "4a0ab615-619f-4629-9f84-3107ebda3413",
   "metadata": {},
   "source": [
    "**When to use in operator and when to use range operator**\n",
    "- **in** operator directly access the elements\n",
    "- **range** operator access the elements using index or number\n",
    "- Any problem statement if you need numbers then go for range\n",
    "- Otherwise go for in operator directly"
   ]
  },
  {
   "cell_type": "code",
   "execution_count": 20,
   "id": "85829048-a9ce-4663-b456-387d9467d718",
   "metadata": {},
   "outputs": [
    {
     "name": "stdout",
     "output_type": "stream",
     "text": [
      "P\n",
      "y\n",
      "t\n",
      "h\n",
      "o\n",
      "n\n"
     ]
    }
   ],
   "source": [
    "st='Python'\n",
    "for i in st:\n",
    "    print(i)"
   ]
  },
  {
   "cell_type": "code",
   "execution_count": 24,
   "id": "ed40937c-3db4-4255-981e-8cc02ca7db89",
   "metadata": {},
   "outputs": [
    {
     "name": "stdout",
     "output_type": "stream",
     "text": [
      "P\n",
      "y\n",
      "t\n",
      "h\n",
      "o\n",
      "n\n"
     ]
    }
   ],
   "source": [
    "for i in range(0,6):\n",
    "    print(st[i])"
   ]
  },
  {
   "cell_type": "code",
   "execution_count": 43,
   "id": "4f57d67b-4eb6-49cd-9091-9dd6ea929d37",
   "metadata": {},
   "outputs": [
    {
     "name": "stdout",
     "output_type": "stream",
     "text": [
      "The indexes of 'a' in string is 2\n",
      "The indexes of 'a' in string is 6\n",
      "The indexes of 'a' in string is 10\n"
     ]
    }
   ],
   "source": [
    "str2='ola ola ola'\n",
    "for i in range(len(str2)):\n",
    "    if str2[i]=='a':\n",
    "        print(f\"The indexes of 'a' in string is {i}\")"
   ]
  },
  {
   "cell_type": "code",
   "execution_count": 45,
   "id": "2c79a304-77db-45c6-9e1e-2fab9c973632",
   "metadata": {},
   "outputs": [
    {
     "name": "stdout",
     "output_type": "stream",
     "text": [
      "The sum indexes of 'a' in string is 18\n"
     ]
    }
   ],
   "source": [
    "str2='ola ola ola'\n",
    "summ=0\n",
    "for i in range(len(str2)):\n",
    "    if str2[i]=='a':\n",
    "        summ=summ+i\n",
    "print(f\"The sum indexes of 'a' in string is {summ}\")"
   ]
  },
  {
   "cell_type": "code",
   "execution_count": 47,
   "id": "e9f0b836-9400-4757-a525-b63f69094b3c",
   "metadata": {},
   "outputs": [
    {
     "name": "stdout",
     "output_type": "stream",
     "text": [
      "The number of 'a' in string is 3\n"
     ]
    }
   ],
   "source": [
    "str2='ola ola ola'\n",
    "count=0\n",
    "for i in range(len(str2)):\n",
    "    if str2[i]=='a':\n",
    "        count=count+1\n",
    "print(f\"The number of 'a' in string is {count}\")"
   ]
  },
  {
   "cell_type": "code",
   "execution_count": 53,
   "id": "333de182-069d-487a-90d1-51c4411f299c",
   "metadata": {},
   "outputs": [
    {
     "name": "stdout",
     "output_type": "stream",
     "text": [
      "a\n",
      "i\n",
      "o\n",
      "a\n",
      "e\n",
      "o\n",
      "u\n",
      "The number of vowels in string is 7\n"
     ]
    }
   ],
   "source": [
    "str3='hai how are you'\n",
    "s1='aeiou'\n",
    "count=0\n",
    "for i in str3:\n",
    "    if i in s1:\n",
    "        print(i)\n",
    "        count=count+1\n",
    "print(f\"The number of vowels in string is {count}\")"
   ]
  },
  {
   "cell_type": "code",
   "execution_count": 59,
   "id": "9dadf134-1095-4470-92d3-9b6bc67d1596",
   "metadata": {},
   "outputs": [
    {
     "name": "stdout",
     "output_type": "stream",
     "text": [
      "a\n",
      "i\n",
      "o\n",
      "e\n",
      "u\n"
     ]
    }
   ],
   "source": [
    "s2=''\n",
    "for i in str3:\n",
    "    if i in 'aeiou' and i not in s2:\n",
    "        print(i)\n",
    "        s2=s2+i"
   ]
  },
  {
   "cell_type": "markdown",
   "id": "428cd2b7-d225-4953-9719-1cf9d90cf9ee",
   "metadata": {},
   "source": [
    "**Mutable-Immutable**\n",
    "- Mutable means change\n",
    "- Immutable means can not change\n",
    "- We can not change the elements using index operations"
   ]
  },
  {
   "cell_type": "code",
   "execution_count": 62,
   "id": "54e5564c-d65e-42e8-a254-930cd4dc19f5",
   "metadata": {},
   "outputs": [
    {
     "ename": "TypeError",
     "evalue": "'str' object does not support item assignment",
     "output_type": "error",
     "traceback": [
      "\u001b[1;31m---------------------------------------------------------------------------\u001b[0m",
      "\u001b[1;31mTypeError\u001b[0m                                 Traceback (most recent call last)",
      "Cell \u001b[1;32mIn[62], line 2\u001b[0m\n\u001b[0;32m      1\u001b[0m str1\u001b[38;5;241m=\u001b[39m\u001b[38;5;124m'\u001b[39m\u001b[38;5;124mHello\u001b[39m\u001b[38;5;124m'\u001b[39m\n\u001b[1;32m----> 2\u001b[0m str1[\u001b[38;5;241m2\u001b[39m]\u001b[38;5;241m=\u001b[39m\u001b[38;5;124m'\u001b[39m\u001b[38;5;124mL\u001b[39m\u001b[38;5;124m'\u001b[39m\n",
      "\u001b[1;31mTypeError\u001b[0m: 'str' object does not support item assignment"
     ]
    }
   ],
   "source": [
    "str1='Hello'\n",
    "str1[2]='L'"
   ]
  },
  {
   "cell_type": "code",
   "execution_count": 64,
   "id": "79cfe315-9395-48ff-8ee8-6b2d2715c663",
   "metadata": {},
   "outputs": [
    {
     "data": {
      "text/plain": [
       "20"
      ]
     },
     "execution_count": 64,
     "metadata": {},
     "output_type": "execute_result"
    }
   ],
   "source": [
    "li=[10,20,30]\n",
    "li[1]"
   ]
  },
  {
   "cell_type": "code",
   "execution_count": 66,
   "id": "316b1e6d-e263-4b1a-86c4-ebcca66aa631",
   "metadata": {},
   "outputs": [
    {
     "data": {
      "text/plain": [
       "[10, 50, 30]"
      ]
     },
     "execution_count": 66,
     "metadata": {},
     "output_type": "execute_result"
    }
   ],
   "source": [
    "li[1]=50\n",
    "li"
   ]
  },
  {
   "cell_type": "markdown",
   "id": "ea4a5c1d-c0e3-4b0d-b8ff-90fdb281f792",
   "metadata": {},
   "source": [
    "**Slicing and Methods**\n",
    "\n",
    "**slice**\n",
    "- Slice means cut in to pieces\n",
    "- It has similar analogy with for loop range\n",
    "- In the for loop range we have start,stop,step\n",
    "- range(start,stop,step), str[start:stop:step]"
   ]
  },
  {
   "cell_type": "code",
   "execution_count": 18,
   "id": "bf0c3f71-b3fd-4471-acd4-dff1900f2a53",
   "metadata": {},
   "outputs": [],
   "source": [
    "# -17  -16  -15  -14  13  -12  -11  -10  -9  -8  -7  -6  -5  -4  -3  -2  -1\n",
    "#  h    e    l    l   o         h    o    w       a   r   e       y   o   u\n",
    "#  0    1    2    3   4    5    6    7    8   9   10  11  12  13  14  15  16\n",
    "\n",
    "st='hello how are you'"
   ]
  },
  {
   "cell_type": "markdown",
   "id": "18cbd30d-f9fd-4a69-8d84-5dd8e531a0f5",
   "metadata": {},
   "source": [
    "Case-1: str[stop]\n",
    "- By default start=0\n",
    "- By default step=positive direction 1\n",
    "- Last=stop-1"
   ]
  },
  {
   "cell_type": "code",
   "execution_count": 20,
   "id": "ea5c4321-8a7b-4424-9f91-9592364eab62",
   "metadata": {},
   "outputs": [
    {
     "data": {
      "text/plain": [
       "'hell'"
      ]
     },
     "execution_count": 20,
     "metadata": {},
     "output_type": "execute_result"
    }
   ],
   "source": [
    "st[:4]"
   ]
  },
  {
   "cell_type": "markdown",
   "id": "e90b3935-76a7-42bd-ab63-8bf8e6ba53f2",
   "metadata": {},
   "source": [
    "Case-2:\n",
    "- By default start=start value\n",
    "- By default step=positive direction 1\n",
    "- Last=last index"
   ]
  },
  {
   "cell_type": "code",
   "execution_count": 11,
   "id": "4ef7ade8-9369-4669-ac8b-68983a0de972",
   "metadata": {},
   "outputs": [
    {
     "data": {
      "text/plain": [
       "'you'"
      ]
     },
     "execution_count": 11,
     "metadata": {},
     "output_type": "execute_result"
    }
   ],
   "source": [
    "str[-3:]"
   ]
  },
  {
   "cell_type": "markdown",
   "id": "e4061a5d-fcdf-481d-b7b1-d3de0b2e552f",
   "metadata": {},
   "source": [
    "Case-3: str[:stop]\n",
    "- By default start=0\n",
    "- By default step=positive direction 1\n",
    "- Last=stop-1"
   ]
  },
  {
   "cell_type": "code",
   "execution_count": 16,
   "id": "91d8e44d-bf65-4eee-afdf-ed5a4303c089",
   "metadata": {},
   "outputs": [
    {
     "data": {
      "text/plain": [
       "'llo how '"
      ]
     },
     "execution_count": 16,
     "metadata": {},
     "output_type": "execute_result"
    }
   ],
   "source": [
    "str1=\"Hello how are you\"\n",
    "str1[-15:10]"
   ]
  },
  {
   "cell_type": "markdown",
   "id": "a6305503-716a-4a2d-b171-8da96cb36d81",
   "metadata": {},
   "source": [
    "Case-4: str[:stop]\n",
    "- By default start=0\n",
    "- By default step=positive direction\n",
    "  - last="
   ]
  },
  {
   "cell_type": "markdown",
   "id": "8bbcc7d1-55d7-447f-ab28-f38af84fd8c6",
   "metadata": {},
   "source": [
    "### Methods"
   ]
  },
  {
   "cell_type": "code",
   "execution_count": 25,
   "id": "78d4051b-0645-4802-b615-a9f905817e58",
   "metadata": {},
   "outputs": [
    {
     "data": {
      "text/plain": [
       "['__add__',\n",
       " '__class__',\n",
       " '__contains__',\n",
       " '__delattr__',\n",
       " '__dir__',\n",
       " '__doc__',\n",
       " '__eq__',\n",
       " '__format__',\n",
       " '__ge__',\n",
       " '__getattribute__',\n",
       " '__getitem__',\n",
       " '__getnewargs__',\n",
       " '__getstate__',\n",
       " '__gt__',\n",
       " '__hash__',\n",
       " '__init__',\n",
       " '__init_subclass__',\n",
       " '__iter__',\n",
       " '__le__',\n",
       " '__len__',\n",
       " '__lt__',\n",
       " '__mod__',\n",
       " '__mul__',\n",
       " '__ne__',\n",
       " '__new__',\n",
       " '__reduce__',\n",
       " '__reduce_ex__',\n",
       " '__repr__',\n",
       " '__rmod__',\n",
       " '__rmul__',\n",
       " '__setattr__',\n",
       " '__sizeof__',\n",
       " '__str__',\n",
       " '__subclasshook__',\n",
       " 'capitalize',\n",
       " 'casefold',\n",
       " 'center',\n",
       " 'count',\n",
       " 'encode',\n",
       " 'endswith',\n",
       " 'expandtabs',\n",
       " 'find',\n",
       " 'format',\n",
       " 'format_map',\n",
       " 'index',\n",
       " 'isalnum',\n",
       " 'isalpha',\n",
       " 'isascii',\n",
       " 'isdecimal',\n",
       " 'isdigit',\n",
       " 'isidentifier',\n",
       " 'islower',\n",
       " 'isnumeric',\n",
       " 'isprintable',\n",
       " 'isspace',\n",
       " 'istitle',\n",
       " 'isupper',\n",
       " 'join',\n",
       " 'ljust',\n",
       " 'lower',\n",
       " 'lstrip',\n",
       " 'maketrans',\n",
       " 'partition',\n",
       " 'removeprefix',\n",
       " 'removesuffix',\n",
       " 'replace',\n",
       " 'rfind',\n",
       " 'rindex',\n",
       " 'rjust',\n",
       " 'rpartition',\n",
       " 'rsplit',\n",
       " 'rstrip',\n",
       " 'split',\n",
       " 'splitlines',\n",
       " 'startswith',\n",
       " 'strip',\n",
       " 'swapcase',\n",
       " 'title',\n",
       " 'translate',\n",
       " 'upper',\n",
       " 'zfill']"
      ]
     },
     "execution_count": 25,
     "metadata": {},
     "output_type": "execute_result"
    }
   ],
   "source": [
    "name='python'\n",
    "dir(name)"
   ]
  },
  {
   "cell_type": "markdown",
   "id": "ead18969-970e-49e5-86be-924fa842e2df",
   "metadata": {},
   "source": [
    "**upper**"
   ]
  },
  {
   "cell_type": "code",
   "execution_count": 28,
   "id": "b489dec6-c6c9-4323-a6b1-5f67f0ddf1c0",
   "metadata": {},
   "outputs": [
    {
     "data": {
      "text/plain": [
       "'WELCOME'"
      ]
     },
     "execution_count": 28,
     "metadata": {},
     "output_type": "execute_result"
    }
   ],
   "source": [
    "str1='welcome'\n",
    "str1.upper()"
   ]
  },
  {
   "cell_type": "code",
   "execution_count": 30,
   "id": "0b1db7b0-617e-48b4-9ca9-b6fe1de2fcad",
   "metadata": {},
   "outputs": [
    {
     "data": {
      "text/plain": [
       "'world'"
      ]
     },
     "execution_count": 30,
     "metadata": {},
     "output_type": "execute_result"
    }
   ],
   "source": [
    "str2='WORLD'\n",
    "str2.lower()"
   ]
  },
  {
   "cell_type": "code",
   "execution_count": 40,
   "id": "57118e26-66a5-4141-8029-1a9e5145b051",
   "metadata": {},
   "outputs": [
    {
     "data": {
      "text/plain": [
       "'Data Scientist'"
      ]
     },
     "execution_count": 40,
     "metadata": {},
     "output_type": "execute_result"
    }
   ],
   "source": [
    "str3='data scientist'\n",
    "str3.title()"
   ]
  },
  {
   "cell_type": "code",
   "execution_count": 34,
   "id": "f25a3023-bf61-4b60-b8fd-15705d16d1e5",
   "metadata": {},
   "outputs": [
    {
     "data": {
      "text/plain": [
       "'Uday kiran sangepu'"
      ]
     },
     "execution_count": 34,
     "metadata": {},
     "output_type": "execute_result"
    }
   ],
   "source": [
    "str4='uday kiran sangepu'\n",
    "str4.capitalize()"
   ]
  },
  {
   "cell_type": "code",
   "execution_count": 38,
   "id": "265d1b98-8b9b-43ba-beea-e784639037d4",
   "metadata": {},
   "outputs": [
    {
     "data": {
      "text/plain": [
       "'naresh i technologies'"
      ]
     },
     "execution_count": 38,
     "metadata": {},
     "output_type": "execute_result"
    }
   ],
   "source": [
    "str5='NARESH I TECHNOLOGIES'\n",
    "str5.casefold()"
   ]
  },
  {
   "cell_type": "markdown",
   "id": "68fdae8b-2401-4002-90bd-f88eefeda30b",
   "metadata": {},
   "source": [
    "**Difference between methods and inbuilt functions**\n",
    "\n",
    "In-Built Functions:\n",
    "- len()\n",
    "- max()\n",
    "- min()\n",
    "- type()\n",
    "- print()\n",
    "- sum()\n",
    "\n",
    "Methods\n",
    "- upper()\n",
    "- lower()\n",
    "- title()\n",
    "- capitalize()\n",
    "- casefold()"
   ]
  },
  {
   "cell_type": "markdown",
   "id": "34b04cdf-4e13-4714-8dbb-4491efa0f91c",
   "metadata": {},
   "source": [
    "**center**"
   ]
  },
  {
   "cell_type": "code",
   "execution_count": 44,
   "id": "ed5cb739-9119-4f43-b285-b2afd515c8fa",
   "metadata": {},
   "outputs": [
    {
     "data": {
      "text/plain": [
       "'       python       '"
      ]
     },
     "execution_count": 44,
     "metadata": {},
     "output_type": "execute_result"
    }
   ],
   "source": [
    "st1='python'\n",
    "st1.center(20)"
   ]
  },
  {
   "cell_type": "code",
   "execution_count": 48,
   "id": "8f23b3dd-52b8-4b95-b96c-7e9ce905cc0c",
   "metadata": {},
   "outputs": [
    {
     "data": {
      "text/plain": [
       "'***python***'"
      ]
     },
     "execution_count": 48,
     "metadata": {},
     "output_type": "execute_result"
    }
   ],
   "source": [
    "st1='python'\n",
    "st1.center(12,'*')\n",
    "\n",
    "# here 12 means the len of string becomes 12 characters\n",
    "# already 'python' string has 6 characters\n",
    "# so remaining 6 characters padd as *"
   ]
  },
  {
   "cell_type": "markdown",
   "id": "3d11bc3f-0cdd-4ab5-b24a-4a6f6bacb05b",
   "metadata": {},
   "source": [
    "**strip-lstrip-rstrip**\n",
    "- strip means removes the characters from both left and right side\n",
    "- lstrip will remove the characters on left side\n",
    "- rstrip will remove the characters on right side"
   ]
  },
  {
   "cell_type": "code",
   "execution_count": 51,
   "id": "5d842b96-19ad-41cb-9a18-724851019f3b",
   "metadata": {},
   "outputs": [
    {
     "data": {
      "text/plain": [
       "'python'"
      ]
     },
     "execution_count": 51,
     "metadata": {},
     "output_type": "execute_result"
    }
   ],
   "source": [
    "st2='  python  '\n",
    "st3='***python****'\n",
    "st4='    python****'\n",
    "st2.strip()"
   ]
  },
  {
   "cell_type": "code",
   "execution_count": 53,
   "id": "b6417322-dac3-4453-a6e5-a343c3164234",
   "metadata": {},
   "outputs": [
    {
     "data": {
      "text/plain": [
       "'python  '"
      ]
     },
     "execution_count": 53,
     "metadata": {},
     "output_type": "execute_result"
    }
   ],
   "source": [
    "st2.lstrip()"
   ]
  },
  {
   "cell_type": "code",
   "execution_count": 55,
   "id": "3f84a538-5cf1-453e-8ecd-246e794cacea",
   "metadata": {},
   "outputs": [
    {
     "data": {
      "text/plain": [
       "'  python'"
      ]
     },
     "execution_count": 55,
     "metadata": {},
     "output_type": "execute_result"
    }
   ],
   "source": [
    "st2.rstrip()"
   ]
  },
  {
   "cell_type": "code",
   "execution_count": 71,
   "id": "39d526ef-d929-4485-b0ee-80ac05cea67d",
   "metadata": {},
   "outputs": [
    {
     "data": {
      "text/plain": [
       "'python'"
      ]
     },
     "execution_count": 71,
     "metadata": {},
     "output_type": "execute_result"
    }
   ],
   "source": [
    "st3.strip('*')"
   ]
  },
  {
   "cell_type": "code",
   "execution_count": 73,
   "id": "d7d80a9e-a92f-48b2-99c1-a7eaaff7c5dc",
   "metadata": {},
   "outputs": [
    {
     "data": {
      "text/plain": [
       "'python****'"
      ]
     },
     "execution_count": 73,
     "metadata": {},
     "output_type": "execute_result"
    }
   ],
   "source": [
    "st3.lstrip('*')"
   ]
  },
  {
   "cell_type": "code",
   "execution_count": 75,
   "id": "a21319ac-1b05-40bd-8e5a-b33e463548fb",
   "metadata": {},
   "outputs": [
    {
     "data": {
      "text/plain": [
       "'***python'"
      ]
     },
     "execution_count": 75,
     "metadata": {},
     "output_type": "execute_result"
    }
   ],
   "source": [
    "st3.rstrip('*')"
   ]
  },
  {
   "cell_type": "code",
   "execution_count": 77,
   "id": "c8c0003c-fbf6-4f19-8d7b-2dde48a175e2",
   "metadata": {},
   "outputs": [
    {
     "data": {
      "text/plain": [
       "'python'"
      ]
     },
     "execution_count": 77,
     "metadata": {},
     "output_type": "execute_result"
    }
   ],
   "source": [
    "st4.strip().strip('*')"
   ]
  },
  {
   "cell_type": "code",
   "execution_count": 79,
   "id": "6d9d6d84-a39f-4e55-a372-1a47ee1a9926",
   "metadata": {},
   "outputs": [
    {
     "data": {
      "text/plain": [
       "'python'"
      ]
     },
     "execution_count": 79,
     "metadata": {},
     "output_type": "execute_result"
    }
   ],
   "source": [
    "st4.lstrip().rstrip('*')"
   ]
  },
  {
   "cell_type": "code",
   "execution_count": 83,
   "id": "2aa6e09c-488e-4086-b063-672e425a8e58",
   "metadata": {},
   "outputs": [
    {
     "data": {
      "text/plain": [
       "'python'"
      ]
     },
     "execution_count": 83,
     "metadata": {},
     "output_type": "execute_result"
    }
   ],
   "source": [
    "st4.rstrip('*').lstrip()"
   ]
  },
  {
   "cell_type": "code",
   "execution_count": 87,
   "id": "084146ca-e7f0-4639-b975-b66ec83eb1dd",
   "metadata": {},
   "outputs": [
    {
     "data": {
      "text/plain": [
       "False"
      ]
     },
     "execution_count": 87,
     "metadata": {},
     "output_type": "execute_result"
    }
   ],
   "source": [
    "st1.startswith('P')"
   ]
  },
  {
   "cell_type": "code",
   "execution_count": 89,
   "id": "0c6b14dd-3c05-452a-941d-c45c2ab10646",
   "metadata": {},
   "outputs": [
    {
     "data": {
      "text/plain": [
       "True"
      ]
     },
     "execution_count": 89,
     "metadata": {},
     "output_type": "execute_result"
    }
   ],
   "source": [
    "st1.endswith('n')"
   ]
  },
  {
   "cell_type": "markdown",
   "id": "370a0dfb-b83f-4e15-b341-858e17e61164",
   "metadata": {},
   "source": [
    "**count**"
   ]
  },
  {
   "cell_type": "code",
   "execution_count": 4,
   "id": "77467684-4908-4be0-8408-f70d4a3ff502",
   "metadata": {},
   "outputs": [
    {
     "name": "stdout",
     "output_type": "stream",
     "text": [
      "3\n"
     ]
    }
   ],
   "source": [
    "str1='ola ola ola'\n",
    "count=0\n",
    "for i in str1:\n",
    "    if i=='a':\n",
    "        count=count+1\n",
    "print(count)"
   ]
  },
  {
   "cell_type": "markdown",
   "id": "2cbce5a8-ab1d-49d0-b497-4df1a2b61b0d",
   "metadata": {},
   "source": [
    "$Case-1:$"
   ]
  },
  {
   "cell_type": "code",
   "execution_count": 6,
   "id": "46c601c7-6c76-4451-bbb2-10d7406684c3",
   "metadata": {},
   "outputs": [
    {
     "data": {
      "text/plain": [
       "3"
      ]
     },
     "execution_count": 6,
     "metadata": {},
     "output_type": "execute_result"
    }
   ],
   "source": [
    "str1.count('a')"
   ]
  },
  {
   "cell_type": "code",
   "execution_count": 8,
   "id": "d75402ff-3754-4910-aaf0-ce0e759e8b14",
   "metadata": {},
   "outputs": [
    {
     "data": {
      "text/plain": [
       "3"
      ]
     },
     "execution_count": 8,
     "metadata": {},
     "output_type": "execute_result"
    }
   ],
   "source": [
    "str1.count('ola')"
   ]
  },
  {
   "cell_type": "code",
   "execution_count": 10,
   "id": "f0a05d86-3282-4e64-8685-bef7814ded2a",
   "metadata": {},
   "outputs": [
    {
     "data": {
      "text/plain": [
       "2"
      ]
     },
     "execution_count": 10,
     "metadata": {},
     "output_type": "execute_result"
    }
   ],
   "source": [
    "str1.count('ola ')"
   ]
  },
  {
   "cell_type": "markdown",
   "id": "9dbf2874-669c-40ee-b097-8d45603315b8",
   "metadata": {},
   "source": [
    "$Case-2:$"
   ]
  },
  {
   "cell_type": "code",
   "execution_count": 14,
   "id": "5d9cc595-0b70-498f-a3d8-81522ae990cb",
   "metadata": {},
   "outputs": [
    {
     "data": {
      "text/plain": [
       "2"
      ]
     },
     "execution_count": 14,
     "metadata": {},
     "output_type": "execute_result"
    }
   ],
   "source": [
    "# o  l  a     o  l  a     o  l  a\n",
    "# 0  1  2  3  4  5  6  7  8  9  10\n",
    "\n",
    "str1.count('a',4)"
   ]
  },
  {
   "cell_type": "code",
   "execution_count": 16,
   "id": "12aadba6-ca76-4bb0-9c5e-76bdcd28b3b7",
   "metadata": {},
   "outputs": [
    {
     "data": {
      "text/plain": [
       "1"
      ]
     },
     "execution_count": 16,
     "metadata": {},
     "output_type": "execute_result"
    }
   ],
   "source": [
    "str1.count('a',7)"
   ]
  },
  {
   "cell_type": "code",
   "execution_count": 18,
   "id": "5f65948b-9035-4ae2-9fc2-15f7d1b55809",
   "metadata": {},
   "outputs": [
    {
     "data": {
      "text/plain": [
       "1"
      ]
     },
     "execution_count": 18,
     "metadata": {},
     "output_type": "execute_result"
    }
   ],
   "source": [
    "str1.count('a',4,7)"
   ]
  },
  {
   "cell_type": "code",
   "execution_count": 20,
   "id": "ef1e2071-81de-4f97-9171-2af62db6de1e",
   "metadata": {},
   "outputs": [
    {
     "data": {
      "text/plain": [
       "1"
      ]
     },
     "execution_count": 20,
     "metadata": {},
     "output_type": "execute_result"
    }
   ],
   "source": [
    "str1.count('a',-4)"
   ]
  },
  {
   "cell_type": "code",
   "execution_count": 26,
   "id": "d468f7c7-3bec-49e4-b088-49a7830b4092",
   "metadata": {},
   "outputs": [
    {
     "data": {
      "text/plain": [
       "1"
      ]
     },
     "execution_count": 26,
     "metadata": {},
     "output_type": "execute_result"
    }
   ],
   "source": [
    "str1.count('a',-7,-2)"
   ]
  },
  {
   "cell_type": "code",
   "execution_count": 42,
   "id": "64e0d931-b8f1-4514-bfde-48237a5862c0",
   "metadata": {},
   "outputs": [
    {
     "name": "stdout",
     "output_type": "stream",
     "text": [
      "3\n"
     ]
    }
   ],
   "source": [
    "count=0\n",
    "for i in range(len(str1)):\n",
    "    if str1[i:i+3]=='ola':\n",
    "        count+=1\n",
    "print(count)"
   ]
  },
  {
   "cell_type": "markdown",
   "id": "4e762be5-f48e-45cd-aca8-34e7fa0eb77e",
   "metadata": {},
   "source": [
    "**Sliding Window Approach**\n",
    "- Fix the slice value first: **str1[i:i+3]**\n",
    "- Then increase the slice value by 1: **for i in range(len(str1))**\n",
    "- Whenever it is equal to substring: **str1[i:i+3]=='ola'**\n",
    "- Then update the count: **count+=1**"
   ]
  },
  {
   "cell_type": "markdown",
   "id": "af0df8e7-8b32-4e60-8cf9-55a9eea6cb8a",
   "metadata": {},
   "source": [
    "**replace**"
   ]
  },
  {
   "cell_type": "code",
   "execution_count": 46,
   "id": "4e12cbc9-678e-43d1-8a32-5a7976fdc174",
   "metadata": {},
   "outputs": [
    {
     "data": {
      "text/plain": [
       "'Welcome'"
      ]
     },
     "execution_count": 46,
     "metadata": {},
     "output_type": "execute_result"
    }
   ],
   "source": [
    "str2='welcome'\n",
    "str2.replace('w','W')"
   ]
  },
  {
   "cell_type": "code",
   "execution_count": 50,
   "id": "668d47c0-1fe4-487d-ab4d-e9c6dc32f58a",
   "metadata": {},
   "outputs": [
    {
     "data": {
      "text/plain": [
       "'welcome'"
      ]
     },
     "execution_count": 50,
     "metadata": {},
     "output_type": "execute_result"
    }
   ],
   "source": [
    "str2.replace('z','Z')"
   ]
  },
  {
   "cell_type": "markdown",
   "id": "07bfac2f-3cb2-400c-9bea-9968159deacc",
   "metadata": {},
   "source": [
    "- By default it will replace all the occurences\n",
    "- The user can provide count which indicates how many letters can replace\n",
    "- If the substring not found it will return thee original string itself"
   ]
  },
  {
   "cell_type": "code",
   "execution_count": 73,
   "id": "8684ef83-dd42-4e87-9673-ae0e876867b4",
   "metadata": {},
   "outputs": [
    {
     "name": "stdout",
     "output_type": "stream",
     "text": [
      "resta$t\n"
     ]
    }
   ],
   "source": [
    "st1='restart'\n",
    "s1=st1[0:5]\n",
    "s2=st1[5:]\n",
    "s3=s2.replace('r','$')\n",
    "print(s1+s3)"
   ]
  },
  {
   "cell_type": "code",
   "execution_count": 79,
   "id": "41a5ebcc-1686-49ee-8a59-2df24c0ff970",
   "metadata": {},
   "outputs": [
    {
     "data": {
      "text/plain": [
       "'resta$t'"
      ]
     },
     "execution_count": 79,
     "metadata": {},
     "output_type": "execute_result"
    }
   ],
   "source": [
    "st1[::-1].replace('r','$',1)[::-1]"
   ]
  },
  {
   "cell_type": "markdown",
   "id": "eef30379-b62a-422f-a914-230e2f6a903a",
   "metadata": {},
   "source": [
    "**index**"
   ]
  },
  {
   "cell_type": "code",
   "execution_count": 84,
   "id": "e5ae9d16-c2dd-42b2-9324-3eaaedef97e7",
   "metadata": {},
   "outputs": [
    {
     "data": {
      "text/plain": [
       "3"
      ]
     },
     "execution_count": 84,
     "metadata": {},
     "output_type": "execute_result"
    }
   ],
   "source": [
    "st2='restart restart'\n",
    "st2.index('t')\n",
    "# by default first string index will come"
   ]
  },
  {
   "cell_type": "code",
   "execution_count": 94,
   "id": "96b5c533-1c20-4c2c-89cb-bced4477c3c5",
   "metadata": {},
   "outputs": [
    {
     "data": {
      "text/plain": [
       "13"
      ]
     },
     "execution_count": 94,
     "metadata": {},
     "output_type": "execute_result"
    }
   ],
   "source": [
    "st2.index('r')\n",
    "st2.index('r',1)\n",
    "st2.index('r',6)\n",
    "st2.index('r',9)"
   ]
  },
  {
   "cell_type": "code",
   "execution_count": 96,
   "id": "2954f411-1078-4c24-9c60-ce1a3e7cf728",
   "metadata": {},
   "outputs": [
    {
     "name": "stdout",
     "output_type": "stream",
     "text": [
      "0 5 8 13\n"
     ]
    }
   ],
   "source": [
    "i1=st2.index('r')\n",
    "i2=st2.index('r',i1+1)\n",
    "i3=st2.index('r',i2+1)\n",
    "i4=st2.index('r',i3+1)\n",
    "print(i1,i2,i3,i4)"
   ]
  },
  {
   "cell_type": "markdown",
   "id": "64c9826e-91a6-41d5-ab16-e8eaf0a6d55b",
   "metadata": {},
   "source": [
    "**find**"
   ]
  },
  {
   "cell_type": "code",
   "execution_count": 99,
   "id": "a1b7f739-3718-4734-82b2-56f9e16b87bd",
   "metadata": {},
   "outputs": [
    {
     "data": {
      "text/plain": [
       "1"
      ]
     },
     "execution_count": 99,
     "metadata": {},
     "output_type": "execute_result"
    }
   ],
   "source": [
    "st2.find('e')"
   ]
  },
  {
   "cell_type": "code",
   "execution_count": 9,
   "id": "1e778a50-583c-4ebf-9d08-8b151a29b942",
   "metadata": {},
   "outputs": [
    {
     "name": "stdout",
     "output_type": "stream",
     "text": [
      "virat\n",
      "kohli\n",
      "rcb\n",
      "rohit\n",
      "sharma\n",
      "mi\n",
      "ms\n",
      "dhoni\n",
      "csk\n"
     ]
    }
   ],
   "source": [
    "str1='virat.kohli@rcb.com'\n",
    "str2='rohit.sharma@mi.com'\n",
    "str3='ms.dhoni@csk.com'\n",
    "str4='a.b@c.com'\n",
    "s11=str1.index('.')\n",
    "s12=str1.index('@')\n",
    "s13=str1.index('.',s11+1)\n",
    "s21=str2.index('.')\n",
    "s22=str2.index('@')\n",
    "s23=str2.index('.',s21+1)\n",
    "s31=str3.index('.')\n",
    "s32=str3.index('@')\n",
    "s33=str3.index('.',s31+1)\n",
    "fn1=str1[:s11]\n",
    "print(fn1)\n",
    "ln1=str1[s11+1:s12]\n",
    "print(ln1)\n",
    "c1=str1[s12+1:s13]\n",
    "print(c1)\n",
    "fn2=str2[:s21]\n",
    "print(fn2)\n",
    "ln2=str2[s21+1:s22]\n",
    "print(ln2)\n",
    "c2=str2[s22+1:s23]\n",
    "print(c2)\n",
    "fn3=str3[:s31]\n",
    "print(fn3)\n",
    "ln3=str3[s31+1:s32]\n",
    "print(ln3)\n",
    "c3=str3[s32+1:s33]\n",
    "print(c3)"
   ]
  },
  {
   "cell_type": "code",
   "execution_count": 11,
   "id": "2ca5c110-e8a8-4edf-a4f6-4c8f76527bd5",
   "metadata": {},
   "outputs": [
    {
     "name": "stdout",
     "output_type": "stream",
     "text": [
      "5 11 15\n",
      "virat kohli rcb\n"
     ]
    }
   ],
   "source": [
    "def extract(str1):\n",
    "    s11=str1.index('.')\n",
    "    s12=str1.index('@')\n",
    "    s13=str1.index('.',s11+1)\n",
    "    print(s11,s12,s13)\n",
    "    fn=str1[:s11]\n",
    "    ln=str1[s11+1:s12]\n",
    "    cn=str1[s12+1:s13]\n",
    "    print(fn,ln,cn)\n",
    "extract(str1)"
   ]
  },
  {
   "cell_type": "code",
   "execution_count": 13,
   "id": "aa104158-804b-4462-b7f0-64564ae996f3",
   "metadata": {},
   "outputs": [
    {
     "name": "stdout",
     "output_type": "stream",
     "text": [
      "5 12 15\n",
      "rohit sharma mi\n"
     ]
    }
   ],
   "source": [
    "extract(str2)"
   ]
  },
  {
   "cell_type": "code",
   "execution_count": 15,
   "id": "72de9985-199d-474b-aca4-0d2c6afd4190",
   "metadata": {},
   "outputs": [
    {
     "name": "stdout",
     "output_type": "stream",
     "text": [
      "2 8 12\n",
      "ms dhoni csk\n"
     ]
    }
   ],
   "source": [
    "extract(str3)"
   ]
  },
  {
   "cell_type": "markdown",
   "id": "571b1a4d-3913-454c-a431-2e9cc70aa0c6",
   "metadata": {},
   "source": [
    "**split**\n",
    "- Split is used to convert a string to list of elements\n",
    "- By default it will split based on space"
   ]
  },
  {
   "cell_type": "code",
   "execution_count": 28,
   "id": "d51f8c97-fa7b-47de-84a6-21f99eeaad15",
   "metadata": {},
   "outputs": [
    {
     "data": {
      "text/plain": [
       "['Hai', 'how', 'are', 'you']"
      ]
     },
     "execution_count": 28,
     "metadata": {},
     "output_type": "execute_result"
    }
   ],
   "source": [
    "str1='Hai how are you'\n",
    "l=str1.split()\n",
    "l"
   ]
  },
  {
   "cell_type": "code",
   "execution_count": 34,
   "id": "a8539958-df4c-4749-9704-8db354f7c3d7",
   "metadata": {},
   "outputs": [
    {
     "data": {
      "text/plain": [
       "['Hello', ' how are you']"
      ]
     },
     "execution_count": 34,
     "metadata": {},
     "output_type": "execute_result"
    }
   ],
   "source": [
    "str2='Hello, how are you'\n",
    "s=str2.split(',')\n",
    "s"
   ]
  },
  {
   "cell_type": "code",
   "execution_count": 23,
   "id": "d681b341-c78f-4924-880e-2d2e1d243e3d",
   "metadata": {},
   "outputs": [
    {
     "data": {
      "text/plain": [
       "['Hai h', 'w are y', 'u']"
      ]
     },
     "execution_count": 23,
     "metadata": {},
     "output_type": "execute_result"
    }
   ],
   "source": [
    "str1.split('o')"
   ]
  },
  {
   "cell_type": "markdown",
   "id": "67eedeb9-1e9a-4b02-aec6-9e5753c4ef68",
   "metadata": {},
   "source": [
    "**join**"
   ]
  },
  {
   "cell_type": "code",
   "execution_count": 30,
   "id": "b662ffd6-c3b0-427f-9346-e83159a8ed19",
   "metadata": {},
   "outputs": [
    {
     "data": {
      "text/plain": [
       "'Hai how are you'"
      ]
     },
     "execution_count": 30,
     "metadata": {},
     "output_type": "execute_result"
    }
   ],
   "source": [
    "' '.join(l)"
   ]
  },
  {
   "cell_type": "code",
   "execution_count": 36,
   "id": "5086a35b-6150-44fe-acaf-512337362068",
   "metadata": {},
   "outputs": [
    {
     "data": {
      "text/plain": [
       "'Hello, how are you'"
      ]
     },
     "execution_count": 36,
     "metadata": {},
     "output_type": "execute_result"
    }
   ],
   "source": [
    "','.join(s)"
   ]
  },
  {
   "cell_type": "code",
   "execution_count": 3,
   "id": "ee11fad9-f356-4cda-ac89-199b3aeb8176",
   "metadata": {},
   "outputs": [
    {
     "name": "stdout",
     "output_type": "stream",
     "text": [
      "123456\n"
     ]
    }
   ],
   "source": [
    "str1='The telephone number is 123456'\n",
    "num=''\n",
    "for i in str1:\n",
    "    if i.isdigit():\n",
    "        num=num+i\n",
    "print(num)"
   ]
  },
  {
   "cell_type": "code",
   "execution_count": null,
   "id": "fcefa1fe-9834-45b0-9592-8d47281c01e5",
   "metadata": {},
   "outputs": [],
   "source": []
  }
 ],
 "metadata": {
  "kernelspec": {
   "display_name": "Python [conda env:base] *",
   "language": "python",
   "name": "conda-base-py"
  },
  "language_info": {
   "codemirror_mode": {
    "name": "ipython",
    "version": 3
   },
   "file_extension": ".py",
   "mimetype": "text/x-python",
   "name": "python",
   "nbconvert_exporter": "python",
   "pygments_lexer": "ipython3",
   "version": "3.12.7"
  }
 },
 "nbformat": 4,
 "nbformat_minor": 5
}
