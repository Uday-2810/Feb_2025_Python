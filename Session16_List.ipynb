{
 "cells": [
  {
   "cell_type": "markdown",
   "id": "cd4f65ae-0456-4225-9682-229a3cd6d3eb",
   "metadata": {},
   "source": [
    "**Basic Representation**\n",
    "- String elements is in quotes.\n",
    "- List is in square brackets"
   ]
  },
  {
   "cell_type": "code",
   "execution_count": 3,
   "id": "060a1469-b72f-4ab6-aea1-c47d4be46d52",
   "metadata": {},
   "outputs": [
    {
     "data": {
      "text/plain": [
       "[1, 2, 3, 4]"
      ]
     },
     "execution_count": 3,
     "metadata": {},
     "output_type": "execute_result"
    }
   ],
   "source": [
    "list1=[1,2,3,4]\n",
    "list1"
   ]
  },
  {
   "cell_type": "code",
   "execution_count": 5,
   "id": "0a9cceb5-03c8-4ced-9a82-4db406b2faa9",
   "metadata": {},
   "outputs": [
    {
     "data": {
      "text/plain": [
       "list"
      ]
     },
     "execution_count": 5,
     "metadata": {},
     "output_type": "execute_result"
    }
   ],
   "source": [
    "type(list1)"
   ]
  },
  {
   "cell_type": "code",
   "execution_count": 7,
   "id": "f474a04b-e4eb-4451-a180-b0569132d475",
   "metadata": {},
   "outputs": [
    {
     "data": {
      "text/plain": [
       "['A', 'B', 'C']"
      ]
     },
     "execution_count": 7,
     "metadata": {},
     "output_type": "execute_result"
    }
   ],
   "source": [
    "list2=['A','B','C']\n",
    "list2"
   ]
  },
  {
   "cell_type": "code",
   "execution_count": 9,
   "id": "300a43a4-35a2-46b3-91b5-c8649b19e009",
   "metadata": {},
   "outputs": [
    {
     "data": {
      "text/plain": [
       "[1, 2, 3, 'A', 'B', 'C']"
      ]
     },
     "execution_count": 9,
     "metadata": {},
     "output_type": "execute_result"
    }
   ],
   "source": [
    "list3=[1,2,3,'A','B','C']\n",
    "list3"
   ]
  },
  {
   "cell_type": "code",
   "execution_count": 11,
   "id": "15fda743-9ce8-4495-bc87-54a472e8a762",
   "metadata": {},
   "outputs": [
    {
     "data": {
      "text/plain": [
       "[1.1, 2.2, 3.3]"
      ]
     },
     "execution_count": 11,
     "metadata": {},
     "output_type": "execute_result"
    }
   ],
   "source": [
    "list4=[1.1,2.2,3.3]\n",
    "list4"
   ]
  },
  {
   "cell_type": "code",
   "execution_count": 15,
   "id": "3d268402-71e2-4d7d-aee0-7866603b92c7",
   "metadata": {},
   "outputs": [
    {
     "data": {
      "text/plain": [
       "[True, False]"
      ]
     },
     "execution_count": 15,
     "metadata": {},
     "output_type": "execute_result"
    }
   ],
   "source": [
    "list5=[True,False]\n",
    "list5"
   ]
  },
  {
   "cell_type": "code",
   "execution_count": 17,
   "id": "8080ccf2-2121-4467-b638-8cfa6fb7969e",
   "metadata": {},
   "outputs": [
    {
     "data": {
      "text/plain": [
       "[10j, (20+30j)]"
      ]
     },
     "execution_count": 17,
     "metadata": {},
     "output_type": "execute_result"
    }
   ],
   "source": [
    "list6=[10j,20+30j]\n",
    "list6"
   ]
  },
  {
   "cell_type": "code",
   "execution_count": 19,
   "id": "9df45e81-f2f3-455d-a1ba-adb0ff1e32a2",
   "metadata": {},
   "outputs": [
    {
     "data": {
      "text/plain": [
       "[10, 10, 10]"
      ]
     },
     "execution_count": 19,
     "metadata": {},
     "output_type": "execute_result"
    }
   ],
   "source": [
    "list7=[10,10,10]\n",
    "list7"
   ]
  },
  {
   "cell_type": "code",
   "execution_count": 21,
   "id": "506c51de-22cb-467c-af2c-1bac5a46eb0b",
   "metadata": {},
   "outputs": [
    {
     "data": {
      "text/plain": [
       "[10, 20, 30, ['Apple', 'Banana']]"
      ]
     },
     "execution_count": 21,
     "metadata": {},
     "output_type": "execute_result"
    }
   ],
   "source": [
    "list8=[10,20,30,['Apple','Banana']]\n",
    "list8"
   ]
  },
  {
   "cell_type": "code",
   "execution_count": 23,
   "id": "a93db0d0-1918-448b-97f3-6a062e6d5f50",
   "metadata": {},
   "outputs": [
    {
     "data": {
      "text/plain": [
       "['{\"dataframes\": [], \"user\": \"ADMIN\"}']"
      ]
     },
     "execution_count": 23,
     "metadata": {},
     "output_type": "execute_result"
    }
   ],
   "source": [
    "list9=[_]\n",
    "list9"
   ]
  },
  {
   "cell_type": "code",
   "execution_count": 25,
   "id": "84d73704-5f12-44fb-b532-2bf5a93b850d",
   "metadata": {},
   "outputs": [
    {
     "data": {
      "text/plain": [
       "5"
      ]
     },
     "execution_count": 25,
     "metadata": {},
     "output_type": "execute_result"
    }
   ],
   "source": [
    "list1=[10,20,2,5,75]\n",
    "list2=['Apple','apple','Cherry','banana']\n",
    "list3=[10,20,2,5,75,'Apple','apple','Cherry','banana']\n",
    "len(list1)"
   ]
  },
  {
   "cell_type": "code",
   "execution_count": 27,
   "id": "e1175bef-af73-46a8-af4c-47d366a615c3",
   "metadata": {},
   "outputs": [
    {
     "data": {
      "text/plain": [
       "4"
      ]
     },
     "execution_count": 27,
     "metadata": {},
     "output_type": "execute_result"
    }
   ],
   "source": [
    "len(list2)"
   ]
  },
  {
   "cell_type": "code",
   "execution_count": 29,
   "id": "760e3706-1822-44db-ae7f-a521e7545769",
   "metadata": {},
   "outputs": [
    {
     "data": {
      "text/plain": [
       "9"
      ]
     },
     "execution_count": 29,
     "metadata": {},
     "output_type": "execute_result"
    }
   ],
   "source": [
    "len(list3)"
   ]
  },
  {
   "cell_type": "code",
   "execution_count": 31,
   "id": "97b22961-13e3-42f2-b2d1-3f81174b2056",
   "metadata": {},
   "outputs": [
    {
     "data": {
      "text/plain": [
       "2"
      ]
     },
     "execution_count": 31,
     "metadata": {},
     "output_type": "execute_result"
    }
   ],
   "source": [
    "min(list1)"
   ]
  },
  {
   "cell_type": "code",
   "execution_count": 33,
   "id": "3852b631-69b3-4864-94d0-4c1b8557ba3d",
   "metadata": {},
   "outputs": [
    {
     "data": {
      "text/plain": [
       "'Apple'"
      ]
     },
     "execution_count": 33,
     "metadata": {},
     "output_type": "execute_result"
    }
   ],
   "source": [
    "min(list2)"
   ]
  },
  {
   "cell_type": "code",
   "execution_count": 35,
   "id": "6eefe90b-50d5-4728-b9a4-c896704babac",
   "metadata": {},
   "outputs": [
    {
     "ename": "TypeError",
     "evalue": "'<' not supported between instances of 'str' and 'int'",
     "output_type": "error",
     "traceback": [
      "\u001b[1;31m---------------------------------------------------------------------------\u001b[0m",
      "\u001b[1;31mTypeError\u001b[0m                                 Traceback (most recent call last)",
      "Cell \u001b[1;32mIn[35], line 1\u001b[0m\n\u001b[1;32m----> 1\u001b[0m \u001b[38;5;28mmin\u001b[39m(list3)\n",
      "\u001b[1;31mTypeError\u001b[0m: '<' not supported between instances of 'str' and 'int'"
     ]
    }
   ],
   "source": [
    "min(list3)"
   ]
  },
  {
   "cell_type": "code",
   "execution_count": 37,
   "id": "487ad43b-7351-421f-88a5-4a32cfc24080",
   "metadata": {},
   "outputs": [
    {
     "data": {
      "text/plain": [
       "75"
      ]
     },
     "execution_count": 37,
     "metadata": {},
     "output_type": "execute_result"
    }
   ],
   "source": [
    "max(list1)"
   ]
  },
  {
   "cell_type": "code",
   "execution_count": 39,
   "id": "a84a965b-4543-4470-af4f-61d1cdb57e36",
   "metadata": {},
   "outputs": [
    {
     "data": {
      "text/plain": [
       "'banana'"
      ]
     },
     "execution_count": 39,
     "metadata": {},
     "output_type": "execute_result"
    }
   ],
   "source": [
    "max(list2)"
   ]
  },
  {
   "cell_type": "code",
   "execution_count": 41,
   "id": "e56afdb4-d171-4511-a9f0-82af2fb63e60",
   "metadata": {},
   "outputs": [
    {
     "ename": "TypeError",
     "evalue": "'>' not supported between instances of 'str' and 'int'",
     "output_type": "error",
     "traceback": [
      "\u001b[1;31m---------------------------------------------------------------------------\u001b[0m",
      "\u001b[1;31mTypeError\u001b[0m                                 Traceback (most recent call last)",
      "Cell \u001b[1;32mIn[41], line 1\u001b[0m\n\u001b[1;32m----> 1\u001b[0m \u001b[38;5;28mmax\u001b[39m(list3)\n",
      "\u001b[1;31mTypeError\u001b[0m: '>' not supported between instances of 'str' and 'int'"
     ]
    }
   ],
   "source": [
    "max(list3)"
   ]
  },
  {
   "cell_type": "code",
   "execution_count": 43,
   "id": "15e55cb5-b8f2-4904-b19c-89d661bcfb93",
   "metadata": {},
   "outputs": [
    {
     "data": {
      "text/plain": [
       "112"
      ]
     },
     "execution_count": 43,
     "metadata": {},
     "output_type": "execute_result"
    }
   ],
   "source": [
    "sum(list1)"
   ]
  },
  {
   "cell_type": "code",
   "execution_count": 45,
   "id": "2acf1e56-8865-4be1-b698-b8673a4d4c11",
   "metadata": {},
   "outputs": [
    {
     "ename": "TypeError",
     "evalue": "unsupported operand type(s) for +: 'int' and 'str'",
     "output_type": "error",
     "traceback": [
      "\u001b[1;31m---------------------------------------------------------------------------\u001b[0m",
      "\u001b[1;31mTypeError\u001b[0m                                 Traceback (most recent call last)",
      "Cell \u001b[1;32mIn[45], line 1\u001b[0m\n\u001b[1;32m----> 1\u001b[0m \u001b[38;5;28msum\u001b[39m(list2)\n",
      "\u001b[1;31mTypeError\u001b[0m: unsupported operand type(s) for +: 'int' and 'str'"
     ]
    }
   ],
   "source": [
    "sum(list2)"
   ]
  },
  {
   "cell_type": "code",
   "execution_count": 47,
   "id": "d4a0546f-226c-4463-b62e-e673ed3dd60b",
   "metadata": {},
   "outputs": [
    {
     "ename": "TypeError",
     "evalue": "unsupported operand type(s) for +: 'int' and 'str'",
     "output_type": "error",
     "traceback": [
      "\u001b[1;31m---------------------------------------------------------------------------\u001b[0m",
      "\u001b[1;31mTypeError\u001b[0m                                 Traceback (most recent call last)",
      "Cell \u001b[1;32mIn[47], line 1\u001b[0m\n\u001b[1;32m----> 1\u001b[0m \u001b[38;5;28msum\u001b[39m(list3)\n",
      "\u001b[1;31mTypeError\u001b[0m: unsupported operand type(s) for +: 'int' and 'str'"
     ]
    }
   ],
   "source": [
    "sum(list3)"
   ]
  },
  {
   "cell_type": "code",
   "execution_count": 49,
   "id": "46fc8583-4c9f-4381-9e26-ea218520dca8",
   "metadata": {},
   "outputs": [
    {
     "data": {
      "text/plain": [
       "[2, 5, 10, 20, 75]"
      ]
     },
     "execution_count": 49,
     "metadata": {},
     "output_type": "execute_result"
    }
   ],
   "source": [
    "sorted(list1)"
   ]
  },
  {
   "cell_type": "code",
   "execution_count": 51,
   "id": "51f534e0-1d36-4178-9457-b96388081b5e",
   "metadata": {},
   "outputs": [
    {
     "data": {
      "text/plain": [
       "['Apple', 'Cherry', 'apple', 'banana']"
      ]
     },
     "execution_count": 51,
     "metadata": {},
     "output_type": "execute_result"
    }
   ],
   "source": [
    "sorted(list2)"
   ]
  },
  {
   "cell_type": "code",
   "execution_count": 53,
   "id": "0ee441bb-d70a-4cc6-8d70-489df8199681",
   "metadata": {},
   "outputs": [
    {
     "ename": "TypeError",
     "evalue": "'<' not supported between instances of 'str' and 'int'",
     "output_type": "error",
     "traceback": [
      "\u001b[1;31m---------------------------------------------------------------------------\u001b[0m",
      "\u001b[1;31mTypeError\u001b[0m                                 Traceback (most recent call last)",
      "Cell \u001b[1;32mIn[53], line 1\u001b[0m\n\u001b[1;32m----> 1\u001b[0m \u001b[38;5;28msorted\u001b[39m(list3)\n",
      "\u001b[1;31mTypeError\u001b[0m: '<' not supported between instances of 'str' and 'int'"
     ]
    }
   ],
   "source": [
    "sorted(list3)"
   ]
  },
  {
   "cell_type": "code",
   "execution_count": 63,
   "id": "521745e5-6343-4b09-8397-bc77265adaed",
   "metadata": {},
   "outputs": [
    {
     "name": "stdout",
     "output_type": "stream",
     "text": [
      "75 5 2 20 10 "
     ]
    }
   ],
   "source": [
    "r1=reversed(list1)\n",
    "for i in r1:\n",
    "    print(i,end=' ')"
   ]
  },
  {
   "cell_type": "code",
   "execution_count": 65,
   "id": "dcce9d2a-0348-43e5-bf36-c76fed9e71aa",
   "metadata": {},
   "outputs": [
    {
     "name": "stdout",
     "output_type": "stream",
     "text": [
      "banana Cherry apple Apple "
     ]
    }
   ],
   "source": [
    "r2=reversed(list2)\n",
    "for i in r2:\n",
    "    print(i,end=' ')"
   ]
  },
  {
   "cell_type": "code",
   "execution_count": 67,
   "id": "47c0319d-8be6-4758-a447-698fa064f071",
   "metadata": {},
   "outputs": [
    {
     "name": "stdout",
     "output_type": "stream",
     "text": [
      "banana Cherry apple Apple 75 5 2 20 10 "
     ]
    }
   ],
   "source": [
    "r3=reversed(list3)\n",
    "for i in r3:\n",
    "    print(i,end=' ')"
   ]
  },
  {
   "cell_type": "markdown",
   "id": "956d2c6a-0aff-4b8b-bbc4-ec79152f39e7",
   "metadata": {},
   "source": [
    "**concatenation**"
   ]
  },
  {
   "cell_type": "code",
   "execution_count": 70,
   "id": "8fd93961-be69-4417-8bff-d87885ed7693",
   "metadata": {},
   "outputs": [
    {
     "data": {
      "text/plain": [
       "[1, 2, 3, 4, 'A', 'B', 'C', 'D']"
      ]
     },
     "execution_count": 70,
     "metadata": {},
     "output_type": "execute_result"
    }
   ],
   "source": [
    "list1=[1,2,3,4]\n",
    "list2=['A','B','C','D']\n",
    "list1+list2"
   ]
  },
  {
   "cell_type": "code",
   "execution_count": 72,
   "id": "118858cb-a0ed-467d-8d46-86c3923eaa2a",
   "metadata": {},
   "outputs": [
    {
     "ename": "TypeError",
     "evalue": "unsupported operand type(s) for -: 'list' and 'list'",
     "output_type": "error",
     "traceback": [
      "\u001b[1;31m---------------------------------------------------------------------------\u001b[0m",
      "\u001b[1;31mTypeError\u001b[0m                                 Traceback (most recent call last)",
      "Cell \u001b[1;32mIn[72], line 1\u001b[0m\n\u001b[1;32m----> 1\u001b[0m list1\u001b[38;5;241m-\u001b[39mlist2\n",
      "\u001b[1;31mTypeError\u001b[0m: unsupported operand type(s) for -: 'list' and 'list'"
     ]
    }
   ],
   "source": [
    "list1-list2"
   ]
  },
  {
   "cell_type": "code",
   "execution_count": 74,
   "id": "1cc4d10f-6075-4f08-b303-4c9f0474815f",
   "metadata": {},
   "outputs": [
    {
     "ename": "TypeError",
     "evalue": "can't multiply sequence by non-int of type 'list'",
     "output_type": "error",
     "traceback": [
      "\u001b[1;31m---------------------------------------------------------------------------\u001b[0m",
      "\u001b[1;31mTypeError\u001b[0m                                 Traceback (most recent call last)",
      "Cell \u001b[1;32mIn[74], line 1\u001b[0m\n\u001b[1;32m----> 1\u001b[0m list1\u001b[38;5;241m*\u001b[39mlist2\n",
      "\u001b[1;31mTypeError\u001b[0m: can't multiply sequence by non-int of type 'list'"
     ]
    }
   ],
   "source": [
    "list1*list2"
   ]
  },
  {
   "cell_type": "code",
   "execution_count": 76,
   "id": "73d8a9dd-15b0-48be-a5de-45efa575ff65",
   "metadata": {},
   "outputs": [
    {
     "ename": "TypeError",
     "evalue": "unsupported operand type(s) for /: 'list' and 'list'",
     "output_type": "error",
     "traceback": [
      "\u001b[1;31m---------------------------------------------------------------------------\u001b[0m",
      "\u001b[1;31mTypeError\u001b[0m                                 Traceback (most recent call last)",
      "Cell \u001b[1;32mIn[76], line 1\u001b[0m\n\u001b[1;32m----> 1\u001b[0m list1\u001b[38;5;241m/\u001b[39mlist2\n",
      "\u001b[1;31mTypeError\u001b[0m: unsupported operand type(s) for /: 'list' and 'list'"
     ]
    }
   ],
   "source": [
    "list1/list2"
   ]
  },
  {
   "cell_type": "code",
   "execution_count": 78,
   "id": "45c115f8-d355-4e9e-b67e-a9d558fc6260",
   "metadata": {},
   "outputs": [
    {
     "data": {
      "text/plain": [
       "[1, 2, 3, 4, 1, 2, 3, 4]"
      ]
     },
     "execution_count": 78,
     "metadata": {},
     "output_type": "execute_result"
    }
   ],
   "source": [
    "list1*2"
   ]
  },
  {
   "cell_type": "code",
   "execution_count": 80,
   "id": "ffce42e7-42a0-4c64-8cde-640a90fecb55",
   "metadata": {},
   "outputs": [
    {
     "data": {
      "text/plain": [
       "['A', 'B', 'C', 'D', 'A', 'B', 'C', 'D']"
      ]
     },
     "execution_count": 80,
     "metadata": {},
     "output_type": "execute_result"
    }
   ],
   "source": [
    "list2*2"
   ]
  },
  {
   "cell_type": "markdown",
   "id": "05414e85-0f29-4f65-a9ed-747ec210a18a",
   "metadata": {},
   "source": [
    "**index**"
   ]
  },
  {
   "cell_type": "code",
   "execution_count": 85,
   "id": "24a851cd-1db1-40bb-9fd8-98165c4408f8",
   "metadata": {},
   "outputs": [
    {
     "data": {
      "text/plain": [
       "10"
      ]
     },
     "execution_count": 85,
     "metadata": {},
     "output_type": "execute_result"
    }
   ],
   "source": [
    "list1=[10,20,30,'A','B','C']\n",
    "list1[0]"
   ]
  },
  {
   "cell_type": "code",
   "execution_count": 93,
   "id": "c2e239c9-70be-4d2f-811a-9fed917091aa",
   "metadata": {},
   "outputs": [
    {
     "name": "stdout",
     "output_type": "stream",
     "text": [
      "Positive index of 10 is 0\n"
     ]
    }
   ],
   "source": [
    "for i in range(len(list1)):\n",
    "    if list1[i]==10:\n",
    "        print(f\"Positive index of 10 is {i}\")"
   ]
  },
  {
   "cell_type": "code",
   "execution_count": 99,
   "id": "95c972ad-09df-4161-98d2-b2cf5efcdb84",
   "metadata": {},
   "outputs": [
    {
     "name": "stdout",
     "output_type": "stream",
     "text": [
      "Negative index of 10 is -6\n"
     ]
    }
   ],
   "source": [
    "for i in range(len(list1)):\n",
    "    if list1[i]==10:\n",
    "        print(f\"Negative index of 10 is {i-6}\")"
   ]
  },
  {
   "cell_type": "code",
   "execution_count": 101,
   "id": "c2c69087-5894-44bf-849b-924df07fe8e2",
   "metadata": {},
   "outputs": [
    {
     "name": "stdout",
     "output_type": "stream",
     "text": [
      "Positive index of 10 is 0 and Negative index of 10 is -6\n"
     ]
    }
   ],
   "source": [
    "for i in range(len(list1)):\n",
    "    if list1[i]==10:\n",
    "        print(f\"Positive index of 10 is {i} and Negative index of 10 is {i-6}\")"
   ]
  },
  {
   "cell_type": "code",
   "execution_count": 107,
   "id": "e4b07c06-c93c-4a36-98dd-8c035ef42943",
   "metadata": {},
   "outputs": [
    {
     "data": {
      "text/plain": [
       "20"
      ]
     },
     "execution_count": 107,
     "metadata": {},
     "output_type": "execute_result"
    }
   ],
   "source": [
    "list1=[10,20]\n",
    "list1[1]"
   ]
  },
  {
   "cell_type": "code",
   "execution_count": 109,
   "id": "ec3ba1ce-758b-4cca-93fe-3fb35570da79",
   "metadata": {},
   "outputs": [
    {
     "data": {
      "text/plain": [
       "10"
      ]
     },
     "execution_count": 109,
     "metadata": {},
     "output_type": "execute_result"
    }
   ],
   "source": [
    "list2=[[10]]\n",
    "list2[0][0]"
   ]
  },
  {
   "cell_type": "code",
   "execution_count": 111,
   "id": "b75ba4e5-af9b-467f-ab99-1c4375e8b9fe",
   "metadata": {},
   "outputs": [
    {
     "data": {
      "text/plain": [
       "2"
      ]
     },
     "execution_count": 111,
     "metadata": {},
     "output_type": "execute_result"
    }
   ],
   "source": [
    "len(list1)"
   ]
  },
  {
   "cell_type": "code",
   "execution_count": 113,
   "id": "2233fc48-d2cd-4680-8a6c-12120920ac0f",
   "metadata": {},
   "outputs": [
    {
     "data": {
      "text/plain": [
       "(1, 2)"
      ]
     },
     "execution_count": 113,
     "metadata": {},
     "output_type": "execute_result"
    }
   ],
   "source": [
    "list1=[[10,20]]\n",
    "list2=[10,20]\n",
    "len(list1),len(list2)"
   ]
  },
  {
   "cell_type": "code",
   "execution_count": 117,
   "id": "e2c7be21-47d5-40a4-9cdd-76ab74f310f4",
   "metadata": {},
   "outputs": [
    {
     "data": {
      "text/plain": [
       "20"
      ]
     },
     "execution_count": 117,
     "metadata": {},
     "output_type": "execute_result"
    }
   ],
   "source": [
    "list1=[10,[20]]\n",
    "list1[1][0]"
   ]
  },
  {
   "cell_type": "code",
   "execution_count": 121,
   "id": "71afae66-d60c-4fc3-8f97-78e0ff111425",
   "metadata": {},
   "outputs": [
    {
     "data": {
      "text/plain": [
       "'Cherry'"
      ]
     },
     "execution_count": 121,
     "metadata": {},
     "output_type": "execute_result"
    }
   ],
   "source": [
    "list1=[10,20,30,'A',['Banana','Cherry']]\n",
    "list1[4][1]"
   ]
  },
  {
   "cell_type": "code",
   "execution_count": 125,
   "id": "cefe458c-9d4e-47f6-ad00-573a619868c3",
   "metadata": {},
   "outputs": [
    {
     "data": {
      "text/plain": [
       "'Cherry'"
      ]
     },
     "execution_count": 125,
     "metadata": {},
     "output_type": "execute_result"
    }
   ],
   "source": [
    "list1=['A',['Apple','B',['Banana'],'C',['Cherry']]]\n",
    "list1[1][4][0]"
   ]
  },
  {
   "cell_type": "code",
   "execution_count": 129,
   "id": "d2edaf1e-8545-444b-8be7-66d04b6cf1bb",
   "metadata": {},
   "outputs": [
    {
     "data": {
      "text/plain": [
       "'Dragon Fruit'"
      ]
     },
     "execution_count": 129,
     "metadata": {},
     "output_type": "execute_result"
    }
   ],
   "source": [
    "list1=['A',['Apple','B',['Banana','C',['Cherry','D',['Dragon Fruit']]]]]\n",
    "list1[1][2][2][2][0]"
   ]
  },
  {
   "cell_type": "code",
   "execution_count": 133,
   "id": "8c22dfbd-d0c6-4672-ab8d-8f914df08066",
   "metadata": {},
   "outputs": [
    {
     "data": {
      "text/plain": [
       "'Bat'"
      ]
     },
     "execution_count": 133,
     "metadata": {},
     "output_type": "execute_result"
    }
   ],
   "source": [
    "list1=['Apple',['Kashmir',['India',['Cricket',['Bat']]]]]\n",
    "list1[1][1][1][1][0]"
   ]
  },
  {
   "cell_type": "code",
   "execution_count": 135,
   "id": "7b0096fd-4e1a-4301-9a95-771612d3ccb4",
   "metadata": {},
   "outputs": [
    {
     "data": {
      "text/plain": [
       "'Vicky'"
      ]
     },
     "execution_count": 135,
     "metadata": {},
     "output_type": "execute_result"
    }
   ],
   "source": [
    "list1=['Orange',['Nagpur',['MH',['Shivaji',['Shambaji',['Vicky']]]]]]\n",
    "list1[1][1][1][1][1][0]"
   ]
  },
  {
   "cell_type": "code",
   "execution_count": 139,
   "id": "9cb33812-7ff6-4606-b936-4eb8a1d4e229",
   "metadata": {},
   "outputs": [
    {
     "data": {
      "text/plain": [
       "'Apple'"
      ]
     },
     "execution_count": 139,
     "metadata": {},
     "output_type": "execute_result"
    }
   ],
   "source": [
    "list1=[[[[[[[[['Apple']]]]]]]]]\n",
    "list1[0][0][0][0][0][0][0][0][0]"
   ]
  },
  {
   "cell_type": "code",
   "execution_count": 195,
   "id": "f9a8cd18-6705-4c7a-a94f-a400e0952fe7",
   "metadata": {},
   "outputs": [
    {
     "name": "stdout",
     "output_type": "stream",
     "text": [
      "The sorted list is [2, 5, 10, 20, 75]\n"
     ]
    }
   ],
   "source": [
    "list1=[10,20,2,5,75]\n",
    "# sort the list with out sorted funcion\n",
    "for i in range(0,len(list1)):\n",
    "    for j in range(i+1,len(list1)):\n",
    "        if list1[i]>=list1[j]:\n",
    "            list1[i],list1[j]=list1[j],list1[i]\n",
    "print(f\"The sorted list is {list1}\")"
   ]
  },
  {
   "cell_type": "code",
   "execution_count": 197,
   "id": "383d6548-a0b0-4a89-b065-5a90064e4ae6",
   "metadata": {},
   "outputs": [
    {
     "name": "stdout",
     "output_type": "stream",
     "text": [
      "The maximum value is 75\n"
     ]
    }
   ],
   "source": [
    "list1=[10,20,2,5,75]\n",
    "# find the max value with out max function\n",
    "maxi=list1[0]\n",
    "for i in range(1,len(list1)):\n",
    "    if list1[i]>maxi:\n",
    "        maxi=list1[i]        \n",
    "print(f\"The maximum value is {maxi}\")"
   ]
  },
  {
   "cell_type": "code",
   "execution_count": 199,
   "id": "6d159965-7937-457f-960a-1ce2316a8666",
   "metadata": {},
   "outputs": [
    {
     "name": "stdout",
     "output_type": "stream",
     "text": [
      "The minimum value is 2\n"
     ]
    }
   ],
   "source": [
    "list1=[10,20,2,5,75]\n",
    "# find the min value with out min function\n",
    "mini=list1[0]\n",
    "for i in range(1,len(list1)):\n",
    "    if list1[i]<mini:\n",
    "        mini=list1[i]        \n",
    "print(f\"The minimum value is {mini}\")"
   ]
  },
  {
   "cell_type": "code",
   "execution_count": 201,
   "id": "1c336567-9791-4e36-aea6-cfe19e2f471f",
   "metadata": {},
   "outputs": [
    {
     "name": "stdout",
     "output_type": "stream",
     "text": [
      "The reverse list is [75, 5, 2, 20, 10]\n"
     ]
    }
   ],
   "source": [
    "list1=[10,20,2,5,75]\n",
    "# reverse the elements without reversed function\n",
    "list2=list1[::-1]\n",
    "print(f\"The reverse list is {list2}\")"
   ]
  },
  {
   "cell_type": "code",
   "execution_count": 203,
   "id": "727c30c1-2105-4230-a117-7f3ace0de14c",
   "metadata": {},
   "outputs": [
    {
     "name": "stdout",
     "output_type": "stream",
     "text": [
      "The sum of list elements is 112\n"
     ]
    }
   ],
   "source": [
    "list1=[10,20,2,5,75]\n",
    "# sum the elements without sum function\n",
    "summ=0\n",
    "for i in range(len(list1)):\n",
    "    summ=summ+list1[i]\n",
    "print(f\"The sum of list elements is {summ}\")"
   ]
  },
  {
   "cell_type": "code",
   "execution_count": 205,
   "id": "e8582649-e1d0-442c-a0ab-388b2bffbba6",
   "metadata": {},
   "outputs": [
    {
     "name": "stdout",
     "output_type": "stream",
     "text": [
      "The second maximum value is 20\n"
     ]
    }
   ],
   "source": [
    "list1=[10,20,2,5,75]\n",
    "# find the second max\n",
    "first_max=list1[0]\n",
    "second_max=list1[0]\n",
    "for i in range(len(list1)):\n",
    "    if list1[i]>first_max:\n",
    "        first_max,second_max=list1[i],first_max\n",
    "    elif first_max>list1[i]>second_max:\n",
    "        second_max=list1[i]\n",
    "print(f\"The second maximum value is {second_max}\")"
   ]
  },
  {
   "cell_type": "code",
   "execution_count": 1,
   "id": "d23092b8-17c5-486c-9ebf-e17b18db15fd",
   "metadata": {},
   "outputs": [
    {
     "name": "stdout",
     "output_type": "stream",
     "text": [
      "The second minimum value is 5\n"
     ]
    }
   ],
   "source": [
    "list1=[10,20,2,5,75]\n",
    "# find the second min\n",
    "first_min=list1[0]\n",
    "second_min=list1[0]\n",
    "for i in range(len(list1)):\n",
    "    if list1[i]<first_min:\n",
    "        first_min,second_min=list1[i],first_min\n",
    "    elif first_min<list1[i]<second_min:\n",
    "        second_min=list1[i]\n",
    "print(f\"The second minimum value is {second_min}\")"
   ]
  },
  {
   "cell_type": "code",
   "execution_count": 3,
   "id": "5b4b2494-e987-4303-aa43-abe47c330dc0",
   "metadata": {},
   "outputs": [],
   "source": [
    "str1='Python'\n",
    "list1=['P','y','t','h','o','n']"
   ]
  },
  {
   "cell_type": "markdown",
   "id": "abb7a387-ed16-406e-a200-a45327c1aec1",
   "metadata": {},
   "source": [
    "**range vs in-operator**\n",
    "- When we have use with index then go far range\n",
    "- When we have use with only element go for in"
   ]
  },
  {
   "cell_type": "code",
   "execution_count": 6,
   "id": "e00cbf08-8872-4159-8137-94e506bf5462",
   "metadata": {},
   "outputs": [
    {
     "data": {
      "text/plain": [
       "[20, 200, 300, 400]"
      ]
     },
     "execution_count": 6,
     "metadata": {},
     "output_type": "execute_result"
    }
   ],
   "source": [
    "list1=[100,200,300,400]\n",
    "list1[0]=20\n",
    "list1"
   ]
  },
  {
   "cell_type": "markdown",
   "id": "c8f300be-bbdc-410a-9f3a-d3b9081d7eb3",
   "metadata": {},
   "source": [
    "**list is mutable**\n",
    "\n",
    "**slice**"
   ]
  },
  {
   "cell_type": "code",
   "execution_count": 11,
   "id": "b7631f5b-802c-48c4-9711-a057fc035e2f",
   "metadata": {},
   "outputs": [
    {
     "data": {
      "text/plain": [
       "[30, 50, 'B', 'D']"
      ]
     },
     "execution_count": 11,
     "metadata": {},
     "output_type": "execute_result"
    }
   ],
   "source": [
    "l1=[10,20,30,40,50,'A','B','C','D','E','apple','banana']\n",
    "l1[2:10:2]"
   ]
  },
  {
   "cell_type": "markdown",
   "id": "074d7ba7-71a8-4596-829d-0d9b1368732b",
   "metadata": {},
   "source": [
    "**Methods**"
   ]
  },
  {
   "cell_type": "markdown",
   "id": "8956dbb6-a4c6-4dd6-a0bf-c7e95120d5e5",
   "metadata": {},
   "source": [
    "- if we wants to know the strings method\n",
    "dir([])"
   ]
  },
  {
   "cell_type": "code",
   "execution_count": 15,
   "id": "c61f7c52-adae-4a5e-9578-fbdcd262a225",
   "metadata": {},
   "outputs": [
    {
     "data": {
      "text/plain": [
       "['__add__',\n",
       " '__class__',\n",
       " '__class_getitem__',\n",
       " '__contains__',\n",
       " '__delattr__',\n",
       " '__delitem__',\n",
       " '__dir__',\n",
       " '__doc__',\n",
       " '__eq__',\n",
       " '__format__',\n",
       " '__ge__',\n",
       " '__getattribute__',\n",
       " '__getitem__',\n",
       " '__getstate__',\n",
       " '__gt__',\n",
       " '__hash__',\n",
       " '__iadd__',\n",
       " '__imul__',\n",
       " '__init__',\n",
       " '__init_subclass__',\n",
       " '__iter__',\n",
       " '__le__',\n",
       " '__len__',\n",
       " '__lt__',\n",
       " '__mul__',\n",
       " '__ne__',\n",
       " '__new__',\n",
       " '__reduce__',\n",
       " '__reduce_ex__',\n",
       " '__repr__',\n",
       " '__reversed__',\n",
       " '__rmul__',\n",
       " '__setattr__',\n",
       " '__setitem__',\n",
       " '__sizeof__',\n",
       " '__str__',\n",
       " '__subclasshook__',\n",
       " 'append',\n",
       " 'clear',\n",
       " 'copy',\n",
       " 'count',\n",
       " 'extend',\n",
       " 'index',\n",
       " 'insert',\n",
       " 'pop',\n",
       " 'remove',\n",
       " 'reverse',\n",
       " 'sort']"
      ]
     },
     "execution_count": 15,
     "metadata": {},
     "output_type": "execute_result"
    }
   ],
   "source": [
    "dir([])"
   ]
  },
  {
   "cell_type": "markdown",
   "id": "6c036b9d-1dc2-4c3c-8155-f48a3f9ed231",
   "metadata": {},
   "source": [
    "- clear\n",
    "- copy\n",
    "- count"
   ]
  },
  {
   "cell_type": "code",
   "execution_count": 18,
   "id": "606f0a0a-45bc-4d5b-b725-6404a9cd68a0",
   "metadata": {},
   "outputs": [
    {
     "data": {
      "text/plain": [
       "[]"
      ]
     },
     "execution_count": 18,
     "metadata": {},
     "output_type": "execute_result"
    }
   ],
   "source": [
    "l1=[10,20,30,40,50,'A','B','C','D','E','apple','banana']\n",
    "l1.clear()\n",
    "l1"
   ]
  },
  {
   "cell_type": "code",
   "execution_count": 20,
   "id": "5830871c-fb08-40c4-b370-2d17db644d34",
   "metadata": {},
   "outputs": [
    {
     "name": "stdout",
     "output_type": "stream",
     "text": [
      "[10, 20, 30, 40, 50, 'A', 'B', 'C', 'D', 'E', 'apple', 'banana']\n",
      "[10, 20, 30, 40, 50, 'A', 'B', 'C', 'D', 'E', 'apple', 'banana']\n"
     ]
    }
   ],
   "source": [
    "l1=[10,20,30,40,50,'A','B','C','D','E','apple','banana']\n",
    "l2=l1.copy()\n",
    "l1.copy()\n",
    "print(l1)\n",
    "print(l2)"
   ]
  },
  {
   "cell_type": "code",
   "execution_count": 22,
   "id": "f761ca11-afa0-474a-96a7-5e294f7a0b16",
   "metadata": {},
   "outputs": [
    {
     "data": {
      "text/plain": [
       "2"
      ]
     },
     "execution_count": 22,
     "metadata": {},
     "output_type": "execute_result"
    }
   ],
   "source": [
    "l1=[10,20,30,40,50,'A','B','C','D','E','apple','banana',10]\n",
    "l1.count(10)"
   ]
  },
  {
   "cell_type": "code",
   "execution_count": 24,
   "id": "eeb4f932-f21f-41f9-8abd-f71e59ef70ea",
   "metadata": {},
   "outputs": [
    {
     "data": {
      "text/plain": [
       "3"
      ]
     },
     "execution_count": 24,
     "metadata": {},
     "output_type": "execute_result"
    }
   ],
   "source": [
    "str1='ola ola ola'\n",
    "str1.count('l')"
   ]
  },
  {
   "cell_type": "markdown",
   "id": "54f685ec-a22f-4d2e-bd6a-7c34c1282a3c",
   "metadata": {},
   "source": [
    "**append**\n",
    "- append is very very impportant method in the entitre list\n",
    "- In our life we will use this methods very very frequently\n",
    "- append means adding an element at last"
   ]
  },
  {
   "cell_type": "code",
   "execution_count": 27,
   "id": "d238735c-939b-47f6-9706-cea843dbad66",
   "metadata": {},
   "outputs": [
    {
     "data": {
      "text/plain": [
       "[10, 20, 30, 'apple']"
      ]
     },
     "execution_count": 27,
     "metadata": {},
     "output_type": "execute_result"
    }
   ],
   "source": [
    "l1=[10,20,30]\n",
    "l1.append('apple')\n",
    "l1"
   ]
  },
  {
   "cell_type": "code",
   "execution_count": 29,
   "id": "afdf7f83-111f-4501-ab30-86506445952e",
   "metadata": {},
   "outputs": [
    {
     "data": {
      "text/plain": [
       "[10, 20, 30, 'apple', 'banana']"
      ]
     },
     "execution_count": 29,
     "metadata": {},
     "output_type": "execute_result"
    }
   ],
   "source": [
    "l1=[10,20,30]\n",
    "l1.append('apple')\n",
    "l1.append('banana')\n",
    "l1"
   ]
  },
  {
   "cell_type": "code",
   "execution_count": 31,
   "id": "adc7e5b2-0211-489e-8f0f-0f3ba40f50c1",
   "metadata": {},
   "outputs": [
    {
     "data": {
      "text/plain": [
       "[10, 20, 30, ['apple', 'banana']]"
      ]
     },
     "execution_count": 31,
     "metadata": {},
     "output_type": "execute_result"
    }
   ],
   "source": [
    "l1=[10,20,30]\n",
    "l1.append(['apple','banana'])\n",
    "l1"
   ]
  },
  {
   "cell_type": "markdown",
   "id": "e96540cf-91b8-4e09-a7e1-0d563cb4447e",
   "metadata": {},
   "source": [
    "**always recall if u see anywhere multiple values means must of the time will keep those values in a list**"
   ]
  },
  {
   "cell_type": "code",
   "execution_count": 36,
   "id": "92fb5146-57e8-4f98-a6bb-341b9cc2c8d2",
   "metadata": {},
   "outputs": [
    {
     "ename": "TypeError",
     "evalue": "list.append() takes exactly one argument (2 given)",
     "output_type": "error",
     "traceback": [
      "\u001b[1;31m---------------------------------------------------------------------------\u001b[0m",
      "\u001b[1;31mTypeError\u001b[0m                                 Traceback (most recent call last)",
      "Cell \u001b[1;32mIn[36], line 11\u001b[0m\n\u001b[0;32m      8\u001b[0m l1\n\u001b[0;32m     10\u001b[0m l1\u001b[38;5;241m=\u001b[39m[\u001b[38;5;241m10\u001b[39m,\u001b[38;5;241m20\u001b[39m,\u001b[38;5;241m30\u001b[39m]\n\u001b[1;32m---> 11\u001b[0m l1\u001b[38;5;241m.\u001b[39mappend(\u001b[38;5;124m'\u001b[39m\u001b[38;5;124mapple\u001b[39m\u001b[38;5;124m'\u001b[39m,\u001b[38;5;124m'\u001b[39m\u001b[38;5;124mbanana\u001b[39m\u001b[38;5;124m'\u001b[39m)\n\u001b[0;32m     12\u001b[0m l1\n\u001b[0;32m     14\u001b[0m l1\u001b[38;5;241m=\u001b[39m[\u001b[38;5;241m10\u001b[39m,\u001b[38;5;241m20\u001b[39m,\u001b[38;5;241m30\u001b[39m]\n",
      "\u001b[1;31mTypeError\u001b[0m: list.append() takes exactly one argument (2 given)"
     ]
    }
   ],
   "source": [
    "l1=[10,20,30]\n",
    "l1.append('apple')\n",
    "l1\n",
    "\n",
    "l1=[10,20,30]\n",
    "l1.append('apple')\n",
    "l1.append('banana')\n",
    "l1\n",
    "\n",
    "l1=[10,20,30]\n",
    "l1.append('apple','banana')\n",
    "l1\n",
    "\n",
    "l1=[10,20,30]\n",
    "l1.append(['apple','banana'])\n",
    "l1"
   ]
  },
  {
   "cell_type": "markdown",
   "id": "db5a1ae1-7bca-49c5-afc6-72588035f624",
   "metadata": {},
   "source": [
    "**append method is used to store the outputs**"
   ]
  },
  {
   "cell_type": "code",
   "execution_count": 39,
   "id": "44845309-74b9-43ca-8c6d-b46ac165f296",
   "metadata": {},
   "outputs": [
    {
     "data": {
      "text/plain": [
       "[1, 2, 3, 4, 5]"
      ]
     },
     "execution_count": 39,
     "metadata": {},
     "output_type": "execute_result"
    }
   ],
   "source": [
    "#for example i want to append a number from 1 to 5\n",
    "# l=[1,2,3,4,5]\n",
    "\n",
    "l=[]\n",
    "l.append(1)\n",
    "l.append(2)\n",
    "l.append(3)\n",
    "l.append(4)\n",
    "l.append(5)\n",
    "\n",
    "l"
   ]
  },
  {
   "cell_type": "code",
   "execution_count": 41,
   "id": "60847c7c-0efd-4823-be74-868c861471d1",
   "metadata": {},
   "outputs": [
    {
     "data": {
      "text/plain": [
       "5"
      ]
     },
     "execution_count": 41,
     "metadata": {},
     "output_type": "execute_result"
    }
   ],
   "source": [
    "l=[]\n",
    "for i in range(1,6):\n",
    "    l.append(i)\n",
    "i"
   ]
  },
  {
   "cell_type": "code",
   "execution_count": 43,
   "id": "8e7ac079-612d-4ac5-9e02-e0cbd15ebb90",
   "metadata": {},
   "outputs": [
    {
     "data": {
      "text/plain": [
       "[1, 2, 3, 4, 5, 6, 7, 8, 9]"
      ]
     },
     "execution_count": 43,
     "metadata": {},
     "output_type": "execute_result"
    }
   ],
   "source": [
    "l=[]\n",
    "for i in range(1,10):\n",
    "    l.append(i)\n",
    "l"
   ]
  },
  {
   "cell_type": "code",
   "execution_count": 45,
   "id": "d55814a0-d71e-42d1-bb98-6973634d012f",
   "metadata": {},
   "outputs": [
    {
     "name": "stdout",
     "output_type": "stream",
     "text": [
      "39\n",
      "23\n",
      "47\n"
     ]
    }
   ],
   "source": [
    "# wap ask the user enter 3 random numbers\n",
    "# and perform the square of the numbers,save those squares in a list\n",
    "\n",
    "import random\n",
    "for i in range(3):\n",
    "    num=random.randint(1,100)\n",
    "    print(num)"
   ]
  },
  {
   "cell_type": "code",
   "execution_count": 47,
   "id": "00534d61-fe27-4945-9098-7a121b777742",
   "metadata": {},
   "outputs": [
    {
     "data": {
      "text/plain": [
       "[79, 80, 63]"
      ]
     },
     "execution_count": 47,
     "metadata": {},
     "output_type": "execute_result"
    }
   ],
   "source": [
    "import random\n",
    "l=[]\n",
    "for i in range(3):\n",
    "    num=random.randint(1,100)\n",
    "    l.append(num)\n",
    "l"
   ]
  },
  {
   "cell_type": "code",
   "execution_count": 49,
   "id": "0d139d25-eabd-445e-bf8c-55cf80b5b309",
   "metadata": {},
   "outputs": [
    {
     "data": {
      "text/plain": [
       "[79, 80, 63, '23:529', '50:2500', '80:6400']"
      ]
     },
     "execution_count": 49,
     "metadata": {},
     "output_type": "execute_result"
    }
   ],
   "source": [
    "import random\n",
    "for i in range(3):\n",
    "    num=random.randint(1,100)\n",
    "    l.append(f'{num}:{num*num}')\n",
    "l"
   ]
  },
  {
   "cell_type": "code",
   "execution_count": 51,
   "id": "f3f9503b-b47c-4263-b81f-42e3aacd4073",
   "metadata": {},
   "outputs": [
    {
     "data": {
      "text/plain": [
       "['can', 'canner', 'can', 'can', 'canner', 'can', 'the', 'canner']"
      ]
     },
     "execution_count": 51,
     "metadata": {},
     "output_type": "execute_result"
    }
   ],
   "source": [
    "# Q10) input = 'can canner can you can not canner with you but you can the canner'\n",
    "#      stopwords=['not','you','but','with']\n",
    "#      using stopwords remove those words from input\n",
    "#     output='can canner can can canner can canner'\n",
    "\n",
    "inpu = 'can canner can you can not canner with you but you can the canner'\n",
    "l=inpu.split()\n",
    "stopwords=['not','you','but','with']\n",
    "output=[]\n",
    "for i in l:\n",
    "    if i not in stopwords:\n",
    "        output.append(i)\n",
    "output"
   ]
  },
  {
   "cell_type": "code",
   "execution_count": 83,
   "id": "766ac992-5faa-4b33-9629-fefc404d150c",
   "metadata": {},
   "outputs": [
    {
     "name": "stdout",
     "output_type": "stream",
     "text": [
      "['can', 'canner', 'you', 'not', 'with', 'but', 'the']\n",
      "[4, 3, 3, 1, 1, 1, 1]\n"
     ]
    }
   ],
   "source": [
    "# Q11) take a string find the most repeated word from string\n",
    "\n",
    "inpu = 'can canner can you can not canner with you but you can the canner'\n",
    "l=inpu.split()\n",
    "l1=[]\n",
    "counter=[]\n",
    "for i in l:\n",
    "    if i not in l1:\n",
    "        l1.append(i)\n",
    "        counter.append(l.count(i))\n",
    "print(l1)\n",
    "print(counter)"
   ]
  },
  {
   "cell_type": "markdown",
   "id": "8f0e4162-bbdb-43e6-bba5-ea349bdede18",
   "metadata": {},
   "source": [
    "**extend**"
   ]
  },
  {
   "cell_type": "code",
   "execution_count": 98,
   "id": "e8eee34f-10d5-4bde-ba5e-1ce0a63c0a06",
   "metadata": {},
   "outputs": [
    {
     "data": {
      "text/plain": [
       "[1, 2, 3, 4, 5, 'A', 'B', 'C', 'D']"
      ]
     },
     "execution_count": 98,
     "metadata": {},
     "output_type": "execute_result"
    }
   ],
   "source": [
    "l1=[1,2,3,4,5]\n",
    "l2=['A','B','C','D']\n",
    "l1.extend(l2)\n",
    "l1"
   ]
  },
  {
   "cell_type": "code",
   "execution_count": 100,
   "id": "8b8f6952-c94a-447f-a736-0743e30935b2",
   "metadata": {},
   "outputs": [
    {
     "data": {
      "text/plain": [
       "['A', 'B', 'C', 'D', 1, 2, 3, 4, 5]"
      ]
     },
     "execution_count": 100,
     "metadata": {},
     "output_type": "execute_result"
    }
   ],
   "source": [
    "l1=[1,2,3,4,5]\n",
    "l2=['A','B','C','D']\n",
    "l2.extend(l1)\n",
    "l2"
   ]
  },
  {
   "cell_type": "code",
   "execution_count": 102,
   "id": "1675f998-6991-4730-aee6-a6843e625e76",
   "metadata": {},
   "outputs": [
    {
     "data": {
      "text/plain": [
       "[1, 2, 3, 4, 5, ['A', 'B', 'C', 'D']]"
      ]
     },
     "execution_count": 102,
     "metadata": {},
     "output_type": "execute_result"
    }
   ],
   "source": [
    "l1=[1,2,3,4,5]\n",
    "l2=['A','B','C','D']\n",
    "l1.append(l2)\n",
    "l1"
   ]
  },
  {
   "cell_type": "code",
   "execution_count": 104,
   "id": "ba25b8a7-875b-4654-83c9-0ce849fc678d",
   "metadata": {},
   "outputs": [
    {
     "name": "stdout",
     "output_type": "stream",
     "text": [
      "[1, 2, 3, 4, 5, 'A', 'B', 'C', 'D']\n",
      "[1, 2, 3, 4, 5]\n",
      "['A', 'B', 'C', 'D']\n",
      "l1 will overwrite if we use extend\n",
      "[1, 2, 3, 4, 5, 'A', 'B', 'C', 'D']\n"
     ]
    }
   ],
   "source": [
    "l1=[1,2,3,4,5]\n",
    "l2=['A','B','C','D']\n",
    "print(l1+l2)\n",
    "print(l1)\n",
    "print(l2)\n",
    "print(\"l1 will overwrite if we use extend\")\n",
    "l1.extend(l2)\n",
    "print(l1)"
   ]
  },
  {
   "cell_type": "markdown",
   "id": "d0ce31b2-63ba-494e-a75f-d034b9710d95",
   "metadata": {},
   "source": [
    "**index**\n",
    "- In strings we have index and find\n",
    "- But in list we have only index"
   ]
  },
  {
   "cell_type": "code",
   "execution_count": 108,
   "id": "37aa901b-1789-4911-8762-27b8a77089de",
   "metadata": {},
   "outputs": [
    {
     "name": "stdout",
     "output_type": "stream",
     "text": [
      "8\n"
     ]
    }
   ],
   "source": [
    "l1=[10,20,30,40,50,'Apple','Banana','Cherry',40,50]\n",
    "i1=l1.index(40)\n",
    "print(l1.index(40,i1+1))"
   ]
  },
  {
   "cell_type": "markdown",
   "id": "991802bb-be59-4732-8638-6866c27785a6",
   "metadata": {},
   "source": [
    "**insert**"
   ]
  },
  {
   "cell_type": "code",
   "execution_count": 111,
   "id": "6e217ebd-7d3b-493e-ae52-09e080f03066",
   "metadata": {},
   "outputs": [
    {
     "data": {
      "text/plain": [
       "[10, 20, 30, 40, 50, 'Apple', 100, 'Banana', 'Cherry', 40, 50]"
      ]
     },
     "execution_count": 111,
     "metadata": {},
     "output_type": "execute_result"
    }
   ],
   "source": [
    "l1=[10,20,30,40,50,'Apple','Banana','Cherry',40,50]\n",
    "id=l1.index('Apple')\n",
    "l1.insert(id+1,100)\n",
    "l1"
   ]
  },
  {
   "cell_type": "code",
   "execution_count": 113,
   "id": "f62c0bde-2401-443e-bfd6-339ef6f7e88e",
   "metadata": {},
   "outputs": [
    {
     "data": {
      "text/plain": [
       "[10, 20, 30, 40, 50, 'Apple', 'Banana', 'Cherry', 40, 50, 100]"
      ]
     },
     "execution_count": 113,
     "metadata": {},
     "output_type": "execute_result"
    }
   ],
   "source": [
    "l1=[10,20,30,40,50,'Apple','Banana','Cherry',40,50]\n",
    "l1.append(100)\n",
    "l1"
   ]
  },
  {
   "cell_type": "markdown",
   "id": "16a73abe-97f5-4647-83e1-b849362d8de2",
   "metadata": {},
   "source": [
    "**pop vs remove**"
   ]
  },
  {
   "cell_type": "code",
   "execution_count": 118,
   "id": "952b253a-d9da-4f98-a63a-29a5d7552441",
   "metadata": {},
   "outputs": [
    {
     "data": {
      "text/plain": [
       "[10, 20, 30, 40, 50, 'Apple', 'Banana', 'Cherry', 40]"
      ]
     },
     "execution_count": 118,
     "metadata": {},
     "output_type": "execute_result"
    }
   ],
   "source": [
    "l1=[10,20,30,40,50,'Apple','Banana','Cherry',40,50]\n",
    "l1.pop()\n",
    "l1"
   ]
  },
  {
   "cell_type": "code",
   "execution_count": 120,
   "id": "7bb7c8ba-61d6-4234-a7ba-c23aa1b85118",
   "metadata": {},
   "outputs": [
    {
     "data": {
      "text/plain": [
       "[10, 20, 30, 40, 50, 'Banana', 'Cherry', 40, 50]"
      ]
     },
     "execution_count": 120,
     "metadata": {},
     "output_type": "execute_result"
    }
   ],
   "source": [
    "l1=[10,20,30,40,50,'Apple','Banana','Cherry',40,50]\n",
    "l1.pop(5)\n",
    "l1"
   ]
  },
  {
   "cell_type": "code",
   "execution_count": 122,
   "id": "710b1661-9df0-47fb-b588-6446c9ca8096",
   "metadata": {},
   "outputs": [
    {
     "data": {
      "text/plain": [
       "[10, 20, 30, 40, 50, 'Banana', 'Cherry', 40, 50]"
      ]
     },
     "execution_count": 122,
     "metadata": {},
     "output_type": "execute_result"
    }
   ],
   "source": [
    "l1=[10,20,30,40,50,'Apple','Banana','Cherry',40,50]\n",
    "l1.remove('Apple')\n",
    "l1"
   ]
  },
  {
   "cell_type": "code",
   "execution_count": 124,
   "id": "49b7a1fe-a1c5-413e-9373-bcaef8f908db",
   "metadata": {},
   "outputs": [
    {
     "data": {
      "text/plain": [
       "[10, 20, 30, 50, 'Apple', 'Banana', 'Cherry', 40, 50]"
      ]
     },
     "execution_count": 124,
     "metadata": {},
     "output_type": "execute_result"
    }
   ],
   "source": [
    "l1=[10,20,30,40,50,'Apple','Banana','Cherry',40,50]\n",
    "l1.remove(40)\n",
    "l1"
   ]
  },
  {
   "cell_type": "code",
   "execution_count": 126,
   "id": "defbc8ef-b914-40d1-8fbd-6f3c7eefaad9",
   "metadata": {},
   "outputs": [
    {
     "data": {
      "text/plain": [
       "[10, 20, 30, 40, 50, 'Banana', 'Cherry', 40, 50]"
      ]
     },
     "execution_count": 126,
     "metadata": {},
     "output_type": "execute_result"
    }
   ],
   "source": [
    "l1=[10,20,30,40,50,'Apple','Banana','Cherry',40,50]\n",
    "del(l1[5])\n",
    "l1"
   ]
  },
  {
   "cell_type": "markdown",
   "id": "1fdda943-2055-4ed3-bb19-4f55f82a9bf2",
   "metadata": {},
   "source": [
    "If we want delete any element\n",
    "- pop: based on index\n",
    "- remove: based on value\n",
    "- del is an inbuilt function"
   ]
  },
  {
   "cell_type": "code",
   "execution_count": 129,
   "id": "baa25686-dbe3-47fa-9632-f3ac75cbf4f4",
   "metadata": {},
   "outputs": [
    {
     "data": {
      "text/plain": [
       "[10, 20, 30, 40, 50, 'Banana', 'Cherry', 40, 50]"
      ]
     },
     "execution_count": 129,
     "metadata": {},
     "output_type": "execute_result"
    }
   ],
   "source": [
    "l1=[10,20,30,40,50,'Apple','Banana','Cherry',40,50]\n",
    "del l1[5]\n",
    "l1"
   ]
  },
  {
   "cell_type": "markdown",
   "id": "681ff541-d402-41a2-839f-1b6865e597c8",
   "metadata": {},
   "source": [
    "**reverse-reversed**\n",
    "- reverse is a method\n",
    "- reversed is an inbuilt function"
   ]
  },
  {
   "cell_type": "code",
   "execution_count": 133,
   "id": "ef5f583a-5201-4c81-bd4b-653c71354219",
   "metadata": {},
   "outputs": [
    {
     "data": {
      "text/plain": [
       "[50, 40, 30, 20, 10]"
      ]
     },
     "execution_count": 133,
     "metadata": {},
     "output_type": "execute_result"
    }
   ],
   "source": [
    "l1=[10,20,30,40,50]\n",
    "l1.reverse()\n",
    "l1"
   ]
  },
  {
   "cell_type": "markdown",
   "id": "45f1e513-9565-4d28-8bd4-e832cdecdea9",
   "metadata": {},
   "source": [
    "**IN PLACE**\n",
    "- When we perform the operations some times the values will not overrite\n",
    "- If we see **IN PLACE** word or **Inplac=True**\n",
    "- This indicates the output will be overwrite in corresponding variable"
   ]
  },
  {
   "cell_type": "code",
   "execution_count": 136,
   "id": "7f4619a9-e99a-4a53-bc7a-7bb95a92143e",
   "metadata": {},
   "outputs": [
    {
     "name": "stdout",
     "output_type": "stream",
     "text": [
      "[10, 20, 30, 40, 50]\n"
     ]
    }
   ],
   "source": [
    "l1=[10,20,30,40,50]\n",
    "reversed(l1)\n",
    "print(l1)"
   ]
  },
  {
   "cell_type": "markdown",
   "id": "b60a0b78-0868-420f-97d9-23881af45b73",
   "metadata": {},
   "source": [
    "**sort-sorted**"
   ]
  },
  {
   "cell_type": "code",
   "execution_count": 145,
   "id": "0988eb82-6517-44d1-a15b-b3cb7243d072",
   "metadata": {},
   "outputs": [
    {
     "data": {
      "text/plain": [
       "[9, 8, 5, 4, 2]"
      ]
     },
     "execution_count": 145,
     "metadata": {},
     "output_type": "execute_result"
    }
   ],
   "source": [
    "l1=[9,5,2,4,8]\n",
    "l1.sort()\n",
    "l1"
   ]
  },
  {
   "cell_type": "code",
   "execution_count": 143,
   "id": "133528df-f38b-4e5d-a3d9-ad384a0ccbc4",
   "metadata": {},
   "outputs": [
    {
     "data": {
      "text/plain": [
       "[2, 4, 5, 8, 9]"
      ]
     },
     "execution_count": 143,
     "metadata": {},
     "output_type": "execute_result"
    }
   ],
   "source": [
    "l1=[9,5,2,4,8]\n",
    "sorted(l1)"
   ]
  },
  {
   "cell_type": "markdown",
   "id": "0e4d3af0-a7b5-4186-9b7c-a494f27adc19",
   "metadata": {},
   "source": [
    "**Tuple**\n",
    "- Tuple is in paranthesis"
   ]
  },
  {
   "cell_type": "code",
   "execution_count": 3,
   "id": "5579e386-2a90-4a7d-9a73-fe4fc62f6348",
   "metadata": {},
   "outputs": [
    {
     "name": "stdout",
     "output_type": "stream",
     "text": [
      "(10, 20, 30, 40, 50)\n"
     ]
    }
   ],
   "source": [
    "t1=(10,20,30,40,50)\n",
    "print(t1)"
   ]
  },
  {
   "cell_type": "code",
   "execution_count": 6,
   "id": "f1c3646d-9067-4be8-8aea-87e80e113c3a",
   "metadata": {},
   "outputs": [
    {
     "data": {
      "text/plain": [
       "tuple"
      ]
     },
     "execution_count": 6,
     "metadata": {},
     "output_type": "execute_result"
    }
   ],
   "source": [
    "type(t1)"
   ]
  },
  {
   "cell_type": "code",
   "execution_count": 8,
   "id": "cee86873-966f-4062-8e05-5ff3c38f7647",
   "metadata": {},
   "outputs": [
    {
     "data": {
      "text/plain": [
       "('A', 'B', 'C', 'D')"
      ]
     },
     "execution_count": 8,
     "metadata": {},
     "output_type": "execute_result"
    }
   ],
   "source": [
    "t1=('A','B','C','D')\n",
    "t1"
   ]
  },
  {
   "cell_type": "code",
   "execution_count": 10,
   "id": "c788d5c9-da3b-4d78-a23b-ffc29630b295",
   "metadata": {},
   "outputs": [
    {
     "data": {
      "text/plain": [
       "10"
      ]
     },
     "execution_count": 10,
     "metadata": {},
     "output_type": "execute_result"
    }
   ],
   "source": [
    "t1=(9,5,2,4,8,'Bugatti','Jaguar','Lambo','Mustang','Rolls Royce')\n",
    "len(t1)"
   ]
  },
  {
   "cell_type": "code",
   "execution_count": 14,
   "id": "b768651e-4632-403f-b3b5-bfec87decdf8",
   "metadata": {},
   "outputs": [
    {
     "data": {
      "text/plain": [
       "2"
      ]
     },
     "execution_count": 14,
     "metadata": {},
     "output_type": "execute_result"
    }
   ],
   "source": [
    "t1=(9,5,2,4,8)\n",
    "min(t1)"
   ]
  },
  {
   "cell_type": "code",
   "execution_count": 18,
   "id": "fff35d43-5b6e-4412-92f7-ea3c095def1f",
   "metadata": {},
   "outputs": [
    {
     "data": {
      "text/plain": [
       "'Bugatti'"
      ]
     },
     "execution_count": 18,
     "metadata": {},
     "output_type": "execute_result"
    }
   ],
   "source": [
    "t1=('Bugatti','Jaguar','Lambo','Mustang','Rolls Royce')\n",
    "min(t1)"
   ]
  },
  {
   "cell_type": "code",
   "execution_count": 20,
   "id": "dd99cca4-13e8-471e-bba9-97ae7ab8fedc",
   "metadata": {},
   "outputs": [
    {
     "data": {
      "text/plain": [
       "9"
      ]
     },
     "execution_count": 20,
     "metadata": {},
     "output_type": "execute_result"
    }
   ],
   "source": [
    "t1=(9,5,2,4,8)\n",
    "max(t1)"
   ]
  },
  {
   "cell_type": "code",
   "execution_count": 22,
   "id": "71665c38-8130-4204-a55c-fce10ebf0647",
   "metadata": {},
   "outputs": [
    {
     "data": {
      "text/plain": [
       "'Rolls Royce'"
      ]
     },
     "execution_count": 22,
     "metadata": {},
     "output_type": "execute_result"
    }
   ],
   "source": [
    "t1=('Bugatti','Jaguar','Lambo','Mustang','Rolls Royce')\n",
    "max(t1)"
   ]
  },
  {
   "cell_type": "code",
   "execution_count": 24,
   "id": "8afab9cc-6365-4cae-8e9c-61ceb7edb522",
   "metadata": {},
   "outputs": [
    {
     "ename": "TypeError",
     "evalue": "unsupported operand type(s) for +: 'int' and 'str'",
     "output_type": "error",
     "traceback": [
      "\u001b[1;31m---------------------------------------------------------------------------\u001b[0m",
      "\u001b[1;31mTypeError\u001b[0m                                 Traceback (most recent call last)",
      "Cell \u001b[1;32mIn[24], line 2\u001b[0m\n\u001b[0;32m      1\u001b[0m t1\u001b[38;5;241m=\u001b[39m(\u001b[38;5;124m'\u001b[39m\u001b[38;5;124mBugatti\u001b[39m\u001b[38;5;124m'\u001b[39m,\u001b[38;5;124m'\u001b[39m\u001b[38;5;124mJaguar\u001b[39m\u001b[38;5;124m'\u001b[39m,\u001b[38;5;124m'\u001b[39m\u001b[38;5;124mLambo\u001b[39m\u001b[38;5;124m'\u001b[39m,\u001b[38;5;124m'\u001b[39m\u001b[38;5;124mMustang\u001b[39m\u001b[38;5;124m'\u001b[39m,\u001b[38;5;124m'\u001b[39m\u001b[38;5;124mRolls Royce\u001b[39m\u001b[38;5;124m'\u001b[39m)\n\u001b[1;32m----> 2\u001b[0m \u001b[38;5;28msum\u001b[39m(t1)\n",
      "\u001b[1;31mTypeError\u001b[0m: unsupported operand type(s) for +: 'int' and 'str'"
     ]
    }
   ],
   "source": [
    "t1=('Bugatti','Jaguar','Lambo','Mustang','Rolls Royce')\n",
    "sum(t1)"
   ]
  },
  {
   "cell_type": "code",
   "execution_count": 26,
   "id": "5b767122-8085-4d96-95eb-575fcfc67559",
   "metadata": {},
   "outputs": [
    {
     "data": {
      "text/plain": [
       "28"
      ]
     },
     "execution_count": 26,
     "metadata": {},
     "output_type": "execute_result"
    }
   ],
   "source": [
    "t1=(9,5,2,4,8)\n",
    "sum(t1)"
   ]
  },
  {
   "cell_type": "code",
   "execution_count": 32,
   "id": "04174b8b-e0a8-482c-9d2b-ef2293dafa68",
   "metadata": {},
   "outputs": [
    {
     "data": {
      "text/plain": [
       "[2, 4, 5, 8, 9]"
      ]
     },
     "execution_count": 32,
     "metadata": {},
     "output_type": "execute_result"
    }
   ],
   "source": [
    "t1=(9,5,2,4,8)\n",
    "sorted(t1)"
   ]
  },
  {
   "cell_type": "code",
   "execution_count": 34,
   "id": "a45d5985-b25c-451c-884a-870d9402befc",
   "metadata": {},
   "outputs": [
    {
     "data": {
      "text/plain": [
       "['Bugatti', 'Jaguar', 'Lambo', 'Mustang', 'Rolls Royce']"
      ]
     },
     "execution_count": 34,
     "metadata": {},
     "output_type": "execute_result"
    }
   ],
   "source": [
    "t1=('Bugatti','Jaguar','Lambo','Mustang','Rolls Royce')\n",
    "sorted(t1)"
   ]
  },
  {
   "cell_type": "code",
   "execution_count": 42,
   "id": "ee8fc64e-0567-4c58-9edd-cdc91d78336a",
   "metadata": {},
   "outputs": [
    {
     "name": "stdout",
     "output_type": "stream",
     "text": [
      "Rolls Royce,Mustang,Lambo,Jaguar,Bugatti,"
     ]
    }
   ],
   "source": [
    "t1=('Bugatti','Jaguar','Lambo','Mustang','Rolls Royce')\n",
    "t2=reversed(t1)\n",
    "for i in t2:\n",
    "    print(i,end=',')"
   ]
  },
  {
   "cell_type": "code",
   "execution_count": 44,
   "id": "6777d5a4-8b57-4add-93bc-499c6cec3535",
   "metadata": {},
   "outputs": [
    {
     "name": "stdout",
     "output_type": "stream",
     "text": [
      "8,4,2,5,9,"
     ]
    }
   ],
   "source": [
    "t1=(9,5,2,4,8)\n",
    "t2=reversed(t1)\n",
    "for i in t2:\n",
    "    print(i,end=',')"
   ]
  },
  {
   "cell_type": "code",
   "execution_count": 46,
   "id": "ce699160-72f4-4af4-9b53-f8af7254f916",
   "metadata": {},
   "outputs": [
    {
     "data": {
      "text/plain": [
       "(9, 5, 2, 4, 8, 'Bugatti', 'Jaguar', 'Lambo', 'Mustang', 'Rolls Royce')"
      ]
     },
     "execution_count": 46,
     "metadata": {},
     "output_type": "execute_result"
    }
   ],
   "source": [
    "t1=(9,5,2,4,8)\n",
    "t2=('Bugatti','Jaguar','Lambo','Mustang','Rolls Royce')\n",
    "t1+t2"
   ]
  },
  {
   "cell_type": "code",
   "execution_count": 48,
   "id": "e9c11e5a-006b-48b3-aebd-9e8b87455297",
   "metadata": {},
   "outputs": [
    {
     "ename": "TypeError",
     "evalue": "unsupported operand type(s) for -: 'tuple' and 'tuple'",
     "output_type": "error",
     "traceback": [
      "\u001b[1;31m---------------------------------------------------------------------------\u001b[0m",
      "\u001b[1;31mTypeError\u001b[0m                                 Traceback (most recent call last)",
      "Cell \u001b[1;32mIn[48], line 3\u001b[0m\n\u001b[0;32m      1\u001b[0m t1\u001b[38;5;241m=\u001b[39m(\u001b[38;5;241m9\u001b[39m,\u001b[38;5;241m5\u001b[39m,\u001b[38;5;241m2\u001b[39m,\u001b[38;5;241m4\u001b[39m,\u001b[38;5;241m8\u001b[39m)\n\u001b[0;32m      2\u001b[0m t2\u001b[38;5;241m=\u001b[39m(\u001b[38;5;124m'\u001b[39m\u001b[38;5;124mBugatti\u001b[39m\u001b[38;5;124m'\u001b[39m,\u001b[38;5;124m'\u001b[39m\u001b[38;5;124mJaguar\u001b[39m\u001b[38;5;124m'\u001b[39m,\u001b[38;5;124m'\u001b[39m\u001b[38;5;124mLambo\u001b[39m\u001b[38;5;124m'\u001b[39m,\u001b[38;5;124m'\u001b[39m\u001b[38;5;124mMustang\u001b[39m\u001b[38;5;124m'\u001b[39m,\u001b[38;5;124m'\u001b[39m\u001b[38;5;124mRolls Royce\u001b[39m\u001b[38;5;124m'\u001b[39m)\n\u001b[1;32m----> 3\u001b[0m t1\u001b[38;5;241m-\u001b[39mt2\n",
      "\u001b[1;31mTypeError\u001b[0m: unsupported operand type(s) for -: 'tuple' and 'tuple'"
     ]
    }
   ],
   "source": [
    "t1=(9,5,2,4,8)\n",
    "t2=('Bugatti','Jaguar','Lambo','Mustang','Rolls Royce')\n",
    "t1-t2"
   ]
  },
  {
   "cell_type": "code",
   "execution_count": 50,
   "id": "23012ac4-b068-4a8f-afa6-c830ba220c8c",
   "metadata": {},
   "outputs": [
    {
     "data": {
      "text/plain": [
       "(9, 5, 2, 4, 8, 9, 5, 2, 4, 8)"
      ]
     },
     "execution_count": 50,
     "metadata": {},
     "output_type": "execute_result"
    }
   ],
   "source": [
    "t1=(9,5,2,4,8)\n",
    "t2=('Bugatti','Jaguar','Lambo','Mustang','Rolls Royce')\n",
    "t1*2"
   ]
  },
  {
   "cell_type": "code",
   "execution_count": 52,
   "id": "a5a685d8-7183-4845-bdb7-c81bc7727668",
   "metadata": {},
   "outputs": [
    {
     "ename": "TypeError",
     "evalue": "unsupported operand type(s) for /: 'tuple' and 'tuple'",
     "output_type": "error",
     "traceback": [
      "\u001b[1;31m---------------------------------------------------------------------------\u001b[0m",
      "\u001b[1;31mTypeError\u001b[0m                                 Traceback (most recent call last)",
      "Cell \u001b[1;32mIn[52], line 3\u001b[0m\n\u001b[0;32m      1\u001b[0m t1\u001b[38;5;241m=\u001b[39m(\u001b[38;5;241m9\u001b[39m,\u001b[38;5;241m5\u001b[39m,\u001b[38;5;241m2\u001b[39m,\u001b[38;5;241m4\u001b[39m,\u001b[38;5;241m8\u001b[39m)\n\u001b[0;32m      2\u001b[0m t2\u001b[38;5;241m=\u001b[39m(\u001b[38;5;124m'\u001b[39m\u001b[38;5;124mBugatti\u001b[39m\u001b[38;5;124m'\u001b[39m,\u001b[38;5;124m'\u001b[39m\u001b[38;5;124mJaguar\u001b[39m\u001b[38;5;124m'\u001b[39m,\u001b[38;5;124m'\u001b[39m\u001b[38;5;124mLambo\u001b[39m\u001b[38;5;124m'\u001b[39m,\u001b[38;5;124m'\u001b[39m\u001b[38;5;124mMustang\u001b[39m\u001b[38;5;124m'\u001b[39m,\u001b[38;5;124m'\u001b[39m\u001b[38;5;124mRolls Royce\u001b[39m\u001b[38;5;124m'\u001b[39m)\n\u001b[1;32m----> 3\u001b[0m t1\u001b[38;5;241m/\u001b[39mt2\n",
      "\u001b[1;31mTypeError\u001b[0m: unsupported operand type(s) for /: 'tuple' and 'tuple'"
     ]
    }
   ],
   "source": [
    "t1=(9,5,2,4,8)\n",
    "t2=('Bugatti','Jaguar','Lambo','Mustang','Rolls Royce')\n",
    "t1/t2"
   ]
  },
  {
   "cell_type": "code",
   "execution_count": 58,
   "id": "81e0a1ff-1acf-4dba-a3c7-da65a4e9acaa",
   "metadata": {},
   "outputs": [
    {
     "data": {
      "text/plain": [
       "4"
      ]
     },
     "execution_count": 58,
     "metadata": {},
     "output_type": "execute_result"
    }
   ],
   "source": [
    "t1=(9,5,2,4,8,'Bugatti','Jaguar','Lambo','Mustang','Rolls Royce')\n",
    "t1[3]"
   ]
  },
  {
   "cell_type": "code",
   "execution_count": 60,
   "id": "7cdfcb53-30e0-4264-9e8b-3fe8d3b3d4b8",
   "metadata": {},
   "outputs": [
    {
     "data": {
      "text/plain": [
       "'Bugatti'"
      ]
     },
     "execution_count": 60,
     "metadata": {},
     "output_type": "execute_result"
    }
   ],
   "source": [
    "t1[5]"
   ]
  },
  {
   "cell_type": "code",
   "execution_count": 64,
   "id": "680614c9-c2d7-40d2-a0ac-391c865235cd",
   "metadata": {},
   "outputs": [
    {
     "ename": "TypeError",
     "evalue": "'tuple' object does not support item assignment",
     "output_type": "error",
     "traceback": [
      "\u001b[1;31m---------------------------------------------------------------------------\u001b[0m",
      "\u001b[1;31mTypeError\u001b[0m                                 Traceback (most recent call last)",
      "Cell \u001b[1;32mIn[64], line 1\u001b[0m\n\u001b[1;32m----> 1\u001b[0m t1[\u001b[38;5;241m4\u001b[39m]\u001b[38;5;241m=\u001b[39m\u001b[38;5;241m6\u001b[39m\n\u001b[0;32m      2\u001b[0m t1\n",
      "\u001b[1;31mTypeError\u001b[0m: 'tuple' object does not support item assignment"
     ]
    }
   ],
   "source": [
    "t1[4]=6\n",
    "t1"
   ]
  },
  {
   "cell_type": "code",
   "execution_count": 68,
   "id": "83cb9f41-6301-439f-a318-41a0d79e97ab",
   "metadata": {},
   "outputs": [
    {
     "data": {
      "text/plain": [
       "(2, 8, 'Jaguar')"
      ]
     },
     "execution_count": 68,
     "metadata": {},
     "output_type": "execute_result"
    }
   ],
   "source": [
    "t1=(9,5,2,4,8,'Bugatti','Jaguar','Lambo','Mustang','Rolls Royce')\n",
    "t1[2:8:2]"
   ]
  },
  {
   "cell_type": "code",
   "execution_count": 70,
   "id": "2d1fd279-b6c1-4668-ada7-77bc7d12b33f",
   "metadata": {},
   "outputs": [
    {
     "data": {
      "text/plain": [
       "['__add__',\n",
       " '__class__',\n",
       " '__class_getitem__',\n",
       " '__contains__',\n",
       " '__delattr__',\n",
       " '__dir__',\n",
       " '__doc__',\n",
       " '__eq__',\n",
       " '__format__',\n",
       " '__ge__',\n",
       " '__getattribute__',\n",
       " '__getitem__',\n",
       " '__getnewargs__',\n",
       " '__getstate__',\n",
       " '__gt__',\n",
       " '__hash__',\n",
       " '__init__',\n",
       " '__init_subclass__',\n",
       " '__iter__',\n",
       " '__le__',\n",
       " '__len__',\n",
       " '__lt__',\n",
       " '__mul__',\n",
       " '__ne__',\n",
       " '__new__',\n",
       " '__reduce__',\n",
       " '__reduce_ex__',\n",
       " '__repr__',\n",
       " '__rmul__',\n",
       " '__setattr__',\n",
       " '__sizeof__',\n",
       " '__str__',\n",
       " '__subclasshook__',\n",
       " 'count',\n",
       " 'index']"
      ]
     },
     "execution_count": 70,
     "metadata": {},
     "output_type": "execute_result"
    }
   ],
   "source": [
    "dir(())"
   ]
  },
  {
   "cell_type": "code",
   "execution_count": 74,
   "id": "5a496b01-743e-4005-b119-903400fa66a2",
   "metadata": {},
   "outputs": [
    {
     "data": {
      "text/plain": [
       "1"
      ]
     },
     "execution_count": 74,
     "metadata": {},
     "output_type": "execute_result"
    }
   ],
   "source": [
    "t1=(9,5,2,4,8,'Bugatti','Jaguar','Lambo','Mustang','Rolls Royce')\n",
    "t1.count('Jaguar')"
   ]
  },
  {
   "cell_type": "code",
   "execution_count": 76,
   "id": "52be4609-b7ca-4af8-8930-84b773ce6c63",
   "metadata": {},
   "outputs": [
    {
     "data": {
      "text/plain": [
       "3"
      ]
     },
     "execution_count": 76,
     "metadata": {},
     "output_type": "execute_result"
    }
   ],
   "source": [
    "t1=(9,5,0,2,4,9,1,0,0,5)\n",
    "t1.count(0)"
   ]
  },
  {
   "cell_type": "code",
   "execution_count": 78,
   "id": "f13f7e9d-c711-45b5-863a-59dbdffc4dc6",
   "metadata": {},
   "outputs": [
    {
     "data": {
      "text/plain": [
       "5"
      ]
     },
     "execution_count": 78,
     "metadata": {},
     "output_type": "execute_result"
    }
   ],
   "source": [
    "t1=(9,5,2,4,8,'Bugatti','Jaguar','Lambo','Mustang','Rolls Royce')\n",
    "t1.index('Bugatti')"
   ]
  },
  {
   "cell_type": "code",
   "execution_count": 80,
   "id": "32757c15-0ce8-421d-afa5-b7e9695848aa",
   "metadata": {},
   "outputs": [
    {
     "data": {
      "text/plain": [
       "4"
      ]
     },
     "execution_count": 80,
     "metadata": {},
     "output_type": "execute_result"
    }
   ],
   "source": [
    "t1.index(8)"
   ]
  },
  {
   "cell_type": "code",
   "execution_count": 82,
   "id": "93842503-ffb8-4da9-b84f-2e0dc1b67873",
   "metadata": {},
   "outputs": [
    {
     "data": {
      "text/plain": [
       "2"
      ]
     },
     "execution_count": 82,
     "metadata": {},
     "output_type": "execute_result"
    }
   ],
   "source": [
    "t1=(9,5,0,2,4,9,1,0,0,5)\n",
    "i1=t1.index(0)"
   ]
  },
  {
   "cell_type": "code",
   "execution_count": 86,
   "id": "7c751023-b069-4a02-bc2f-a2c6845f3cff",
   "metadata": {},
   "outputs": [
    {
     "data": {
      "text/plain": [
       "7"
      ]
     },
     "execution_count": 86,
     "metadata": {},
     "output_type": "execute_result"
    }
   ],
   "source": [
    "t1=(9,5,0,2,4,9,1,0,0,5)\n",
    "i1=t1.index(0)\n",
    "t1.index(0,i1+1)"
   ]
  }
 ],
 "metadata": {
  "kernelspec": {
   "display_name": "Python [conda env:base] *",
   "language": "python",
   "name": "conda-base-py"
  },
  "language_info": {
   "codemirror_mode": {
    "name": "ipython",
    "version": 3
   },
   "file_extension": ".py",
   "mimetype": "text/x-python",
   "name": "python",
   "nbconvert_exporter": "python",
   "pygments_lexer": "ipython3",
   "version": "3.12.7"
  }
 },
 "nbformat": 4,
 "nbformat_minor": 5
}
