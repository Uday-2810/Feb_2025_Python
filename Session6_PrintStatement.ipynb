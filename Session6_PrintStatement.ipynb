{
 "cells": [
  {
   "cell_type": "code",
   "execution_count": 3,
   "id": "dfa3275a-0d92-4f9e-a6f7-7071d64c19da",
   "metadata": {},
   "outputs": [
    {
     "name": "stdout",
     "output_type": "stream",
     "text": [
      "30 NareshiT Hyd\n"
     ]
    }
   ],
   "source": [
    "print(30, 'NareshiT', 'Hyd')"
   ]
  },
  {
   "cell_type": "code",
   "execution_count": 5,
   "id": "caa64f23-ba5b-42a9-b244-aabb3cb31d47",
   "metadata": {},
   "outputs": [
    {
     "name": "stdout",
     "output_type": "stream",
     "text": [
      "The addition of 100 and 200 is 300\n",
      "The addition of num1 and num2 is 300\n",
      "The addition of 100 and 200 is 300\n"
     ]
    }
   ],
   "source": [
    "num1=100\n",
    "num2=200\n",
    "add=num1+num2\n",
    "# The addition of 100 and 200 is 300\n",
    "print(\"The addition of 100 and 200 is 300\")\n",
    "print(\"The addition of num1 and num2 is 300\")\n",
    "print(\"The addition of\",num1,\"and\",num2,\"is\",add)"
   ]
  },
  {
   "cell_type": "code",
   "execution_count": 9,
   "id": "112dd287-ec2c-49e0-b4b5-4b45253bca26",
   "metadata": {},
   "outputs": [
    {
     "name": "stdout",
     "output_type": "stream",
     "text": [
      "My name is python I am 10 years old came from hyd\n"
     ]
    }
   ],
   "source": [
    "name=\"python\"\n",
    "age=10\n",
    "city=\"hyd\"\n",
    "# My name is python I am 10 years old came from hyd\n",
    "print(\"My name is\",name,\"I am\",age,\"years old came from\",city)"
   ]
  },
  {
   "cell_type": "markdown",
   "id": "4b042dc5-ef3e-4803-ae11-6a92696e7660",
   "metadata": {},
   "source": [
    "**Format**"
   ]
  },
  {
   "cell_type": "code",
   "execution_count": 14,
   "id": "7dd8cbe6-475c-41c8-90ac-77ad3d61c61f",
   "metadata": {},
   "outputs": [
    {
     "name": "stdout",
     "output_type": "stream",
     "text": [
      "My name is python I am years old came from 10\n"
     ]
    }
   ],
   "source": [
    "name=\"python\"\n",
    "age=10\n",
    "city=\"hyd\"\n",
    "print(\"My name is {} I am years old came from {}\".format(name,age,city))"
   ]
  },
  {
   "cell_type": "code",
   "execution_count": 16,
   "id": "9c69c354-8b1e-445d-b1ff-d1962571261f",
   "metadata": {},
   "outputs": [
    {
     "name": "stdout",
     "output_type": "stream",
     "text": [
      "The addition of 100 and 200 is 300\n"
     ]
    }
   ],
   "source": [
    "num1=100\n",
    "num2=200\n",
    "add=num1+num2\n",
    "# The addition of 100 and 200 is 300\n",
    "print(\"The addition of {} and {} is {}\".format(num1,num2,add))"
   ]
  },
  {
   "cell_type": "code",
   "execution_count": 20,
   "id": "1b9a38ec-e715-4b16-a1bc-bd1dfbe8dac2",
   "metadata": {},
   "outputs": [
    {
     "name": "stdout",
     "output_type": "stream",
     "text": [
      "The substraction of 100 and 200 is -100\n",
      "The multiplication of 100 and 200 is 20000\n",
      "The division of 100 and 200 is 0.5\n"
     ]
    }
   ],
   "source": [
    "# WAP take two numbers perform the \n",
    "# substraction\n",
    "# multiplication\n",
    "# division\n",
    "# print the statements as follows\n",
    "\n",
    "# the substration of 100 and 200 is -100\n",
    "# the multiplication of 100 and 200 is 20000\n",
    "# the division of 100 and 200 is 0.5\n",
    "\n",
    "sub=num1-num2\n",
    "print(\"The substraction of {} and {} is {}\".format(num1,num2,sub))\n",
    "mul=num1*num2\n",
    "print(\"The multiplication of {} and {} is {}\".format(num1,num2,mul))\n",
    "div=num1/num2\n",
    "print(\"The division of {} and {} is {}\".format(num1,num2,div))"
   ]
  },
  {
   "cell_type": "code",
   "execution_count": 22,
   "id": "8016a3aa-8a07-4629-8d0f-3c4b8a2ec814",
   "metadata": {},
   "outputs": [
    {
     "name": "stdout",
     "output_type": "stream",
     "text": [
      "The average of 5, 10, 15 is 10.0\n"
     ]
    }
   ],
   "source": [
    "# WAP take three number perform the average\n",
    "# a,b,c\n",
    "# avg=(a+b+c)/3\n",
    "# print the statement\n",
    "# the avg of a,b,c is: avg\n",
    "a=5\n",
    "b=10\n",
    "c=15\n",
    "add=a+b+c\n",
    "avg=add/3\n",
    "print(\"The average of {}, {}, {} is {}\".format(a,b,c,avg))"
   ]
  },
  {
   "cell_type": "markdown",
   "id": "345c9a04-20df-49dd-a697-37f9a32a23ca",
   "metadata": {},
   "source": [
    "**f string: formatted string method**"
   ]
  },
  {
   "cell_type": "code",
   "execution_count": 24,
   "id": "bae52aae-1010-497f-a4e5-93cb0e3273ab",
   "metadata": {},
   "outputs": [
    {
     "name": "stdout",
     "output_type": "stream",
     "text": [
      "The addition of 100 and 200 is 300\n"
     ]
    }
   ],
   "source": [
    "num1=100\n",
    "num2=200\n",
    "add=num1+num2\n",
    "# The addition of 100 and 200 is 300\n",
    "print(f\"The addition of {num1} and {num2} is {add}\")"
   ]
  },
  {
   "cell_type": "code",
   "execution_count": 29,
   "id": "16ccf969-38fd-4da3-93f2-b318e54707db",
   "metadata": {},
   "outputs": [
    {
     "name": "stdout",
     "output_type": "stream",
     "text": [
      "The substraction of 100 and 200 is -100\n",
      "The multiplication of 100 and 200 is 20000\n",
      "The division of 100 and 200 is 0.5\n"
     ]
    }
   ],
   "source": [
    "sub=num1-num2\n",
    "print(f\"The substraction of {num1} and {num2} is {sub}\")\n",
    "mul=num1*num2\n",
    "print(f\"The multiplication of {num1} and {num2} is {mul}\")\n",
    "div=num1/num2\n",
    "print(f\"The division of {num1} and {num2} is {div}\")"
   ]
  },
  {
   "cell_type": "markdown",
   "id": "5f195fed-e373-4472-8501-d5d627504978",
   "metadata": {},
   "source": [
    "**round**"
   ]
  },
  {
   "cell_type": "code",
   "execution_count": 32,
   "id": "e38169bd-6289-4494-9406-1749ea00752d",
   "metadata": {},
   "outputs": [
    {
     "name": "stdout",
     "output_type": "stream",
     "text": [
      "11\n"
     ]
    }
   ],
   "source": [
    "print(round(10.77777))"
   ]
  },
  {
   "cell_type": "code",
   "execution_count": 34,
   "id": "4e687d35-c15b-49c0-ad3a-fbf3c87fec2a",
   "metadata": {},
   "outputs": [
    {
     "name": "stdout",
     "output_type": "stream",
     "text": [
      "10.78\n"
     ]
    }
   ],
   "source": [
    "print(round(10.77777,2))"
   ]
  },
  {
   "cell_type": "code",
   "execution_count": 36,
   "id": "45ca09eb-8a3b-4813-badd-22082469654e",
   "metadata": {},
   "outputs": [
    {
     "name": "stdout",
     "output_type": "stream",
     "text": [
      "10.778\n"
     ]
    }
   ],
   "source": [
    "print(round(10.77777,3))"
   ]
  },
  {
   "cell_type": "code",
   "execution_count": 40,
   "id": "62e0833d-a07d-49f7-bef4-b6bc875401c7",
   "metadata": {},
   "outputs": [
    {
     "name": "stdout",
     "output_type": "stream",
     "text": [
      "20.33\n"
     ]
    }
   ],
   "source": [
    "a=11\n",
    "b=20\n",
    "c=30\n",
    "avg=(a+b+c)/3\n",
    "print(round(avg,2))"
   ]
  },
  {
   "cell_type": "code",
   "execution_count": 42,
   "id": "3eb24dd9-eba0-43f0-bbdc-e7e48678d17f",
   "metadata": {},
   "outputs": [],
   "source": [
    "# print multiple statements in one line\n",
    "# we need to use end operator"
   ]
  },
  {
   "cell_type": "markdown",
   "id": "074054c0-0b07-4869-b1be-b342f8aed966",
   "metadata": {},
   "source": [
    "**end operator**"
   ]
  },
  {
   "cell_type": "code",
   "execution_count": 45,
   "id": "c6446525-e405-4b93-9f78-4c668db2ef3f",
   "metadata": {},
   "outputs": [
    {
     "name": "stdout",
     "output_type": "stream",
     "text": [
      "1020\n"
     ]
    }
   ],
   "source": [
    "print(10,end=\"\")\n",
    "print(20)"
   ]
  },
  {
   "cell_type": "code",
   "execution_count": 47,
   "id": "0f1ccd27-6123-4010-8eb4-320a491cb296",
   "metadata": {},
   "outputs": [
    {
     "name": "stdout",
     "output_type": "stream",
     "text": [
      "10 20\n"
     ]
    }
   ],
   "source": [
    "print(10,end=\" \")\n",
    "print(20)"
   ]
  },
  {
   "cell_type": "code",
   "execution_count": 49,
   "id": "58d300e5-0e73-4283-9b0b-223f41a5a49c",
   "metadata": {},
   "outputs": [
    {
     "name": "stdout",
     "output_type": "stream",
     "text": [
      "10===>20\n"
     ]
    }
   ],
   "source": [
    "print(10,end=\"===>\")\n",
    "print(20)"
   ]
  },
  {
   "cell_type": "code",
   "execution_count": 51,
   "id": "fa34a810-d9a7-45f7-9f3d-d7bcc3357f30",
   "metadata": {},
   "outputs": [
    {
     "name": "stdout",
     "output_type": "stream",
     "text": [
      "Hello how are you\n"
     ]
    }
   ],
   "source": [
    "print('Hello',end=' ')\n",
    "print('how',end=' ')\n",
    "print('are',end=' ')\n",
    "print('you')"
   ]
  },
  {
   "cell_type": "code",
   "execution_count": 53,
   "id": "be26ef2b-57b2-401a-a127-277dfaa3725d",
   "metadata": {},
   "outputs": [],
   "source": [
    "# I have multiple values in a single print statement\n",
    "# I want to print them with some separation"
   ]
  },
  {
   "cell_type": "markdown",
   "id": "371175e1-d6e5-4568-b717-c86635ba190c",
   "metadata": {},
   "source": [
    "**sep opeartor**"
   ]
  },
  {
   "cell_type": "code",
   "execution_count": 56,
   "id": "568ec180-7056-467a-b2f5-cd343e9b9de2",
   "metadata": {},
   "outputs": [
    {
     "name": "stdout",
     "output_type": "stream",
     "text": [
      "10===>20===>30\n"
     ]
    }
   ],
   "source": [
    "print(10,20,30,sep='===>')"
   ]
  },
  {
   "cell_type": "code",
   "execution_count": 5,
   "id": "affdfbfb-d0cb-47b0-a614-172608261c79",
   "metadata": {},
   "outputs": [
    {
     "name": "stdout",
     "output_type": "stream",
     "text": [
      "The area of circle is 78.5\n",
      "The area of circle is 78.5\n"
     ]
    }
   ],
   "source": [
    "# WAP take the radius of a circle calculate area of the circle\n",
    "# var: radius var: pi=3.14\n",
    "# formula; pi*radius8radius\n",
    "# print the answers using f string and format\n",
    "\n",
    "rad=5\n",
    "pi=3.14\n",
    "area=pi*rad*rad\n",
    "print(\"The area of circle is {}\".format(area))\n",
    "print(f\"The area of circle is {area}\")"
   ]
  },
  {
   "cell_type": "code",
   "execution_count": 7,
   "id": "6d8fcc5f-d87b-4ace-9eaf-5344836a9dec",
   "metadata": {},
   "outputs": [
    {
     "name": "stdout",
     "output_type": "stream",
     "text": [
      "The area of right angle triangle is 100.0\n",
      "The area of right angle triangle is 100.0\n"
     ]
    }
   ],
   "source": [
    "# WAP take the breadth and height of a right angle triangle\n",
    "# calculate the area\n",
    "# var1: breadth var2: height\n",
    "#formula: 0.5*breadth*height\n",
    "\n",
    "breadth=10\n",
    "height=20\n",
    "area1=0.5*breadth*height\n",
    "print(\"The area of right angle triangle is {}\".format(area1))\n",
    "print(f\"The area of right angle triangle is {area1}\")"
   ]
  },
  {
   "cell_type": "code",
   "execution_count": 9,
   "id": "c298b628-1d62-443a-9d65-0a404285a02e",
   "metadata": {},
   "outputs": [
    {
     "name": "stdout",
     "output_type": "stream",
     "text": [
      "The total amount of customer is 2500\n",
      "The total amount of customer is 2500\n"
     ]
    }
   ],
   "source": [
    "# WAP take the bill amount and tip amount\n",
    "# calculate total bill\n",
    "# var1: bill amount var2: tip amount\n",
    "# formula\n",
    "\n",
    "bill=2000\n",
    "tip=500\n",
    "total=bill+tip\n",
    "print(\"The total amount of customer is {}\".format(total))\n",
    "print(f\"The total amount of customer is {total}\")"
   ]
  },
  {
   "cell_type": "code",
   "execution_count": 1,
   "id": "aef2c4ea-5121-4967-9fff-18bf734936aa",
   "metadata": {},
   "outputs": [
    {
     "name": "stdout",
     "output_type": "stream",
     "text": [
      "The area of rectangle is 600\n",
      "The area of rectangle is 600\n"
     ]
    }
   ],
   "source": [
    "# WAP take the length and breadth of a rectangle calculate area\n",
    "# var1: length var2: breadth\n",
    "# formula: length*breadth\n",
    "\n",
    "length=30\n",
    "breadth=20\n",
    "area2=length*breadth\n",
    "print(\"The area of rectangle is {}\".format(area2))\n",
    "print(f\"The area of rectangle is {area2}\")"
   ]
  },
  {
   "cell_type": "markdown",
   "id": "41ffe906-2f91-4cc0-a16f-64d980629153",
   "metadata": {},
   "source": [
    "**input**\n",
    "- In above we provided the value\n",
    "- input is the inbuilt function\n",
    "- Ising input the user can provide any value  "
   ]
  },
  {
   "cell_type": "code",
   "execution_count": 5,
   "id": "54df0a11-f810-47fe-afcd-85f34aa19046",
   "metadata": {},
   "outputs": [
    {
     "data": {
      "text/plain": [
       "<bound method Kernel.raw_input of <ipykernel.ipkernel.IPythonKernel object at 0x000001E70E9EBFE0>>"
      ]
     },
     "execution_count": 5,
     "metadata": {},
     "output_type": "execute_result"
    }
   ],
   "source": [
    "input"
   ]
  },
  {
   "cell_type": "markdown",
   "id": "135c8083-49ed-4a05-9666-5611096816c8",
   "metadata": {},
   "source": [
    "- Note: Whenever if we see bound method or function which indicates we forggot the brackets"
   ]
  },
  {
   "cell_type": "code",
   "execution_count": 8,
   "id": "25f95355-ab6e-4003-9be9-33570c09a866",
   "metadata": {},
   "outputs": [
    {
     "name": "stdin",
     "output_type": "stream",
     "text": [
      " 100\n"
     ]
    },
    {
     "data": {
      "text/plain": [
       "'100'"
      ]
     },
     "execution_count": 8,
     "metadata": {},
     "output_type": "execute_result"
    }
   ],
   "source": [
    "input()"
   ]
  },
  {
   "cell_type": "code",
   "execution_count": 10,
   "id": "19631f65-e625-4062-aa85-41d965eb3cf7",
   "metadata": {},
   "outputs": [
    {
     "name": "stdin",
     "output_type": "stream",
     "text": [
      " Python\n"
     ]
    },
    {
     "data": {
      "text/plain": [
       "'Python'"
      ]
     },
     "execution_count": 10,
     "metadata": {},
     "output_type": "execute_result"
    }
   ],
   "source": [
    "input()"
   ]
  },
  {
   "cell_type": "code",
   "execution_count": 12,
   "id": "81eb72c5-6d82-456c-ac34-5833b9463566",
   "metadata": {},
   "outputs": [
    {
     "name": "stdin",
     "output_type": "stream",
     "text": [
      " 200\n"
     ]
    }
   ],
   "source": [
    "a=100\n",
    "b=input()"
   ]
  },
  {
   "cell_type": "code",
   "execution_count": 14,
   "id": "cf084424-e1ac-41e3-bc18-5506ee795085",
   "metadata": {},
   "outputs": [
    {
     "name": "stdin",
     "output_type": "stream",
     "text": [
      " Naresh iT\n"
     ]
    }
   ],
   "source": [
    "name=input()"
   ]
  },
  {
   "cell_type": "code",
   "execution_count": 16,
   "id": "2b34d6e7-1590-49ea-8a36-2a6ec55a5af4",
   "metadata": {},
   "outputs": [
    {
     "data": {
      "text/plain": [
       "'Naresh iT'"
      ]
     },
     "execution_count": 16,
     "metadata": {},
     "output_type": "execute_result"
    }
   ],
   "source": [
    "name"
   ]
  },
  {
   "cell_type": "code",
   "execution_count": 21,
   "id": "fab526ba-2c4e-47e8-9f94-c1dc40262c83",
   "metadata": {},
   "outputs": [
    {
     "name": "stdin",
     "output_type": "stream",
     "text": [
      " 100\n",
      " 200\n",
      " 300\n"
     ]
    }
   ],
   "source": [
    "n1=input()    # ni='100'\n",
    "n2=input()    # n2='200'\n",
    "n3=input()    # n3='300'"
   ]
  },
  {
   "cell_type": "code",
   "execution_count": 23,
   "id": "16aaf539-6986-4367-9f0d-094f9f324d4d",
   "metadata": {},
   "outputs": [
    {
     "data": {
      "text/plain": [
       "('100', '200', '300')"
      ]
     },
     "execution_count": 23,
     "metadata": {},
     "output_type": "execute_result"
    }
   ],
   "source": [
    "n1,n2,n3"
   ]
  },
  {
   "cell_type": "code",
   "execution_count": 29,
   "id": "841c41ab-9299-4ef8-b6eb-afff128d6cc7",
   "metadata": {},
   "outputs": [
    {
     "name": "stdin",
     "output_type": "stream",
     "text": [
      "Enter the number1: 200\n",
      "Enter the number2: 300\n"
     ]
    },
    {
     "data": {
      "text/plain": [
       "'200300'"
      ]
     },
     "execution_count": 29,
     "metadata": {},
     "output_type": "execute_result"
    }
   ],
   "source": [
    "n1=input(\"Enter the number1:\")   # n1='200'\n",
    "n2=input(\"Enter the number2:\")   # n2='300'\n",
    "n1+n2   # '200'+'300'='200300'"
   ]
  },
  {
   "cell_type": "markdown",
   "id": "229962aa-34c3-4920-bc1e-89f71b342f79",
   "metadata": {},
   "source": [
    "- Input values by default string type"
   ]
  },
  {
   "cell_type": "code",
   "execution_count": 36,
   "id": "cb0c04d7-cf37-4cba-a8bc-489f160de49e",
   "metadata": {},
   "outputs": [
    {
     "data": {
      "text/plain": [
       "'Apple is a fruit'"
      ]
     },
     "execution_count": 36,
     "metadata": {},
     "output_type": "execute_result"
    }
   ],
   "source": [
    "str1='Apple '\n",
    "str2='is a '\n",
    "str3='fruit'\n",
    "str1+str2+str3"
   ]
  },
  {
   "cell_type": "code",
   "execution_count": 44,
   "id": "c426499a-1d6f-482e-939d-d246b4be4265",
   "metadata": {},
   "outputs": [
    {
     "name": "stdin",
     "output_type": "stream",
     "text": [
      "Enter a string1: Apple \n",
      "Enter a string2: is a \n",
      "Enter a string3: fruit\n"
     ]
    },
    {
     "data": {
      "text/plain": [
       "'Apple is a fruit'"
      ]
     },
     "execution_count": 44,
     "metadata": {},
     "output_type": "execute_result"
    }
   ],
   "source": [
    "str1=input(\"Enter a string1:\")\n",
    "str2=input(\"Enter a string2:\")\n",
    "str3=input(\"Enter a string3:\")\n",
    "str1+str2+str3"
   ]
  },
  {
   "cell_type": "markdown",
   "id": "74c50e3d-cac1-435f-87ed-ca57f0275d8b",
   "metadata": {},
   "source": [
    "**eval**\n",
    "- eval means evaluate\n",
    "- It is related to math family\n",
    "- Which means it works only number represents as strings\n",
    "- It will not work on english letters\n",
    "- eval will convert the respective data type which is user enters\n",
    "- If user enter 10 in quotes it will convert into 10\n",
    "- If user enter 10.5 in quotes it will convert into 10.5"
   ]
  },
  {
   "cell_type": "code",
   "execution_count": 47,
   "id": "bcc8ea30-05ea-4de4-9dc3-7b0a274af0f4",
   "metadata": {},
   "outputs": [
    {
     "ename": "ValueError",
     "evalue": "invalid literal for int() with base 10: '10.5'",
     "output_type": "error",
     "traceback": [
      "\u001b[1;31m---------------------------------------------------------------------------\u001b[0m",
      "\u001b[1;31mValueError\u001b[0m                                Traceback (most recent call last)",
      "Cell \u001b[1;32mIn[47], line 2\u001b[0m\n\u001b[0;32m      1\u001b[0m \u001b[38;5;28mint\u001b[39m(\u001b[38;5;124m'\u001b[39m\u001b[38;5;124m10\u001b[39m\u001b[38;5;124m'\u001b[39m)      \u001b[38;5;66;03m# 10\u001b[39;00m\n\u001b[1;32m----> 2\u001b[0m \u001b[38;5;28mint\u001b[39m(\u001b[38;5;124m'\u001b[39m\u001b[38;5;124m10.5\u001b[39m\u001b[38;5;124m'\u001b[39m)   \u001b[38;5;66;03m# error\u001b[39;00m\n\u001b[0;32m      4\u001b[0m \u001b[38;5;28mfloat\u001b[39m(\u001b[38;5;124m'\u001b[39m\u001b[38;5;124m10\u001b[39m\u001b[38;5;124m'\u001b[39m)   \u001b[38;5;66;03m# 10.0\u001b[39;00m\n\u001b[0;32m      5\u001b[0m \u001b[38;5;28mfloat\u001b[39m(\u001b[38;5;124m'\u001b[39m\u001b[38;5;124m10.5\u001b[39m\u001b[38;5;124m'\u001b[39m)\n",
      "\u001b[1;31mValueError\u001b[0m: invalid literal for int() with base 10: '10.5'"
     ]
    }
   ],
   "source": [
    "int('10')      # 10\n",
    "int('10.5')   # error\n",
    "\n",
    "float('10')   # 10.0\n",
    "float('10.5') # 10.5"
   ]
  },
  {
   "cell_type": "code",
   "execution_count": 49,
   "id": "40e1cf9c-a0ea-4150-9744-80551d85c216",
   "metadata": {},
   "outputs": [
    {
     "data": {
      "text/plain": [
       "(10, 10.5)"
      ]
     },
     "execution_count": 49,
     "metadata": {},
     "output_type": "execute_result"
    }
   ],
   "source": [
    "eval('10'),eval('10.5')"
   ]
  },
  {
   "cell_type": "code",
   "execution_count": 51,
   "id": "117688eb-fe92-4f0f-99db-1bdd7f9fd46e",
   "metadata": {},
   "outputs": [
    {
     "name": "stdin",
     "output_type": "stream",
     "text": [
      "Enter the number1: 200\n",
      "Enter the number2: 300\n"
     ]
    },
    {
     "data": {
      "text/plain": [
       "500"
      ]
     },
     "execution_count": 51,
     "metadata": {},
     "output_type": "execute_result"
    }
   ],
   "source": [
    "n1=eval(input(\"Enter the number1:\"))\n",
    "n2=eval(input(\"Enter the number2:\"))\n",
    "n1+n2"
   ]
  },
  {
   "cell_type": "code",
   "execution_count": 69,
   "id": "254591dc-fbd5-4fd7-83f1-b14aff338ab3",
   "metadata": {},
   "outputs": [
    {
     "name": "stdin",
     "output_type": "stream",
     "text": [
      "Enter the first number: 10\n",
      "Enter the second number: 20\n",
      "Enter the third number: 30\n"
     ]
    },
    {
     "name": "stdout",
     "output_type": "stream",
     "text": [
      "The average of three numbers is 20.0\n"
     ]
    }
   ],
   "source": [
    "# WAP ask the user enter 3 numbers n1,n2,n3 from keyboard\n",
    "# calculate average\n",
    "\n",
    "n1=eval(input(\"Enter the first number:\"))\n",
    "n2=eval(input(\"Enter the second number:\"))\n",
    "n3=eval(input(\"Enter the third number:\"))\n",
    "avg=(n1+n2+n3)/3\n",
    "print(f\"The average of three numbers is {avg}\")"
   ]
  },
  {
   "cell_type": "code",
   "execution_count": 73,
   "id": "f9a0939b-25c2-4efa-a5af-5815f1fc7049",
   "metadata": {},
   "outputs": [
    {
     "name": "stdin",
     "output_type": "stream",
     "text": [
      "Enter the name: python\n",
      "Enter the age: 10\n",
      "Enter the city: hyd\n"
     ]
    },
    {
     "name": "stdout",
     "output_type": "stream",
     "text": [
      "My name is python I am 10 years old and came from hyd\n"
     ]
    }
   ],
   "source": [
    "# WAP ask the user enter name, age, city\n",
    "# print my name is python im 10 years old and came from hyd\n",
    "\n",
    "name=input(\"Enter the name:\")\n",
    "age=eval(input(\"Enter the age:\"))\n",
    "city=input(\"Enter the city:\")\n",
    "print(f\"My name is {name} I am {age} years old and came from {city}\")"
   ]
  },
  {
   "cell_type": "code",
   "execution_count": 1,
   "id": "4033c31b-0da9-4e68-9621-56463d50ea69",
   "metadata": {},
   "outputs": [
    {
     "name": "stdin",
     "output_type": "stream",
     "text": [
      "Enter the radius: 5\n"
     ]
    },
    {
     "name": "stdout",
     "output_type": "stream",
     "text": [
      "The area of circle is 78.5\n"
     ]
    }
   ],
   "source": [
    "# WAP ask the user to enter the radius of a circle calculate area of the circle\n",
    "# var: radius var: pi=3.14\n",
    "# formula; pi*radius8radius\n",
    "# print the answers using f string and format\n",
    "\n",
    "radius=eval(input(\"Enter the radius:\"))\n",
    "pi=3.14\n",
    "area=pi*radius*radius\n",
    "print(f\"The area of circle is {area}\")"
   ]
  },
  {
   "cell_type": "code",
   "execution_count": 3,
   "id": "296ce2e4-4059-4fdf-a98c-b4c05c906398",
   "metadata": {},
   "outputs": [
    {
     "name": "stdin",
     "output_type": "stream",
     "text": [
      "Enter the breadth of triangle: 10\n",
      "Enter the height of triangle: 20\n"
     ]
    },
    {
     "name": "stdout",
     "output_type": "stream",
     "text": [
      "The area of right angle triangle is 100.0\n"
     ]
    }
   ],
   "source": [
    "# WAP ask the user to enter the breadth and height of a right angle triangle\n",
    "# calculate the area\n",
    "# var1: breadth var2: height\n",
    "#formula: 0.5*breadth*height\n",
    "\n",
    "breadth=eval(input(\"Enter the breadth of triangle:\"))\n",
    "height=eval(input(\"Enter the height of triangle:\"))\n",
    "area1=0.5*breadth*height\n",
    "print(f\"The area of right angle triangle is {area1}\")"
   ]
  },
  {
   "cell_type": "code",
   "execution_count": 5,
   "id": "e623aa84-fee8-418f-9724-0d8f508bc8d5",
   "metadata": {},
   "outputs": [
    {
     "name": "stdin",
     "output_type": "stream",
     "text": [
      "Enter the bill amount of customer: 2000\n",
      "Enter the tip amount of customer: 200\n"
     ]
    },
    {
     "name": "stdout",
     "output_type": "stream",
     "text": [
      "The total amount of customer is 2200\n"
     ]
    }
   ],
   "source": [
    "# WAP ask the user to enter the bill amount and tip amount\n",
    "# calculate total bill\n",
    "# var1: bill amount var2: tip amount\n",
    "# formula\n",
    "\n",
    "bill=eval(input(\"Enter the bill amount of customer:\"))\n",
    "tip=eval(input(\"Enter the tip amount of customer:\"))\n",
    "total=bill+tip\n",
    "print(f\"The total amount of customer is {total}\")"
   ]
  },
  {
   "cell_type": "code",
   "execution_count": 9,
   "id": "b04cfec1-0e25-487b-994d-5266c8f50f73",
   "metadata": {},
   "outputs": [
    {
     "name": "stdin",
     "output_type": "stream",
     "text": [
      "Enter the bill amount of customer: 2000\n",
      "Enter the tip percentage of customer: 10\n"
     ]
    },
    {
     "name": "stdout",
     "output_type": "stream",
     "text": [
      "The total amount of customer is 2200.0\n"
     ]
    }
   ],
   "source": [
    "# WAP ask the user to enter the bill amount and tip percentage\n",
    "# take the percentage as 10\n",
    "# calculate total bill=bill amount+tip per/100\n",
    "# var1: bill amount var2: tip perc\n",
    "\n",
    "bill_amount=eval(input(\"Enter the bill amount of customer:\"))\n",
    "tip_percent=eval(input(\"Enter the tip percentage of customer:\"))\n",
    "total_amount=bill_amount+bill_amount*tip_percent/100\n",
    "print(f\"The total amount of customer is {total_amount}\")"
   ]
  },
  {
   "cell_type": "code",
   "execution_count": 11,
   "id": "5a69340f-8796-417a-b687-53c1c04d5075",
   "metadata": {},
   "outputs": [
    {
     "name": "stdin",
     "output_type": "stream",
     "text": [
      "Enter the length of rectangle: 30\n",
      "Enter the breadth of rectangle: 20\n"
     ]
    },
    {
     "name": "stdout",
     "output_type": "stream",
     "text": [
      "The area of rectangle is 600\n"
     ]
    }
   ],
   "source": [
    "# WAP ask the user the length and breadth of a rectangle calculate area\n",
    "# var1: length var2: breadth\n",
    "# formula: length*breadth\n",
    "\n",
    "length=eval(input(\"Enter the length of rectangle:\"))\n",
    "breadth=eval(input(\"Enter the breadth of rectangle:\"))\n",
    "area2=length*breadth\n",
    "print(f\"The area of rectangle is {area2}\")"
   ]
  },
  {
   "cell_type": "code",
   "execution_count": 13,
   "id": "dd8cb26f-7648-4232-98e7-cac67fb8678c",
   "metadata": {},
   "outputs": [
    {
     "name": "stdin",
     "output_type": "stream",
     "text": [
      "Enter the radius of sphere: 10\n"
     ]
    },
    {
     "name": "stdout",
     "output_type": "stream",
     "text": [
      "The area of circle is 314.0\n"
     ]
    }
   ],
   "source": [
    "# WAP ask the user take the radius and calculate volume of sphere\n",
    "# formula: pi*r**3   (pi*r*r*r)\n",
    "\n",
    "radius=eval(input(\"Enter the radius of sphere:\"))\n",
    "pi=3.14\n",
    "volume=pi*radius*radius\n",
    "print(f\"The area of circle is {volume}\")"
   ]
  },
  {
   "cell_type": "code",
   "execution_count": 17,
   "id": "0c1b30a1-1224-4820-a6f1-53b5986484e5",
   "metadata": {},
   "outputs": [
    {
     "name": "stdin",
     "output_type": "stream",
     "text": [
      "Enter the amount in dollars: 50\n"
     ]
    },
    {
     "name": "stdout",
     "output_type": "stream",
     "text": [
      "The amount conversion of $50 into ₹4250\n"
     ]
    }
   ],
   "source": [
    "# WAP ask the user to enter amount in dollars convert into rupees\n",
    "# 1$=85rs\n",
    "\n",
    "dollar=eval(input(\"Enter the amount in dollars:\"))\n",
    "rupee=85*dollar\n",
    "print(f\"The amount conversion of ${dollar} into ₹{rupee}\")"
   ]
  },
  {
   "cell_type": "code",
   "execution_count": 23,
   "id": "06361ed5-117e-47c0-998b-8061f70a6d1c",
   "metadata": {},
   "outputs": [
    {
     "name": "stdin",
     "output_type": "stream",
     "text": [
      "Enter the weight in kilograms: 10\n"
     ]
    },
    {
     "name": "stdout",
     "output_type": "stream",
     "text": [
      "The weight conversion of 10KGs into 22.0Pounds\n"
     ]
    }
   ],
   "source": [
    "# WAP ask the user to enter weight in kgs convert into pounds\n",
    "# 1kg=2.2pounds\n",
    "\n",
    "kilograms=eval(input(\"Enter the weight in kilograms:\"))\n",
    "pounds=2.2*kilograms\n",
    "print(f\"The weight conversion of {kilograms}KGs into {pounds}Pounds\")"
   ]
  }
 ],
 "metadata": {
  "kernelspec": {
   "display_name": "Python [conda env:base] *",
   "language": "python",
   "name": "conda-base-py"
  },
  "language_info": {
   "codemirror_mode": {
    "name": "ipython",
    "version": 3
   },
   "file_extension": ".py",
   "mimetype": "text/x-python",
   "name": "python",
   "nbconvert_exporter": "python",
   "pygments_lexer": "ipython3",
   "version": "3.12.7"
  }
 },
 "nbformat": 4,
 "nbformat_minor": 5
}
