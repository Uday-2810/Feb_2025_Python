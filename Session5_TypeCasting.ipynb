{
 "cells": [
  {
   "cell_type": "markdown",
   "id": "31d4a0be-ffd3-40c3-97f2-e41ee244bfac",
   "metadata": {},
   "source": [
    "## Type Casting\n",
    "- Convert one data type to another data type\n",
    "- We learned 4 data types\n",
    "  - Integer: int\n",
    "  - Float: float\n",
    "  - Boolean: bool\n",
    "  - String: str"
   ]
  },
  {
   "cell_type": "markdown",
   "id": "4db89d26-e1eb-4942-a741-22e69940d560",
   "metadata": {},
   "source": [
    "#### Integer to other data types"
   ]
  },
  {
   "cell_type": "code",
   "execution_count": 2,
   "id": "fc590d04-13f2-47f2-ba65-fbea03b90295",
   "metadata": {},
   "outputs": [
    {
     "data": {
      "text/plain": [
       "int"
      ]
     },
     "execution_count": 2,
     "metadata": {},
     "output_type": "execute_result"
    }
   ],
   "source": [
    "num=100\n",
    "type(num)"
   ]
  },
  {
   "cell_type": "code",
   "execution_count": 4,
   "id": "aead463a-3f0e-495f-87a1-1116454e16fc",
   "metadata": {},
   "outputs": [
    {
     "data": {
      "text/plain": [
       "float"
      ]
     },
     "execution_count": 4,
     "metadata": {},
     "output_type": "execute_result"
    }
   ],
   "source": [
    "float_num=float(num)\n",
    "type(float_num)"
   ]
  },
  {
   "cell_type": "code",
   "execution_count": 6,
   "id": "8affbb4d-30da-4cf0-8a69-91fb83a7589f",
   "metadata": {},
   "outputs": [
    {
     "data": {
      "text/plain": [
       "bool"
      ]
     },
     "execution_count": 6,
     "metadata": {},
     "output_type": "execute_result"
    }
   ],
   "source": [
    "bool_num=bool(num)\n",
    "type(bool_num)"
   ]
  },
  {
   "cell_type": "code",
   "execution_count": 8,
   "id": "cfc48856-7a29-47fc-8282-439577d0d23c",
   "metadata": {},
   "outputs": [
    {
     "data": {
      "text/plain": [
       "str"
      ]
     },
     "execution_count": 8,
     "metadata": {},
     "output_type": "execute_result"
    }
   ],
   "source": [
    "str_num=str(num)\n",
    "type(str_num)"
   ]
  },
  {
   "cell_type": "code",
   "execution_count": 10,
   "id": "17551490-22cf-46dd-a5f6-fd0744d06521",
   "metadata": {},
   "outputs": [
    {
     "data": {
      "text/plain": [
       "(100.0, True, '100')"
      ]
     },
     "execution_count": 10,
     "metadata": {},
     "output_type": "execute_result"
    }
   ],
   "source": [
    "float(100),bool(100),str(100)"
   ]
  },
  {
   "cell_type": "code",
   "execution_count": 12,
   "id": "48130ba4-427f-42a8-b4f6-ba90ad4bb49e",
   "metadata": {},
   "outputs": [
    {
     "name": "stdout",
     "output_type": "stream",
     "text": [
      "100.0\n",
      "True\n",
      "100\n"
     ]
    }
   ],
   "source": [
    "print(float(100))\n",
    "print(bool(100))\n",
    "print(str(100))"
   ]
  },
  {
   "cell_type": "code",
   "execution_count": 14,
   "id": "b820b86c-7fd9-43ee-a1aa-f8ae91d36502",
   "metadata": {},
   "outputs": [
    {
     "data": {
      "text/plain": [
       "int"
      ]
     },
     "execution_count": 14,
     "metadata": {},
     "output_type": "execute_result"
    }
   ],
   "source": [
    "num1=-100\n",
    "type(num1)"
   ]
  },
  {
   "cell_type": "code",
   "execution_count": 16,
   "id": "a0b5cdca-832f-4dad-bb4b-2b01ebe00025",
   "metadata": {},
   "outputs": [
    {
     "data": {
      "text/plain": [
       "(-100.0, True, '-100')"
      ]
     },
     "execution_count": 16,
     "metadata": {},
     "output_type": "execute_result"
    }
   ],
   "source": [
    "float(-100),bool(-100),str(-100)"
   ]
  },
  {
   "cell_type": "code",
   "execution_count": 18,
   "id": "883d4cdf-1406-4856-bf53-1d2d08820394",
   "metadata": {},
   "outputs": [
    {
     "data": {
      "text/plain": [
       "int"
      ]
     },
     "execution_count": 18,
     "metadata": {},
     "output_type": "execute_result"
    }
   ],
   "source": [
    "num2=0\n",
    "type(num2)"
   ]
  },
  {
   "cell_type": "code",
   "execution_count": 22,
   "id": "698ba7d5-0eb8-4334-ab6d-349a3d0e9772",
   "metadata": {},
   "outputs": [
    {
     "data": {
      "text/plain": [
       "(0.0, False, '0')"
      ]
     },
     "execution_count": 22,
     "metadata": {},
     "output_type": "execute_result"
    }
   ],
   "source": [
    "float(0),bool(0),str(0)"
   ]
  },
  {
   "cell_type": "markdown",
   "id": "3f72bf6c-990e-4855-aba6-b89a7e5d41d0",
   "metadata": {},
   "source": [
    "#### Float to other data types"
   ]
  },
  {
   "cell_type": "code",
   "execution_count": 26,
   "id": "25e440dd-d06c-42e5-b28d-a7a0bdd55bbc",
   "metadata": {},
   "outputs": [
    {
     "data": {
      "text/plain": [
       "float"
      ]
     },
     "execution_count": 26,
     "metadata": {},
     "output_type": "execute_result"
    }
   ],
   "source": [
    "number=99.9\n",
    "type(number)"
   ]
  },
  {
   "cell_type": "code",
   "execution_count": 28,
   "id": "a04952cd-9936-42db-bba7-0c4ffbbbf607",
   "metadata": {},
   "outputs": [
    {
     "data": {
      "text/plain": [
       "(99, True, '99.9')"
      ]
     },
     "execution_count": 28,
     "metadata": {},
     "output_type": "execute_result"
    }
   ],
   "source": [
    "int(99.9),bool(99.9),str(99.9)"
   ]
  },
  {
   "cell_type": "code",
   "execution_count": 30,
   "id": "2f68b83f-4751-4be0-8b1f-1b19c558fc68",
   "metadata": {},
   "outputs": [
    {
     "data": {
      "text/plain": [
       "float"
      ]
     },
     "execution_count": 30,
     "metadata": {},
     "output_type": "execute_result"
    }
   ],
   "source": [
    "number1=0.0\n",
    "type(number1)"
   ]
  },
  {
   "cell_type": "code",
   "execution_count": 32,
   "id": "55d666ef-fb1d-4c02-a10c-e5d57bb0541a",
   "metadata": {},
   "outputs": [
    {
     "data": {
      "text/plain": [
       "(0, False, '0.0')"
      ]
     },
     "execution_count": 32,
     "metadata": {},
     "output_type": "execute_result"
    }
   ],
   "source": [
    "int(0.0),bool(0.0),str(0.0)"
   ]
  },
  {
   "cell_type": "markdown",
   "id": "afd81bd9-bfa9-4d13-9792-a7b9c9a61756",
   "metadata": {},
   "source": [
    "#### String to other data types"
   ]
  },
  {
   "cell_type": "code",
   "execution_count": 35,
   "id": "3d21b671-b7fd-4c19-8c8c-f2beb2e3e497",
   "metadata": {},
   "outputs": [
    {
     "data": {
      "text/plain": [
       "str"
      ]
     },
     "execution_count": 35,
     "metadata": {},
     "output_type": "execute_result"
    }
   ],
   "source": [
    "val='apple'\n",
    "type(val)"
   ]
  },
  {
   "cell_type": "code",
   "execution_count": 39,
   "id": "e91903e0-de88-42de-8d84-b1ae607967e5",
   "metadata": {},
   "outputs": [
    {
     "ename": "ValueError",
     "evalue": "invalid literal for int() with base 10: 'apple'",
     "output_type": "error",
     "traceback": [
      "\u001b[1;31m---------------------------------------------------------------------------\u001b[0m",
      "\u001b[1;31mValueError\u001b[0m                                Traceback (most recent call last)",
      "Cell \u001b[1;32mIn[39], line 1\u001b[0m\n\u001b[1;32m----> 1\u001b[0m \u001b[38;5;28mprint\u001b[39m(\u001b[38;5;28mint\u001b[39m(val))\n\u001b[0;32m      2\u001b[0m \u001b[38;5;28mprint\u001b[39m(\u001b[38;5;28mfloat\u001b[39m(val))\n",
      "\u001b[1;31mValueError\u001b[0m: invalid literal for int() with base 10: 'apple'"
     ]
    }
   ],
   "source": [
    "print(int(val))\n",
    "print(float(val))"
   ]
  },
  {
   "cell_type": "code",
   "execution_count": 41,
   "id": "ca73c213-bb17-41b3-9a19-d4576b0c5534",
   "metadata": {},
   "outputs": [
    {
     "name": "stdout",
     "output_type": "stream",
     "text": [
      "True\n"
     ]
    }
   ],
   "source": [
    "print(bool(val))"
   ]
  },
  {
   "cell_type": "markdown",
   "id": "cca3d025-5883-4776-8ce4-bbd7f1e61696",
   "metadata": {},
   "source": [
    "- True means something is present\n",
    "- False means anything is not present"
   ]
  },
  {
   "cell_type": "code",
   "execution_count": 44,
   "id": "6a5421df-2f33-44d6-8286-f5cfcb37a18b",
   "metadata": {},
   "outputs": [
    {
     "data": {
      "text/plain": [
       "True"
      ]
     },
     "execution_count": 44,
     "metadata": {},
     "output_type": "execute_result"
    }
   ],
   "source": [
    "bool('0')"
   ]
  },
  {
   "cell_type": "code",
   "execution_count": 46,
   "id": "5918aafa-bd57-4e7e-b825-0db8f0f0e94e",
   "metadata": {},
   "outputs": [
    {
     "data": {
      "text/plain": [
       "False"
      ]
     },
     "execution_count": 46,
     "metadata": {},
     "output_type": "execute_result"
    }
   ],
   "source": [
    "bool('')"
   ]
  },
  {
   "cell_type": "code",
   "execution_count": 48,
   "id": "94a44258-ade8-4ed7-a566-bae7132874ec",
   "metadata": {},
   "outputs": [
    {
     "data": {
      "text/plain": [
       "5"
      ]
     },
     "execution_count": 48,
     "metadata": {},
     "output_type": "execute_result"
    }
   ],
   "source": [
    "len(val)"
   ]
  },
  {
   "cell_type": "code",
   "execution_count": 50,
   "id": "0798afe6-ad7a-4f06-8020-59c50fedaad4",
   "metadata": {},
   "outputs": [
    {
     "data": {
      "text/plain": [
       "1"
      ]
     },
     "execution_count": 50,
     "metadata": {},
     "output_type": "execute_result"
    }
   ],
   "source": [
    "len('0')"
   ]
  },
  {
   "cell_type": "code",
   "execution_count": 52,
   "id": "4bf4e7fa-4d9f-4fc2-a274-3a0ae0057d9c",
   "metadata": {},
   "outputs": [
    {
     "data": {
      "text/plain": [
       "0"
      ]
     },
     "execution_count": 52,
     "metadata": {},
     "output_type": "execute_result"
    }
   ],
   "source": [
    "len('')"
   ]
  },
  {
   "cell_type": "code",
   "execution_count": 54,
   "id": "e62ba900-0ff9-4138-8853-204dbc90abcb",
   "metadata": {},
   "outputs": [
    {
     "data": {
      "text/plain": [
       "1"
      ]
     },
     "execution_count": 54,
     "metadata": {},
     "output_type": "execute_result"
    }
   ],
   "source": [
    "len(' ')"
   ]
  },
  {
   "cell_type": "markdown",
   "id": "312b7f80-4308-4956-949c-374ab8bf0b64",
   "metadata": {},
   "source": [
    "- For number 0 and 0.0 boolean conversion gives **False**\n",
    "- For strings empty string boolean conversion gives **False**"
   ]
  },
  {
   "cell_type": "code",
   "execution_count": 59,
   "id": "88d77eb8-6cf1-4c87-b1aa-e2335806d797",
   "metadata": {},
   "outputs": [
    {
     "name": "stdout",
     "output_type": "stream",
     "text": [
      "10.0\n",
      "True\n",
      "10\n"
     ]
    }
   ],
   "source": [
    "print(float('10'))\n",
    "print(bool('10'))\n",
    "print(int('10'))"
   ]
  },
  {
   "cell_type": "code",
   "execution_count": 61,
   "id": "97f37843-a538-4c39-83a7-d07d91eeb45d",
   "metadata": {},
   "outputs": [
    {
     "name": "stdout",
     "output_type": "stream",
     "text": [
      "10.5\n",
      "True\n"
     ]
    },
    {
     "ename": "ValueError",
     "evalue": "invalid literal for int() with base 10: '10.5'",
     "output_type": "error",
     "traceback": [
      "\u001b[1;31m---------------------------------------------------------------------------\u001b[0m",
      "\u001b[1;31mValueError\u001b[0m                                Traceback (most recent call last)",
      "Cell \u001b[1;32mIn[61], line 3\u001b[0m\n\u001b[0;32m      1\u001b[0m \u001b[38;5;28mprint\u001b[39m(\u001b[38;5;28mfloat\u001b[39m(\u001b[38;5;124m'\u001b[39m\u001b[38;5;124m10.5\u001b[39m\u001b[38;5;124m'\u001b[39m))\n\u001b[0;32m      2\u001b[0m \u001b[38;5;28mprint\u001b[39m(\u001b[38;5;28mbool\u001b[39m(\u001b[38;5;124m'\u001b[39m\u001b[38;5;124m10.5\u001b[39m\u001b[38;5;124m'\u001b[39m))\n\u001b[1;32m----> 3\u001b[0m \u001b[38;5;28mprint\u001b[39m(\u001b[38;5;28mint\u001b[39m(\u001b[38;5;124m'\u001b[39m\u001b[38;5;124m10.5\u001b[39m\u001b[38;5;124m'\u001b[39m))\n",
      "\u001b[1;31mValueError\u001b[0m: invalid literal for int() with base 10: '10.5'"
     ]
    }
   ],
   "source": [
    "print(float('10.5'))\n",
    "print(bool('10.5'))\n",
    "print(int('10.5'))"
   ]
  },
  {
   "cell_type": "code",
   "execution_count": 67,
   "id": "fe6139f2-715a-49e1-a013-d94d824fb392",
   "metadata": {},
   "outputs": [
    {
     "name": "stdout",
     "output_type": "stream",
     "text": [
      "10.0\n",
      "10.5\n",
      "10\n"
     ]
    },
    {
     "ename": "ValueError",
     "evalue": "invalid literal for int() with base 10: '10.5'",
     "output_type": "error",
     "traceback": [
      "\u001b[1;31m---------------------------------------------------------------------------\u001b[0m",
      "\u001b[1;31mValueError\u001b[0m                                Traceback (most recent call last)",
      "Cell \u001b[1;32mIn[67], line 5\u001b[0m\n\u001b[0;32m      3\u001b[0m \u001b[38;5;28mprint\u001b[39m(\u001b[38;5;28mfloat\u001b[39m(\u001b[38;5;124m'\u001b[39m\u001b[38;5;124m10.5\u001b[39m\u001b[38;5;124m'\u001b[39m))  \u001b[38;5;66;03m# works\u001b[39;00m\n\u001b[0;32m      4\u001b[0m \u001b[38;5;28mprint\u001b[39m(\u001b[38;5;28mint\u001b[39m(\u001b[38;5;124m'\u001b[39m\u001b[38;5;124m10\u001b[39m\u001b[38;5;124m'\u001b[39m))     \u001b[38;5;66;03m# works\u001b[39;00m\n\u001b[1;32m----> 5\u001b[0m \u001b[38;5;28mprint\u001b[39m(\u001b[38;5;28mint\u001b[39m(\u001b[38;5;124m'\u001b[39m\u001b[38;5;124m10.5\u001b[39m\u001b[38;5;124m'\u001b[39m))\n",
      "\u001b[1;31mValueError\u001b[0m: invalid literal for int() with base 10: '10.5'"
     ]
    }
   ],
   "source": [
    "# float is the boss\n",
    "print(float('10'))   # works\n",
    "print(float('10.5'))  # works\n",
    "print(int('10'))     # works\n",
    "print(int('10.5'))   # fails"
   ]
  },
  {
   "cell_type": "markdown",
   "id": "53117321-974f-4e43-94c8-cd67a8e01fe9",
   "metadata": {},
   "source": [
    "#### Boolean to other data types"
   ]
  },
  {
   "cell_type": "code",
   "execution_count": 69,
   "id": "910efbd1-d242-4f3f-8822-911bb27ab148",
   "metadata": {},
   "outputs": [
    {
     "name": "stdout",
     "output_type": "stream",
     "text": [
      "1\n",
      "1.0\n",
      "True\n",
      "0\n",
      "0.0\n",
      "False\n"
     ]
    }
   ],
   "source": [
    "print(int(True))\n",
    "print(float(True))\n",
    "print(str(True))\n",
    "print(int(False))\n",
    "print(float(False))\n",
    "print(str(False))"
   ]
  }
 ],
 "metadata": {
  "kernelspec": {
   "display_name": "Python [conda env:base] *",
   "language": "python",
   "name": "conda-base-py"
  },
  "language_info": {
   "codemirror_mode": {
    "name": "ipython",
    "version": 3
   },
   "file_extension": ".py",
   "mimetype": "text/x-python",
   "name": "python",
   "nbconvert_exporter": "python",
   "pygments_lexer": "ipython3",
   "version": "3.12.7"
  }
 },
 "nbformat": 4,
 "nbformat_minor": 5
}
