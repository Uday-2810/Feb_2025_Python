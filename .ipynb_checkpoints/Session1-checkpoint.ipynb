{
 "cells": [
  {
   "cell_type": "markdown",
   "id": "8686609e-7df4-4fb7-990a-4553af6a5d03",
   "metadata": {},
   "source": [
    "**Do not do over action, only action**\n",
    "\n",
    "**Chat with  ChatGPT**"
   ]
  },
  {
   "cell_type": "code",
   "execution_count": 1,
   "id": "b9090f51-ebe5-440e-ac79-4e4c5a22242e",
   "metadata": {},
   "outputs": [
    {
     "name": "stdout",
     "output_type": "stream",
     "text": [
      "30\n"
     ]
    }
   ],
   "source": [
    "a=10\n",
    "b=20\n",
    "c=a+b\n",
    "print(c)"
   ]
  },
  {
   "cell_type": "code",
   "execution_count": 3,
   "id": "53d1bedb-1ece-4a3f-afa5-3b11480469fa",
   "metadata": {},
   "outputs": [
    {
     "name": "stdout",
     "output_type": "stream",
     "text": [
      "20\n"
     ]
    }
   ],
   "source": [
    "print(b)"
   ]
  }
 ],
 "metadata": {
  "kernelspec": {
   "display_name": "Python [conda env:base] *",
   "language": "python",
   "name": "conda-base-py"
  },
  "language_info": {
   "codemirror_mode": {
    "name": "ipython",
    "version": 3
   },
   "file_extension": ".py",
   "mimetype": "text/x-python",
   "name": "python",
   "nbconvert_exporter": "python",
   "pygments_lexer": "ipython3",
   "version": "3.12.7"
  }
 },
 "nbformat": 4,
 "nbformat_minor": 5
}
