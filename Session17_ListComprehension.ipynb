{
 "cells": [
  {
   "cell_type": "markdown",
   "id": "6358fb76-ef2a-4380-9efa-28e6208e1978",
   "metadata": {},
   "source": [
    "## List Comprehension\n",
    "- List comprehension is a way to write list operations in a single line\n",
    "- When we apply for loop and if-else conditional statements then the code compilation becomes slow\n",
    "- Which means it takes much time\n",
    "- Inorder to avoid the time complexity we will use list comprehension\n",
    "- List comprehension is a single line code"
   ]
  },
  {
   "cell_type": "code",
   "execution_count": 2,
   "id": "ca9f12cd-03ab-45ab-8be3-d51ece9442dd",
   "metadata": {},
   "outputs": [
    {
     "data": {
      "text/plain": [
       "[0, 1, 2, 3, 4, 5, 6, 7, 8, 9]"
      ]
     },
     "execution_count": 2,
     "metadata": {},
     "output_type": "execute_result"
    }
   ],
   "source": [
    "list1=[]\n",
    "for i in range(10):\n",
    "    list1.append(i)\n",
    "list1"
   ]
  },
  {
   "cell_type": "code",
   "execution_count": null,
   "id": "aa0618a8-0149-404b-9eb2-07d1c23a2be9",
   "metadata": {},
   "outputs": [],
   "source": [
    "list1=[<output var> <for loop>]"
   ]
  },
  {
   "cell_type": "code",
   "execution_count": 4,
   "id": "f0dcedc1-b448-4a1b-9f95-ddd2e6e12c7f",
   "metadata": {},
   "outputs": [
    {
     "data": {
      "text/plain": [
       "[0, 1, 2, 3, 4, 5, 6, 7, 8, 9]"
      ]
     },
     "execution_count": 4,
     "metadata": {},
     "output_type": "execute_result"
    }
   ],
   "source": [
    "list1=[i for i in range(10)]\n",
    "list1"
   ]
  },
  {
   "cell_type": "code",
   "execution_count": 6,
   "id": "804b660d-d9a4-4da2-b16d-84bc816a239f",
   "metadata": {},
   "outputs": [
    {
     "name": "stdout",
     "output_type": "stream",
     "text": [
      "['Hyd', 'Bengaluru', 'Pune', 'Mumbai']\n"
     ]
    }
   ],
   "source": [
    "input_list =['hyd','bengaluru','pune','mumbai']\n",
    "output_list=[city.capitalize() for city in input_list]\n",
    "print(output_list)"
   ]
  },
  {
   "cell_type": "code",
   "execution_count": 8,
   "id": "0a9d87f3-d29f-4ef3-b134-bbc37438cac9",
   "metadata": {},
   "outputs": [
    {
     "name": "stdout",
     "output_type": "stream",
     "text": [
      "['HYD', 'BENGALURU', 'PUNE', 'MUMBAI']\n"
     ]
    }
   ],
   "source": [
    "input_list=['hyd','bengaluru','pune','mumbai']\n",
    "output_list = [city.upper() for city in input_list]\n",
    "print(output_list)"
   ]
  },
  {
   "cell_type": "code",
   "execution_count": 20,
   "id": "2df9f3c0-278e-4e34-a2ab-6e8925c4e239",
   "metadata": {},
   "outputs": [
    {
     "name": "stdout",
     "output_type": "stream",
     "text": [
      "[0, 10, 20, 30]\n"
     ]
    }
   ],
   "source": [
    "input_list=['hyd','bengaluru','pune','mumbai']\n",
    "output_list = [input_list.index(city)*10 for city in input_list]\n",
    "print(output_list)"
   ]
  },
  {
   "cell_type": "code",
   "execution_count": 26,
   "id": "ce463b2b-35b8-4bb7-b2b7-9d44790d23d7",
   "metadata": {},
   "outputs": [
    {
     "ename": "SyntaxError",
     "evalue": "invalid syntax. Maybe you meant '==' or ':=' instead of '='? (2528943692.py, line 3)",
     "output_type": "error",
     "traceback": [
      "\u001b[1;36m  Cell \u001b[1;32mIn[26], line 3\u001b[1;36m\u001b[0m\n\u001b[1;33m    output_list = [summ=input_list.index(city)+summ for city in input_list]\u001b[0m\n\u001b[1;37m                   ^\u001b[0m\n\u001b[1;31mSyntaxError\u001b[0m\u001b[1;31m:\u001b[0m invalid syntax. Maybe you meant '==' or ':=' instead of '='?\n"
     ]
    }
   ],
   "source": [
    "input_list=['hyd','bengaluru','pune','mumbai']\n",
    "summ=0\n",
    "output_list = [input_list.index(city)+summ for city in input_list]\n",
    "print(summ)"
   ]
  },
  {
   "cell_type": "markdown",
   "id": "5ae1e832-6afc-4da5-ac05-b695e203e9b1",
   "metadata": {},
   "source": [
    "**Walrus Operator**"
   ]
  },
  {
   "cell_type": "code",
   "execution_count": 29,
   "id": "9de5905f-0363-4027-b81c-c7644c830a04",
   "metadata": {},
   "outputs": [
    {
     "name": "stdout",
     "output_type": "stream",
     "text": [
      "6\n"
     ]
    }
   ],
   "source": [
    "input_list=['hyd','bengaluru','pune','mumbai']\n",
    "summ=0\n",
    "output_list = [summ:=input_list.index(city)+summ for city in input_list]\n",
    "print(summ)"
   ]
  },
  {
   "cell_type": "markdown",
   "id": "1070eb2c-c9a6-4216-8a36-ca97c423d51f",
   "metadata": {},
   "source": [
    "**Case-2: for loop if condition**"
   ]
  },
  {
   "cell_type": "code",
   "execution_count": 32,
   "id": "7d6e412c-c683-42fa-86e5-cecab4dcda68",
   "metadata": {},
   "outputs": [
    {
     "data": {
      "text/plain": [
       "['Even:2', 'Even:4', 'Even:6', 'Even:8']"
      ]
     },
     "execution_count": 32,
     "metadata": {},
     "output_type": "execute_result"
    }
   ],
   "source": [
    "# even number\n",
    "even_list=[]\n",
    "for i in range(1,10):\n",
    "    if i%2==0:\n",
    "        even_list.append(f\"Even:{i}\")\n",
    "even_list"
   ]
  },
  {
   "cell_type": "code",
   "execution_count": 42,
   "id": "cee98feb-d6f9-4ab8-9124-994fe9d8cab3",
   "metadata": {},
   "outputs": [
    {
     "data": {
      "text/plain": [
       "['Even:2', 'Even:4', 'Even:6', 'Even:8']"
      ]
     },
     "execution_count": 42,
     "metadata": {},
     "output_type": "execute_result"
    }
   ],
   "source": [
    "even_list=[f\"Even:{i}\" for i in range(1,10) if i%2==0]\n",
    "even_list"
   ]
  },
  {
   "cell_type": "code",
   "execution_count": 44,
   "id": "66c9a621-7e9b-4b17-a019-0522348cbaab",
   "metadata": {},
   "outputs": [
    {
     "name": "stdout",
     "output_type": "stream",
     "text": [
      "['ben#galuru', 'mu#mbai']\n"
     ]
    }
   ],
   "source": [
    "input_list = ['hyd', 'ben#galuru', 'pune', 'mu#mbai']\n",
    "output_list = [city for city in input_list if '#' in city]\n",
    "print(output_list)"
   ]
  },
  {
   "cell_type": "code",
   "execution_count": 46,
   "id": "01886786-5e94-47ad-b418-aee4d9f64fca",
   "metadata": {},
   "outputs": [
    {
     "name": "stdout",
     "output_type": "stream",
     "text": [
      "['hyd', 'pune']\n"
     ]
    }
   ],
   "source": [
    "input_list = ['hyd', 'ben#galuru', 'pune', 'mu#mbai']\n",
    "output_list = [city for city in input_list if '#' not in city]\n",
    "print(output_list)"
   ]
  },
  {
   "cell_type": "code",
   "execution_count": 50,
   "id": "350da5d3-4c3c-47b3-a13f-89ab12966db5",
   "metadata": {},
   "outputs": [
    {
     "data": {
      "text/plain": [
       "['Odd:1',\n",
       " 'Even:2',\n",
       " 'Odd:3',\n",
       " 'Even:4',\n",
       " 'Odd:5',\n",
       " 'Even:6',\n",
       " 'Odd:7',\n",
       " 'Even:8',\n",
       " 'Odd:9']"
      ]
     },
     "execution_count": 50,
     "metadata": {},
     "output_type": "execute_result"
    }
   ],
   "source": [
    "list1=[]\n",
    "for i in range(1,10):\n",
    "    if i%2==0:\n",
    "        list1.append(f\"Even:{i}\")\n",
    "    else:\n",
    "        list1.append(f\"Odd:{i}\")\n",
    "list1"
   ]
  },
  {
   "cell_type": "code",
   "execution_count": 54,
   "id": "5d587f83-e0a6-4bac-9bdc-d2de7d48fff5",
   "metadata": {},
   "outputs": [
    {
     "data": {
      "text/plain": [
       "['Odd:1',\n",
       " 'Even:2',\n",
       " 'Odd:3',\n",
       " 'Even:4',\n",
       " 'Odd:5',\n",
       " 'Even:6',\n",
       " 'Odd:7',\n",
       " 'Even:8',\n",
       " 'Odd:9']"
      ]
     },
     "execution_count": 54,
     "metadata": {},
     "output_type": "execute_result"
    }
   ],
   "source": [
    "list1=[f\"Even:{i}\" if i%2==0 else f\"Odd:{i}\" for  i in range(1,10)]\n",
    "list1"
   ]
  },
  {
   "cell_type": "code",
   "execution_count": 56,
   "id": "529e07b4-e8ea-46bd-bbfa-f9d08fc1b0e2",
   "metadata": {},
   "outputs": [
    {
     "name": "stdout",
     "output_type": "stream",
     "text": [
      "45: C Grade\n",
      "55: C Grade\n",
      "65: B Grade\n",
      "75: B Grade\n",
      "85: B Grade\n",
      "95: A Grade\n"
     ]
    }
   ],
   "source": [
    "l=[45,55,65,75,85,95]\n",
    "for i in l:\n",
    "    if i>85:\n",
    "        print(f\"{i}: A Grade\")\n",
    "    elif i>60:\n",
    "        print(f\"{i}: B Grade\")\n",
    "    else:\n",
    "        print(f\"{i}: C Grade\")"
   ]
  },
  {
   "cell_type": "code",
   "execution_count": 66,
   "id": "930e8808-1fa5-4796-8da4-666a7d866e15",
   "metadata": {},
   "outputs": [
    {
     "data": {
      "text/plain": [
       "['45: C Grade',\n",
       " '55: C Grade',\n",
       " '65: B Grade',\n",
       " '75: B Grade',\n",
       " '85: B Grade',\n",
       " '95: A Grade']"
      ]
     },
     "execution_count": 66,
     "metadata": {},
     "output_type": "execute_result"
    }
   ],
   "source": [
    "list1=[f\"{i}: A Grade\" if i>85 else f\"{i}: B Grade\" if i>60 else f\"{i}: C Grade\" for i in l]\n",
    "list1"
   ]
  },
  {
   "cell_type": "markdown",
   "id": "3b25cf35-300f-4809-97cc-dfaf6cf596bd",
   "metadata": {},
   "source": [
    "**Screening Paper Questions**"
   ]
  },
  {
   "cell_type": "code",
   "execution_count": 4,
   "id": "b58b3671-97c2-4fea-bde6-277453a65f3c",
   "metadata": {},
   "outputs": [
    {
     "data": {
      "text/plain": [
       "[1, 2, 3, 4, 5, 6, 9]"
      ]
     },
     "execution_count": 4,
     "metadata": {},
     "output_type": "execute_result"
    }
   ],
   "source": [
    "marks=[45,76,89,53,67,90,82,49,33,99]\n",
    "marks1=[marks.index(i) for i in marks if i>=50]\n",
    "marks1"
   ]
  },
  {
   "cell_type": "code",
   "execution_count": 10,
   "id": "bc4a85ea-5560-4be7-b89b-0fb3342b16ec",
   "metadata": {},
   "outputs": [
    {
     "data": {
      "text/plain": [
       "['45:F',\n",
       " '76:B',\n",
       " '89:A',\n",
       " '53:C',\n",
       " '67:C',\n",
       " '90:A',\n",
       " '82:B',\n",
       " '49:F',\n",
       " '33:F',\n",
       " '99:A']"
      ]
     },
     "execution_count": 10,
     "metadata": {},
     "output_type": "execute_result"
    }
   ],
   "source": [
    "marks2=[f\"{i}:A\" if i>=85 else f\"{i}:B\" if i>=70 else f\"{i}:C\" if i>=50 else f\"{i}:F\" for i in marks]\n",
    "marks2"
   ]
  },
  {
   "cell_type": "code",
   "execution_count": 14,
   "id": "a73bacaa-a277-40e9-aaa0-b70644452ca8",
   "metadata": {},
   "outputs": [
    {
     "data": {
      "text/plain": [
       "[50, 54, 38]"
      ]
     },
     "execution_count": 14,
     "metadata": {},
     "output_type": "execute_result"
    }
   ],
   "source": [
    "[i+5 for i in marks if i<50]"
   ]
  },
  {
   "cell_type": "code",
   "execution_count": 20,
   "id": "0478086a-f17c-4c5b-a59b-b36662e2f2e3",
   "metadata": {},
   "outputs": [
    {
     "ename": "AttributeError",
     "evalue": "'int' object has no attribute 'sorted'",
     "output_type": "error",
     "traceback": [
      "\u001b[1;31m---------------------------------------------------------------------------\u001b[0m",
      "\u001b[1;31mAttributeError\u001b[0m                            Traceback (most recent call last)",
      "Cell \u001b[1;32mIn[20], line 1\u001b[0m\n\u001b[1;32m----> 1\u001b[0m [\u001b[38;5;124mf\u001b[39m\u001b[38;5;124m'\u001b[39m\u001b[38;5;132;01m{\u001b[39;00mmarks[i]\u001b[38;5;241m.\u001b[39msorted(marks,reverse\u001b[38;5;241m=\u001b[39m\u001b[38;5;28;01mTrue\u001b[39;00m)\u001b[38;5;132;01m}\u001b[39;00m\u001b[38;5;124m'\u001b[39m \u001b[38;5;28;01mfor\u001b[39;00m i \u001b[38;5;129;01min\u001b[39;00m \u001b[38;5;28mrange\u001b[39m(\u001b[38;5;241m0\u001b[39m,\u001b[38;5;241m2\u001b[39m)]\n",
      "\u001b[1;31mAttributeError\u001b[0m: 'int' object has no attribute 'sorted'"
     ]
    }
   ],
   "source": []
  },
  {
   "cell_type": "code",
   "execution_count": 22,
   "id": "5251c875-5081-4935-afd5-90639280cef3",
   "metadata": {},
   "outputs": [
    {
     "data": {
      "text/plain": [
       "68.3"
      ]
     },
     "execution_count": 22,
     "metadata": {},
     "output_type": "execute_result"
    }
   ],
   "source": [
    "summ=0\n",
    "[summ:=summ+i for i in marks]\n",
    "summ/len(marks)"
   ]
  },
  {
   "cell_type": "markdown",
   "id": "f7ab25f8-47c5-4a16-8381-a3a091d25191",
   "metadata": {},
   "source": [
    "**Distance between two points**"
   ]
  },
  {
   "cell_type": "code",
   "execution_count": 25,
   "id": "16b3858a-8ce9-4318-927e-bbdedfe48426",
   "metadata": {},
   "outputs": [
    {
     "data": {
      "text/plain": [
       "28.284271247461902"
      ]
     },
     "execution_count": 25,
     "metadata": {},
     "output_type": "execute_result"
    }
   ],
   "source": [
    "import math\n",
    "\n",
    "l1=[10,20]\n",
    "l2=[30,40]\n",
    "# find the distance between l2 with all other points from l1, which is the maximum distance\n",
    "d1=l2[0]-l1[0]\n",
    "d1_sqr=math.pow(d1,2)\n",
    "d2=l2[1]-l1[1]\n",
    "d2_sqr=math.pow(d2,2)\n",
    "summ=d1_sqr+d2_sqr\n",
    "math.sqrt(summ)"
   ]
  },
  {
   "cell_type": "code",
   "execution_count": 27,
   "id": "146ea3ac-c29c-4010-bd16-754386796164",
   "metadata": {},
   "outputs": [
    {
     "data": {
      "text/plain": [
       "28.284271247461902"
      ]
     },
     "execution_count": 27,
     "metadata": {},
     "output_type": "execute_result"
    }
   ],
   "source": [
    "math.sqrt(math.pow(l2[0]-l1[0],2)+math.pow(l2[1]-l1[1],2))"
   ]
  },
  {
   "cell_type": "code",
   "execution_count": 29,
   "id": "97b10a1d-2d25-415c-9d2a-6e0159dd1f9e",
   "metadata": {},
   "outputs": [
    {
     "ename": "TypeError",
     "evalue": "unsupported operand type(s) for -: 'int' and 'list'",
     "output_type": "error",
     "traceback": [
      "\u001b[1;31m---------------------------------------------------------------------------\u001b[0m",
      "\u001b[1;31mTypeError\u001b[0m                                 Traceback (most recent call last)",
      "Cell \u001b[1;32mIn[29], line 5\u001b[0m\n\u001b[0;32m      3\u001b[0m \u001b[38;5;28;01mfor\u001b[39;00m i \u001b[38;5;129;01min\u001b[39;00m \u001b[38;5;28mrange\u001b[39m(\u001b[38;5;28mlen\u001b[39m(l1)):\n\u001b[0;32m      4\u001b[0m     \u001b[38;5;28;01mfor\u001b[39;00m j \u001b[38;5;129;01min\u001b[39;00m \u001b[38;5;28mrange\u001b[39m(\u001b[38;5;28mlen\u001b[39m(l2)):\n\u001b[1;32m----> 5\u001b[0m         math\u001b[38;5;241m.\u001b[39msqrt(math\u001b[38;5;241m.\u001b[39mpow(l2[i]\u001b[38;5;241m-\u001b[39ml1[j],\u001b[38;5;241m2\u001b[39m)\u001b[38;5;241m+\u001b[39mmath\u001b[38;5;241m.\u001b[39mpow(l2[i]\u001b[38;5;241m-\u001b[39ml1[j],\u001b[38;5;241m2\u001b[39m))\n",
      "\u001b[1;31mTypeError\u001b[0m: unsupported operand type(s) for -: 'int' and 'list'"
     ]
    }
   ],
   "source": [
    "l1=[[1,2],[4,5],[6,7]]\n",
    "l2=[10,20]\n",
    "for i in range(len(l1)):\n",
    "    for j in range(len(l2)):\n",
    "        math.sqrt(math.pow(l2[i]-l1[j],2)+math.pow(l2[i]-l1[j],2))"
   ]
  },
  {
   "cell_type": "code",
   "execution_count": null,
   "id": "ff192724-5587-4989-8e9d-ade9b2092027",
   "metadata": {},
   "outputs": [],
   "source": []
  }
 ],
 "metadata": {
  "kernelspec": {
   "display_name": "Python [conda env:base] *",
   "language": "python",
   "name": "conda-base-py"
  },
  "language_info": {
   "codemirror_mode": {
    "name": "ipython",
    "version": 3
   },
   "file_extension": ".py",
   "mimetype": "text/x-python",
   "name": "python",
   "nbconvert_exporter": "python",
   "pygments_lexer": "ipython3",
   "version": "3.12.7"
  }
 },
 "nbformat": 4,
 "nbformat_minor": 5
}
