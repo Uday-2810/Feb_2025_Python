{
 "cells": [
  {
   "cell_type": "code",
   "execution_count": 1,
   "id": "3241c9f7-3859-4abb-8af3-f9760b73eaca",
   "metadata": {},
   "outputs": [
    {
     "data": {
      "text/plain": [
       "'C:\\\\Users\\\\ADMIN\\\\Documents\\\\Naresh iT\\\\Python'"
      ]
     },
     "execution_count": 1,
     "metadata": {},
     "output_type": "execute_result"
    }
   ],
   "source": [
    "import os\n",
    "os.getcwd()"
   ]
  },
  {
   "cell_type": "code",
   "execution_count": 3,
   "id": "f2bd1db2-4fbd-44ea-8c22-d4561f379fbf",
   "metadata": {},
   "outputs": [],
   "source": [
    "# checkpoint 1:\n",
    "# empty square bracket before the code cell indicates we did not run the cell\n",
    "\n",
    "# checkpoint 2:\n",
    "# if we see a * mark inside square bracket before the code cell do not run the next code cell. star mark indicates kernel is busy"
   ]
  },
  {
   "cell_type": "code",
   "execution_count": 5,
   "id": "2178559e-3010-44d5-9690-0626f209bd23",
   "metadata": {},
   "outputs": [],
   "source": [
    "number1 = 100"
   ]
  },
  {
   "cell_type": "code",
   "execution_count": 9,
   "id": "2a7ce3ef-30f3-4213-b51c-201c47bdcfa8",
   "metadata": {},
   "outputs": [],
   "source": [
    "number2 = 200"
   ]
  },
  {
   "cell_type": "code",
   "execution_count": 13,
   "id": "4c89cd5e-c5f4-4e2b-91cb-ee694dce698c",
   "metadata": {},
   "outputs": [
    {
     "name": "stdout",
     "output_type": "stream",
     "text": [
      "300\n"
     ]
    }
   ],
   "source": [
    "print(number1 + number2)"
   ]
  },
  {
   "cell_type": "markdown",
   "id": "7182c701-2739-435a-8f53-7427f231b696",
   "metadata": {},
   "source": [
    "Hello today I am learning python\n",
    "\n",
    "square bracket is there: yes\n",
    "\n",
    "code mode is there: yes\n",
    "\n",
    "if these two are there which indicates this current cell used for to write code only\n",
    "\n",
    "if you write english i will throw error\n",
    "\n",
    "go to code mode beside that a drop down is there select markdown then we can not see square bracket"
   ]
  },
  {
   "cell_type": "markdown",
   "id": "caad5ce3-7419-4237-8be4-27f501d3cc0d",
   "metadata": {},
   "source": [
    "# Python\n",
    "\n",
    "- Esc+m will change code mode to markdown mode\n",
    "\n",
    "- Esc=+y will change markdown mode to code mode"
   ]
  },
  {
   "cell_type": "markdown",
   "id": "901ebafa-9a1d-40ee-8030-d4b1b76b679b",
   "metadata": {},
   "source": [
    "# Python\n",
    "\n",
    "## Python\n",
    "\n",
    "### Python\n",
    "\n",
    "#### Python"
   ]
  },
  {
   "cell_type": "markdown",
   "id": "0c05e725-c8eb-42e7-8acc-9d723458855a",
   "metadata": {},
   "source": [
    "**Now I will show how to upload image**\n",
    "\n",
    "- But this will works for only some people"
   ]
  },
  {
   "cell_type": "markdown",
   "id": "2e80edaf-e9ed-4d09-a707-40e18fbbd25b",
   "metadata": {},
   "source": [
    "<img id=\"dimg_7XZzZ4G2EZWo4-EP8_SK-Q8_275\" src=\"data:image/jpeg;base64,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\" class=\"YQ4gaf\" height=\"155\" style=\"object-position:50% 50%\" width=\"325\" alt=\"Python Programming language ...\" data-csiid=\"7XZzZ4G2EZWo4-EP8_SK-Q8_22\" data-atf=\"1\">"
   ]
  },
  {
   "cell_type": "code",
   "execution_count": null,
   "id": "a931230e-1519-4c5f-b020-1ff9fbfcb02c",
   "metadata": {},
   "outputs": [],
   "source": []
  }
 ],
 "metadata": {
  "kernelspec": {
   "display_name": "Python [conda env:base] *",
   "language": "python",
   "name": "conda-base-py"
  },
  "language_info": {
   "codemirror_mode": {
    "name": "ipython",
    "version": 3
   },
   "file_extension": ".py",
   "mimetype": "text/x-python",
   "name": "python",
   "nbconvert_exporter": "python",
   "pygments_lexer": "ipython3",
   "version": "3.12.7"
  }
 },
 "nbformat": 4,
 "nbformat_minor": 5
}
