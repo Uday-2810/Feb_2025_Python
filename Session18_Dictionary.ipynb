{
 "cells": [
  {
   "cell_type": "code",
   "execution_count": 5,
   "id": "b4b62c76-f93e-45dd-a84c-ec1d97e6da35",
   "metadata": {},
   "outputs": [
    {
     "name": "stdout",
     "output_type": "stream",
     "text": [
      "Ramesh age is 20\n",
      "Suresh age is 25\n",
      "Sathish age is 30\n"
     ]
    }
   ],
   "source": [
    "names=['Ramesh','Suresh','Sathish']\n",
    "age=[20,25,30]\n",
    "for i in range(len(names)):\n",
    "    print(f\"{names[i]} age is {age[i]}\")"
   ]
  },
  {
   "cell_type": "markdown",
   "id": "74da2cf5-5fcd-4477-85ca-386bfe0baa37",
   "metadata": {},
   "source": [
    "**Zip**"
   ]
  },
  {
   "cell_type": "code",
   "execution_count": 10,
   "id": "074b4583-f36f-4d3f-8286-32124067ceee",
   "metadata": {},
   "outputs": [
    {
     "name": "stdout",
     "output_type": "stream",
     "text": [
      "Ramesh age is 20\n",
      "Suresh age is 25\n",
      "Sathish age is 30\n"
     ]
    }
   ],
   "source": [
    "names=['Ramesh','Suresh','Sathish']\n",
    "age=[20,25,30]\n",
    "for i,j in zip(names,age):\n",
    "    print(f\"{i} age is {j}\")"
   ]
  },
  {
   "cell_type": "markdown",
   "id": "bbe6ef09-99bb-4340-b858-5c875032919c",
   "metadata": {},
   "source": [
    "**Dictionary**\n",
    "- In above example, names and age both are together\n",
    "- When both are together we can pair them\n",
    "- This can happen using dictionary\n",
    "- Dictionary is called as **Key-Value** pair\n",
    "- It represents with curly braces: **{key:value}**"
   ]
  },
  {
   "cell_type": "code",
   "execution_count": 13,
   "id": "30a6777c-0dbe-4c87-a1ca-bf5e5b07169d",
   "metadata": {},
   "outputs": [
    {
     "data": {
      "text/plain": [
       "{'Ramesh': 20, 'Suresh': 25, 'Sathish': 30}"
      ]
     },
     "execution_count": 13,
     "metadata": {},
     "output_type": "execute_result"
    }
   ],
   "source": [
    "d1={'Ramesh':20,'Suresh':25,'Sathish':30}\n",
    "d1"
   ]
  },
  {
   "cell_type": "code",
   "execution_count": 17,
   "id": "cb73a405-b23f-4187-af32-10cf29a2ee9b",
   "metadata": {},
   "outputs": [
    {
     "data": {
      "text/plain": [
       "{20: 'Ramesh', 25: 'Suresh', 30: 'Sathish'}"
      ]
     },
     "execution_count": 17,
     "metadata": {},
     "output_type": "execute_result"
    }
   ],
   "source": [
    "d2={20:'Ramesh',25:'Suresh',30:'Sathish'}\n",
    "d2"
   ]
  },
  {
   "cell_type": "code",
   "execution_count": 19,
   "id": "e6c30b69-b06d-4de2-bb69-287140e418b0",
   "metadata": {},
   "outputs": [
    {
     "data": {
      "text/plain": [
       "{'names': ['Rohith Sharma', 'Ronaldo', 'Tyson'],\n",
       " 'sports': ['Cricket', 'Soccer', 'Boxing']}"
      ]
     },
     "execution_count": 19,
     "metadata": {},
     "output_type": "execute_result"
    }
   ],
   "source": [
    "d3={'names':['Rohith Sharma','Ronaldo','Tyson'],'sports':['Cricket','Soccer','Boxing']}\n",
    "d3"
   ]
  },
  {
   "cell_type": "code",
   "execution_count": 23,
   "id": "7e5d9966-2453-4c7c-90b7-a4ea001c9b66",
   "metadata": {},
   "outputs": [
    {
     "data": {
      "text/plain": [
       "{'Ramesh': '30'}"
      ]
     },
     "execution_count": 23,
     "metadata": {},
     "output_type": "execute_result"
    }
   ],
   "source": [
    "d4={'Ramesh':20,'Ramesh':'30'}\n",
    "d4"
   ]
  },
  {
   "cell_type": "code",
   "execution_count": 29,
   "id": "19331330-dd28-425b-aa53-b82e6dbbb6e9",
   "metadata": {},
   "outputs": [
    {
     "data": {
      "text/plain": [
       "{'Ramesh': 20}"
      ]
     },
     "execution_count": 29,
     "metadata": {},
     "output_type": "execute_result"
    }
   ],
   "source": [
    "d5={'Ramesh':20,'Ramesh':20}\n",
    "d5\n",
    "# In dictionary, keys play vital role\n",
    "# keys can not be duplicate but values can be duplicate"
   ]
  },
  {
   "cell_type": "code",
   "execution_count": 31,
   "id": "963b5c6e-006b-4a8d-bf1d-d72c237dfff9",
   "metadata": {},
   "outputs": [
    {
     "data": {
      "text/plain": [
       "{20: 'Suresh'}"
      ]
     },
     "execution_count": 31,
     "metadata": {},
     "output_type": "execute_result"
    }
   ],
   "source": [
    "d6={20:'Ramesh',20:'Suresh'}\n",
    "d6"
   ]
  },
  {
   "cell_type": "code",
   "execution_count": 35,
   "id": "f36f7ece-e248-422a-8ea4-d7ce1f0f3fc2",
   "metadata": {},
   "outputs": [
    {
     "data": {
      "text/plain": [
       "{True: 'true'}"
      ]
     },
     "execution_count": 35,
     "metadata": {},
     "output_type": "execute_result"
    }
   ],
   "source": [
    "d7={True:'true'}\n",
    "d7"
   ]
  },
  {
   "cell_type": "code",
   "execution_count": 37,
   "id": "97013f4d-6ff5-4d5a-8cea-41a0e3a131d6",
   "metadata": {},
   "outputs": [
    {
     "data": {
      "text/plain": [
       "{'fruits': ('Apple', 'Banana')}"
      ]
     },
     "execution_count": 37,
     "metadata": {},
     "output_type": "execute_result"
    }
   ],
   "source": [
    "d8={'fruits':('Apple','Banana')}\n",
    "d8"
   ]
  },
  {
   "cell_type": "code",
   "execution_count": 41,
   "id": "53a28a9d-e8f3-441f-a333-4d86e40f48fc",
   "metadata": {},
   "outputs": [
    {
     "data": {
      "text/plain": [
       "{'fruits': ['Apple', 'Banana']}"
      ]
     },
     "execution_count": 41,
     "metadata": {},
     "output_type": "execute_result"
    }
   ],
   "source": [
    "d9={'fruits':['Apple','Banana']}\n",
    "d9"
   ]
  },
  {
   "cell_type": "code",
   "execution_count": 43,
   "id": "14ef374b-c7a7-4fa1-8915-c8d460b1bee1",
   "metadata": {},
   "outputs": [
    {
     "data": {
      "text/plain": [
       "{('Apple', 'Banana'): 'fruits'}"
      ]
     },
     "execution_count": 43,
     "metadata": {},
     "output_type": "execute_result"
    }
   ],
   "source": [
    "d10={('Apple','Banana'):'fruits'}\n",
    "d10"
   ]
  },
  {
   "cell_type": "code",
   "execution_count": 47,
   "id": "25234eee-df65-419b-b13d-51ecf30f9a7b",
   "metadata": {},
   "outputs": [
    {
     "ename": "TypeError",
     "evalue": "unhashable type: 'list'",
     "output_type": "error",
     "traceback": [
      "\u001b[1;31m---------------------------------------------------------------------------\u001b[0m",
      "\u001b[1;31mTypeError\u001b[0m                                 Traceback (most recent call last)",
      "Cell \u001b[1;32mIn[47], line 1\u001b[0m\n\u001b[1;32m----> 1\u001b[0m d11\u001b[38;5;241m=\u001b[39m{[\u001b[38;5;124m'\u001b[39m\u001b[38;5;124mApple\u001b[39m\u001b[38;5;124m'\u001b[39m,\u001b[38;5;124m'\u001b[39m\u001b[38;5;124mBanana\u001b[39m\u001b[38;5;124m'\u001b[39m]:\u001b[38;5;124m'\u001b[39m\u001b[38;5;124mfruits\u001b[39m\u001b[38;5;124m'\u001b[39m}\n\u001b[0;32m      2\u001b[0m d11\n",
      "\u001b[1;31mTypeError\u001b[0m: unhashable type: 'list'"
     ]
    }
   ],
   "source": [
    "d11={['Apple','Banana']:'fruits'}\n",
    "d11"
   ]
  },
  {
   "cell_type": "markdown",
   "id": "ec15dab4-b106-4e9c-9a46-0b7b69292539",
   "metadata": {},
   "source": [
    "- List as keys fail because list has a mutable behaviour\n",
    "- Tuple as keys fail because list has a immutable behaviour"
   ]
  },
  {
   "cell_type": "code",
   "execution_count": 1,
   "id": "8b90c277-e582-4d66-89de-f39fb4acfb93",
   "metadata": {},
   "outputs": [],
   "source": [
    "dict1={'Apple':20,'Banana':30,'Cherry':50}\n",
    "dict2={'Apple':20,'Banana':30,'Cherry':10}\n",
    "dict3={20:'Apple',30:'Banana',10:'Cherry'}"
   ]
  },
  {
   "cell_type": "code",
   "execution_count": 3,
   "id": "d13ddd4d-ad8a-4f89-a7d0-0f28e9cf721d",
   "metadata": {},
   "outputs": [
    {
     "data": {
      "text/plain": [
       "('Cherry', 'Cherry', 30)"
      ]
     },
     "execution_count": 3,
     "metadata": {},
     "output_type": "execute_result"
    }
   ],
   "source": [
    "max(dict1),max(dict2),max(dict3)"
   ]
  },
  {
   "cell_type": "code",
   "execution_count": 5,
   "id": "1e079936-d66a-489e-bfc1-0a8eeb423246",
   "metadata": {},
   "outputs": [
    {
     "data": {
      "text/plain": [
       "('Apple', 'Apple', 10)"
      ]
     },
     "execution_count": 5,
     "metadata": {},
     "output_type": "execute_result"
    }
   ],
   "source": [
    "min(dict1),min(dict2),min(dict3)"
   ]
  },
  {
   "cell_type": "code",
   "execution_count": 7,
   "id": "fc928159-909e-4806-a5aa-5f6ee841bd6b",
   "metadata": {},
   "outputs": [
    {
     "data": {
      "text/plain": [
       "False"
      ]
     },
     "execution_count": 7,
     "metadata": {},
     "output_type": "execute_result"
    }
   ],
   "source": [
    "20 in dict1"
   ]
  },
  {
   "cell_type": "code",
   "execution_count": 9,
   "id": "05ef9213-1709-4d72-80c2-2c7aef5645f5",
   "metadata": {},
   "outputs": [
    {
     "data": {
      "text/plain": [
       "True"
      ]
     },
     "execution_count": 9,
     "metadata": {},
     "output_type": "execute_result"
    }
   ],
   "source": [
    "'Apple' in dict1"
   ]
  },
  {
   "cell_type": "code",
   "execution_count": 11,
   "id": "3b5f4da8-18bb-4a25-938d-42b03828c440",
   "metadata": {},
   "outputs": [
    {
     "ename": "SyntaxError",
     "evalue": "illegal target for annotation (1635405859.py, line 1)",
     "output_type": "error",
     "traceback": [
      "\u001b[1;36m  Cell \u001b[1;32mIn[11], line 1\u001b[1;36m\u001b[0m\n\u001b[1;33m    'Apple':20 in dict1\u001b[0m\n\u001b[1;37m    ^\u001b[0m\n\u001b[1;31mSyntaxError\u001b[0m\u001b[1;31m:\u001b[0m illegal target for annotation\n"
     ]
    }
   ],
   "source": [
    "'Apple':20 in dict1"
   ]
  },
  {
   "cell_type": "code",
   "execution_count": 13,
   "id": "a8b71a02-adc5-4683-b656-c125b8dc7665",
   "metadata": {},
   "outputs": [
    {
     "name": "stdout",
     "output_type": "stream",
     "text": [
      "Apple\n",
      "Banana\n",
      "Cherry\n"
     ]
    }
   ],
   "source": [
    "for i in dict1:\n",
    "    print(i)"
   ]
  },
  {
   "cell_type": "code",
   "execution_count": 15,
   "id": "0236036e-0324-4b27-9882-9d11b4673412",
   "metadata": {},
   "outputs": [
    {
     "ename": "KeyError",
     "evalue": "0",
     "output_type": "error",
     "traceback": [
      "\u001b[1;31m---------------------------------------------------------------------------\u001b[0m",
      "\u001b[1;31mKeyError\u001b[0m                                  Traceback (most recent call last)",
      "Cell \u001b[1;32mIn[15], line 1\u001b[0m\n\u001b[1;32m----> 1\u001b[0m dict1[\u001b[38;5;241m0\u001b[39m]\n",
      "\u001b[1;31mKeyError\u001b[0m: 0"
     ]
    }
   ],
   "source": [
    "dict1[0]"
   ]
  },
  {
   "cell_type": "markdown",
   "id": "557e80e4-143d-4d5b-a4ee-79c20a8a6d62",
   "metadata": {},
   "source": [
    "**How to extract the values**\n",
    "- In dictionary we have a concept key:value pair\n",
    "- Keys are very important\n",
    "- In order to get the values we need to take keys help"
   ]
  },
  {
   "cell_type": "code",
   "execution_count": 24,
   "id": "efaa2664-0f60-49f3-8635-e08e3901be9f",
   "metadata": {},
   "outputs": [
    {
     "data": {
      "text/plain": [
       "20"
      ]
     },
     "execution_count": 24,
     "metadata": {},
     "output_type": "execute_result"
    }
   ],
   "source": [
    "dict1['Apple']"
   ]
  },
  {
   "cell_type": "code",
   "execution_count": 26,
   "id": "35e83d71-469b-4500-a82f-5b38f324b503",
   "metadata": {},
   "outputs": [
    {
     "name": "stdout",
     "output_type": "stream",
     "text": [
      "20\n",
      "30\n",
      "50\n"
     ]
    }
   ],
   "source": [
    "for i in dict1:\n",
    "    print(dict1[i])"
   ]
  },
  {
   "cell_type": "code",
   "execution_count": 28,
   "id": "a0958edd-e138-41c6-b938-ce2ec3a77063",
   "metadata": {},
   "outputs": [
    {
     "name": "stdout",
     "output_type": "stream",
     "text": [
      "Ramesh age is 20\n",
      "Suresh age is 25\n",
      "Sathish age is 30\n"
     ]
    }
   ],
   "source": [
    "names={'Ramesh':20,'Suresh':25,'Sathish':30}\n",
    "for i in names:\n",
    "    print(f\"{i} age is {names[i]}\")"
   ]
  },
  {
   "cell_type": "code",
   "execution_count": 30,
   "id": "15747d1a-9511-417d-a3b9-39aec529f0d5",
   "metadata": {},
   "outputs": [
    {
     "data": {
      "text/plain": [
       "'Cherry'"
      ]
     },
     "execution_count": 30,
     "metadata": {},
     "output_type": "execute_result"
    }
   ],
   "source": [
    "d={'Fruits':['Apple','Banana','Cherry']}\n",
    "d['Fruits'][2]"
   ]
  },
  {
   "cell_type": "code",
   "execution_count": 32,
   "id": "256a8815-ee60-4d74-9c5b-2d52678cdf9c",
   "metadata": {},
   "outputs": [
    {
     "data": {
      "text/plain": [
       "'Green'"
      ]
     },
     "execution_count": 32,
     "metadata": {},
     "output_type": "execute_result"
    }
   ],
   "source": [
    "d={'Fruits':{'Apple':['Sweet','Sour','Green']}}\n",
    "d['Fruits']['Apple'][2]"
   ]
  },
  {
   "cell_type": "code",
   "execution_count": 34,
   "id": "1d1bbbaa-f7d8-498a-88a3-be01014b8388",
   "metadata": {},
   "outputs": [
    {
     "data": {
      "text/plain": [
       "50"
      ]
     },
     "execution_count": 34,
     "metadata": {},
     "output_type": "execute_result"
    }
   ],
   "source": [
    "d={'Fruits':[{'Cost':[50]}]}\n",
    "d['Fruits'][0]['Cost'][0]"
   ]
  },
  {
   "cell_type": "code",
   "execution_count": 48,
   "id": "7aef0f98-e680-4b26-849d-a5ac7974e510",
   "metadata": {},
   "outputs": [
    {
     "data": {
      "text/plain": [
       "(40, None)"
      ]
     },
     "execution_count": 48,
     "metadata": {},
     "output_type": "execute_result"
    }
   ],
   "source": [
    "d={'Fruits':['Apple'],'Cost':[{'1kg':[20,30,40],'2kg':None}]}\n",
    "d['Cost'][0]['1kg'][2],d['Cost'][0]['2kg']"
   ]
  },
  {
   "cell_type": "code",
   "execution_count": 50,
   "id": "25f6d219-12e3-43db-84f4-c83d77e78c6e",
   "metadata": {},
   "outputs": [
    {
     "data": {
      "text/plain": [
       "{'Shambaji'}"
      ]
     },
     "execution_count": 50,
     "metadata": {},
     "output_type": "execute_result"
    }
   ],
   "source": [
    "d={'Fruits':{'Orange':{'Nagpur':{'MH':{'King':{'Shivaji':{'Shambaji'}}}}}}}\n",
    "d['Fruits']['Orange']['Nagpur']['MH']['King']['Shivaji']"
   ]
  },
  {
   "cell_type": "markdown",
   "id": "aedd0d68-6078-4d8a-bcd2-29989bf889f0",
   "metadata": {},
   "source": [
    "**How to create empty dictionary**\n",
    "- Now onwards focus on creation of empty list, strings and dictionary\n",
    "- We will take empty list will use append operation\n",
    "- We will take empty string will use concatenation\n",
    "- We will take empty dictionary will use key:value pair concept"
   ]
  },
  {
   "cell_type": "code",
   "execution_count": 55,
   "id": "d85ade38-5e29-4da1-a3c4-fd6eef8686d4",
   "metadata": {},
   "outputs": [
    {
     "data": {
      "text/plain": [
       "[10, 20]"
      ]
     },
     "execution_count": 55,
     "metadata": {},
     "output_type": "execute_result"
    }
   ],
   "source": [
    "# list\n",
    "l=[]\n",
    "l.append(10)\n",
    "l.append(20)\n",
    "l"
   ]
  },
  {
   "cell_type": "code",
   "execution_count": 57,
   "id": "cc6ebd64-179a-4e3b-bfd5-dee308ae4896",
   "metadata": {},
   "outputs": [
    {
     "data": {
      "text/plain": [
       "'py'"
      ]
     },
     "execution_count": 57,
     "metadata": {},
     "output_type": "execute_result"
    }
   ],
   "source": [
    "# strings\n",
    "s=''\n",
    "s=s+'p'\n",
    "s=s+'y'\n",
    "s"
   ]
  },
  {
   "cell_type": "code",
   "execution_count": 63,
   "id": "cd4e9507-4ea8-4797-b39e-f05f90a2a08a",
   "metadata": {},
   "outputs": [
    {
     "data": {
      "text/plain": [
       "{'Ramesh': 20, 'Suresh': 25, 'Sathish': 30}"
      ]
     },
     "execution_count": 63,
     "metadata": {},
     "output_type": "execute_result"
    }
   ],
   "source": [
    "d={}\n",
    "d['Ramesh']=20\n",
    "d['Suresh']=25\n",
    "d['Sathish']=30\n",
    "d"
   ]
  },
  {
   "cell_type": "code",
   "execution_count": 73,
   "id": "1603d8f5-832a-4554-a7ed-70b6d8b16258",
   "metadata": {},
   "outputs": [
    {
     "data": {
      "text/plain": [
       "{'Ramesh': 30, 'Suresh': 30, 'Sathish': 30}"
      ]
     },
     "execution_count": 73,
     "metadata": {},
     "output_type": "execute_result"
    }
   ],
   "source": [
    "names=['Ramesh','Suresh','Sathish']\n",
    "age=[20,25,30]\n",
    "for i in names:\n",
    "    for j in age:\n",
    "        d[i]=j\n",
    "d"
   ]
  },
  {
   "cell_type": "markdown",
   "id": "bee78733-c362-46a9-8f26-4fbe61cbcd44",
   "metadata": {},
   "source": [
    "**Dictionary Comprehension**\n",
    "- For list comprehension, we written everything inside list\n",
    "- For dictionary comprehension, we should write everything inside dictionary"
   ]
  },
  {
   "cell_type": "code",
   "execution_count": 76,
   "id": "5f62ff74-dc20-4e22-92d8-aa5025aa088a",
   "metadata": {},
   "outputs": [
    {
     "data": {
      "text/plain": [
       "{'Ramesh': 20, 'Suresh': 25, 'Sathish': 30}"
      ]
     },
     "execution_count": 76,
     "metadata": {},
     "output_type": "execute_result"
    }
   ],
   "source": [
    "# list comprehension: [<output> <for loop>]\n",
    "# dictionary comprehension: {<key:value> <for loop>}\n",
    "\n",
    "{i:j for i,j in zip(names,age)}"
   ]
  },
  {
   "cell_type": "markdown",
   "id": "ba7b6a0f-6915-4e79-bb4a-f6d500f15cb4",
   "metadata": {},
   "source": [
    "**Mutable-Immutable**\n",
    "- Lists are mutable\n",
    "- Dictionary are also mutable\n",
    "- Strings immutable\n",
    "- Tuple immutable\n",
    "- In dictionary, we can change the values using keys"
   ]
  },
  {
   "cell_type": "code",
   "execution_count": 79,
   "id": "ba102327-1294-4749-8579-80ad6059557a",
   "metadata": {},
   "outputs": [
    {
     "data": {
      "text/plain": [
       "{'Ramesh': 30, 'Suresh': 25, 'Sathish': 30}"
      ]
     },
     "execution_count": 79,
     "metadata": {},
     "output_type": "execute_result"
    }
   ],
   "source": [
    "d={'Ramesh': 20, 'Suresh': 25, 'Sathish': 30}\n",
    "d['Ramesh']=30\n",
    "d"
   ]
  },
  {
   "cell_type": "code",
   "execution_count": 81,
   "id": "eeff0ae4-a457-4ca9-9167-8a81520f4843",
   "metadata": {},
   "outputs": [
    {
     "data": {
      "text/plain": [
       "['__class__',\n",
       " '__class_getitem__',\n",
       " '__contains__',\n",
       " '__delattr__',\n",
       " '__delitem__',\n",
       " '__dir__',\n",
       " '__doc__',\n",
       " '__eq__',\n",
       " '__format__',\n",
       " '__ge__',\n",
       " '__getattribute__',\n",
       " '__getitem__',\n",
       " '__getstate__',\n",
       " '__gt__',\n",
       " '__hash__',\n",
       " '__init__',\n",
       " '__init_subclass__',\n",
       " '__ior__',\n",
       " '__iter__',\n",
       " '__le__',\n",
       " '__len__',\n",
       " '__lt__',\n",
       " '__ne__',\n",
       " '__new__',\n",
       " '__or__',\n",
       " '__reduce__',\n",
       " '__reduce_ex__',\n",
       " '__repr__',\n",
       " '__reversed__',\n",
       " '__ror__',\n",
       " '__setattr__',\n",
       " '__setitem__',\n",
       " '__sizeof__',\n",
       " '__str__',\n",
       " '__subclasshook__',\n",
       " 'clear',\n",
       " 'copy',\n",
       " 'fromkeys',\n",
       " 'get',\n",
       " 'items',\n",
       " 'keys',\n",
       " 'pop',\n",
       " 'popitem',\n",
       " 'setdefault',\n",
       " 'update',\n",
       " 'values']"
      ]
     },
     "execution_count": 81,
     "metadata": {},
     "output_type": "execute_result"
    }
   ],
   "source": [
    "dir({})"
   ]
  },
  {
   "cell_type": "code",
   "execution_count": 3,
   "id": "782221f4-9050-4f90-bb57-02c5c8627bb0",
   "metadata": {},
   "outputs": [],
   "source": [
    "d={'Ramesh': 20, 'Suresh': 25, 'Sathish': 30}\n",
    "d.clear()"
   ]
  },
  {
   "cell_type": "code",
   "execution_count": 11,
   "id": "49d192d1-fb1d-4198-a218-e86a9bdbb1c8",
   "metadata": {},
   "outputs": [
    {
     "data": {
      "text/plain": [
       "{'Ramesh': 20, 'Suresh': 25, 'Sathish': 30}"
      ]
     },
     "execution_count": 11,
     "metadata": {},
     "output_type": "execute_result"
    }
   ],
   "source": [
    "d={'Ramesh': 20, 'Suresh': 25, 'Sathish': 30}\n",
    "d1=d.copy()\n",
    "d1"
   ]
  },
  {
   "cell_type": "code",
   "execution_count": 13,
   "id": "aacb7f56-212f-4f5d-82bd-2afd5d53f053",
   "metadata": {},
   "outputs": [
    {
     "data": {
      "text/plain": [
       "dict_items([('Ramesh', 20), ('Suresh', 25), ('Sathish', 30)])"
      ]
     },
     "execution_count": 13,
     "metadata": {},
     "output_type": "execute_result"
    }
   ],
   "source": [
    "d1.items()"
   ]
  },
  {
   "cell_type": "code",
   "execution_count": 15,
   "id": "52042eca-a1ad-4917-a087-2b8a41ce5667",
   "metadata": {},
   "outputs": [
    {
     "data": {
      "text/plain": [
       "dict_keys(['Ramesh', 'Suresh', 'Sathish'])"
      ]
     },
     "execution_count": 15,
     "metadata": {},
     "output_type": "execute_result"
    }
   ],
   "source": [
    "d.keys()"
   ]
  },
  {
   "cell_type": "code",
   "execution_count": 17,
   "id": "368e126d-eccf-43b3-828b-f76feab20b30",
   "metadata": {},
   "outputs": [
    {
     "data": {
      "text/plain": [
       "dict_values([20, 25, 30])"
      ]
     },
     "execution_count": 17,
     "metadata": {},
     "output_type": "execute_result"
    }
   ],
   "source": [
    "d.values()"
   ]
  },
  {
   "cell_type": "markdown",
   "id": "1368b6b6-def2-4435-a5bb-4d3ee8465a7c",
   "metadata": {},
   "source": [
    "**Convert dictionary to list**\n",
    "- In order to convert dictionary to list\n",
    "- First we need to separate keys and values\n",
    "- Then apply list type casting"
   ]
  },
  {
   "cell_type": "code",
   "execution_count": 22,
   "id": "f8c0dfe3-ec03-48b3-898c-09eb00782f3e",
   "metadata": {},
   "outputs": [
    {
     "data": {
      "text/plain": [
       "['Uday', 'Teja', 'Rakesh']"
      ]
     },
     "execution_count": 22,
     "metadata": {},
     "output_type": "execute_result"
    }
   ],
   "source": [
    "d={'Uday':24,'Teja':17,'Rakesh':23}\n",
    "keys=d.keys()\n",
    "keys_list=list(keys)\n",
    "keys_list"
   ]
  },
  {
   "cell_type": "code",
   "execution_count": 24,
   "id": "8ec54155-fb6a-4740-b501-146b8ec67fdb",
   "metadata": {},
   "outputs": [
    {
     "data": {
      "text/plain": [
       "[24, 17, 23]"
      ]
     },
     "execution_count": 24,
     "metadata": {},
     "output_type": "execute_result"
    }
   ],
   "source": [
    "values=d.values()\n",
    "values_list=list(values)\n",
    "values_list"
   ]
  },
  {
   "cell_type": "code",
   "execution_count": 26,
   "id": "b47c93b1-9879-4ef2-a6af-954f5a2d93b8",
   "metadata": {},
   "outputs": [
    {
     "data": {
      "text/plain": [
       "[('Uday', 24), ('Teja', 17), ('Rakesh', 23)]"
      ]
     },
     "execution_count": 26,
     "metadata": {},
     "output_type": "execute_result"
    }
   ],
   "source": [
    "items=d.items()\n",
    "items_list=list(items)\n",
    "items_list"
   ]
  },
  {
   "cell_type": "code",
   "execution_count": 60,
   "id": "da7d9c6e-701c-438a-bd44-2e6f8800b6bb",
   "metadata": {},
   "outputs": [
    {
     "data": {
      "text/plain": [
       "{'fname': ['virat', 'rohit', 'ms'],\n",
       " 'sname': ['kohli', 'sharma', 'dhoni'],\n",
       " 'cname': ['rcb', 'mi', 'csk']}"
      ]
     },
     "execution_count": 60,
     "metadata": {},
     "output_type": "execute_result"
    }
   ],
   "source": [
    "input='virat.kohli@rcb.com;rohit.sharma@mi.com;ms.dhoni@csk.com'\n",
    "emails = input.split(';')\n",
    "fname = [email.split('.')[0] for email in emails]\n",
    "sname = [email.split('.')[1].split('@')[0] for email in emails]\n",
    "cname = [email.split('@')[1].split('.')[0] for email in emails]\n",
    "dic={}\n",
    "dic['fname']=fname\n",
    "dic['sname']=sname\n",
    "dic['cname']=cname\n",
    "dic"
   ]
  },
  {
   "cell_type": "code",
   "execution_count": 62,
   "id": "50d88c02-43c9-4a85-970a-4dac63df53a7",
   "metadata": {},
   "outputs": [
    {
     "data": {
      "text/plain": [
       "20"
      ]
     },
     "execution_count": 62,
     "metadata": {},
     "output_type": "execute_result"
    }
   ],
   "source": [
    "d={'Ramesh': 20, 'Suresh': 25, 'Sathish': 30}\n",
    "d.pop('Ramesh')"
   ]
  },
  {
   "cell_type": "code",
   "execution_count": 64,
   "id": "baa71782-1e2c-4381-90bd-0d9a355b6d9a",
   "metadata": {},
   "outputs": [
    {
     "data": {
      "text/plain": [
       "{'Suresh': 25, 'Sathish': 30}"
      ]
     },
     "execution_count": 64,
     "metadata": {},
     "output_type": "execute_result"
    }
   ],
   "source": [
    "d"
   ]
  },
  {
   "cell_type": "code",
   "execution_count": 68,
   "id": "d17ab33f-5519-47fd-97ea-6a83825f59fd",
   "metadata": {},
   "outputs": [
    {
     "data": {
      "text/plain": [
       "['Suresh', 'Sathish']"
      ]
     },
     "execution_count": 68,
     "metadata": {},
     "output_type": "execute_result"
    }
   ],
   "source": [
    "l1=['Ramesh','Suresh','Sathish']\n",
    "l1.remove('Ramesh')\n",
    "l1"
   ]
  },
  {
   "cell_type": "markdown",
   "id": "126aed9a-370b-4dd6-b9b7-04657d166a35",
   "metadata": {},
   "source": [
    "- **pop** in dictionary, similar analogy remove in list"
   ]
  },
  {
   "cell_type": "code",
   "execution_count": 71,
   "id": "3d0fc615-538e-4eb6-999d-c7be4cd9f1fc",
   "metadata": {},
   "outputs": [
    {
     "data": {
      "text/plain": [
       "{'Ramesh': 20, 'Suresh': 25}"
      ]
     },
     "execution_count": 71,
     "metadata": {},
     "output_type": "execute_result"
    }
   ],
   "source": [
    "d={'Ramesh': 20, 'Suresh': 25, 'Sathish': 30}\n",
    "d.popitem()\n",
    "d"
   ]
  },
  {
   "cell_type": "code",
   "execution_count": 73,
   "id": "b8a11189-932f-4864-a36a-65f22696dcac",
   "metadata": {},
   "outputs": [
    {
     "data": {
      "text/plain": [
       "['Ramesh', 'Suresh']"
      ]
     },
     "execution_count": 73,
     "metadata": {},
     "output_type": "execute_result"
    }
   ],
   "source": [
    "l1=['Ramesh','Suresh','Sathish']\n",
    "l1.pop()\n",
    "l1"
   ]
  },
  {
   "cell_type": "markdown",
   "id": "09295a9b-fba8-4fa5-ac7d-7bc34e1424cd",
   "metadata": {},
   "source": [
    "- **popitem** in dictionary, similar analogy pop in list"
   ]
  },
  {
   "cell_type": "markdown",
   "id": "e7aa3732-0cef-4148-964f-9e10ce3d9417",
   "metadata": {},
   "source": [
    "**get**"
   ]
  },
  {
   "cell_type": "code",
   "execution_count": 80,
   "id": "0d7abcd0-7c9c-4d6c-8931-b1910aeecc7a",
   "metadata": {},
   "outputs": [
    {
     "data": {
      "text/plain": [
       "20"
      ]
     },
     "execution_count": 80,
     "metadata": {},
     "output_type": "execute_result"
    }
   ],
   "source": [
    "d={'Ramesh':20,'Suresh':25,'Sathish':30}\n",
    "d.get('Ramesh')"
   ]
  },
  {
   "cell_type": "markdown",
   "id": "21863ead-80ec-42d8-8fc0-9addab42be0a",
   "metadata": {},
   "source": [
    "**update**\n",
    "- Update is similar analogy to list extend\n",
    "- Take two dictionaries and apply update method"
   ]
  },
  {
   "cell_type": "code",
   "execution_count": 83,
   "id": "2653a946-4ed7-48a2-b471-c6fffbbff010",
   "metadata": {},
   "outputs": [
    {
     "data": {
      "text/plain": [
       "{'Ramesh': 20,\n",
       " 'Suresh': 25,\n",
       " 'Sathish': 30,\n",
       " 'Uday': 24,\n",
       " 'Teja': 17,\n",
       " 'Rakesh': 23}"
      ]
     },
     "execution_count": 83,
     "metadata": {},
     "output_type": "execute_result"
    }
   ],
   "source": [
    "d1={'Ramesh':20,'Suresh':25,'Sathish':30}\n",
    "d2={'Uday':24,'Teja':17,'Rakesh':23}\n",
    "d1.update(d2)\n",
    "d1"
   ]
  },
  {
   "cell_type": "markdown",
   "id": "4166f786-53e9-4b1a-bfe8-2ea7ca0b2a3c",
   "metadata": {},
   "source": [
    "**setdefault**\n",
    "- Suppose an already existed dictionary available\n",
    "- We can update the dictionary with new key:value pair"
   ]
  },
  {
   "cell_type": "code",
   "execution_count": 87,
   "id": "a05215f8-f847-4270-a5e1-1810f63ac821",
   "metadata": {},
   "outputs": [
    {
     "data": {
      "text/plain": [
       "{'Ramesh': 20, 'Suresh': 25, 'Sathish': 30, 'Manish': None}"
      ]
     },
     "execution_count": 87,
     "metadata": {},
     "output_type": "execute_result"
    }
   ],
   "source": [
    "d1={'Ramesh':20,'Suresh':25,'Sathish':30}\n",
    "d1.setdefault('Manish')\n",
    "d1"
   ]
  },
  {
   "cell_type": "code",
   "execution_count": 89,
   "id": "0d3890dd-c542-4ffe-8cb5-2b6375fc2057",
   "metadata": {},
   "outputs": [
    {
     "data": {
      "text/plain": [
       "{'Ramesh': 20, 'Suresh': 25, 'Sathish': 30, 'Manish': 35}"
      ]
     },
     "execution_count": 89,
     "metadata": {},
     "output_type": "execute_result"
    }
   ],
   "source": [
    "d1={'Ramesh':20,'Suresh':25,'Sathish':30}\n",
    "d1.setdefault('Manish',35)\n",
    "d1"
   ]
  },
  {
   "cell_type": "markdown",
   "id": "2ac75921-24b3-458a-a1ec-6bb3edf7d65c",
   "metadata": {},
   "source": [
    "- **setdefault** in dictionary, similar analogy **list append**\n",
    "- Always remember dictionary is a key:value pair concept\n",
    "- It never involves index operations\n",
    "- Thats why we don't have any index or find methods\n",
    "- We have get method to extract values using key"
   ]
  },
  {
   "cell_type": "markdown",
   "id": "5fe5c6a4-9ce0-4931-a32b-ef01030ec3b8",
   "metadata": {},
   "source": [
    "**fromkeys**\n",
    "- Create a dictionary with different keys but same value\n",
    "- fromkeys will take an arguement **iterable**\n",
    "- Try yo provide an iterator i.e., string,list,tuple"
   ]
  },
  {
   "cell_type": "code",
   "execution_count": 96,
   "id": "96cff5b9-ce2f-455a-81ba-b96d062bd620",
   "metadata": {},
   "outputs": [
    {
     "data": {
      "text/plain": [
       "{'Ramesh': 'NareshiT', 'Suresh': 'NareshiT', 'Sathish': 'NareshiT'}"
      ]
     },
     "execution_count": 96,
     "metadata": {},
     "output_type": "execute_result"
    }
   ],
   "source": [
    "d={}\n",
    "names=['Ramesh','Suresh','Sathish']\n",
    "d.fromkeys(names,'NareshiT')"
   ]
  },
  {
   "cell_type": "code",
   "execution_count": null,
   "id": "256ab357-df5f-474c-b337-457e8d838f83",
   "metadata": {},
   "outputs": [],
   "source": []
  }
 ],
 "metadata": {
  "kernelspec": {
   "display_name": "Python [conda env:base] *",
   "language": "python",
   "name": "conda-base-py"
  },
  "language_info": {
   "codemirror_mode": {
    "name": "ipython",
    "version": 3
   },
   "file_extension": ".py",
   "mimetype": "text/x-python",
   "name": "python",
   "nbconvert_exporter": "python",
   "pygments_lexer": "ipython3",
   "version": "3.12.7"
  }
 },
 "nbformat": 4,
 "nbformat_minor": 5
}
