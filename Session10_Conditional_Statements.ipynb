{
 "cells": [
  {
   "cell_type": "markdown",
   "id": "cbfe8eb3-f953-4a86-bfd3-a34ba7deeab7",
   "metadata": {},
   "source": [
    "## Conditional Statements\n",
    "- Conditional statements are used to execute the code based on some conditions\n",
    "- Assume a statement\n",
    "  - If rain comes I will stay at hostel\n",
    "  - If rain comes I will stay at hostel otherwise I will go to play cricket\n",
    "  - If rain comes I will stay at hostel otherwise I will go to ground but if omkar sir calls I will go to NareshiT\n",
    "\n",
    "**if**\n",
    "\n",
    "**if-else**\n",
    "\n",
    "**if-elif-else**"
   ]
  },
  {
   "cell_type": "markdown",
   "id": "079a39d1-ad7e-48e0-b9df-01080cc5f7f7",
   "metadata": {},
   "source": [
    "#### Case-1: if"
   ]
  },
  {
   "cell_type": "code",
   "execution_count": 6,
   "id": "fb63853c-ff7c-44ab-8b50-3e2103995563",
   "metadata": {},
   "outputs": [],
   "source": [
    "# if <condition>:\n",
    "    # write you code here\n",
    "# Whenever the condition is true\n",
    "# then python will go inside the if area then the lines will be executed"
   ]
  },
  {
   "cell_type": "code",
   "execution_count": 8,
   "id": "701d98b6-fb07-4a22-b0b6-a8a09cf046bb",
   "metadata": {},
   "outputs": [
    {
     "name": "stdout",
     "output_type": "stream",
     "text": [
      "False\n",
      "True\n",
      "False\n",
      "False\n",
      "True\n",
      "True\n"
     ]
    }
   ],
   "source": [
    "num=10 # assignment 10 is a value stored in a variable name\n",
    "print(num==100) # F   # condition check num value equal to 10 or not\n",
    "print(num==10) # T\n",
    "print(num>10) # F\n",
    "print(num<10) # F\n",
    "print(num>=10) # T\n",
    "print(num<=10) # T"
   ]
  },
  {
   "cell_type": "code",
   "execution_count": 10,
   "id": "1b87f759-6edf-463e-8c29-c81dca2c4211",
   "metadata": {},
   "outputs": [
    {
     "name": "stdout",
     "output_type": "stream",
     "text": [
      "Hello\n"
     ]
    }
   ],
   "source": [
    "if 100>10:\n",
    "    print('Hello')"
   ]
  },
  {
   "cell_type": "markdown",
   "id": "68316e17-c1a7-4225-b4d7-377f3ad6d997",
   "metadata": {},
   "source": [
    "**Mistake-1**\n",
    "\n",
    "$IndentationError$\n",
    "- Whenever a line starts with keyword at last \":\" will be there\n",
    "- Whenever \":\" there then we have indentation\n",
    "\n",
    "**Mistake-2**\n",
    "\n",
    "$SyntaxError$\n",
    "- Whenever we do not give colon(:) after keyword, this error will come"
   ]
  },
  {
   "cell_type": "code",
   "execution_count": 16,
   "id": "8cea2979-fa3e-4cc3-8a8d-0d37265f7a2a",
   "metadata": {},
   "outputs": [
    {
     "ename": "SyntaxError",
     "evalue": "expected ':' (407014315.py, line 1)",
     "output_type": "error",
     "traceback": [
      "\u001b[1;36m  Cell \u001b[1;32mIn[16], line 1\u001b[1;36m\u001b[0m\n\u001b[1;33m    if 100>10\u001b[0m\n\u001b[1;37m             ^\u001b[0m\n\u001b[1;31mSyntaxError\u001b[0m\u001b[1;31m:\u001b[0m expected ':'\n"
     ]
    }
   ],
   "source": [
    "if 100>10\n",
    "    print('Hello')"
   ]
  },
  {
   "cell_type": "code",
   "execution_count": 18,
   "id": "6ba0f3b1-ce28-4e22-9be9-38eff0c868f3",
   "metadata": {},
   "outputs": [
    {
     "data": {
      "text/plain": [
       "True"
      ]
     },
     "execution_count": 18,
     "metadata": {},
     "output_type": "execute_result"
    }
   ],
   "source": [
    "100>10"
   ]
  },
  {
   "cell_type": "code",
   "execution_count": 20,
   "id": "57a43ac0-395d-4571-8b2c-054c680bbe7a",
   "metadata": {},
   "outputs": [
    {
     "name": "stdout",
     "output_type": "stream",
     "text": [
      "Hello\n"
     ]
    }
   ],
   "source": [
    "if True:\n",
    "    print('Hello')"
   ]
  },
  {
   "cell_type": "code",
   "execution_count": 22,
   "id": "aa3cdee0-b603-4919-82c4-93a808e3fc91",
   "metadata": {},
   "outputs": [
    {
     "name": "stdout",
     "output_type": "stream",
     "text": [
      "Hello\n"
     ]
    }
   ],
   "source": [
    "if bool(100):\n",
    "    print('Hello')"
   ]
  },
  {
   "cell_type": "code",
   "execution_count": 24,
   "id": "21e1445d-4f50-4753-86fe-2760f38af1fa",
   "metadata": {},
   "outputs": [
    {
     "data": {
      "text/plain": [
       "False"
      ]
     },
     "execution_count": 24,
     "metadata": {},
     "output_type": "execute_result"
    }
   ],
   "source": [
    "100<10"
   ]
  },
  {
   "cell_type": "code",
   "execution_count": 26,
   "id": "c789eb95-5a47-4512-a1ac-b4af1a144347",
   "metadata": {},
   "outputs": [],
   "source": [
    "if False:\n",
    "    print('Hi')"
   ]
  },
  {
   "cell_type": "code",
   "execution_count": 28,
   "id": "efa69876-e399-4a0f-8923-12c9323e8111",
   "metadata": {},
   "outputs": [],
   "source": [
    "if bool(0):\n",
    "    print('Hi')"
   ]
  },
  {
   "cell_type": "code",
   "execution_count": 30,
   "id": "e5faf69f-671c-4e4b-99cd-68d7a5e130f8",
   "metadata": {},
   "outputs": [
    {
     "name": "stdout",
     "output_type": "stream",
     "text": [
      "Hello\n",
      "Hi\n",
      "I am with condition bye\n",
      "I am without condition bye\n"
     ]
    }
   ],
   "source": [
    "if 100>10:\n",
    "    print('Hello')\n",
    "    print('Hi')\n",
    "    print('I am with condition bye')\n",
    "print('I am without condition bye')"
   ]
  },
  {
   "cell_type": "code",
   "execution_count": 32,
   "id": "93b26448-60b5-4539-8b02-f39763b4fa88",
   "metadata": {},
   "outputs": [
    {
     "name": "stdout",
     "output_type": "stream",
     "text": [
      "I am without condition bye\n"
     ]
    }
   ],
   "source": [
    "if 100<10:\n",
    "    print('Hello')\n",
    "    print('Hi')\n",
    "    print('I am with condition bye')\n",
    "print('I am without condition bye')"
   ]
  },
  {
   "cell_type": "code",
   "execution_count": 34,
   "id": "1645e366-3900-4662-88ab-ec98e3cf15e9",
   "metadata": {},
   "outputs": [
    {
     "name": "stdout",
     "output_type": "stream",
     "text": [
      "1\n",
      "2\n",
      "I am without condition bye\n"
     ]
    }
   ],
   "source": [
    "print(1)\n",
    "print(2)\n",
    "if 100<10:\n",
    "    print('Hello')\n",
    "    print('Hi')\n",
    "    print('I am with condition bye')\n",
    "print('I am without condition bye')"
   ]
  },
  {
   "cell_type": "markdown",
   "id": "efa1c8b4-91e8-46bd-97e7-66ea97cdb95f",
   "metadata": {},
   "source": [
    "#### Case-2: if-else\n",
    "- if condition is True then if statements will execute\n",
    "- if condition is False then else statements will execute\n",
    "- One condition two outputs\n",
    "- if needs condition but not else"
   ]
  },
  {
   "cell_type": "code",
   "execution_count": 6,
   "id": "9e705604-0d48-4143-b32a-a4cb991c1455",
   "metadata": {},
   "outputs": [
    {
     "ename": "SyntaxError",
     "evalue": "invalid syntax (1836954807.py, line 2)",
     "output_type": "error",
     "traceback": [
      "\u001b[1;36m  Cell \u001b[1;32mIn[6], line 2\u001b[1;36m\u001b[0m\n\u001b[1;33m    if <condition>:\u001b[0m\n\u001b[1;37m       ^\u001b[0m\n\u001b[1;31mSyntaxError\u001b[0m\u001b[1;31m:\u001b[0m invalid syntax\n"
     ]
    }
   ],
   "source": [
    "# syntax\n",
    "if <condition>:\n",
    "    <write your code here>\n",
    "else:\n",
    "    <write your code here>"
   ]
  },
  {
   "cell_type": "code",
   "execution_count": 8,
   "id": "c6549175-7a47-48c3-a9d1-af02034be5ce",
   "metadata": {},
   "outputs": [
    {
     "name": "stdout",
     "output_type": "stream",
     "text": [
      "Hello\n"
     ]
    }
   ],
   "source": [
    "print('Hello')"
   ]
  },
  {
   "cell_type": "code",
   "execution_count": 10,
   "id": "827117e7-0a7d-4161-9044-0f007983b08a",
   "metadata": {},
   "outputs": [
    {
     "name": "stdout",
     "output_type": "stream",
     "text": [
      "Hello\n"
     ]
    }
   ],
   "source": [
    "friend='yes'\n",
    "if friend=='yes':     # if 'yes'=='yes'\n",
    "    print('Hello')"
   ]
  },
  {
   "cell_type": "code",
   "execution_count": 12,
   "id": "426ca54f-734e-4c35-9a04-8ba6f2f00b29",
   "metadata": {},
   "outputs": [
    {
     "name": "stdout",
     "output_type": "stream",
     "text": [
      "Positive Number\n"
     ]
    }
   ],
   "source": [
    "if 100>0:\n",
    "    print('Positive Number')\n",
    "else:\n",
    "    print('Negative Number')"
   ]
  },
  {
   "cell_type": "code",
   "execution_count": 20,
   "id": "45c85424-d932-4010-9124-c6518b44654e",
   "metadata": {},
   "outputs": [
    {
     "name": "stdout",
     "output_type": "stream",
     "text": [
      "Positive Number\n"
     ]
    }
   ],
   "source": [
    "n=100\n",
    "if n>0:\n",
    "    print('Positive Number')\n",
    "else:\n",
    "    print('Negative Number')"
   ]
  },
  {
   "cell_type": "code",
   "execution_count": 16,
   "id": "1bf976da-e34b-48e0-aa77-dcc1bd42510a",
   "metadata": {},
   "outputs": [
    {
     "name": "stdin",
     "output_type": "stream",
     "text": [
      "Enter the number: 50\n"
     ]
    },
    {
     "name": "stdout",
     "output_type": "stream",
     "text": [
      "Positive Number\n"
     ]
    }
   ],
   "source": [
    "n=eval(input(\"Enter the number:\"))\n",
    "if n>0:\n",
    "    print('Positive Number')\n",
    "else:\n",
    "    print('Negative Number')"
   ]
  },
  {
   "cell_type": "code",
   "execution_count": 18,
   "id": "051db983-5dad-44d1-b5ff-3f3442e04887",
   "metadata": {},
   "outputs": [
    {
     "name": "stdout",
     "output_type": "stream",
     "text": [
      "-70 is a negative number\n"
     ]
    }
   ],
   "source": [
    "import random\n",
    "\n",
    "n=random.randint(-100,100)\n",
    "if n>0:\n",
    "    print(f'{n} is a positive number')\n",
    "else:\n",
    "    print(f'{n} is a negative number')"
   ]
  },
  {
   "cell_type": "code",
   "execution_count": 22,
   "id": "e89dd442-f2e8-4783-a90f-5abc899abdde",
   "metadata": {},
   "outputs": [
    {
     "name": "stdout",
     "output_type": "stream",
     "text": [
      "Hello\n",
      "Positive Number\n",
      "Condition is True\n"
     ]
    }
   ],
   "source": [
    "print('Hello')\n",
    "if 100>0:\n",
    "    print('Positive Number')\n",
    "    print('Condition is True')\n",
    "else:\n",
    "    print('Negative Number')\n",
    "    print('Condition is False')"
   ]
  },
  {
   "cell_type": "code",
   "execution_count": 24,
   "id": "d8ac21dc-ff52-4765-a4e8-3553c3876d4b",
   "metadata": {},
   "outputs": [
    {
     "name": "stdout",
     "output_type": "stream",
     "text": [
      "Hello\n",
      "Negative Number\n",
      "Condition is False\n",
      "Bye\n"
     ]
    }
   ],
   "source": [
    "print('Hello')\n",
    "if 100<0:\n",
    "    print('Positive Number')\n",
    "    print('Condition is True')\n",
    "else:\n",
    "    print('Negative Number')\n",
    "    print('Condition is False')\n",
    "print('Bye')"
   ]
  },
  {
   "cell_type": "code",
   "execution_count": 28,
   "id": "0c9d6ccb-cf99-4943-a05d-44ecbc1f6fce",
   "metadata": {},
   "outputs": [
    {
     "ename": "SyntaxError",
     "evalue": "invalid syntax (806550615.py, line 6)",
     "output_type": "error",
     "traceback": [
      "\u001b[1;36m  Cell \u001b[1;32mIn[28], line 6\u001b[1;36m\u001b[0m\n\u001b[1;33m    else:\u001b[0m\n\u001b[1;37m    ^\u001b[0m\n\u001b[1;31mSyntaxError\u001b[0m\u001b[1;31m:\u001b[0m invalid syntax\n"
     ]
    }
   ],
   "source": [
    "print('Hello')\n",
    "if 100<0:\n",
    "    print('Positive Number')\n",
    "    print('Condition is True')\n",
    "print('Why you are in middle')\n",
    "else:\n",
    "    print('Negative Number')\n",
    "    print('Condition is False')\n",
    "print('Bye')\n",
    "\n",
    "# if-else should come together"
   ]
  },
  {
   "cell_type": "code",
   "execution_count": 1,
   "id": "d532201d-7da2-4067-905e-85e23dd81259",
   "metadata": {},
   "outputs": [
    {
     "name": "stdin",
     "output_type": "stream",
     "text": [
      "Enter first number: 10\n",
      "Enter second number: 20\n"
     ]
    },
    {
     "name": "stdout",
     "output_type": "stream",
     "text": [
      "n2:20 is the greatest number\n"
     ]
    }
   ],
   "source": [
    "# WAP ask the user enter two numbers find the greatest number\n",
    "\n",
    "n1=eval(input(\"Enter first number:\"))\n",
    "n2=eval(input(\"Enter second number:\"))\n",
    "if n1>n2:\n",
    "    print(f\"n1:{n1} is the greatest number\")\n",
    "else:\n",
    "    print(f\"n2:{n2} is the greatest number\")"
   ]
  },
  {
   "cell_type": "code",
   "execution_count": 36,
   "id": "9e36ec29-e1a1-4cf8-87a2-0a21ea73bd62",
   "metadata": {},
   "outputs": [
    {
     "name": "stdout",
     "output_type": "stream",
     "text": [
      "n2:96 is the greatest number\n"
     ]
    }
   ],
   "source": [
    "import random\n",
    "n1=random.randint(1,100)\n",
    "n2=random.randint(1,100)\n",
    "if n1>n2:\n",
    "    print(f\"n1:{n1} is the greatest number\")\n",
    "else:\n",
    "    print(f\"n2:{n2} is the greatest number\")"
   ]
  },
  {
   "cell_type": "code",
   "execution_count": 44,
   "id": "dd69bdf8-94ad-4d77-a46b-d715b887123d",
   "metadata": {},
   "outputs": [
    {
     "name": "stdin",
     "output_type": "stream",
     "text": [
      "Enter the distance: 30\n",
      "Enter the charge per km: 10\n"
     ]
    },
    {
     "name": "stdout",
     "output_type": "stream",
     "text": [
      "The total charge is 300 INR\n"
     ]
    }
   ],
   "source": [
    "# WAP ask the user enter distance\n",
    "# if distance greater than 25km\n",
    "# then ask the charge per km\n",
    "# then calculate total charge\n",
    "# otherwise print free ride\n",
    "\n",
    "distance=eval(input(\"Enter the distance:\"))\n",
    "if distance>25:\n",
    "    charge=eval(input(\"Enter the charge per km:\"))\n",
    "    total_charge=distance*charge\n",
    "    print(f\"The total charge is {total_charge} INR\")\n",
    "else:\n",
    "    print(\"Free Ride\")\n",
    "    "
   ]
  },
  {
   "cell_type": "code",
   "execution_count": 46,
   "id": "8362d059-cc5f-424c-a5f9-125e6109e903",
   "metadata": {},
   "outputs": [
    {
     "name": "stdin",
     "output_type": "stream",
     "text": [
      "Enter the distance: 30\n",
      "Enter the free distance: 25\n",
      "Enter the charge per km: 10\n"
     ]
    },
    {
     "name": "stdout",
     "output_type": "stream",
     "text": [
      "The total charge is 50 INR\n"
     ]
    }
   ],
   "source": [
    "# WAP ask the user enter distance\n",
    "# enter the free distance\n",
    "# if distance greater than 25km\n",
    "# then ask the charge per km\n",
    "# then calculate total charge\n",
    "# otherwise print free ride\n",
    "\n",
    "distance=eval(input(\"Enter the distance:\"))\n",
    "free_distance=eval(input(\"Enter the free distance:\"))\n",
    "if distance>free_distance:\n",
    "    charge=eval(input(\"Enter the charge per km:\"))\n",
    "    total_charge=(distance-free_distance)*charge\n",
    "    print(f\"The total charge is {total_charge} INR\")\n",
    "else:\n",
    "    print(\"Free Ride\")"
   ]
  },
  {
   "cell_type": "code",
   "execution_count": 48,
   "id": "de1a0a50-b821-4117-961f-8bf082a853cc",
   "metadata": {},
   "outputs": [
    {
     "name": "stdin",
     "output_type": "stream",
     "text": [
      "Enter the distance: 30\n",
      "Enter the charge per km: 10\n"
     ]
    },
    {
     "name": "stdout",
     "output_type": "stream",
     "text": [
      "The total charge is 300 INR\n"
     ]
    }
   ],
   "source": [
    "distance=eval(input(\"Enter the distance:\"))\n",
    "if distance<25:\n",
    "    print(\"Free Ride\")\n",
    "else:\n",
    "    charge=eval(input(\"Enter the charge per km:\"))\n",
    "    total_charge=distance*charge\n",
    "    print(f\"The total charge is {total_charge} INR\")"
   ]
  },
  {
   "cell_type": "code",
   "execution_count": 62,
   "id": "3b9051d3-01a1-4da5-b988-148ade3aa8db",
   "metadata": {},
   "outputs": [
    {
     "name": "stdin",
     "output_type": "stream",
     "text": [
      "Enter the number: 9\n"
     ]
    },
    {
     "name": "stdout",
     "output_type": "stream",
     "text": [
      "You Lost\n"
     ]
    }
   ],
   "source": [
    "# WAP ask the user enter a number from keyboard n1\n",
    "# ask the user get a random number between 1,10 n2\n",
    "# if n1 equal n2 print you won\n",
    "# otherwise print you lost\n",
    "\n",
    "import random\n",
    "n1=eval(input(\"Enter the number:\"))\n",
    "n2=random.randint(1,10)\n",
    "if n1==n2:\n",
    "    print(\"You Won\")\n",
    "else:\n",
    "    print(\"You Lost\")"
   ]
  },
  {
   "cell_type": "code",
   "execution_count": 64,
   "id": "7f9ebbb2-67e2-471d-8445-8f8af60059a1",
   "metadata": {},
   "outputs": [
    {
     "name": "stdin",
     "output_type": "stream",
     "text": [
      "Enter the course name: Data Science\n",
      "Enter the institute name: Naresh iT\n"
     ]
    },
    {
     "name": "stdout",
     "output_type": "stream",
     "text": [
      "You are at safe place\n"
     ]
    }
   ],
   "source": [
    "# course name = Data Science\n",
    "# Inst name = Naresh iT\n",
    "# Ask the user enter course_name\n",
    "#         user inst_name\n",
    "# if course_name equal to data_science and inst_name naresh_it\n",
    "# otherwise print katam zindagi\n",
    "\n",
    "course_name=input(\"Enter the course name:\")\n",
    "inst_name=input(\"Enter the institute name:\")\n",
    "if course_name=='Data Science' and inst_name=='Naresh iT':\n",
    "    print(\"You are at safe place\")\n",
    "else:\n",
    "    print(\"Katham Zindagi\")"
   ]
  },
  {
   "cell_type": "code",
   "execution_count": 66,
   "id": "10e9c595-589a-4acd-ba31-6f857598379a",
   "metadata": {},
   "outputs": [
    {
     "name": "stdin",
     "output_type": "stream",
     "text": [
      "Enter the course name: AI\n",
      "Enter the institute name: Naresh iT\n"
     ]
    },
    {
     "name": "stdout",
     "output_type": "stream",
     "text": [
      "You are at safe place\n"
     ]
    }
   ],
   "source": [
    "course_name=input(\"Enter the course name:\")\n",
    "inst_name=input(\"Enter the institute name:\")\n",
    "if course_name=='Data Science' or inst_name=='Naresh iT':\n",
    "    print(\"You are at safe place\")\n",
    "else:\n",
    "    print(\"Katham Zindagi\")"
   ]
  },
  {
   "cell_type": "code",
   "execution_count": 70,
   "id": "cc8969e7-4fd1-45d4-ad53-758dc401173b",
   "metadata": {},
   "outputs": [
    {
     "name": "stdin",
     "output_type": "stream",
     "text": [
      "Enter the number: 4\n"
     ]
    },
    {
     "name": "stdout",
     "output_type": "stream",
     "text": [
      "4 is even number\n"
     ]
    }
   ],
   "source": [
    "# even-odd\n",
    "# ask the user enter a number\n",
    "# print if it is even number or odd number\n",
    "\n",
    "num=eval(input(\"Enter the number:\"))\n",
    "if num%2==0:\n",
    "    print(f\"{num} is even number\")\n",
    "else:\n",
    "    print(f\"{num} is odd number\")"
   ]
  },
  {
   "cell_type": "markdown",
   "id": "b47a2c49-526f-4ea3-9f2f-f74abb874eab",
   "metadata": {},
   "source": [
    "#### Case-3: if-elif-else\n",
    "- Whenever we have multiple conditions we will do $if-elif-else$\n",
    "- If single condition is there we will go if-else\n",
    "  - two answers\n",
    "  - if needs condition then else does not require any condition\n",
    "- If two conditions are there we will go if-elif-else\n",
    "  - three answers\n",
    "  - if and elif needs condition else does not require any condition\n",
    "- If three conditions are there we will go if-elif-elif-else\n",
    "  - four answers\n",
    "  - if elif and elif needs condition and else does not require any condition"
   ]
  },
  {
   "cell_type": "code",
   "execution_count": null,
   "id": "a5a00910-4c51-4703-9e85-f4252f1b8116",
   "metadata": {},
   "outputs": [],
   "source": [
    "if <condition>:\n",
    "    <write your code here>\n",
    "elif <condition>:\n",
    "    <write your code here>\n",
    "else:\n",
    "    <write your code here>"
   ]
  },
  {
   "cell_type": "code",
   "execution_count": 10,
   "id": "7bc58285-d547-4438-99c5-8543e8380615",
   "metadata": {},
   "outputs": [
    {
     "name": "stdin",
     "output_type": "stream",
     "text": [
      "Enter a number: 1\n"
     ]
    },
    {
     "name": "stdout",
     "output_type": "stream",
     "text": [
      "One\n"
     ]
    }
   ],
   "source": [
    "# WAP ask the user enter a number\n",
    "# if number equal to one then print one\n",
    "# if number equal to two then print two\n",
    "# if number equal to three then print three\n",
    "# other wise print enter a valid number\n",
    "\n",
    "num=eval(input(\"Enter a number:\"))\n",
    "if num==1:\n",
    "    print(\"One\")\n",
    "elif num==2:\n",
    "    print(\"Two\")\n",
    "elif num==3:\n",
    "    print(\"Three\")\n",
    "else:\n",
    "    print(\"Enter a valid number\")"
   ]
  },
  {
   "cell_type": "code",
   "execution_count": 7,
   "id": "e3bcd9a2-fd4e-4b5c-bff0-d73f74a38059",
   "metadata": {},
   "outputs": [
    {
     "name": "stdin",
     "output_type": "stream",
     "text": [
      "Enter the percentage of marks: 93\n"
     ]
    },
    {
     "name": "stdout",
     "output_type": "stream",
     "text": [
      "A Grade\n"
     ]
    }
   ],
   "source": [
    "# WAP ask the user enter percentage of marks\n",
    "# if marks greater than 90 then print A grade\n",
    "# if marks between 70 and 90 then print B grade\n",
    "# if marks between 50 and 70 then print C grade\n",
    "# if marks between 35 and 50 then print D grade\n",
    "# otherwise print fail\n",
    "\n",
    "percentage=eval(input(\"Enter the percentage of marks:\"))\n",
    "if percentage>90:\n",
    "    print(\"A Grade\")\n",
    "elif percentage>=70 and percentage<=90:\n",
    "    print(\"B Grade\")\n",
    "elif percentage>=50 and percentage<=70:\n",
    "    print(\"C Grade\")\n",
    "elif percentage>=35 and percentage<=50:\n",
    "    print(\"D Grade\")\n",
    "else:\n",
    "    print(\"Fail\")"
   ]
  },
  {
   "cell_type": "code",
   "execution_count": 11,
   "id": "0f393f15-ef4f-46f2-af9c-5460e1745569",
   "metadata": {},
   "outputs": [
    {
     "name": "stdin",
     "output_type": "stream",
     "text": [
      "Enter the percentage of marks: 89\n"
     ]
    },
    {
     "name": "stdout",
     "output_type": "stream",
     "text": [
      "B Grade\n"
     ]
    }
   ],
   "source": [
    "percentage=eval(input(\"Enter the percentage of marks:\"))\n",
    "if percentage>90:\n",
    "    print(\"A Grade\")\n",
    "elif percentage>=70:\n",
    "    print(\"B Grade\")\n",
    "elif percentage>=50:\n",
    "    print(\"C Grade\")\n",
    "elif percentage>=35:\n",
    "    print(\"D Grade\")\n",
    "else:\n",
    "    print(\"Fail\")"
   ]
  },
  {
   "cell_type": "code",
   "execution_count": 13,
   "id": "88a68355-f380-4fff-b89b-9a1bf1def8c9",
   "metadata": {},
   "outputs": [
    {
     "name": "stdin",
     "output_type": "stream",
     "text": [
      "Enter the age: 24\n"
     ]
    },
    {
     "name": "stdout",
     "output_type": "stream",
     "text": [
      "Young\n"
     ]
    }
   ],
   "source": [
    "# WAP ask the user enter age\n",
    "# if age greater than 100 years print unlucky\n",
    "# if age between 80 and 100 years print old guy\n",
    "# if age between 60 and 80 years print senior citizen\n",
    "# if age between 40 and 60 years print middle age\n",
    "# if age between 20 and 40 years print young\n",
    "# if age between 10 and 20 years print teenage\n",
    "# otherwise print kid\n",
    "\n",
    "age=eval(input(\"Enter the age:\"))\n",
    "if age==100:\n",
    "    print(\"Unlucky\")\n",
    "elif age>=80:\n",
    "    print(\"Old Guy\")\n",
    "elif age>=60:\n",
    "    print(\"Senior Citizen\")\n",
    "elif age>=40:\n",
    "    print(\"Middle Age\")\n",
    "elif age>=20:\n",
    "    print(\"Young\")\n",
    "elif age>=10:\n",
    "    print(\"Teenage\")\n",
    "else:\n",
    "    print(\"Kid\")"
   ]
  },
  {
   "cell_type": "code",
   "execution_count": 19,
   "id": "08e79826-b03b-4280-b05c-86b544b23e45",
   "metadata": {},
   "outputs": [
    {
     "name": "stdin",
     "output_type": "stream",
     "text": [
      "Enter the gender: Male\n",
      "Enter the age: 24\n"
     ]
    },
    {
     "name": "stdout",
     "output_type": "stream",
     "text": [
      "Young Man\n"
     ]
    }
   ],
   "source": [
    "# WAP ask the user enter the gender\n",
    "# if gender equal to male\n",
    "#    ask the user to enter age\n",
    "#    if age greater than 60 then senior citizen\n",
    "#    if age between 30 to 60 then middle age man\n",
    "#    if age between 15 to 30then print young\n",
    "#    otherwise print boy\n",
    "# if gender equal to female\n",
    "#    ask the user to enter age\n",
    "#    if age greater than 60 then senior citizen\n",
    "#    if age between 30 to 60 then middle age woman\n",
    "#    if age between 15 to 30then print young girl\n",
    "#    otherwise print girl\n",
    "# otherwise print a valid gender\n",
    "\n",
    "gender=input(\"Enter the gender:\")\n",
    "if gender=='Male':\n",
    "    age=eval(input(\"Enter the age:\"))\n",
    "    if age>=60:\n",
    "        print(\"Senior Citizen\")\n",
    "    elif age>=30:\n",
    "        print(\"Middle age man\")\n",
    "    elif age>=15:\n",
    "        print(\"Young Man\")\n",
    "    else:\n",
    "        print(\"Boy\")\n",
    "elif gender=='Female':\n",
    "    age=eval(input(\"Enter the age:\"))\n",
    "    if age>=60:\n",
    "        print(\"Senior Citizen\")\n",
    "    elif age>=30:\n",
    "        print(\"Middle age woman\")\n",
    "    elif age>=15:\n",
    "        print(\"Young Girl\")\n",
    "    else:\n",
    "        print(\"Girl\")\n",
    "else:\n",
    "    print(\"Enter valid gender\")\n",
    "    "
   ]
  },
  {
   "cell_type": "code",
   "execution_count": 27,
   "id": "b5e33477-ac4a-421d-81b1-a3699f449c1a",
   "metadata": {},
   "outputs": [
    {
     "name": "stdin",
     "output_type": "stream",
     "text": [
      "Enter the number: 91\n"
     ]
    },
    {
     "name": "stdout",
     "output_type": "stream",
     "text": [
      "Positive\n"
     ]
    }
   ],
   "source": [
    "# WAP ask the user enter a number\n",
    "# if number greater than or equal to zer\n",
    "#    if number>0 then print positive\n",
    "#    otherwise print zero\n",
    "# else print negative number\n",
    "\n",
    "num=eval(input(\"Enter the number:\"))\n",
    "if num>=0:\n",
    "    if num>0:\n",
    "        print(\"Positive\")\n",
    "    else:\n",
    "        print(\"Zero\")\n",
    "else:\n",
    "    print(\"Negative\")"
   ]
  },
  {
   "cell_type": "code",
   "execution_count": 13,
   "id": "50c289a2-a62c-4a05-bcc6-47641a2b54e5",
   "metadata": {},
   "outputs": [
    {
     "name": "stdout",
     "output_type": "stream",
     "text": [
      "Enter 1 for Addition\n",
      "Enter 2 for Subtraction\n",
      "Enter 3 for Multiplication\n",
      "Enter 4 for Division\n"
     ]
    },
    {
     "name": "stdin",
     "output_type": "stream",
     "text": [
      "Enter a number between 1 to 4: 1\n",
      "Enter first number: 93\n",
      "Enter second number: 92\n"
     ]
    },
    {
     "name": "stdout",
     "output_type": "stream",
     "text": [
      "Addition is 185\n"
     ]
    }
   ],
   "source": [
    "# print some statements like below\n",
    "# enter 1 for addition\n",
    "# enter 2 for subtraction\n",
    "# enter 3 for multiplication\n",
    "# enter 4 for division\n",
    "\n",
    "# WAP ask the user enter number  between 1 to 4 operation\n",
    "# if operation==1\n",
    "#    n1=eval()\n",
    "#    n2=eval()\n",
    "#    add=n1+n2\n",
    "#    print(add)\n",
    "# elif opeartion==2\n",
    "#    sub\n",
    "# elif operation==3\n",
    "#    mul\n",
    "# elif operation==4\n",
    "#    div\n",
    "# else enter a variable\n",
    "\n",
    "print(\"Enter 1 for Addition\")\n",
    "print(\"Enter 2 for Subtraction\")\n",
    "print(\"Enter 3 for Multiplication\")\n",
    "print(\"Enter 4 for Division\")\n",
    "operation=eval(input(\"Enter a number between 1 to 4:\"))\n",
    "if operation==1:\n",
    "    n1=eval(input(\"Enter first number:\"))\n",
    "    n2=eval(input(\"Enter second number:\"))\n",
    "    add=n1+n2\n",
    "    print(f\"Addition is {add}\")\n",
    "elif operation==2:\n",
    "    n1=eval(input(\"Enter first number:\"))\n",
    "    n2=eval(input(\"Enter second number:\"))\n",
    "    sub=n1-n2\n",
    "    print(f\"Subtraction is {sub}\")\n",
    "elif operation==3:\n",
    "    n1=eval(input(\"Enter first number:\"))\n",
    "    n2=eval(input(\"Enter second number:\"))\n",
    "    mul=n1*n2\n",
    "    print(f\"Multiplication is {mul}\")\n",
    "elif operation==4:\n",
    "    n1=eval(input(\"Enter first number:\"))\n",
    "    n2=eval(input(\"Enter second number:\"))\n",
    "    div=n1/n2\n",
    "    print(f\"Division is {div}\")\n",
    "else:\n",
    "    print(\"Enter a valid number\")"
   ]
  },
  {
   "cell_type": "code",
   "execution_count": null,
   "id": "1621c39e-10cd-467b-99ab-64c6e7b22e5d",
   "metadata": {},
   "outputs": [],
   "source": []
  }
 ],
 "metadata": {
  "kernelspec": {
   "display_name": "Python [conda env:base] *",
   "language": "python",
   "name": "conda-base-py"
  },
  "language_info": {
   "codemirror_mode": {
    "name": "ipython",
    "version": 3
   },
   "file_extension": ".py",
   "mimetype": "text/x-python",
   "name": "python",
   "nbconvert_exporter": "python",
   "pygments_lexer": "ipython3",
   "version": "3.12.7"
  }
 },
 "nbformat": 4,
 "nbformat_minor": 5
}
