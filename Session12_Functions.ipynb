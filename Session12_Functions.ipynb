{
 "cells": [
  {
   "cell_type": "markdown",
   "id": "3209c219-8239-4c2f-afe9-a4de16dced7a",
   "metadata": {},
   "source": [
    "## Function\n",
    "- Reuse of the code block\n",
    "- Function also called as method\n",
    "- Function with out arguements\n",
    "- Function with arguements\n",
    "- Function with default arguements\n",
    "- Function with keyword arguements (kwargs)\n",
    "- Function with global and local variable\n",
    "- Function with return\n",
    "- Function in function"
   ]
  },
  {
   "cell_type": "markdown",
   "id": "d0647a5a-99eb-4904-9138-9dfe9cf574d9",
   "metadata": {},
   "source": [
    "**Function with out arguements**"
   ]
  },
  {
   "cell_type": "code",
   "execution_count": null,
   "id": "68d68082-136a-4cd5-8c36-25267bb70e8b",
   "metadata": {},
   "outputs": [],
   "source": [
    "# syntax\n",
    "def <function name>():\n",
    "    <write your lines here>"
   ]
  },
  {
   "cell_type": "code",
   "execution_count": 6,
   "id": "881c733f-afd0-4fea-9c73-e39dc3691413",
   "metadata": {},
   "outputs": [
    {
     "name": "stdin",
     "output_type": "stream",
     "text": [
      "Enter the first number: 100\n",
      "Enter the second number: 200\n"
     ]
    },
    {
     "name": "stdout",
     "output_type": "stream",
     "text": [
      "The addition of 100 and 200 is 300\n"
     ]
    }
   ],
   "source": [
    "num1=eval(input(\"Enter the first number:\"))\n",
    "num2=eval(input(\"Enter the second number:\"))\n",
    "add=num1+num2\n",
    "print(f\"The addition of {num1} and {num2} is {add}\")"
   ]
  },
  {
   "cell_type": "code",
   "execution_count": 8,
   "id": "9683848b-83d9-4a6c-ba8b-fb89f56f10ef",
   "metadata": {},
   "outputs": [],
   "source": [
    "def addition():\n",
    "    num1=eval(input(\"Enter the first number:\"))\n",
    "    num2=eval(input(\"Enter the second number:\"))\n",
    "    add=num1+num2\n",
    "    print(f\"The addition of {num1} and {num2} is {add}\")"
   ]
  },
  {
   "cell_type": "code",
   "execution_count": 10,
   "id": "c1685ac7-f9ed-4bae-8c7d-e3b017b37c74",
   "metadata": {},
   "outputs": [
    {
     "name": "stdin",
     "output_type": "stream",
     "text": [
      "Enter the first number: 100\n",
      "Enter the second number: 200\n"
     ]
    },
    {
     "name": "stdout",
     "output_type": "stream",
     "text": [
      "The addition of 100 and 200 is 300\n"
     ]
    }
   ],
   "source": [
    "# call the function\n",
    "addition()"
   ]
  },
  {
   "cell_type": "code",
   "execution_count": 12,
   "id": "8a3dad06-23d2-4ecc-b7db-fa3c34d76292",
   "metadata": {},
   "outputs": [
    {
     "name": "stdin",
     "output_type": "stream",
     "text": [
      "Enter the income: 1500000\n",
      "Enter the tax percentage: 10\n"
     ]
    },
    {
     "name": "stdout",
     "output_type": "stream",
     "text": [
      "The tax paid is 150000.0\n"
     ]
    }
   ],
   "source": [
    "def tax_pay():\n",
    "    income=eval(input(\"Enter the income:\"))\n",
    "    tax_per=eval(input(\"Enter the tax percentage:\"))\n",
    "    tax=(income*tax_per)/100\n",
    "    print(f\"The tax paid is {tax}\")\n",
    "tax_pay()"
   ]
  },
  {
   "cell_type": "markdown",
   "id": "0ebe3fd4-de6d-464f-9823-ca4dd0134cd4",
   "metadata": {},
   "source": [
    "**Note:**\n",
    "- Function name rules same as variable rules\n",
    "  - No special characters\n",
    "  - No number before\n",
    "  - No space between words\n",
    "- Function name should not be any keyword\n",
    "- Function name should not be any package name\n",
    "- Function name should not be our file name\n",
    "- Function name should not be any variable which is using inside that function"
   ]
  },
  {
   "cell_type": "code",
   "execution_count": 15,
   "id": "4fda91c8-c19b-4405-8ccb-10774c675812",
   "metadata": {},
   "outputs": [],
   "source": [
    "def addition1():\n",
    "    num1=eval(input(\"Enter the first number:\"))\n",
    "    num2=eval(input(\"Enter the second number:\"))\n",
    "    add=num11+num2\n",
    "    print(f\"The addition of {num1} and {num2} is {add}\")"
   ]
  },
  {
   "cell_type": "code",
   "execution_count": 17,
   "id": "47994960-faa7-4eae-b673-d610f350da41",
   "metadata": {},
   "outputs": [
    {
     "name": "stdin",
     "output_type": "stream",
     "text": [
      "Enter the first number: 80\n",
      "Enter the second number: 20\n"
     ]
    },
    {
     "ename": "NameError",
     "evalue": "name 'num11' is not defined",
     "output_type": "error",
     "traceback": [
      "\u001b[1;31m---------------------------------------------------------------------------\u001b[0m",
      "\u001b[1;31mNameError\u001b[0m                                 Traceback (most recent call last)",
      "Cell \u001b[1;32mIn[17], line 1\u001b[0m\n\u001b[1;32m----> 1\u001b[0m addition1()\n",
      "Cell \u001b[1;32mIn[15], line 4\u001b[0m, in \u001b[0;36maddition1\u001b[1;34m()\u001b[0m\n\u001b[0;32m      2\u001b[0m num1\u001b[38;5;241m=\u001b[39m\u001b[38;5;28meval\u001b[39m(\u001b[38;5;28minput\u001b[39m(\u001b[38;5;124m\"\u001b[39m\u001b[38;5;124mEnter the first number:\u001b[39m\u001b[38;5;124m\"\u001b[39m))\n\u001b[0;32m      3\u001b[0m num2\u001b[38;5;241m=\u001b[39m\u001b[38;5;28meval\u001b[39m(\u001b[38;5;28minput\u001b[39m(\u001b[38;5;124m\"\u001b[39m\u001b[38;5;124mEnter the second number:\u001b[39m\u001b[38;5;124m\"\u001b[39m))\n\u001b[1;32m----> 4\u001b[0m add\u001b[38;5;241m=\u001b[39mnum11\u001b[38;5;241m+\u001b[39mnum2\n\u001b[0;32m      5\u001b[0m \u001b[38;5;28mprint\u001b[39m(\u001b[38;5;124mf\u001b[39m\u001b[38;5;124m\"\u001b[39m\u001b[38;5;124mThe addition of \u001b[39m\u001b[38;5;132;01m{\u001b[39;00mnum1\u001b[38;5;132;01m}\u001b[39;00m\u001b[38;5;124m and \u001b[39m\u001b[38;5;132;01m{\u001b[39;00mnum2\u001b[38;5;132;01m}\u001b[39;00m\u001b[38;5;124m is \u001b[39m\u001b[38;5;132;01m{\u001b[39;00madd\u001b[38;5;132;01m}\u001b[39;00m\u001b[38;5;124m\"\u001b[39m)\n",
      "\u001b[1;31mNameError\u001b[0m: name 'num11' is not defined"
     ]
    }
   ],
   "source": [
    "addition1()"
   ]
  },
  {
   "cell_type": "markdown",
   "id": "a3037ca2-7acd-4c9b-885b-21bb2889fadb",
   "metadata": {},
   "source": [
    "**Note:**\n",
    "- When we define the function we do not know whether the error is there or not\n",
    "- For that we need to call the function"
   ]
  },
  {
   "cell_type": "code",
   "execution_count": 22,
   "id": "3d35947f-4fd0-4882-9520-53f4d24653d1",
   "metadata": {},
   "outputs": [
    {
     "name": "stdin",
     "output_type": "stream",
     "text": [
      "Enter the first number: 80\n",
      "Enter the second number: 20\n"
     ]
    },
    {
     "ename": "NameError",
     "evalue": "name 'num11' is not defined",
     "output_type": "error",
     "traceback": [
      "\u001b[1;31m---------------------------------------------------------------------------\u001b[0m",
      "\u001b[1;31mNameError\u001b[0m                                 Traceback (most recent call last)",
      "Cell \u001b[1;32mIn[22], line 9\u001b[0m\n\u001b[0;32m      7\u001b[0m \u001b[38;5;28;01mexcept\u001b[39;00m \u001b[38;5;167;01mException\u001b[39;00m \u001b[38;5;28;01mas\u001b[39;00m e:\n\u001b[0;32m      8\u001b[0m     \u001b[38;5;28mprint\u001b[39m(e)\n\u001b[1;32m----> 9\u001b[0m addition2()\n",
      "Cell \u001b[1;32mIn[22], line 5\u001b[0m, in \u001b[0;36maddition2\u001b[1;34m()\u001b[0m\n\u001b[0;32m      3\u001b[0m num1\u001b[38;5;241m=\u001b[39m\u001b[38;5;28meval\u001b[39m(\u001b[38;5;28minput\u001b[39m(\u001b[38;5;124m\"\u001b[39m\u001b[38;5;124mEnter the first number:\u001b[39m\u001b[38;5;124m\"\u001b[39m))\n\u001b[0;32m      4\u001b[0m num2\u001b[38;5;241m=\u001b[39m\u001b[38;5;28meval\u001b[39m(\u001b[38;5;28minput\u001b[39m(\u001b[38;5;124m\"\u001b[39m\u001b[38;5;124mEnter the second number:\u001b[39m\u001b[38;5;124m\"\u001b[39m))\n\u001b[1;32m----> 5\u001b[0m add\u001b[38;5;241m=\u001b[39mnum11\u001b[38;5;241m+\u001b[39mnum2\n\u001b[0;32m      6\u001b[0m \u001b[38;5;28mprint\u001b[39m(\u001b[38;5;124mf\u001b[39m\u001b[38;5;124m\"\u001b[39m\u001b[38;5;124mThe addition of \u001b[39m\u001b[38;5;132;01m{\u001b[39;00mnum1\u001b[38;5;132;01m}\u001b[39;00m\u001b[38;5;124m and \u001b[39m\u001b[38;5;132;01m{\u001b[39;00mnum2\u001b[38;5;132;01m}\u001b[39;00m\u001b[38;5;124m is \u001b[39m\u001b[38;5;132;01m{\u001b[39;00madd\u001b[38;5;132;01m}\u001b[39;00m\u001b[38;5;124m\"\u001b[39m)\n",
      "\u001b[1;31mNameError\u001b[0m: name 'num11' is not defined"
     ]
    }
   ],
   "source": [
    "try:\n",
    "    def addition2():\n",
    "        num1=eval(input(\"Enter the first number:\"))\n",
    "        num2=eval(input(\"Enter the second number:\"))\n",
    "        add=num11+num2\n",
    "        print(f\"The addition of {num1} and {num2} is {add}\")\n",
    "except Exception as e:\n",
    "    print(e)\n",
    "addition2()"
   ]
  },
  {
   "cell_type": "code",
   "execution_count": 24,
   "id": "b45d5134-60dd-4e9b-9063-ea738b48793c",
   "metadata": {},
   "outputs": [
    {
     "name": "stdin",
     "output_type": "stream",
     "text": [
      "Enter the first number: 80\n",
      "Enter the second number: 20\n"
     ]
    },
    {
     "name": "stdout",
     "output_type": "stream",
     "text": [
      "name 'num11' is not defined\n"
     ]
    }
   ],
   "source": [
    "def addition3():\n",
    "    try:\n",
    "        num1=eval(input(\"Enter the first number:\"))\n",
    "        num2=eval(input(\"Enter the second number:\"))\n",
    "        add=num11+num2\n",
    "        print(f\"The addition of {num1} and {num2} is {add}\")\n",
    "    except Exception as e:\n",
    "        print(e)\n",
    "addition3()"
   ]
  },
  {
   "cell_type": "markdown",
   "id": "a95a6d36-5543-4ff4-b279-4e1680fd6118",
   "metadata": {},
   "source": [
    "- try-except should write inside the function"
   ]
  },
  {
   "cell_type": "code",
   "execution_count": 27,
   "id": "9fdc06a2-9f8c-406f-b675-e39d38a65d96",
   "metadata": {},
   "outputs": [
    {
     "name": "stdin",
     "output_type": "stream",
     "text": [
      "Enter the first number: 10\n",
      "Enter the second number: 20\n",
      "Enter the third number: 30\n"
     ]
    },
    {
     "name": "stdout",
     "output_type": "stream",
     "text": [
      "The average of three numbers is 20.0\n"
     ]
    }
   ],
   "source": [
    "def average():\n",
    "    n1=eval(input(\"Enter the first number:\"))\n",
    "    n2=eval(input(\"Enter the second number:\"))\n",
    "    n3=eval(input(\"Enter the third number:\"))\n",
    "    avg=(n1+n2+n3)/3\n",
    "    print(f\"The average of three numbers is {avg}\")\n",
    "average()"
   ]
  },
  {
   "cell_type": "code",
   "execution_count": 29,
   "id": "a223ab7f-624f-4660-9eb0-d2d5e0964e1b",
   "metadata": {},
   "outputs": [
    {
     "name": "stdin",
     "output_type": "stream",
     "text": [
      "Enter the name: python\n",
      "Enter the age: 9\n",
      "Enter the city: hyd\n"
     ]
    },
    {
     "name": "stdout",
     "output_type": "stream",
     "text": [
      "My name is python I am 9 years old and came from hyd\n"
     ]
    }
   ],
   "source": [
    "def details():\n",
    "    name=input(\"Enter the name:\")\n",
    "    age=eval(input(\"Enter the age:\"))\n",
    "    city=input(\"Enter the city:\")\n",
    "    print(f\"My name is {name} I am {age} years old and came from {city}\")\n",
    "details()"
   ]
  },
  {
   "cell_type": "code",
   "execution_count": 31,
   "id": "9af77b58-00dc-400f-b4ea-278f50b322a4",
   "metadata": {},
   "outputs": [
    {
     "name": "stdin",
     "output_type": "stream",
     "text": [
      "Enter the radius: 10\n"
     ]
    },
    {
     "name": "stdout",
     "output_type": "stream",
     "text": [
      "The area of circle is 314.0\n"
     ]
    }
   ],
   "source": [
    "def area_circle():\n",
    "    radius=eval(input(\"Enter the radius:\"))\n",
    "    pi=3.14\n",
    "    area=pi*radius*radius\n",
    "    print(f\"The area of circle is {area}\")\n",
    "area_circle()"
   ]
  },
  {
   "cell_type": "code",
   "execution_count": 33,
   "id": "9e892025-2c0d-44ab-af55-805424d3d7fa",
   "metadata": {},
   "outputs": [
    {
     "name": "stdin",
     "output_type": "stream",
     "text": [
      "Enter the breadth of triangle: 5\n",
      "Enter the height of triangle: 6\n"
     ]
    },
    {
     "name": "stdout",
     "output_type": "stream",
     "text": [
      "The area of right angle triangle is 15.0\n"
     ]
    }
   ],
   "source": [
    "def area_triangle():\n",
    "    breadth=eval(input(\"Enter the breadth of triangle:\"))\n",
    "    height=eval(input(\"Enter the height of triangle:\"))\n",
    "    area1=0.5*breadth*height\n",
    "    print(f\"The area of right angle triangle is {area1}\")\n",
    "area_triangle()"
   ]
  },
  {
   "cell_type": "code",
   "execution_count": 35,
   "id": "d44f6438-d5be-4281-81ea-c72c37820cb5",
   "metadata": {},
   "outputs": [
    {
     "name": "stdin",
     "output_type": "stream",
     "text": [
      "Enter the bill amount of customer: 1500\n",
      "Enter the tip amount of customer: 100\n"
     ]
    },
    {
     "name": "stdout",
     "output_type": "stream",
     "text": [
      "The total amount of customer is 1600\n"
     ]
    }
   ],
   "source": [
    "def bill():\n",
    "    bill=eval(input(\"Enter the bill amount of customer:\"))\n",
    "    tip=eval(input(\"Enter the tip amount of customer:\"))\n",
    "    total=bill+tip\n",
    "    print(f\"The total amount of customer is {total}\")\n",
    "bill()"
   ]
  },
  {
   "cell_type": "code",
   "execution_count": 37,
   "id": "cd53e6d0-0c5c-41e2-82b0-f30f6b8686a2",
   "metadata": {},
   "outputs": [
    {
     "name": "stdin",
     "output_type": "stream",
     "text": [
      "Enter the bill amount of customer: 2000\n",
      "Enter the tip percentage of customer: 200\n"
     ]
    },
    {
     "name": "stdout",
     "output_type": "stream",
     "text": [
      "The total amount of customer is 6000.0\n"
     ]
    }
   ],
   "source": [
    "def bill1():\n",
    "    bill_amount=eval(input(\"Enter the bill amount of customer:\"))\n",
    "    tip_percent=eval(input(\"Enter the tip percentage of customer:\"))\n",
    "    total_amount=bill_amount+bill_amount*tip_percent/100\n",
    "    print(f\"The total amount of customer is {total_amount}\")\n",
    "bill1()"
   ]
  },
  {
   "cell_type": "code",
   "execution_count": 39,
   "id": "77562738-5f67-41b7-a764-a0957b4fb862",
   "metadata": {},
   "outputs": [
    {
     "name": "stdin",
     "output_type": "stream",
     "text": [
      "Enter the length of rectangle: 10\n",
      "Enter the breadth of rectangle: 20\n"
     ]
    },
    {
     "name": "stdout",
     "output_type": "stream",
     "text": [
      "The area of rectangle is 200\n"
     ]
    }
   ],
   "source": [
    "def area_rectangle():\n",
    "    length=eval(input(\"Enter the length of rectangle:\"))\n",
    "    breadth=eval(input(\"Enter the breadth of rectangle:\"))\n",
    "    area2=length*breadth\n",
    "    print(f\"The area of rectangle is {area2}\")\n",
    "area_rectangle()"
   ]
  },
  {
   "cell_type": "code",
   "execution_count": 41,
   "id": "c8b99325-bf49-4df4-b9b1-077b045e69ea",
   "metadata": {},
   "outputs": [
    {
     "name": "stdin",
     "output_type": "stream",
     "text": [
      "Enter the radius of sphere: 6\n"
     ]
    },
    {
     "name": "stdout",
     "output_type": "stream",
     "text": [
      "The area of circle is 113.03999999999999\n"
     ]
    }
   ],
   "source": [
    "def vol_sphere():\n",
    "    radius=eval(input(\"Enter the radius of sphere:\"))\n",
    "    pi=3.14\n",
    "    volume=pi*radius*radius\n",
    "    print(f\"The area of circle is {volume}\")\n",
    "vol_sphere()"
   ]
  },
  {
   "cell_type": "code",
   "execution_count": 43,
   "id": "f4406a91-05d6-4891-9e64-0953a210d2a2",
   "metadata": {},
   "outputs": [
    {
     "name": "stdin",
     "output_type": "stream",
     "text": [
      "Enter the amount in dollars: 100\n"
     ]
    },
    {
     "name": "stdout",
     "output_type": "stream",
     "text": [
      "The amount conversion of $100 into ₹8500\n"
     ]
    }
   ],
   "source": [
    "def money_conv():\n",
    "    dollar=eval(input(\"Enter the amount in dollars:\"))\n",
    "    rupee=85*dollar\n",
    "    print(f\"The amount conversion of ${dollar} into ₹{rupee}\")\n",
    "money_conv()"
   ]
  },
  {
   "cell_type": "code",
   "execution_count": 45,
   "id": "4b2d2b70-9090-4951-8c3e-8f488f28aef8",
   "metadata": {},
   "outputs": [
    {
     "name": "stdin",
     "output_type": "stream",
     "text": [
      "Enter the weight in kilograms: 10\n"
     ]
    },
    {
     "name": "stdout",
     "output_type": "stream",
     "text": [
      "The weight conversion of 10KGs into 22.0Pounds\n"
     ]
    }
   ],
   "source": [
    "def weight_conv():\n",
    "    kilograms=eval(input(\"Enter the weight in kilograms:\"))\n",
    "    pounds=2.2*kilograms\n",
    "    print(f\"The weight conversion of {kilograms}KGs into {pounds}Pounds\")\n",
    "weight_conv()"
   ]
  },
  {
   "cell_type": "markdown",
   "id": "2a27b85e-abc7-46bd-b682-5b0a5012dcd6",
   "metadata": {},
   "source": [
    "**Function with arguements**"
   ]
  },
  {
   "cell_type": "code",
   "execution_count": 3,
   "id": "38095dd2-98b2-4469-a222-003437fcb6ba",
   "metadata": {},
   "outputs": [
    {
     "name": "stdin",
     "output_type": "stream",
     "text": [
      "Enter a num1: 5\n",
      "Enter a num2: 10\n"
     ]
    },
    {
     "name": "stdout",
     "output_type": "stream",
     "text": [
      "The sum of 5 and 10 is:15\n"
     ]
    }
   ],
   "source": [
    "def addition():\n",
    "    n1=eval(input('Enter a num1:'))\n",
    "    n2=eval(input('Enter a num2:'))\n",
    "    add=n1+n2\n",
    "    print(f'The sum of {n1} and {n2} is:{add}')\n",
    "addition()"
   ]
  },
  {
   "cell_type": "markdown",
   "id": "a20be36e-011d-4ba1-8229-48ab61076d50",
   "metadata": {},
   "source": [
    "- How many variables are there inside the function\n",
    "  - In above **addition** function 3 variables are there: **n1,n2,add**\n",
    "- How many input variables are there\n",
    "  - Input variables means the variable access the values from user as input\n",
    "- How many output variables are there\n",
    "  - Output variables means the variables created because of some operation **add**"
   ]
  },
  {
   "cell_type": "code",
   "execution_count": 6,
   "id": "755a3d97-c7e1-4286-9fe4-5155797d2ca8",
   "metadata": {},
   "outputs": [
    {
     "name": "stdout",
     "output_type": "stream",
     "text": [
      "The sum of 10 and 20 is:30\n"
     ]
    }
   ],
   "source": [
    "def addition1(n1,n2):\n",
    "    add=n1+n2\n",
    "    print(f'The sum of {n1} and {n2} is:{add}')\n",
    "addition1(10,20)"
   ]
  },
  {
   "cell_type": "code",
   "execution_count": 8,
   "id": "2232fc7c-d51e-4d67-b364-274d2b450ba6",
   "metadata": {},
   "outputs": [
    {
     "ename": "TypeError",
     "evalue": "addition1() missing 1 required positional argument: 'n2'",
     "output_type": "error",
     "traceback": [
      "\u001b[1;31m---------------------------------------------------------------------------\u001b[0m",
      "\u001b[1;31mTypeError\u001b[0m                                 Traceback (most recent call last)",
      "Cell \u001b[1;32mIn[8], line 4\u001b[0m\n\u001b[0;32m      2\u001b[0m     add\u001b[38;5;241m=\u001b[39mn1\u001b[38;5;241m+\u001b[39mn2\n\u001b[0;32m      3\u001b[0m     \u001b[38;5;28mprint\u001b[39m(\u001b[38;5;124mf\u001b[39m\u001b[38;5;124m'\u001b[39m\u001b[38;5;124mThe sum of \u001b[39m\u001b[38;5;132;01m{\u001b[39;00mn1\u001b[38;5;132;01m}\u001b[39;00m\u001b[38;5;124m and \u001b[39m\u001b[38;5;132;01m{\u001b[39;00mn2\u001b[38;5;132;01m}\u001b[39;00m\u001b[38;5;124m is:\u001b[39m\u001b[38;5;132;01m{\u001b[39;00madd\u001b[38;5;132;01m}\u001b[39;00m\u001b[38;5;124m'\u001b[39m)\n\u001b[1;32m----> 4\u001b[0m addition1(\u001b[38;5;241m10\u001b[39m)\n",
      "\u001b[1;31mTypeError\u001b[0m: addition1() missing 1 required positional argument: 'n2'"
     ]
    }
   ],
   "source": [
    "def addition1(n1,n2):\n",
    "    add=n1+n2\n",
    "    print(f'The sum of {n1} and {n2} is:{add}')\n",
    "addition1(10)"
   ]
  },
  {
   "cell_type": "code",
   "execution_count": 10,
   "id": "0b5d94c8-9e64-4d77-b879-26140df80504",
   "metadata": {},
   "outputs": [
    {
     "ename": "TypeError",
     "evalue": "addition1() missing 2 required positional arguments: 'n1' and 'n2'",
     "output_type": "error",
     "traceback": [
      "\u001b[1;31m---------------------------------------------------------------------------\u001b[0m",
      "\u001b[1;31mTypeError\u001b[0m                                 Traceback (most recent call last)",
      "Cell \u001b[1;32mIn[10], line 4\u001b[0m\n\u001b[0;32m      2\u001b[0m     add\u001b[38;5;241m=\u001b[39mn1\u001b[38;5;241m+\u001b[39mn2\n\u001b[0;32m      3\u001b[0m     \u001b[38;5;28mprint\u001b[39m(\u001b[38;5;124mf\u001b[39m\u001b[38;5;124m'\u001b[39m\u001b[38;5;124mThe sum of \u001b[39m\u001b[38;5;132;01m{\u001b[39;00mn1\u001b[38;5;132;01m}\u001b[39;00m\u001b[38;5;124m and \u001b[39m\u001b[38;5;132;01m{\u001b[39;00mn2\u001b[38;5;132;01m}\u001b[39;00m\u001b[38;5;124m is:\u001b[39m\u001b[38;5;132;01m{\u001b[39;00madd\u001b[38;5;132;01m}\u001b[39;00m\u001b[38;5;124m'\u001b[39m)\n\u001b[1;32m----> 4\u001b[0m addition1()\n",
      "\u001b[1;31mTypeError\u001b[0m: addition1() missing 2 required positional arguments: 'n1' and 'n2'"
     ]
    }
   ],
   "source": [
    "def addition1(n1,n2):\n",
    "    add=n1+n2\n",
    "    print(f'The sum of {n1} and {n2} is:{add}')\n",
    "addition1()"
   ]
  },
  {
   "cell_type": "code",
   "execution_count": 12,
   "id": "bd0fd66e-a200-4f78-8262-fa05e6ac14c1",
   "metadata": {},
   "outputs": [
    {
     "name": "stdin",
     "output_type": "stream",
     "text": [
      "Enter a num2: 30\n"
     ]
    },
    {
     "name": "stdout",
     "output_type": "stream",
     "text": [
      "The sum of 20 and 30 is:50\n"
     ]
    }
   ],
   "source": [
    "def addition2(n1):\n",
    "    n2=eval(input('Enter a num2:'))\n",
    "    add=n1+n2\n",
    "    print(f'The sum of {n1} and {n2} is:{add}')\n",
    "addition2(20)"
   ]
  },
  {
   "cell_type": "code",
   "execution_count": 18,
   "id": "382a6716-e18b-472c-a91e-3e531c63b2d2",
   "metadata": {},
   "outputs": [
    {
     "name": "stdin",
     "output_type": "stream",
     "text": [
      "Enter a num2: 18\n",
      "Enter a num3: 21\n"
     ]
    },
    {
     "name": "stdout",
     "output_type": "stream",
     "text": [
      "The average of 9, 18 and 21 is: 16.0\n"
     ]
    }
   ],
   "source": [
    "def AVG(n1):\n",
    "    n2=eval(input('Enter a num2:'))\n",
    "    n3=eval(input('Enter a num3:'))\n",
    "    avg=(n1+n2+n3)/3\n",
    "    avg1=round(avg,2)\n",
    "    print(f'The average of {n1}, {n2} and {n3} is: {avg1}')\n",
    "AVG(9)"
   ]
  },
  {
   "cell_type": "code",
   "execution_count": 16,
   "id": "9e13fd9c-cba7-4e33-b451-19d517054f8f",
   "metadata": {},
   "outputs": [
    {
     "name": "stdin",
     "output_type": "stream",
     "text": [
      "Enter a num3: 20\n"
     ]
    },
    {
     "name": "stdout",
     "output_type": "stream",
     "text": [
      "The average of 5, 10 and 20 is: 11.67\n"
     ]
    }
   ],
   "source": [
    "def AVG(n1,n2):\n",
    "    n3=eval(input('Enter a num3:'))\n",
    "    avg=(n1+n2+n3)/3\n",
    "    avg1=round(avg,2)\n",
    "    print(f'The average of {n1}, {n2} and {n3} is: {avg1}')\n",
    "AVG(5,10)"
   ]
  },
  {
   "cell_type": "code",
   "execution_count": 14,
   "id": "bf601147-8eb0-4715-86b6-dc6babc0317b",
   "metadata": {},
   "outputs": [
    {
     "name": "stdout",
     "output_type": "stream",
     "text": [
      "The average of 10, 20 and 30 is: 20.0\n"
     ]
    }
   ],
   "source": [
    "def AVG(n1,n2,n3):\n",
    "    avg=(n1+n2+n3)/3\n",
    "    avg1=round(avg,2)\n",
    "    print(f'The average of {n1}, {n2} and {n3} is: {avg1}')\n",
    "AVG(10,20,30)"
   ]
  },
  {
   "cell_type": "markdown",
   "id": "f8a21b52-9899-4686-a38c-e5cb05668320",
   "metadata": {},
   "source": [
    "**Function with default arguements**"
   ]
  },
  {
   "cell_type": "code",
   "execution_count": 21,
   "id": "189705dc-7493-4081-b595-ff75de7fe43c",
   "metadata": {},
   "outputs": [
    {
     "name": "stdout",
     "output_type": "stream",
     "text": [
      "The total amount of customer is 2200.0\n"
     ]
    }
   ],
   "source": [
    "def bill(bill_amount,tip_percent):\n",
    "    total_amount=bill_amount+bill_amount*tip_percent/100\n",
    "    print(f\"The total amount of customer is {total_amount}\")\n",
    "bill(2000,10)"
   ]
  },
  {
   "cell_type": "code",
   "execution_count": 29,
   "id": "3c93922e-5dda-464a-8931-aa979399a9c1",
   "metadata": {},
   "outputs": [
    {
     "name": "stdout",
     "output_type": "stream",
     "text": [
      "The total amount of customer is 2400.0\n"
     ]
    }
   ],
   "source": [
    "def bill1(bill_amount,tip_percent=20):\n",
    "    total_amount=bill_amount+bill_amount*tip_percent/100\n",
    "    print(f\"The total amount of customer is {total_amount}\")\n",
    "bill1(2000)"
   ]
  },
  {
   "cell_type": "markdown",
   "id": "278a12b2-337c-4c1c-9982-9084a00a4993",
   "metadata": {},
   "source": [
    "- In above function the tip_percent is fixed as 20\n",
    "- This is called default arguements\n",
    "- While calling the function no need to provide tip_percent again\n",
    "- If you provide again the value will change"
   ]
  },
  {
   "cell_type": "code",
   "execution_count": 25,
   "id": "02d53d74-a73c-4c83-8f6d-95b51d87aadb",
   "metadata": {},
   "outputs": [
    {
     "name": "stdout",
     "output_type": "stream",
     "text": [
      "The average of 10, 20 and 30 is: 20.0\n"
     ]
    }
   ],
   "source": [
    "def AVG(n1,n2,n3=30):\n",
    "    avg=(n1+n2+n3)/3\n",
    "    avg1=round(avg,2)\n",
    "    print(f'The average of {n1}, {n2} and {n3} is: {avg1}')\n",
    "AVG(10,20)"
   ]
  },
  {
   "cell_type": "code",
   "execution_count": 32,
   "id": "ff358650-5b53-46bf-b2d0-9b30415f8884",
   "metadata": {},
   "outputs": [
    {
     "name": "stdout",
     "output_type": "stream",
     "text": [
      "The average of 10, 20 and 30 is: 20.0\n"
     ]
    }
   ],
   "source": [
    "def AVG(n1,n2=20,n3=30):\n",
    "    avg=(n1+n2+n3)/3\n",
    "    avg1=round(avg,2)\n",
    "    print(f'The average of {n1}, {n2} and {n3} is: {avg1}')\n",
    "AVG(10)"
   ]
  },
  {
   "cell_type": "code",
   "execution_count": 34,
   "id": "282be549-70b9-4753-a088-3fc85b536fbf",
   "metadata": {},
   "outputs": [
    {
     "ename": "SyntaxError",
     "evalue": "parameter without a default follows parameter with a default (3718973413.py, line 1)",
     "output_type": "error",
     "traceback": [
      "\u001b[1;36m  Cell \u001b[1;32mIn[34], line 1\u001b[1;36m\u001b[0m\n\u001b[1;33m    def AVG(n1,n2=20,n3):\u001b[0m\n\u001b[1;37m                     ^\u001b[0m\n\u001b[1;31mSyntaxError\u001b[0m\u001b[1;31m:\u001b[0m parameter without a default follows parameter with a default\n"
     ]
    }
   ],
   "source": [
    "def AVG(n1,n2=20,n3):\n",
    "    avg=(n1+n2+n3)/3\n",
    "    avg1=round(avg,2)\n",
    "    print(f'The average of {n1}, {n2} and {n3} is: {avg1}')\n",
    "AVG(10,30)"
   ]
  },
  {
   "cell_type": "markdown",
   "id": "1da29c6b-052b-4070-8c68-dbd9d5d4d8c8",
   "metadata": {},
   "source": [
    "**Note: Default arguements always at last**"
   ]
  },
  {
   "cell_type": "code",
   "execution_count": null,
   "id": "08427fa6-88a6-4a62-906e-d7bffee69afb",
   "metadata": {},
   "outputs": [],
   "source": [
    "n1,n2,n3=100\n",
    "n1,n2=100,n3\n",
    "n1=100,n2,n3\n",
    "n1,n2=100,n3=100\n",
    "n1=100,n2,n3=100\n",
    "n1=100,n2=100,n3\n",
    "n1=100,n2=100,n3=100"
   ]
  },
  {
   "cell_type": "code",
   "execution_count": 7,
   "id": "7e8f83c7-28f5-42c1-a8c0-bb7b4a3c63a6",
   "metadata": {},
   "outputs": [
    {
     "name": "stdout",
     "output_type": "stream",
     "text": [
      "Function with out arguements\n"
     ]
    },
    {
     "name": "stdin",
     "output_type": "stream",
     "text": [
      "Enter the salary: 1600000\n",
      "Enter the tax: 10\n"
     ]
    },
    {
     "name": "stdout",
     "output_type": "stream",
     "text": [
      "160000.0\n",
      "Function with arguements\n",
      "150000.0\n",
      "Function with default arguements\n",
      "216000.0\n"
     ]
    }
   ],
   "source": [
    "print(\"Function with out arguements\")\n",
    "def tax_cal():\n",
    "    salary=eval(input('Enter the salary:'))\n",
    "    tax_per=eval(input('Enter the tax:'))\n",
    "    tax_pay=salary*tax_per/100\n",
    "    print(tax_pay)\n",
    "tax_cal()\n",
    "\n",
    "print(\"Function with arguements\")\n",
    "def tax_cal1(salary,tax_per):\n",
    "    tax_pay=salary*tax_per/100\n",
    "    print(tax_pay)\n",
    "tax_cal1(1500000,10)\n",
    "\n",
    "print(\"Function with default arguements\")\n",
    "def tax_cal2(salary,tax_per=12):\n",
    "    tax_pay=salary*tax_per/100\n",
    "    print(tax_pay)\n",
    "tax_cal2(1800000)"
   ]
  },
  {
   "cell_type": "code",
   "execution_count": 9,
   "id": "131b0abc-872f-424c-9a1f-23f193dfc2ba",
   "metadata": {},
   "outputs": [
    {
     "data": {
      "text/plain": [
       "(3+4j)"
      ]
     },
     "execution_count": 9,
     "metadata": {},
     "output_type": "execute_result"
    }
   ],
   "source": [
    "complex(3,4)"
   ]
  },
  {
   "cell_type": "code",
   "execution_count": 11,
   "id": "7ff23090-8a58-4d81-8084-2ba45c3d4cad",
   "metadata": {},
   "outputs": [
    {
     "data": {
      "text/plain": [
       "(3+0j)"
      ]
     },
     "execution_count": 11,
     "metadata": {},
     "output_type": "execute_result"
    }
   ],
   "source": [
    "complex(3)"
   ]
  },
  {
   "cell_type": "code",
   "execution_count": 13,
   "id": "c5b02053-6d73-4a5e-a94e-b3256fc3895e",
   "metadata": {},
   "outputs": [
    {
     "data": {
      "text/plain": [
       "0j"
      ]
     },
     "execution_count": 13,
     "metadata": {},
     "output_type": "execute_result"
    }
   ],
   "source": [
    "complex()"
   ]
  },
  {
   "cell_type": "markdown",
   "id": "9e75ae26-7741-4216-b70e-084f3b498b8f",
   "metadata": {},
   "source": [
    "- Now onwards whenever you see any package\n",
    "- Always do shift+tab inside the brackets and observe\n",
    "- that the functions are with or without or default"
   ]
  },
  {
   "cell_type": "code",
   "execution_count": 16,
   "id": "de33d971-54bc-4e38-bfba-b74668615376",
   "metadata": {},
   "outputs": [
    {
     "name": "stdout",
     "output_type": "stream",
     "text": [
      "a: 100\n",
      "b: 200\n",
      "c: 300\n",
      "The summation of 100, 200 and 300 is: 600\n"
     ]
    }
   ],
   "source": [
    "def add(a,b,c):\n",
    "    print('a:',a)\n",
    "    print('b:',b)\n",
    "    print('c:',c)\n",
    "    summ=a+b+c\n",
    "    print(f\"The summation of {a}, {b} and {c} is: {summ}\")\n",
    "add(100,200,300)"
   ]
  },
  {
   "cell_type": "code",
   "execution_count": 18,
   "id": "2629989b-2e7c-40f4-b4b6-06eeb8dd967d",
   "metadata": {},
   "outputs": [
    {
     "name": "stdout",
     "output_type": "stream",
     "text": [
      "a: 100\n",
      "b: 200\n",
      "c: 300\n",
      "The summation of 100, 200 and 300 is: 600\n"
     ]
    }
   ],
   "source": [
    "# case-1:\n",
    "\n",
    "def add(a,b,c=300):\n",
    "    print('a:',a)\n",
    "    print('b:',b)\n",
    "    print('c:',c)\n",
    "    summ=a+b+c\n",
    "    print(f\"The summation of {a}, {b} and {c} is: {summ}\")\n",
    "add(100,200)"
   ]
  },
  {
   "cell_type": "code",
   "execution_count": 20,
   "id": "47965de9-83ef-4bd5-b629-d84ad5f5d1b1",
   "metadata": {},
   "outputs": [
    {
     "name": "stdout",
     "output_type": "stream",
     "text": [
      "a: 100\n",
      "b: 200\n",
      "c: 600\n",
      "The summation of 100, 200 and 600 is: 900\n"
     ]
    }
   ],
   "source": [
    "# case-2:\n",
    "\n",
    "def add(a,b,c=400):\n",
    "    print('a:',a)\n",
    "    print('b:',b)\n",
    "    print('c:',c)\n",
    "    summ=a+b+c\n",
    "    print(f\"The summation of {a}, {b} and {c} is: {summ}\")\n",
    "add(100,200,600)"
   ]
  },
  {
   "cell_type": "markdown",
   "id": "d994433b-002d-45a1-9353-0d5ddecc698b",
   "metadata": {},
   "source": [
    "- In above case we already provided default value c=400\n",
    "- but while we call the function c value becomes 600\n",
    "- step-1: Define the function: while define what is the value 400\n",
    "- step-2: call the function: while calling the function value become 600\n",
    "- step-3: run the function: while running the function value become 600"
   ]
  },
  {
   "cell_type": "code",
   "execution_count": 24,
   "id": "4c106868-a8d9-439e-9a27-ef5c2e42bd2d",
   "metadata": {},
   "outputs": [
    {
     "name": "stdout",
     "output_type": "stream",
     "text": [
      "a: 100\n",
      "b: 200\n",
      "c: 1000\n",
      "The summation of 100, 200 and 1000 is: 1300\n"
     ]
    }
   ],
   "source": [
    "# case-3:\n",
    "\n",
    "def add(a,b,c=400):\n",
    "    c=1000\n",
    "    print('a:',a)\n",
    "    print('b:',b)\n",
    "    print('c:',c)\n",
    "    summ=a+b+c\n",
    "    print(f\"The summation of {a}, {b} and {c} is: {summ}\")\n",
    "add(100,200,600)"
   ]
  },
  {
   "cell_type": "markdown",
   "id": "a980648e-7efc-4a7f-9102-8a6c8e74a475",
   "metadata": {},
   "source": [
    "- In above case we already provided default value c=400\n",
    "- but while we call the function c value becomes 600\n",
    "- finally while running the function c value becomes 1000\n",
    "- step-1: Define the function: while define what is the value 400\n",
    "- step-2: call the function: while calling the function value become 600\n",
    "- step-3: run the function: while running the function value become 1000"
   ]
  },
  {
   "cell_type": "code",
   "execution_count": 29,
   "id": "be70b187-dfc3-4555-b693-2644b73f52d8",
   "metadata": {},
   "outputs": [
    {
     "name": "stdout",
     "output_type": "stream",
     "text": [
      "a: 200\n",
      "b: 300\n",
      "c: 3000\n",
      "The summation of 200, 300 and 3000 is: 3500\n"
     ]
    }
   ],
   "source": [
    "c=3000\n",
    "def add(a,b):\n",
    "    print('a:',a)\n",
    "    print('b:',b)\n",
    "    print('c:',c)\n",
    "    summ=a+b+c\n",
    "    print(f\"The summation of {a}, {b} and {c} is: {summ}\")\n",
    "add(200,300)"
   ]
  },
  {
   "cell_type": "markdown",
   "id": "5a5316ec-c01b-40b6-b0d7-948fd8028e41",
   "metadata": {},
   "source": [
    "**Global Variables vs Local Variables**\n",
    "- The variables outside the function are called as $Global$ $Variables$\n",
    "  - Global variables can use anywhere\n",
    "  - Global variables can be use inside the function also outside the function\n",
    "- The variables inside the function are called as $Local$ $Variables$\n",
    "  - Local variables can be used only inside the function\n",
    "  - Local variables can not be used outside the function"
   ]
  },
  {
   "cell_type": "code",
   "execution_count": 36,
   "id": "8698c92b-d4fd-45eb-af19-e5344ff60df8",
   "metadata": {},
   "outputs": [
    {
     "name": "stdout",
     "output_type": "stream",
     "text": [
      "The summation of 100 and 200 is: 300\n"
     ]
    }
   ],
   "source": [
    "def addition():\n",
    "    n1=100\n",
    "    n2=200\n",
    "    summ1=n1+n2\n",
    "    print(f\"The summation of {n1} and {n2} is: {summ1}\")\n",
    "addition()"
   ]
  },
  {
   "cell_type": "code",
   "execution_count": 42,
   "id": "da84b296-3b73-4a47-963e-a655b533b359",
   "metadata": {},
   "outputs": [
    {
     "name": "stdout",
     "output_type": "stream",
     "text": [
      "The summation of 200 and 300 is: 500\n"
     ]
    }
   ],
   "source": [
    "n1=200\n",
    "n2=300\n",
    "def addition1():\n",
    "    summ2=n1+n2\n",
    "    print(f\"The summation of {n1} and {n2} is: {summ2}\")\n",
    "addition1()"
   ]
  },
  {
   "cell_type": "code",
   "execution_count": 44,
   "id": "a3b9fe37-6482-4325-9f7f-c2c04ce47e59",
   "metadata": {},
   "outputs": [
    {
     "name": "stdout",
     "output_type": "stream",
     "text": [
      "The summation of 400 and 600 is: 1000\n"
     ]
    }
   ],
   "source": [
    "n1=400\n",
    "n2=600\n",
    "def addition2():\n",
    "    global summ2\n",
    "    summ2=n1+n2\n",
    "    print(f\"The summation of {n1} and {n2} is: {summ2}\")\n",
    "addition2()"
   ]
  },
  {
   "cell_type": "code",
   "execution_count": 46,
   "id": "7f1293c8-e939-4d0f-8b62-2f9132501eed",
   "metadata": {},
   "outputs": [
    {
     "data": {
      "text/plain": [
       "1000"
      ]
     },
     "execution_count": 46,
     "metadata": {},
     "output_type": "execute_result"
    }
   ],
   "source": [
    "summ2"
   ]
  },
  {
   "cell_type": "markdown",
   "id": "5413f915-e22a-4229-b8dc-cde82c6671e3",
   "metadata": {},
   "source": [
    "**How to convert local variable to global variable**\n",
    "- If we want to use summ2 variable outside the function\n",
    "- then initialize summ2 as global also using the **global** keyword"
   ]
  },
  {
   "cell_type": "markdown",
   "id": "7dee8153-597b-4378-8c20-2f7b3575ca41",
   "metadata": {},
   "source": [
    "**Unbound Local Error**\n",
    "- In below example, s is not initialized\n",
    "- we might think we will get Name Error\n",
    "- but inside the function we will get $Unbound Local Error$"
   ]
  },
  {
   "cell_type": "code",
   "execution_count": 52,
   "id": "00486d52-39cc-4b3e-8fe9-0919b48f118b",
   "metadata": {},
   "outputs": [
    {
     "ename": "UnboundLocalError",
     "evalue": "cannot access local variable 's' where it is not associated with a value",
     "output_type": "error",
     "traceback": [
      "\u001b[1;31m---------------------------------------------------------------------------\u001b[0m",
      "\u001b[1;31mUnboundLocalError\u001b[0m                         Traceback (most recent call last)",
      "Cell \u001b[1;32mIn[52], line 5\u001b[0m\n\u001b[0;32m      3\u001b[0m     s\u001b[38;5;241m=\u001b[39ms\u001b[38;5;241m+\u001b[39mn1\n\u001b[0;32m      4\u001b[0m     \u001b[38;5;28mprint\u001b[39m(s)\n\u001b[1;32m----> 5\u001b[0m add1()\n",
      "Cell \u001b[1;32mIn[52], line 3\u001b[0m, in \u001b[0;36madd1\u001b[1;34m()\u001b[0m\n\u001b[0;32m      1\u001b[0m \u001b[38;5;28;01mdef\u001b[39;00m \u001b[38;5;21madd1\u001b[39m():\n\u001b[0;32m      2\u001b[0m     n1\u001b[38;5;241m=\u001b[39m\u001b[38;5;241m100\u001b[39m\n\u001b[1;32m----> 3\u001b[0m     s\u001b[38;5;241m=\u001b[39ms\u001b[38;5;241m+\u001b[39mn1\n\u001b[0;32m      4\u001b[0m     \u001b[38;5;28mprint\u001b[39m(s)\n",
      "\u001b[1;31mUnboundLocalError\u001b[0m: cannot access local variable 's' where it is not associated with a value"
     ]
    }
   ],
   "source": [
    "def add1():\n",
    "    n1=100\n",
    "    s=s+n1\n",
    "    print(s)\n",
    "add1()"
   ]
  },
  {
   "cell_type": "code",
   "execution_count": 54,
   "id": "cc2a0d96-deb3-41c1-9d9c-440f69a8c4fd",
   "metadata": {},
   "outputs": [
    {
     "ename": "NameError",
     "evalue": "name 'summ1' is not defined",
     "output_type": "error",
     "traceback": [
      "\u001b[1;31m---------------------------------------------------------------------------\u001b[0m",
      "\u001b[1;31mNameError\u001b[0m                                 Traceback (most recent call last)",
      "Cell \u001b[1;32mIn[54], line 5\u001b[0m\n\u001b[0;32m      3\u001b[0m     s1\u001b[38;5;241m=\u001b[39msumm1\u001b[38;5;241m+\u001b[39mn1\n\u001b[0;32m      4\u001b[0m     \u001b[38;5;28mprint\u001b[39m(s1)\n\u001b[1;32m----> 5\u001b[0m add1()\n",
      "Cell \u001b[1;32mIn[54], line 3\u001b[0m, in \u001b[0;36madd1\u001b[1;34m()\u001b[0m\n\u001b[0;32m      1\u001b[0m \u001b[38;5;28;01mdef\u001b[39;00m \u001b[38;5;21madd1\u001b[39m():\n\u001b[0;32m      2\u001b[0m     n1\u001b[38;5;241m=\u001b[39m\u001b[38;5;241m100\u001b[39m\n\u001b[1;32m----> 3\u001b[0m     s1\u001b[38;5;241m=\u001b[39msumm1\u001b[38;5;241m+\u001b[39mn1\n\u001b[0;32m      4\u001b[0m     \u001b[38;5;28mprint\u001b[39m(s1)\n",
      "\u001b[1;31mNameError\u001b[0m: name 'summ1' is not defined"
     ]
    }
   ],
   "source": [
    "def add1():\n",
    "    n1=100\n",
    "    s1=summ1+n1\n",
    "    print(s1)\n",
    "add1()"
   ]
  },
  {
   "cell_type": "code",
   "execution_count": 56,
   "id": "5d87780c-b3f4-48fa-9ec4-d3da5bfb1c44",
   "metadata": {},
   "outputs": [
    {
     "name": "stdout",
     "output_type": "stream",
     "text": [
      "300\n"
     ]
    }
   ],
   "source": [
    "def add2():\n",
    "    n1=100\n",
    "    summ2=200\n",
    "    summ2=summ2+n1\n",
    "    print(summ2)\n",
    "add2()"
   ]
  },
  {
   "cell_type": "code",
   "execution_count": 58,
   "id": "65f267aa-5969-4980-bc2d-f4e28d04ec1f",
   "metadata": {},
   "outputs": [
    {
     "name": "stdout",
     "output_type": "stream",
     "text": [
      "60 20.0\n"
     ]
    }
   ],
   "source": [
    "def avg(a,b,c):\n",
    "    global ADD,AVG1\n",
    "    ADD=a+b+c\n",
    "    AVG1=ADD/3\n",
    "    print(ADD,AVG1)\n",
    "avg(10,20,30)"
   ]
  },
  {
   "cell_type": "code",
   "execution_count": 1,
   "id": "c02df7dc-3876-40a2-914e-0df9c9ef8a38",
   "metadata": {},
   "outputs": [
    {
     "name": "stdin",
     "output_type": "stream",
     "text": [
      "Enter a number: 8\n"
     ]
    },
    {
     "name": "stdout",
     "output_type": "stream",
     "text": [
      "8 is even number\n"
     ]
    }
   ],
   "source": [
    "# WAP ask the user to enter the number and check even or odd functions without arguements with default\n",
    "\n",
    "def even_odd():\n",
    "    num=eval(input(\"Enter a number:\"))\n",
    "    if num%2==0:\n",
    "        print(f\"{num} is even number\")\n",
    "    else:\n",
    "        print(f\"{num} is odd number\")\n",
    "even_odd()"
   ]
  },
  {
   "cell_type": "code",
   "execution_count": 9,
   "id": "311030a0-e60e-4a3b-a79b-969d0bab9f4e",
   "metadata": {},
   "outputs": [
    {
     "name": "stdout",
     "output_type": "stream",
     "text": [
      "7 is odd number\n"
     ]
    }
   ],
   "source": [
    "def even_odd(num):\n",
    "    if num%2==0:\n",
    "        print(f\"{num} is even number\")\n",
    "    else:\n",
    "        print(f\"{num} is odd number\")\n",
    "even_odd(7)"
   ]
  },
  {
   "cell_type": "code",
   "execution_count": 11,
   "id": "488076b7-4752-42cc-8eb5-6534c1945996",
   "metadata": {},
   "outputs": [
    {
     "name": "stdout",
     "output_type": "stream",
     "text": [
      "9 is odd number\n"
     ]
    }
   ],
   "source": [
    "def even_odd(num=9):\n",
    "    if num%2==0:\n",
    "        print(f\"{num} is even number\")\n",
    "    else:\n",
    "        print(f\"{num} is odd number\")\n",
    "even_odd()"
   ]
  },
  {
   "cell_type": "code",
   "execution_count": 13,
   "id": "46f3d355-5c95-430d-a81b-e8e15de684f6",
   "metadata": {},
   "outputs": [
    {
     "name": "stdout",
     "output_type": "stream",
     "text": [
      "9 is odd number\n"
     ]
    }
   ],
   "source": [
    "def even_odd1():\n",
    "    global num1\n",
    "    num1=eval(input(\"Enter a number:\"))\n",
    "    if num%2==0:\n",
    "        print(f\"{num} is even number\")\n",
    "    else:\n",
    "        print(f\"{num} is odd number\")\n",
    "even_odd()"
   ]
  },
  {
   "cell_type": "markdown",
   "id": "80034b06-c39b-48aa-af63-45f8ed87813a",
   "metadata": {},
   "source": [
    "**Parameter vs VAriable**\n",
    "- Parameters are also called as arguements\n",
    "  - This always inside the function brackets\n",
    "- Variables either outside the function or inside the function"
   ]
  },
  {
   "cell_type": "markdown",
   "id": "0cc93482-26ee-4d4f-aaa4-23ba2c70ecc6",
   "metadata": {},
   "source": [
    "**return**\n",
    "- return means function is giving something\n",
    "- we know that local variables cannot use outside the function\n",
    "- In order to use local variables outside the function, we have two methods\n",
    "  - global\n",
    "  - return"
   ]
  },
  {
   "cell_type": "code",
   "execution_count": 25,
   "id": "8168ae11-6f74-4136-8154-19ea8b3ef449",
   "metadata": {},
   "outputs": [],
   "source": [
    "def add():\n",
    "    a=10\n",
    "    b=20\n",
    "    c=a+b\n",
    "    return(c)\n",
    "c=add()"
   ]
  },
  {
   "cell_type": "code",
   "execution_count": 27,
   "id": "4ff0442a-cd73-4b10-8eba-85f158cf1bee",
   "metadata": {},
   "outputs": [
    {
     "data": {
      "text/plain": [
       "30"
      ]
     },
     "execution_count": 27,
     "metadata": {},
     "output_type": "execute_result"
    }
   ],
   "source": [
    "c"
   ]
  },
  {
   "cell_type": "code",
   "execution_count": 29,
   "id": "3f0282d0-023b-49a5-ad86-eb0001cd8ec2",
   "metadata": {},
   "outputs": [],
   "source": [
    "def add():\n",
    "    a=10\n",
    "    b=20\n",
    "    c=a+b\n",
    "    return(a,c)\n",
    "a,c=add()"
   ]
  },
  {
   "cell_type": "code",
   "execution_count": 31,
   "id": "78e926d8-d4ee-43da-8355-6edb1a417ea1",
   "metadata": {},
   "outputs": [
    {
     "data": {
      "text/plain": [
       "(10, 30)"
      ]
     },
     "execution_count": 31,
     "metadata": {},
     "output_type": "execute_result"
    }
   ],
   "source": [
    "a,c"
   ]
  },
  {
   "cell_type": "code",
   "execution_count": 41,
   "id": "750f3904-75bb-4f75-bf02-0e019cf00ffe",
   "metadata": {},
   "outputs": [
    {
     "name": "stdout",
     "output_type": "stream",
     "text": [
      "60\n",
      "20.0\n"
     ]
    }
   ],
   "source": [
    "def avg(a,b,c):\n",
    "    summ=a+b+c\n",
    "    AVG=summ/3\n",
    "    return(summ,AVG)\n",
    "summ,AVG=avg(10,20,30)\n",
    "print(summ)\n",
    "print(AVG)"
   ]
  },
  {
   "cell_type": "code",
   "execution_count": 51,
   "id": "67a30144-1efe-48b5-a953-881d20ccd598",
   "metadata": {},
   "outputs": [
    {
     "name": "stdin",
     "output_type": "stream",
     "text": [
      "Enter a number: 6\n"
     ]
    },
    {
     "data": {
      "text/plain": [
       "'6 is even number'"
      ]
     },
     "execution_count": 51,
     "metadata": {},
     "output_type": "execute_result"
    }
   ],
   "source": [
    "def even_odd():\n",
    "    num=eval(input(\"Enter a number:\"))\n",
    "    if num%2==0:\n",
    "        return(f\"{num} is even number\")\n",
    "    else:\n",
    "        return(f\"{num} is odd number\")\n",
    "even_odd()"
   ]
  },
  {
   "cell_type": "code",
   "execution_count": 47,
   "id": "38d33d13-fc23-483b-9f7a-385840d01c17",
   "metadata": {},
   "outputs": [
    {
     "name": "stdout",
     "output_type": "stream",
     "text": [
      "5\n"
     ]
    }
   ],
   "source": [
    "print(num)"
   ]
  },
  {
   "cell_type": "markdown",
   "id": "852978c0-6f93-4742-8fa4-6fe82ea65be6",
   "metadata": {},
   "source": [
    "### Function in function"
   ]
  },
  {
   "cell_type": "code",
   "execution_count": 55,
   "id": "5260ce63-bd80-48c4-8dbd-0adfd8121531",
   "metadata": {},
   "outputs": [
    {
     "name": "stdout",
     "output_type": "stream",
     "text": [
      "Hello good morning\n",
      "Hello good night\n"
     ]
    }
   ],
   "source": [
    "def greet1():\n",
    "    print(\"Hello good morning\")\n",
    "def greet2():\n",
    "    print(\"Hello good night\")\n",
    "greet1()\n",
    "greet2()"
   ]
  },
  {
   "cell_type": "code",
   "execution_count": 61,
   "id": "76e9edb4-7768-44ec-9d3b-812ceb987c18",
   "metadata": {},
   "outputs": [
    {
     "name": "stdout",
     "output_type": "stream",
     "text": [
      "Hello good night\n",
      "Hello good morning\n"
     ]
    }
   ],
   "source": [
    "def greet3():\n",
    "    print(\"Hello good morning\")\n",
    "def greet4():\n",
    "    print(\"Hello good night\")\n",
    "    greet3()\n",
    "greet4()"
   ]
  },
  {
   "cell_type": "code",
   "execution_count": 63,
   "id": "18a3da52-3c48-4c15-bec3-d84778e6a958",
   "metadata": {},
   "outputs": [
    {
     "name": "stdout",
     "output_type": "stream",
     "text": [
      "Hello good morning\n",
      "Hello good night\n"
     ]
    }
   ],
   "source": [
    "def greet5():\n",
    "    print(\"Hello good morning\")\n",
    "    greet6()\n",
    "def greet6():\n",
    "    print(\"Hello good night\")\n",
    "greet5()"
   ]
  },
  {
   "cell_type": "code",
   "execution_count": 73,
   "id": "e2cd407b-6f05-42dd-9416-79b7fa4daa12",
   "metadata": {},
   "outputs": [
    {
     "name": "stdout",
     "output_type": "stream",
     "text": [
      "I don't know why i am doing\n"
     ]
    }
   ],
   "source": [
    "def greet7():\n",
    "    print(\"I don't know why i am doing\")\n",
    "    \n",
    "greet7()"
   ]
  },
  {
   "cell_type": "code",
   "execution_count": 77,
   "id": "809b2bae-c075-4d6e-a628-fb63ed3dc6b4",
   "metadata": {},
   "outputs": [
    {
     "data": {
      "text/plain": [
       "15"
      ]
     },
     "execution_count": 77,
     "metadata": {},
     "output_type": "execute_result"
    }
   ],
   "source": [
    "def add(n):\n",
    "    if n==0:\n",
    "        return(0)\n",
    "    else:\n",
    "        return(n+add(n-1))\n",
    "add(5)"
   ]
  },
  {
   "cell_type": "code",
   "execution_count": 5,
   "id": "d28e8f9b-ddcf-4590-a4f2-3915241b14c8",
   "metadata": {},
   "outputs": [
    {
     "data": {
      "text/plain": [
       "120"
      ]
     },
     "execution_count": 5,
     "metadata": {},
     "output_type": "execute_result"
    }
   ],
   "source": [
    "# 1) WAP factorial recursion 5! = 5*4*3*2*1\n",
    "\n",
    "def factorial(n):\n",
    "    if n==0:\n",
    "        return(1)\n",
    "    else:\n",
    "        return(n*factorial(n-1))\n",
    "factorial(5)"
   ]
  },
  {
   "cell_type": "code",
   "execution_count": 31,
   "id": "2c65fa8c-0490-4bb5-88db-a31c4b5ea624",
   "metadata": {},
   "outputs": [
    {
     "name": "stdout",
     "output_type": "stream",
     "text": [
      "Enter 1 for addition, 2 for subtraction, 3 for multiplication and 4 for division\n"
     ]
    },
    {
     "name": "stdin",
     "output_type": "stream",
     "text": [
      "Enter a number between 1 to 4: 4\n",
      "Enter first number: 10\n",
      "Enter second number: 2\n"
     ]
    },
    {
     "data": {
      "text/plain": [
       "5.0"
      ]
     },
     "execution_count": 31,
     "metadata": {},
     "output_type": "execute_result"
    }
   ],
   "source": [
    "# 2) Calculator\n",
    "\n",
    "def add(a,b):\n",
    "    return(a+b)\n",
    "\n",
    "def sub(a,b):\n",
    "    return(a-b)\n",
    "\n",
    "def mul(a,b):\n",
    "    return(a*b)\n",
    "\n",
    "def div(a,b):\n",
    "    return(a/b)\n",
    "\n",
    "print(\"Enter 1 for addition, 2 for subtraction, 3 for multiplication and 4 for division\")\n",
    "\n",
    "def main():\n",
    "    option=eval(input(\"Enter a number between 1 to 4:\"))\n",
    "    if option==1:\n",
    "        a=eval(input(\"Enter first number:\"))\n",
    "        b=eval(input(\"Enter second number:\"))\n",
    "        return(add(a,b))\n",
    "    elif option==2:\n",
    "        a=eval(input(\"Enter first number:\"))\n",
    "        b=eval(input(\"Enter second number:\"))\n",
    "        return(sub(a,b))\n",
    "    elif option==3:\n",
    "        a=eval(input(\"Enter first number:\"))\n",
    "        b=eval(input(\"Enter second number:\"))\n",
    "        return(mul(a,b))\n",
    "    else:\n",
    "        a=eval(input(\"Enter first number:\"))\n",
    "        b=eval(input(\"Enter second number:\"))\n",
    "        return(div(a,b))\n",
    "main()"
   ]
  },
  {
   "cell_type": "code",
   "execution_count": null,
   "id": "e7ea3c78-f0b0-4b09-bdee-53552cd12613",
   "metadata": {},
   "outputs": [],
   "source": []
  }
 ],
 "metadata": {
  "kernelspec": {
   "display_name": "Python [conda env:base] *",
   "language": "python",
   "name": "conda-base-py"
  },
  "language_info": {
   "codemirror_mode": {
    "name": "ipython",
    "version": 3
   },
   "file_extension": ".py",
   "mimetype": "text/x-python",
   "name": "python",
   "nbconvert_exporter": "python",
   "pygments_lexer": "ipython3",
   "version": "3.12.7"
  }
 },
 "nbformat": 4,
 "nbformat_minor": 5
}
