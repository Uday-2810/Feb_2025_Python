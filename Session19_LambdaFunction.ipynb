{
 "cells": [
  {
   "cell_type": "markdown",
   "id": "04b20a4e-6e27-40a8-ac23-0e63530ec101",
   "metadata": {},
   "source": [
    "### Lambda Function\n",
    "- Lambda functions represents functions in a single line\n",
    "- It is similar analogy to list comprehension\n",
    "- To reduce the time complexity will go for lambda functions\n",
    "\n",
    "**Pattern-1: Function with one arguement**"
   ]
  },
  {
   "cell_type": "code",
   "execution_count": 3,
   "id": "6269b1ee-c910-41db-a7ea-b2bb9b3cdb48",
   "metadata": {},
   "outputs": [
    {
     "data": {
      "text/plain": [
       "400"
      ]
     },
     "execution_count": 3,
     "metadata": {},
     "output_type": "execute_result"
    }
   ],
   "source": [
    "def mul(a):\n",
    "    return (a*a)\n",
    "ans=mul(20)\n",
    "ans"
   ]
  },
  {
   "cell_type": "code",
   "execution_count": 5,
   "id": "a0080348-9f0f-4754-b4bc-a26ca1468a1c",
   "metadata": {},
   "outputs": [],
   "source": [
    "# Syntax\n",
    "# function_name=lambda <arguement> : <return output>\n",
    "# in the above; function_name=mul, arguement=a, return output=a*a"
   ]
  },
  {
   "cell_type": "code",
   "execution_count": 7,
   "id": "835b7ac5-6da3-4208-ade0-05a738aba3c7",
   "metadata": {},
   "outputs": [
    {
     "data": {
      "text/plain": [
       "2500"
      ]
     },
     "execution_count": 7,
     "metadata": {},
     "output_type": "execute_result"
    }
   ],
   "source": [
    "mul=lambda a:a*a\n",
    "mul(50)"
   ]
  },
  {
   "cell_type": "code",
   "execution_count": 9,
   "id": "de8d0861-aa15-4ae3-b002-bc2406c12605",
   "metadata": {},
   "outputs": [
    {
     "data": {
      "text/plain": [
       "1000000"
      ]
     },
     "execution_count": 9,
     "metadata": {},
     "output_type": "execute_result"
    }
   ],
   "source": [
    "def cube(a):\n",
    "    return(a*a*a)\n",
    "cube(100)"
   ]
  },
  {
   "cell_type": "code",
   "execution_count": 13,
   "id": "83e2867f-2890-49d5-847f-970918e43f70",
   "metadata": {},
   "outputs": [
    {
     "data": {
      "text/plain": [
       "125000"
      ]
     },
     "execution_count": 13,
     "metadata": {},
     "output_type": "execute_result"
    }
   ],
   "source": [
    "cube=lambda a : a*a*a\n",
    "cube(50)"
   ]
  },
  {
   "cell_type": "markdown",
   "id": "1eda499d-b01e-4144-89b4-6cad78b12aec",
   "metadata": {},
   "source": [
    "**Pattern-2: Function with two arguements**"
   ]
  },
  {
   "cell_type": "code",
   "execution_count": 16,
   "id": "d45d2d16-92e5-4cea-aec2-36cb16622096",
   "metadata": {},
   "outputs": [
    {
     "data": {
      "text/plain": [
       "30"
      ]
     },
     "execution_count": 16,
     "metadata": {},
     "output_type": "execute_result"
    }
   ],
   "source": [
    "def add(a,b):\n",
    "    return(a+b)\n",
    "add(10,20)"
   ]
  },
  {
   "cell_type": "code",
   "execution_count": 18,
   "id": "c6c6249e-40df-419b-87e9-377ea7b40584",
   "metadata": {},
   "outputs": [],
   "source": [
    "# syntax\n",
    "# function_name=lambda arg1, arg2:return statement"
   ]
  },
  {
   "cell_type": "code",
   "execution_count": 20,
   "id": "155028f3-7dcb-46ed-90be-d043d9775f40",
   "metadata": {},
   "outputs": [
    {
     "data": {
      "text/plain": [
       "30"
      ]
     },
     "execution_count": 20,
     "metadata": {},
     "output_type": "execute_result"
    }
   ],
   "source": [
    "add=lambda a,b : a+b\n",
    "add(10,20)"
   ]
  },
  {
   "cell_type": "markdown",
   "id": "870cd7ab-4016-4305-90c7-3573a81272eb",
   "metadata": {},
   "source": [
    "**Pattern-3: Three arguements**"
   ]
  },
  {
   "cell_type": "code",
   "execution_count": 27,
   "id": "7db6c345-d915-414e-886d-feb837faf0e3",
   "metadata": {},
   "outputs": [
    {
     "data": {
      "text/plain": [
       "17.67"
      ]
     },
     "execution_count": 27,
     "metadata": {},
     "output_type": "execute_result"
    }
   ],
   "source": [
    "def avg(a,b,c):\n",
    "    return(round((a+b+c)/3,2))\n",
    "avg(9,23,21)"
   ]
  },
  {
   "cell_type": "code",
   "execution_count": 31,
   "id": "3405fb97-07ae-4ebd-ae3e-828a2124ca94",
   "metadata": {},
   "outputs": [
    {
     "data": {
      "text/plain": [
       "17.67"
      ]
     },
     "execution_count": 31,
     "metadata": {},
     "output_type": "execute_result"
    }
   ],
   "source": [
    "avg=lambda a,b,c : round((a+b+c)/3,2)\n",
    "avg(9,23,21)"
   ]
  },
  {
   "cell_type": "markdown",
   "id": "b934247e-89e4-4fe4-ba46-e2508192a39f",
   "metadata": {},
   "source": [
    "**Pattern-4: Default arguement**"
   ]
  },
  {
   "cell_type": "code",
   "execution_count": 36,
   "id": "fe279166-3c09-4d0e-a78d-e46476a2e7b1",
   "metadata": {},
   "outputs": [
    {
     "data": {
      "text/plain": [
       "17.67"
      ]
     },
     "execution_count": 36,
     "metadata": {},
     "output_type": "execute_result"
    }
   ],
   "source": [
    "avg=lambda a,b,c=21 : round((a+b+c)/3,2)\n",
    "avg(9,23)"
   ]
  },
  {
   "cell_type": "code",
   "execution_count": 24,
   "id": "f298befe-867b-4314-a4c0-35377180c7a8",
   "metadata": {},
   "outputs": [
    {
     "data": {
      "text/plain": [
       "['Hyd', 'Bengaluru', 'Mumbai', 'Pune']"
      ]
     },
     "execution_count": 24,
     "metadata": {},
     "output_type": "execute_result"
    }
   ],
   "source": [
    "# step-1: lambda <variable> : <output>\n",
    "# step-2: lambda <variable> : <output>, <iterator>\n",
    "# step-3: map(lambda <variable> : <output>, <iterator>)\n",
    "# step-4: list(map(lambda <variable> : <output>, <iterator>))\n",
    "\n",
    "input=['hyd', 'bengaluru', 'mumbai', 'pune']\n",
    "list(map(lambda i : i.capitalize(), input))"
   ]
  },
  {
   "cell_type": "code",
   "execution_count": 38,
   "id": "32634438-c03d-4d83-ac1e-435c9a6b714f",
   "metadata": {},
   "outputs": [
    {
     "data": {
      "text/plain": [
       "['HYD', 'BENGALURU', 'MUMBAI', 'PUNE']"
      ]
     },
     "execution_count": 38,
     "metadata": {},
     "output_type": "execute_result"
    }
   ],
   "source": [
    "list(map(lambda i : i.upper(), input))"
   ]
  },
  {
   "cell_type": "code",
   "execution_count": 44,
   "id": "c915fea4-b18b-4556-8bd2-d4fb820c5516",
   "metadata": {},
   "outputs": [
    {
     "data": {
      "text/plain": [
       "[0, 1, 2, 3]"
      ]
     },
     "execution_count": 44,
     "metadata": {},
     "output_type": "execute_result"
    }
   ],
   "source": [
    "list(map(lambda i : input.index(i), input))"
   ]
  },
  {
   "cell_type": "code",
   "execution_count": 54,
   "id": "b54adf3f-4cf8-4d70-a4e1-fa91ebfdba1b",
   "metadata": {},
   "outputs": [
    {
     "data": {
      "text/plain": [
       "['Hello', 'How', 'Are', 'You']"
      ]
     },
     "execution_count": 54,
     "metadata": {},
     "output_type": "execute_result"
    }
   ],
   "source": [
    "input='hello how are you'\n",
    "list(map(lambda i : i.capitalize(), input.split()))"
   ]
  },
  {
   "cell_type": "code",
   "execution_count": 56,
   "id": "187ad1f8-4d62-4f31-aaa4-96a4c0bcbddf",
   "metadata": {},
   "outputs": [
    {
     "name": "stdout",
     "output_type": "stream",
     "text": [
      "beng#uluru\n",
      "pu#ne\n"
     ]
    }
   ],
   "source": [
    "input=['hyd', 'beng#uluru', 'mumbai', 'pu#ne']\n",
    "for i in input:\n",
    "    if '#' in i:\n",
    "        print(i)"
   ]
  },
  {
   "cell_type": "code",
   "execution_count": 58,
   "id": "0c0cf4fd-7772-4509-a10d-0783099605e1",
   "metadata": {},
   "outputs": [
    {
     "data": {
      "text/plain": [
       "[False, True, False, True]"
      ]
     },
     "execution_count": 58,
     "metadata": {},
     "output_type": "execute_result"
    }
   ],
   "source": [
    "# lambda arg : condition, iterator\n",
    "\n",
    "list(map(lambda i : '#' in i, input))"
   ]
  },
  {
   "cell_type": "markdown",
   "id": "a3796eb4-58e5-4b0d-a43c-af58eae26fc9",
   "metadata": {},
   "source": [
    "**Filter**\n",
    "- Filter is apply on lambda functions to retrieve the true output\n",
    "- Map will just map the function and iterator\n",
    "- When we apply condition map will give True or False\n",
    "- $filter$ will use instead of map"
   ]
  },
  {
   "cell_type": "code",
   "execution_count": 61,
   "id": "6d477fd7-828a-4224-8571-d5a9c8b46afe",
   "metadata": {},
   "outputs": [
    {
     "data": {
      "text/plain": [
       "['beng#uluru', 'pu#ne']"
      ]
     },
     "execution_count": 61,
     "metadata": {},
     "output_type": "execute_result"
    }
   ],
   "source": [
    "list(filter(lambda i : '#' in i, input))"
   ]
  },
  {
   "cell_type": "code",
   "execution_count": 63,
   "id": "1cdd53f5-fc04-416b-8f23-ee1f677a05f1",
   "metadata": {},
   "outputs": [
    {
     "data": {
      "text/plain": [
       "['hyd', 'mumbai']"
      ]
     },
     "execution_count": 63,
     "metadata": {},
     "output_type": "execute_result"
    }
   ],
   "source": [
    "list(filter(lambda i : '#'not in i, input))"
   ]
  },
  {
   "cell_type": "markdown",
   "id": "4767e538-0c5e-460d-9c89-55fd7cdefef3",
   "metadata": {},
   "source": [
    "**reduce**\n",
    "- reduce will helpful to perform math operations using lambda functions\n",
    "- It is a method under a package called: **functools**"
   ]
  },
  {
   "cell_type": "code",
   "execution_count": 68,
   "id": "8abdcae4-0b80-4c77-8577-9f3a0120acba",
   "metadata": {},
   "outputs": [
    {
     "data": {
      "text/plain": [
       "15"
      ]
     },
     "execution_count": 68,
     "metadata": {},
     "output_type": "execute_result"
    }
   ],
   "source": [
    "list1=[1,2,3,4,5]\n",
    "sum(list1)"
   ]
  },
  {
   "cell_type": "code",
   "execution_count": 72,
   "id": "e8438aa4-2419-4d6d-8ffa-965b847f2f4b",
   "metadata": {},
   "outputs": [
    {
     "name": "stdout",
     "output_type": "stream",
     "text": [
      "15\n"
     ]
    }
   ],
   "source": [
    "list1=[1,2,3,4,5]\n",
    "summ=0\n",
    "for i in list1:\n",
    "    summ=summ+i\n",
    "print(summ)"
   ]
  },
  {
   "cell_type": "code",
   "execution_count": 74,
   "id": "03bc47dc-bb51-4b1c-9af0-4d5f0aa5fba7",
   "metadata": {},
   "outputs": [
    {
     "name": "stdout",
     "output_type": "stream",
     "text": [
      "30\n"
     ]
    }
   ],
   "source": [
    "[summ:=summ+i for i in list1]\n",
    "print(summ)"
   ]
  },
  {
   "cell_type": "code",
   "execution_count": 78,
   "id": "e6c45061-2300-404a-b4e6-cf23dfd5265f",
   "metadata": {},
   "outputs": [
    {
     "data": {
      "text/plain": [
       "['GenericAlias',\n",
       " 'RLock',\n",
       " 'WRAPPER_ASSIGNMENTS',\n",
       " 'WRAPPER_UPDATES',\n",
       " '_CacheInfo',\n",
       " '_HashedSeq',\n",
       " '_NOT_FOUND',\n",
       " '__all__',\n",
       " '__builtins__',\n",
       " '__cached__',\n",
       " '__doc__',\n",
       " '__file__',\n",
       " '__loader__',\n",
       " '__name__',\n",
       " '__package__',\n",
       " '__spec__',\n",
       " '_c3_merge',\n",
       " '_c3_mro',\n",
       " '_compose_mro',\n",
       " '_convert',\n",
       " '_find_impl',\n",
       " '_ge_from_gt',\n",
       " '_ge_from_le',\n",
       " '_ge_from_lt',\n",
       " '_gt_from_ge',\n",
       " '_gt_from_le',\n",
       " '_gt_from_lt',\n",
       " '_initial_missing',\n",
       " '_le_from_ge',\n",
       " '_le_from_gt',\n",
       " '_le_from_lt',\n",
       " '_lru_cache_wrapper',\n",
       " '_lt_from_ge',\n",
       " '_lt_from_gt',\n",
       " '_lt_from_le',\n",
       " '_make_key',\n",
       " '_unwrap_partial',\n",
       " 'cache',\n",
       " 'cached_property',\n",
       " 'cmp_to_key',\n",
       " 'get_cache_token',\n",
       " 'lru_cache',\n",
       " 'namedtuple',\n",
       " 'partial',\n",
       " 'partialmethod',\n",
       " 'recursive_repr',\n",
       " 'reduce',\n",
       " 'singledispatch',\n",
       " 'singledispatchmethod',\n",
       " 'total_ordering',\n",
       " 'update_wrapper',\n",
       " 'wraps']"
      ]
     },
     "execution_count": 78,
     "metadata": {},
     "output_type": "execute_result"
    }
   ],
   "source": [
    "import functools\n",
    "dir(functools)"
   ]
  },
  {
   "cell_type": "code",
   "execution_count": 80,
   "id": "057a8018-aa5c-40ff-9d44-036c3fb496e0",
   "metadata": {},
   "outputs": [
    {
     "data": {
      "text/plain": [
       "15"
      ]
     },
     "execution_count": 80,
     "metadata": {},
     "output_type": "execute_result"
    }
   ],
   "source": [
    "from functools import reduce\n",
    "reduce(lambda summ,i : summ+i, list1)"
   ]
  },
  {
   "cell_type": "code",
   "execution_count": 82,
   "id": "9e342347-db8e-43b8-9d3f-2d384aff93a2",
   "metadata": {},
   "outputs": [
    {
     "data": {
      "text/plain": [
       "215"
      ]
     },
     "execution_count": 82,
     "metadata": {},
     "output_type": "execute_result"
    }
   ],
   "source": [
    "reduce(lambda summ,i : summ+i, list1, 200)"
   ]
  },
  {
   "cell_type": "code",
   "execution_count": null,
   "id": "e1d52eea-b291-4d52-a8b7-3d4a724f8f09",
   "metadata": {},
   "outputs": [],
   "source": []
  }
 ],
 "metadata": {
  "kernelspec": {
   "display_name": "Python [conda env:base] *",
   "language": "python",
   "name": "conda-base-py"
  },
  "language_info": {
   "codemirror_mode": {
    "name": "ipython",
    "version": 3
   },
   "file_extension": ".py",
   "mimetype": "text/x-python",
   "name": "python",
   "nbconvert_exporter": "python",
   "pygments_lexer": "ipython3",
   "version": "3.12.7"
  }
 },
 "nbformat": 4,
 "nbformat_minor": 5
}
